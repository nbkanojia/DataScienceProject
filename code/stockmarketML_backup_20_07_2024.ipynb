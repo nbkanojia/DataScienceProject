{
 "cells": [
  {
   "cell_type": "code",
   "execution_count": 1,
   "metadata": {},
   "outputs": [],
   "source": [
    "import numpy as np\n",
    "import pandas as pd\n",
    "import matplotlib.pyplot as plt\n",
    "import yfinance as yf\n",
    "import os.path\n",
    "from sklearn.model_selection import train_test_split\n",
    "import plotly.graph_objects as go\n",
    "from sklearn.preprocessing import StandardScaler\n",
    "from sklearn.metrics import classification_report, confusion_matrix\n",
    "from sklearn.linear_model import LogisticRegression\n",
    "from sklearn.ensemble import GradientBoostingClassifier\n",
    "from tensorflow.keras.models import Sequential\n",
    "from tensorflow.keras.layers import Dense\n",
    "from sklearn.ensemble import GradientBoostingRegressor\n",
    "from sklearn.metrics import mean_squared_error\n",
    "from sklearn.model_selection import GridSearchCV\n",
    "from sklearn.feature_selection import SelectKBest, chi2\n",
    "\n",
    "import warnings\n",
    "warnings.filterwarnings('ignore')\n",
    "#global constant\n",
    "Buy = 1\n",
    "Sell = -1\n",
    "Neutral = 0"
   ]
  },
  {
   "cell_type": "code",
   "execution_count": 2,
   "metadata": {},
   "outputs": [],
   "source": [
    "\n",
    "def get_data(ticker,start_date,end_date):\n",
    "    fname = \"../data/\"+ticker+\"_\"+ start_date+ \"_\" + end_date +\".csv\"\n",
    "    if not os.path.isfile(fname):\n",
    "        df = yf.download(ticker ,start=start_date, end=end_date)\n",
    "        df.to_csv(fname)\n",
    "        \n",
    "    df = pd.read_csv(fname)\n",
    "    df['Date'] = pd.to_datetime(df['Date'])\n",
    "    return df\n",
    "    "
   ]
  },
  {
   "cell_type": "code",
   "execution_count": 3,
   "metadata": {},
   "outputs": [],
   "source": [
    "# Function to calculate Weighted Moving Average (WMA)\n",
    "def calculate_wma(prices, window):\n",
    "    weights = np.arange(1, window + 1)\n",
    "    wma = prices.rolling(window).apply(lambda prices: np.dot(prices, weights) / weights.sum(), raw=True)\n",
    "    return wma\n",
    "\n",
    "def calculate_sma(prices, window):\n",
    "    sma = prices.rolling(window=window).mean()\n",
    "    return sma\n",
    "# Function to calculate Relative Strength Index (RSI)\n",
    "def calculate_rsi(prices, window):\n",
    "    delta = prices.diff()\n",
    "    gain = delta.where(delta > 0, 0)\n",
    "    loss = -delta.where(delta < 0, 0)\n",
    "    avg_gain = gain.rolling(window).mean()\n",
    "    avg_loss = loss.rolling(window).mean()\n",
    "    rs = avg_gain / avg_loss\n",
    "    rsi = 100 - (100 / (1 + rs))\n",
    "    return rsi\n",
    "\n",
    "def calculate_bollinger_bands(prices, window, num_of_std=2):\n",
    "    SMA= prices.rolling(window=window).mean()\n",
    "    STD = prices.rolling(window=window).std()\n",
    "    UpperBand = SMA + (STD * num_of_std)\n",
    "    LowerBand = SMA - (STD * num_of_std)\n",
    "    return UpperBand,LowerBand\n",
    "\n",
    "def calculate_percentage_change(prices, window):\n",
    "\n",
    "    pc = []\n",
    "    \n",
    "    for i in range(len(prices)):\n",
    "        if i < window:\n",
    "            pc.append(pd.NA)\n",
    "        else:\n",
    "            start_price = prices[i - window]\n",
    "            end_price = prices[i]\n",
    "            pc.append((end_price - start_price) / start_price * 100)\n",
    "    return pc\n",
    "\n",
    "def calculate_ema(series, span):\n",
    "    return series.ewm(span=span, adjust=False).mean()\n",
    "\n",
    "def calculate_vpt(df, ema_period=20):\n",
    "    df['PFI'] = df['Volume'] * (df['Adj Close'].diff() / df['Adj Close'].shift(1))\n",
    "    df['VPT'] = df['PFI'].cumsum()\n",
    "    df['VPT_EMA'] = calculate_ema(df['VPT'], ema_period)\n",
    "    return df"
   ]
  },
  {
   "cell_type": "code",
   "execution_count": 4,
   "metadata": {},
   "outputs": [],
   "source": [
    "def apply_techinal_indicators(df):\n",
    "    \n",
    "    df['SMA'] = calculate_sma(df['Adj Close'], 28)\n",
    "    df['WMA'] = calculate_wma(df['Adj Close'], 28)\n",
    "\n",
    "    df['RSI'] = calculate_rsi(df['Adj Close'], 28)\n",
    "\n",
    "    df['BUB'],df['BLB'] = calculate_bollinger_bands(df['Adj Close'], 28)\n",
    "\n",
    "    df['PC'] = calculate_percentage_change(df['Adj Close'], 28)\n",
    "\n",
    "    df['VPT'] = ((df['Adj Close'].diff() / df['Adj Close'].shift(1)) * df['Volume']).cumsum()\n",
    "    #df['PFI'] = df['Volume'] * (df['Adj Close'].diff() / df['Adj Close'].shift(1))\n",
    "    #df['VPT'] = df['PFI'].cumsum()\n",
    "    df['VPT_EMA'] = calculate_ema(df['VPT'], 28)\n",
    "    return df\n",
    "\n"
   ]
  },
  {
   "cell_type": "code",
   "execution_count": 5,
   "metadata": {},
   "outputs": [],
   "source": [
    "# Step 8: Generate buy, sell, and neutral signals for WMA\n",
    "def calcualte_signal_by_techinal_indicators(df):\n",
    "    # df['WMA Signal'] = np.where(df['Adj Close'] < df['WMA'], 1,\n",
    "    #                                 np.where(df['Adj Close'] > df['WMA'], -1, 0))\n",
    "    df['WMA Signal'] = np.where(df['Adj Close'] < df['WMA'], 1,\n",
    "                                    np.where(df['Adj Close'] > df['WMA'], -1, 0))\n",
    "    \n",
    "    df['SMA Signal'] = np.where(df['Adj Close'] < df['SMA'], 1,\n",
    "                                    np.where(df['Adj Close'] > df['SMA'], -1, 0))\n",
    "     \n",
    "    # Step 9: Generate buy, sell, and neutral signals for RSI\n",
    "    df['RSI Signal'] = np.where(df['RSI'] < 30, 1,\n",
    "                                    np.where(df['RSI'] > 70, -1, 0))\n",
    "\n",
    "      \n",
    "    # Step 9: Generate buy, sell, and neutral signals for RSI\n",
    "\n",
    "    df['PC Signal'] = np.where(df['PC'] <= -8, 1,\n",
    "                                    np.where(df['PC'] >= 8, -1, 0))#-5-15\n",
    "\n",
    "\n",
    "    df['BB Signal'] = np.where(df['Adj Close'] < df['BLB'], 1,\n",
    "                                    np.where(df['Adj Close'] > df['BUB'], -1, 0))\n",
    "\n",
    "    df['VPT Signal'] = 0\n",
    "    df.loc[df['VPT'] > df['VPT_EMA'], 'VPT Signal'] = -1\n",
    "    df.loc[df['VPT'] < df['VPT_EMA'], 'VPT Signal'] = 1\n",
    "\n",
    "    # df['WMA RSI Signal'] = np.where((df['WMA Signal'] == 1) & (df['RSI Signal']  == 1) & (df['VPT Signal']  == 1), 1,\n",
    "    #                                 np.where((df['WMA Signal'] == -1) & (df['RSI Signal']  == -1) & (df['VPT Signal']  == -1), -1, 0))\n",
    " \n",
    "    df['WMA RSI Signal'] = np.where((df['WMA Signal'] == 1) & (df['VPT Signal']  == 1), 1,\n",
    "                                    np.where((df['WMA Signal'] == -1) & (df['VPT Signal']  == -1), -1, 0))\n",
    " \n",
    "    \n",
    "\n",
    "    df.to_csv(\"test.csv\")\n",
    "    return df\n"
   ]
  },
  {
   "cell_type": "code",
   "execution_count": 6,
   "metadata": {},
   "outputs": [],
   "source": [
    "def calculate_profit(adj_close,signal, initial_cash=10000):\n",
    "    cash = initial_cash\n",
    "    stock = 0\n",
    "    portfolio_value = []\n",
    "     # Filter dataframe between entry and exit dates\n",
    "    for i in range(len(adj_close)):\n",
    "        if signal.iloc[i] == 1 and cash > 0:\n",
    "            # Buy as many stocks as possible with available cash\n",
    "            stock = cash / adj_close.iloc[i]\n",
    "            cash = 0\n",
    "            #print(singal,df.iloc[i][\"Date\"], \"Buy\")\n",
    "        elif signal.iloc[i] == -1 and stock > 0:\n",
    "            # Sell all stocks\n",
    "            cash = stock * adj_close.iloc[i]\n",
    "            stock = 0\n",
    "            #print(singal,df.iloc[i][\"Date\"], \"Sell\")\n",
    "        # Calculate the current value of the portfolio\n",
    "        current_value = cash + stock * adj_close.iloc[i]\n",
    "        portfolio_value.append(current_value)\n",
    "\n",
    "    final_value = cash + stock * adj_close.iloc[-1]\n",
    "    profit = final_value - initial_cash\n",
    "    profit_percentage = (profit / initial_cash) * 100\n",
    "  #  print(df)\n",
    "    return profit, portfolio_value, profit_percentage\n",
    "\n",
    "\n"
   ]
  },
  {
   "cell_type": "code",
   "execution_count": 7,
   "metadata": {},
   "outputs": [],
   "source": [
    "def plot(ticker, signal, df):\n",
    "   \n",
    "    fig = go.Figure()\n",
    "\n",
    "    # Plot Adjusted Close Price\n",
    "    fig.add_trace(go.Scatter(x=df['Date'], y=df['Adj Close'], mode='lines', name='Adj Close', line=dict(color='blue')))\n",
    "\n",
    "    if signal == \"WMA Signal\":\n",
    "        fig.add_trace(go.Scatter(x=df['Date'], y=df['WMA'], mode='lines', name='WMA', line=dict(color='orange')))\n",
    "    elif signal == \"SMA Signal\":\n",
    "        fig.add_trace(go.Scatter(x=df['Date'], y=df['SMA'], mode='lines', name='SMA', line=dict(color='orange')))\n",
    "    elif signal == \"RSI Signal\":\n",
    "        fig.add_trace(go.Scatter(x=df['Date'], y=df['RSI'], mode='lines', name='RSI', line=dict(color='orange')))\n",
    "    elif signal == \"BB Signal\":\n",
    "        fig.add_trace(go.Scatter(x=df['Date'], y=df['BUB'], mode='lines', name='BUB', line=dict(color='orange')))\n",
    "        fig.add_trace(go.Scatter(x=df['Date'], y=df['BLB'], mode='lines', name='BLB', line=dict(color='orange')))\n",
    "\n",
    "    df_buy_signals = df[df[signal] == 1]\n",
    "    df_sell_signals = df[df[signal] == -1]\n",
    "    \n",
    "    fig.add_trace(go.Scatter(x=df_buy_signals['Date'], y=df_buy_signals['Adj Close'], mode='markers', name='Buy Signal',\n",
    "                             marker=dict(symbol='triangle-up', size=10, color='green')))\n",
    "    fig.add_trace(go.Scatter(x=df_sell_signals['Date'], y=df_sell_signals['Adj Close'], mode='markers', name='Sell Signal',\n",
    "                             marker=dict(symbol='triangle-down', size=10, color='red')))\n",
    "    \n",
    "    fig.update_layout(\n",
    "        title=f'{ticker} Stock Analysis {signal}',\n",
    "        xaxis_title='Date',\n",
    "        yaxis_title='Price',\n",
    "        legend=dict(x=0, y=1),\n",
    "        xaxis=dict(rangeslider=dict(visible=True)),\n",
    "        template='plotly_dark',\n",
    "        height=600,\n",
    "        width=1000\n",
    "    )\n",
    "\n",
    "    fig.show()\n"
   ]
  },
  {
   "cell_type": "code",
   "execution_count": 9,
   "metadata": {},
   "outputs": [],
   "source": [
    "# Specify entry and exit dates\n",
    "def calculate_all_profit(ticker,df):\n",
    "    pc_profit, pc_portfolio_value, pc_profit_percentage  = calculate_profit(df[\"Adj Close\"],df[\"PC Signal\"])\n",
    "    print(f\"PC Signal : Final Profit: ${pc_profit:.2f}, {pc_profit_percentage.round(2)}%\")\n",
    "    \n",
    "    wam_profit, wam_portfolio_value, wam_profit_percentage = calculate_profit(df[\"Adj Close\"],df[\"WMA Signal\"])\n",
    "    print(f\"WMA Signal : Final Profit: ${wam_profit:.2f}, {wam_profit_percentage.round(2)}%\")\n",
    "\n",
    "    rsi_profit, rsi_portfolio_value, rsi_profit_percentage = calculate_profit(df[\"Adj Close\"],df[\"RSI Signal\"])\n",
    "    print(f\"RSI Signal : Final Profit: ${rsi_profit:.2f}, {rsi_profit_percentage.round(2)}%\")\n",
    "\n",
    "    bb_profit, bb_portfolio_value, bb_profit_percentage = calculate_profit(df[\"Adj Close\"],df[\"BB Signal\"])\n",
    "    print(f\"BB Signal : Final Profit: ${bb_profit:.2f}, {bb_profit_percentage.round(2)}%\")\n",
    "\n",
    "    plot(ticker,\"PC Signal\",df)\n",
    "    plot(ticker,\"WMA Signal\",df)\n",
    "    plot(ticker,\"RSI Signal\",df)\n",
    "    plot(ticker,\"BB Signal\",df)\n",
    "    "
   ]
  },
  {
   "cell_type": "code",
   "execution_count": 10,
   "metadata": {},
   "outputs": [],
   "source": [
    "from sklearn.metrics import auc, precision_score, recall_score, roc_curve\n",
    "\n",
    "\n",
    "def train_logistic_regression_model(df_train,features, target):\n",
    "        \n",
    "    # Create features and target\n",
    "    df_features = df_train[features]\n",
    "    target = df_train[target]  # Using SMA Signal as target for this example\n",
    "\n",
    "    # # Split the data\n",
    "    X_train, X_test, y_train, y_test = train_test_split(df_features, target, test_size=0.3, random_state=42)\n",
    "\n",
    "    # Apply Chi-Squared feature selection\n",
    "    chi2_selector = SelectKBest(chi2, k='all')\n",
    "    chi2_selector.fit(X_train, y_train)\n",
    "\n",
    "    # Get the selected features\n",
    "    selected_features = chi2_selector.get_support(indices=True)\n",
    "    print(f'Selected features (CHI): {selected_features}')\n",
    "    print(f'Selected features (CHI): {df_features.columns[selected_features]}')\n",
    "    \n",
    "    # Standardize the features\n",
    "    scaler = StandardScaler()\n",
    "    X_train_scaled = scaler.fit_transform(X_train)\n",
    "    X_test_scaled = scaler.transform(X_test)\n",
    "\n",
    "    # # Train the logistic regression model\n",
    "    # model = LogisticRegression(max_iter=100)\n",
    "    # model.fit(X_train_scaled, y_train)\n",
    "\n",
    "    # # Make predictions\n",
    "    # y_pred = model.predict(X_test_scaled)\n",
    "\n",
    "    # # Evaluate the model\n",
    "    # print(confusion_matrix(y_test, y_pred))\n",
    "    # print(classification_report(y_test, y_pred))\n",
    "    \n",
    "    clf = [\n",
    "    LogisticRegression(solver='newton-cg',penalty='l2',max_iter=1000),\n",
    "    LogisticRegression(solver='lbfgs',penalty='l2',max_iter=1000),\n",
    "    LogisticRegression(solver='sag',penalty='l2',max_iter=1000),\n",
    "    LogisticRegression(solver='saga',penalty='l2',max_iter=1000)\n",
    "    ]\n",
    "    clf_columns = []\n",
    "    clf_compare = pd.DataFrame(columns = clf_columns)\n",
    "\n",
    "    row_index = 0\n",
    "    for alg in clf:\n",
    "            \n",
    "        predicted = alg.fit(X_train, y_train).predict(X_test)\n",
    "        fp, tp, th = roc_curve(y_test, predicted)\n",
    "        clf_name = alg.__class__.__name__\n",
    "        clf_compare.loc[row_index, 'Train Accuracy'] = round(alg.score(X_train, y_train), 5)\n",
    "        clf_compare.loc[row_index, 'Test Accuracy'] = round(alg.score(X_test, y_test), 5)\n",
    "        clf_compare.loc[row_index, 'Precission'] = round(precision_score(y_test, predicted),5)\n",
    "        clf_compare.loc[row_index, 'Recall'] = round(recall_score(y_test, predicted),5)\n",
    "        #ROC (Receiver Operator Characteristic) graphs and AUC (the area under the curve),\n",
    "        #https://www.youtube.com/watch?v=4jRBRDbJemM\n",
    "        clf_compare.loc[row_index, 'AUC'] = round(auc(fp, tp),5)\n",
    "\n",
    "        row_index+=1\n",
    "        \n",
    "    clf_compare.sort_values(by = ['Test Accuracy'], ascending = False, inplace = True)    \n",
    "    print(clf_compare)\n",
    "\n",
    "    return clf[0], scaler\n",
    "   \n",
    "def train_gradient_classifier_model(df_train,features, target):\n",
    "    #    https://stackoverflow.com/questions/56505564/handling-unbalanced-data-in-gradientboostingclassifier-using-weighted-class\n",
    "    # Create features and target\n",
    "    df_features = df_train[features]\n",
    "    target = df_train[target]  # Using SMA Signal as target for this example\n",
    "    \n",
    "\n",
    "    # # Split the data\n",
    "    X_train, X_test, y_train, y_test = train_test_split(df_features, target, test_size=0.3, random_state=42)\n",
    "    # Standardize the features\n",
    "    scaler = StandardScaler()\n",
    "    X_train_scaled = scaler.fit_transform(X_train)\n",
    "    X_test_scaled = scaler.transform(X_test)\n",
    "    \n",
    "    sample_weights = np.zeros(len(y_train))\n",
    "    sample_weights[y_train == 0] = 0.2\n",
    "    sample_weights[y_train == 1] = 0.4\n",
    "    sample_weights[y_train == -1] = 0.4\n",
    "\n",
    "    #Define the parameter grid\n",
    "    #'learning_rate': 0.2, 'max_depth': 6, 'min_samples_leaf': 4, 'min_samples_split': 2, 'n_estimators': 300, 'subsample': 0.8}\n",
    "    param_grid = {\n",
    "        'n_estimators': [200,500,1000], #,[ 1000,2000], #200,500,1000\n",
    "        'learning_rate': [0.2], #[0.2], #[0.01, 0.1, 0.2]\n",
    "        'max_depth': [7, 8, 9] #3, 4, 5, [5, 6, 7]    \n",
    "            }\n",
    "    \n",
    "   # 'learning_rate': 0.2, 'max_depth': 7, 'n_estimators': 500\n",
    "    # param_grid = {\n",
    "    #     'n_estimators': [100, 200, 300],\n",
    "    #     'learning_rate': [0.05, 0.1, 0.2],\n",
    "    #     'max_depth': [3, 4, 5, 6],\n",
    "    #     'min_samples_split': [2, 5, 10],\n",
    "    #     'min_samples_leaf': [1, 2, 4],\n",
    "    #     'subsample': [0.8, 0.9, 1.0]\n",
    "    # }\n",
    "    # Initialize the Gradient Boosting Regressor\n",
    "    gbm = GradientBoostingClassifier(random_state=42)\n",
    "\n",
    "    # Initialize GridSearchCV\n",
    "    grid_search = GridSearchCV(estimator=gbm, param_grid=param_grid)\n",
    "\n",
    "    class_weight = y_train.value_counts(normalize=True).to_dict()\n",
    "    sample_weight = y_train.map(lambda x: 1/class_weight[x])\n",
    "    # Fit GridSearchCV\n",
    "    grid_search.fit(X_train, y_train, sample_weight = sample_weight)\n",
    "\n",
    "    # Get the best parameters\n",
    "    best_params = grid_search.best_params_\n",
    "    print(f'Best parameters: {best_params}')\n",
    "\n",
    "    # Train the model with the best parameters\n",
    "    best_gbm = grid_search.best_estimator_\n",
    "\n",
    "    # Make predictions\n",
    "    y_pred = best_gbm.predict(X_test)\n",
    "\n",
    "    # Evaluate the model\n",
    "    mse = mean_squared_error(y_test, y_pred)\n",
    "    print(f'Mean Squared Error after tuning: {mse}')\n",
    "    return best_gbm, scaler\n",
    "   \n",
    "    \n"
   ]
  },
  {
   "cell_type": "code",
   "execution_count": 11,
   "metadata": {},
   "outputs": [],
   "source": [
    "def predict_signals(model,scaler,df,features):\n",
    "\n",
    "    df_features = df[features]\n",
    "    X_test_scaled = scaler.transform(df_features)\n",
    "    y_pred = model.predict(X_test_scaled)\n",
    "    return y_pred\n",
    "\n"
   ]
  },
  {
   "cell_type": "code",
   "execution_count": 13,
   "metadata": {},
   "outputs": [
    {
     "name": "stdout",
     "output_type": "stream",
     "text": [
      "13007\n",
      "12979\n",
      "12979\n",
      "SMA Signal\n",
      "-1    7231\n",
      " 1    5748\n",
      "Name: count, dtype: int64\n"
     ]
    }
   ],
   "source": [
    "\n",
    "sd = '1887-12-31' #'2014-01-01'\n",
    "ed = '2023-12-31' #'1999-12-31'#'2023-12-31'\n",
    "\n",
    "test_exit_date = pd.to_datetime(ed)\n",
    "test_entry_date = test_exit_date - pd.Timedelta(days=365*1)\n",
    "\n",
    "train_start_date = pd.to_datetime(sd)\n",
    "train_end_date = test_entry_date\n",
    "#appl\n",
    "ticker_symbol = \"PFE\" #PFE, AAPL, MSFT\n",
    "\n",
    "\n",
    "stock_df = get_data(ticker_symbol,sd,ed)[['Date', 'Adj Close','Volume']]\n",
    "new_df = apply_techinal_indicators(stock_df)\n",
    "new_df.to_csv(\"test.csv\")\n",
    "print(len(new_df))\n",
    "new_df.dropna(inplace=True)\n",
    "print(len(new_df))\n",
    "new_df = calcualte_signal_by_techinal_indicators(new_df)\n",
    "print(len(new_df))\n",
    "#new_df['WMA RSI Signal'].value_counts()\n",
    "print(new_df['SMA Signal'].value_counts())\n",
    "\n",
    "\n",
    "df_filter = new_df[(new_df['Date'] >= pd.to_datetime('2023-01-01'))]\n"
   ]
  },
  {
   "cell_type": "code",
   "execution_count": 14,
   "metadata": {},
   "outputs": [
    {
     "data": {
      "text/html": [
       "<div>\n",
       "<style scoped>\n",
       "    .dataframe tbody tr th:only-of-type {\n",
       "        vertical-align: middle;\n",
       "    }\n",
       "\n",
       "    .dataframe tbody tr th {\n",
       "        vertical-align: top;\n",
       "    }\n",
       "\n",
       "    .dataframe thead th {\n",
       "        text-align: right;\n",
       "    }\n",
       "</style>\n",
       "<table border=\"1\" class=\"dataframe\">\n",
       "  <thead>\n",
       "    <tr style=\"text-align: right;\">\n",
       "      <th></th>\n",
       "      <th>Date</th>\n",
       "      <th>Adj Close</th>\n",
       "      <th>Volume</th>\n",
       "      <th>SMA</th>\n",
       "      <th>WMA</th>\n",
       "      <th>RSI</th>\n",
       "      <th>BUB</th>\n",
       "      <th>BLB</th>\n",
       "      <th>PC</th>\n",
       "      <th>VPT</th>\n",
       "      <th>VPT_EMA</th>\n",
       "      <th>WMA Signal</th>\n",
       "      <th>SMA Signal</th>\n",
       "      <th>RSI Signal</th>\n",
       "      <th>PC Signal</th>\n",
       "      <th>BB Signal</th>\n",
       "      <th>VPT Signal</th>\n",
       "      <th>WMA RSI Signal</th>\n",
       "    </tr>\n",
       "  </thead>\n",
       "  <tbody>\n",
       "    <tr>\n",
       "      <th>12757</th>\n",
       "      <td>2023-01-03</td>\n",
       "      <td>47.590485</td>\n",
       "      <td>15603800</td>\n",
       "      <td>47.441614</td>\n",
       "      <td>47.806588</td>\n",
       "      <td>60.158288</td>\n",
       "      <td>49.879517</td>\n",
       "      <td>45.003710</td>\n",
       "      <td>6.392681</td>\n",
       "      <td>6.161836e+07</td>\n",
       "      <td>6.188165e+07</td>\n",
       "      <td>1</td>\n",
       "      <td>-1</td>\n",
       "      <td>0</td>\n",
       "      <td>0</td>\n",
       "      <td>0</td>\n",
       "      <td>1</td>\n",
       "      <td>1</td>\n",
       "    </tr>\n",
       "    <tr>\n",
       "      <th>12758</th>\n",
       "      <td>2023-01-04</td>\n",
       "      <td>46.541386</td>\n",
       "      <td>21808400</td>\n",
       "      <td>47.476429</td>\n",
       "      <td>47.744503</td>\n",
       "      <td>53.411295</td>\n",
       "      <td>49.829627</td>\n",
       "      <td>45.123231</td>\n",
       "      <td>2.139356</td>\n",
       "      <td>6.113761e+07</td>\n",
       "      <td>6.183034e+07</td>\n",
       "      <td>1</td>\n",
       "      <td>1</td>\n",
       "      <td>0</td>\n",
       "      <td>0</td>\n",
       "      <td>0</td>\n",
       "      <td>1</td>\n",
       "      <td>1</td>\n",
       "    </tr>\n",
       "    <tr>\n",
       "      <th>12759</th>\n",
       "      <td>2023-01-05</td>\n",
       "      <td>46.105026</td>\n",
       "      <td>20057400</td>\n",
       "      <td>47.503287</td>\n",
       "      <td>47.649923</td>\n",
       "      <td>52.591184</td>\n",
       "      <td>49.771588</td>\n",
       "      <td>45.234986</td>\n",
       "      <td>1.658144</td>\n",
       "      <td>6.094955e+07</td>\n",
       "      <td>6.176960e+07</td>\n",
       "      <td>1</td>\n",
       "      <td>1</td>\n",
       "      <td>0</td>\n",
       "      <td>0</td>\n",
       "      <td>0</td>\n",
       "      <td>1</td>\n",
       "      <td>1</td>\n",
       "    </tr>\n",
       "    <tr>\n",
       "      <th>12760</th>\n",
       "      <td>2023-01-06</td>\n",
       "      <td>47.274826</td>\n",
       "      <td>29635900</td>\n",
       "      <td>47.559986</td>\n",
       "      <td>47.634168</td>\n",
       "      <td>55.172404</td>\n",
       "      <td>49.716602</td>\n",
       "      <td>45.403370</td>\n",
       "      <td>3.47489</td>\n",
       "      <td>6.170149e+07</td>\n",
       "      <td>6.176490e+07</td>\n",
       "      <td>1</td>\n",
       "      <td>1</td>\n",
       "      <td>0</td>\n",
       "      <td>0</td>\n",
       "      <td>0</td>\n",
       "      <td>1</td>\n",
       "      <td>1</td>\n",
       "    </tr>\n",
       "    <tr>\n",
       "      <th>12761</th>\n",
       "      <td>2023-01-09</td>\n",
       "      <td>44.925938</td>\n",
       "      <td>30839100</td>\n",
       "      <td>47.520860</td>\n",
       "      <td>47.452509</td>\n",
       "      <td>46.844907</td>\n",
       "      <td>49.827774</td>\n",
       "      <td>45.213946</td>\n",
       "      <td>-2.380479</td>\n",
       "      <td>6.016923e+07</td>\n",
       "      <td>6.165485e+07</td>\n",
       "      <td>1</td>\n",
       "      <td>1</td>\n",
       "      <td>0</td>\n",
       "      <td>0</td>\n",
       "      <td>1</td>\n",
       "      <td>1</td>\n",
       "      <td>1</td>\n",
       "    </tr>\n",
       "    <tr>\n",
       "      <th>...</th>\n",
       "      <td>...</td>\n",
       "      <td>...</td>\n",
       "      <td>...</td>\n",
       "      <td>...</td>\n",
       "      <td>...</td>\n",
       "      <td>...</td>\n",
       "      <td>...</td>\n",
       "      <td>...</td>\n",
       "      <td>...</td>\n",
       "      <td>...</td>\n",
       "      <td>...</td>\n",
       "      <td>...</td>\n",
       "      <td>...</td>\n",
       "      <td>...</td>\n",
       "      <td>...</td>\n",
       "      <td>...</td>\n",
       "      <td>...</td>\n",
       "      <td>...</td>\n",
       "    </tr>\n",
       "    <tr>\n",
       "      <th>13002</th>\n",
       "      <td>2023-12-22</td>\n",
       "      <td>27.563286</td>\n",
       "      <td>35087200</td>\n",
       "      <td>28.086683</td>\n",
       "      <td>27.569739</td>\n",
       "      <td>47.709321</td>\n",
       "      <td>30.499177</td>\n",
       "      <td>25.674188</td>\n",
       "      <td>-2.00138</td>\n",
       "      <td>4.427614e+07</td>\n",
       "      <td>4.830685e+07</td>\n",
       "      <td>1</td>\n",
       "      <td>1</td>\n",
       "      <td>0</td>\n",
       "      <td>0</td>\n",
       "      <td>0</td>\n",
       "      <td>1</td>\n",
       "      <td>1</td>\n",
       "    </tr>\n",
       "    <tr>\n",
       "      <th>13003</th>\n",
       "      <td>2023-12-26</td>\n",
       "      <td>27.572990</td>\n",
       "      <td>30119100</td>\n",
       "      <td>28.057220</td>\n",
       "      <td>27.534312</td>\n",
       "      <td>46.569817</td>\n",
       "      <td>30.474091</td>\n",
       "      <td>25.640348</td>\n",
       "      <td>-2.904988</td>\n",
       "      <td>4.428674e+07</td>\n",
       "      <td>4.802960e+07</td>\n",
       "      <td>-1</td>\n",
       "      <td>1</td>\n",
       "      <td>0</td>\n",
       "      <td>0</td>\n",
       "      <td>0</td>\n",
       "      <td>1</td>\n",
       "      <td>0</td>\n",
       "    </tr>\n",
       "    <tr>\n",
       "      <th>13004</th>\n",
       "      <td>2023-12-27</td>\n",
       "      <td>27.767099</td>\n",
       "      <td>35000700</td>\n",
       "      <td>28.002454</td>\n",
       "      <td>27.514304</td>\n",
       "      <td>43.224696</td>\n",
       "      <td>30.371478</td>\n",
       "      <td>25.633429</td>\n",
       "      <td>-5.233523</td>\n",
       "      <td>4.453314e+07</td>\n",
       "      <td>4.778847e+07</td>\n",
       "      <td>-1</td>\n",
       "      <td>1</td>\n",
       "      <td>0</td>\n",
       "      <td>0</td>\n",
       "      <td>0</td>\n",
       "      <td>1</td>\n",
       "      <td>0</td>\n",
       "    </tr>\n",
       "    <tr>\n",
       "      <th>13005</th>\n",
       "      <td>2023-12-28</td>\n",
       "      <td>27.941795</td>\n",
       "      <td>30472900</td>\n",
       "      <td>27.968485</td>\n",
       "      <td>27.510121</td>\n",
       "      <td>45.709278</td>\n",
       "      <td>30.311680</td>\n",
       "      <td>25.625290</td>\n",
       "      <td>-3.291906</td>\n",
       "      <td>4.472486e+07</td>\n",
       "      <td>4.757718e+07</td>\n",
       "      <td>-1</td>\n",
       "      <td>1</td>\n",
       "      <td>0</td>\n",
       "      <td>0</td>\n",
       "      <td>0</td>\n",
       "      <td>1</td>\n",
       "      <td>0</td>\n",
       "    </tr>\n",
       "    <tr>\n",
       "      <th>13006</th>\n",
       "      <td>2023-12-29</td>\n",
       "      <td>27.941795</td>\n",
       "      <td>30342500</td>\n",
       "      <td>27.929317</td>\n",
       "      <td>27.508280</td>\n",
       "      <td>44.986689</td>\n",
       "      <td>30.234677</td>\n",
       "      <td>25.623957</td>\n",
       "      <td>-3.776738</td>\n",
       "      <td>4.472486e+07</td>\n",
       "      <td>4.738047e+07</td>\n",
       "      <td>-1</td>\n",
       "      <td>-1</td>\n",
       "      <td>0</td>\n",
       "      <td>0</td>\n",
       "      <td>0</td>\n",
       "      <td>1</td>\n",
       "      <td>0</td>\n",
       "    </tr>\n",
       "  </tbody>\n",
       "</table>\n",
       "<p>250 rows × 18 columns</p>\n",
       "</div>"
      ],
      "text/plain": [
       "            Date  Adj Close    Volume        SMA        WMA        RSI  \\\n",
       "12757 2023-01-03  47.590485  15603800  47.441614  47.806588  60.158288   \n",
       "12758 2023-01-04  46.541386  21808400  47.476429  47.744503  53.411295   \n",
       "12759 2023-01-05  46.105026  20057400  47.503287  47.649923  52.591184   \n",
       "12760 2023-01-06  47.274826  29635900  47.559986  47.634168  55.172404   \n",
       "12761 2023-01-09  44.925938  30839100  47.520860  47.452509  46.844907   \n",
       "...          ...        ...       ...        ...        ...        ...   \n",
       "13002 2023-12-22  27.563286  35087200  28.086683  27.569739  47.709321   \n",
       "13003 2023-12-26  27.572990  30119100  28.057220  27.534312  46.569817   \n",
       "13004 2023-12-27  27.767099  35000700  28.002454  27.514304  43.224696   \n",
       "13005 2023-12-28  27.941795  30472900  27.968485  27.510121  45.709278   \n",
       "13006 2023-12-29  27.941795  30342500  27.929317  27.508280  44.986689   \n",
       "\n",
       "             BUB        BLB        PC           VPT       VPT_EMA  WMA Signal  \\\n",
       "12757  49.879517  45.003710  6.392681  6.161836e+07  6.188165e+07           1   \n",
       "12758  49.829627  45.123231  2.139356  6.113761e+07  6.183034e+07           1   \n",
       "12759  49.771588  45.234986  1.658144  6.094955e+07  6.176960e+07           1   \n",
       "12760  49.716602  45.403370   3.47489  6.170149e+07  6.176490e+07           1   \n",
       "12761  49.827774  45.213946 -2.380479  6.016923e+07  6.165485e+07           1   \n",
       "...          ...        ...       ...           ...           ...         ...   \n",
       "13002  30.499177  25.674188  -2.00138  4.427614e+07  4.830685e+07           1   \n",
       "13003  30.474091  25.640348 -2.904988  4.428674e+07  4.802960e+07          -1   \n",
       "13004  30.371478  25.633429 -5.233523  4.453314e+07  4.778847e+07          -1   \n",
       "13005  30.311680  25.625290 -3.291906  4.472486e+07  4.757718e+07          -1   \n",
       "13006  30.234677  25.623957 -3.776738  4.472486e+07  4.738047e+07          -1   \n",
       "\n",
       "       SMA Signal  RSI Signal  PC Signal  BB Signal  VPT Signal  \\\n",
       "12757          -1           0          0          0           1   \n",
       "12758           1           0          0          0           1   \n",
       "12759           1           0          0          0           1   \n",
       "12760           1           0          0          0           1   \n",
       "12761           1           0          0          1           1   \n",
       "...           ...         ...        ...        ...         ...   \n",
       "13002           1           0          0          0           1   \n",
       "13003           1           0          0          0           1   \n",
       "13004           1           0          0          0           1   \n",
       "13005           1           0          0          0           1   \n",
       "13006          -1           0          0          0           1   \n",
       "\n",
       "       WMA RSI Signal  \n",
       "12757               1  \n",
       "12758               1  \n",
       "12759               1  \n",
       "12760               1  \n",
       "12761               1  \n",
       "...               ...  \n",
       "13002               1  \n",
       "13003               0  \n",
       "13004               0  \n",
       "13005               0  \n",
       "13006               0  \n",
       "\n",
       "[250 rows x 18 columns]"
      ]
     },
     "execution_count": 14,
     "metadata": {},
     "output_type": "execute_result"
    }
   ],
   "source": [
    "df_filter"
   ]
  },
  {
   "cell_type": "code",
   "execution_count": 15,
   "metadata": {},
   "outputs": [],
   "source": [
    "\n",
    "new_df['WMA RSI Signal Optimized'] = new_df['WMA RSI Signal']\n",
    "\n",
    "new_df['idx'] = new_df.index\n",
    "\n",
    "neutral_indexs = []\n",
    "buy_sell_indices = new_df[(new_df['WMA RSI Signal'] == 1) | (new_df['WMA RSI Signal'] == -1)]\n",
    " #   sell_indices = signals[signals['WMA RSI Signal Optimized'] == -1].index\n",
    "cnt = 0\n",
    "group_signal=[]\n",
    "\n",
    "for index, row in buy_sell_indices.iterrows():\n",
    "    if row['WMA RSI Signal']==0:\n",
    "        continue\n",
    "    if cnt == 0:\n",
    "        last_row = row\n",
    "        last_index = index\n",
    "        cnt=cnt+1\n",
    "        continue\n",
    "\n",
    "    previous_signal = last_row['WMA RSI Signal']\n",
    "    previous_price = last_row['Adj Close']\n",
    "    current_signal = row['WMA RSI Signal']\n",
    "    current_price = row['Adj Close']\n",
    "    if previous_signal == current_signal:\n",
    "        if (current_signal == 1): #buy\n",
    "            min_price = current_price\n",
    "            group_signal.append(last_row['idx'])\n",
    "            #new_df[\"WMA RSI Signal Optimized\"].iloc[i-1] = 0\n",
    "        elif (current_signal == -1) : #dell\n",
    "            max_price=current_price\n",
    "            group_signal.append(last_row['idx'])\n",
    "            #new_df[\"WMA RSI Signal Optimized\"].iloc[i-1] = 0\n",
    "    else:\n",
    "        if(len(group_signal)>0):\n",
    "            if(new_df['WMA RSI Signal'][group_signal[0]]==1): #buy\n",
    "                min_index = new_df.loc[new_df[\"idx\"].isin(group_signal)]['Adj Close'].idxmin()\n",
    "                new_df['WMA RSI Signal Optimized'][group_signal] = 0\n",
    "                new_df['WMA RSI Signal Optimized'][min_index] = 1\n",
    "            if(new_df['WMA RSI Signal'][group_signal[0]]==-1): #buy\n",
    "                max_index = new_df.loc[new_df[\"idx\"].isin(group_signal)]['Adj Close'].idxmax()\n",
    "                new_df['WMA RSI Signal Optimized'][group_signal] = 0\n",
    "                new_df['WMA RSI Signal Optimized'][max_index] = -1\n",
    "        group_signal=[]\n",
    "        \n",
    "    last_row = row\n",
    "    last_index = index\n",
    "    cnt=cnt+1\n",
    "\n",
    "\n",
    "\n",
    "\n"
   ]
  },
  {
   "cell_type": "code",
   "execution_count": 16,
   "metadata": {},
   "outputs": [
    {
     "data": {
      "text/html": [
       "<div>\n",
       "<style scoped>\n",
       "    .dataframe tbody tr th:only-of-type {\n",
       "        vertical-align: middle;\n",
       "    }\n",
       "\n",
       "    .dataframe tbody tr th {\n",
       "        vertical-align: top;\n",
       "    }\n",
       "\n",
       "    .dataframe thead th {\n",
       "        text-align: right;\n",
       "    }\n",
       "</style>\n",
       "<table border=\"1\" class=\"dataframe\">\n",
       "  <thead>\n",
       "    <tr style=\"text-align: right;\">\n",
       "      <th></th>\n",
       "      <th>Date</th>\n",
       "      <th>Adj Close</th>\n",
       "      <th>Volume</th>\n",
       "      <th>SMA</th>\n",
       "      <th>WMA</th>\n",
       "      <th>RSI</th>\n",
       "      <th>BUB</th>\n",
       "      <th>BLB</th>\n",
       "      <th>PC</th>\n",
       "      <th>VPT</th>\n",
       "      <th>VPT_EMA</th>\n",
       "      <th>WMA Signal</th>\n",
       "      <th>SMA Signal</th>\n",
       "      <th>RSI Signal</th>\n",
       "      <th>PC Signal</th>\n",
       "      <th>BB Signal</th>\n",
       "      <th>VPT Signal</th>\n",
       "      <th>WMA RSI Signal</th>\n",
       "      <th>WMA RSI Signal Optimized</th>\n",
       "      <th>idx</th>\n",
       "    </tr>\n",
       "  </thead>\n",
       "  <tbody>\n",
       "    <tr>\n",
       "      <th>28</th>\n",
       "      <td>1972-07-12</td>\n",
       "      <td>0.178834</td>\n",
       "      <td>2696554</td>\n",
       "      <td>0.168828</td>\n",
       "      <td>0.171110</td>\n",
       "      <td>69.736833</td>\n",
       "      <td>0.178614</td>\n",
       "      <td>0.159042</td>\n",
       "      <td>9.090981</td>\n",
       "      <td>2.485664e+05</td>\n",
       "      <td>1.024523e+05</td>\n",
       "      <td>-1</td>\n",
       "      <td>-1</td>\n",
       "      <td>0</td>\n",
       "      <td>-1</td>\n",
       "      <td>-1</td>\n",
       "      <td>-1</td>\n",
       "      <td>-1</td>\n",
       "      <td>-1</td>\n",
       "      <td>28</td>\n",
       "    </tr>\n",
       "    <tr>\n",
       "      <th>29</th>\n",
       "      <td>1972-07-13</td>\n",
       "      <td>0.173867</td>\n",
       "      <td>1113024</td>\n",
       "      <td>0.169254</td>\n",
       "      <td>0.171457</td>\n",
       "      <td>64.634050</td>\n",
       "      <td>0.178833</td>\n",
       "      <td>0.159675</td>\n",
       "      <td>7.361984</td>\n",
       "      <td>2.176489e+05</td>\n",
       "      <td>1.103969e+05</td>\n",
       "      <td>-1</td>\n",
       "      <td>-1</td>\n",
       "      <td>0</td>\n",
       "      <td>0</td>\n",
       "      <td>0</td>\n",
       "      <td>-1</td>\n",
       "      <td>-1</td>\n",
       "      <td>0</td>\n",
       "      <td>29</td>\n",
       "    </tr>\n",
       "    <tr>\n",
       "      <th>30</th>\n",
       "      <td>1972-07-14</td>\n",
       "      <td>0.177841</td>\n",
       "      <td>1583530</td>\n",
       "      <td>0.169839</td>\n",
       "      <td>0.172050</td>\n",
       "      <td>68.538990</td>\n",
       "      <td>0.179443</td>\n",
       "      <td>0.160236</td>\n",
       "      <td>10.153792</td>\n",
       "      <td>2.538445e+05</td>\n",
       "      <td>1.202898e+05</td>\n",
       "      <td>-1</td>\n",
       "      <td>-1</td>\n",
       "      <td>0</td>\n",
       "      <td>-1</td>\n",
       "      <td>0</td>\n",
       "      <td>-1</td>\n",
       "      <td>-1</td>\n",
       "      <td>0</td>\n",
       "      <td>30</td>\n",
       "    </tr>\n",
       "    <tr>\n",
       "      <th>31</th>\n",
       "      <td>1972-07-17</td>\n",
       "      <td>0.176351</td>\n",
       "      <td>819590</td>\n",
       "      <td>0.170247</td>\n",
       "      <td>0.172499</td>\n",
       "      <td>63.529273</td>\n",
       "      <td>0.179955</td>\n",
       "      <td>0.160540</td>\n",
       "      <td>6.927748</td>\n",
       "      <td>2.469765e+05</td>\n",
       "      <td>1.290269e+05</td>\n",
       "      <td>-1</td>\n",
       "      <td>-1</td>\n",
       "      <td>0</td>\n",
       "      <td>0</td>\n",
       "      <td>0</td>\n",
       "      <td>-1</td>\n",
       "      <td>-1</td>\n",
       "      <td>0</td>\n",
       "      <td>31</td>\n",
       "    </tr>\n",
       "    <tr>\n",
       "      <th>32</th>\n",
       "      <td>1972-07-18</td>\n",
       "      <td>0.174363</td>\n",
       "      <td>1527878</td>\n",
       "      <td>0.170584</td>\n",
       "      <td>0.172783</td>\n",
       "      <td>60.673934</td>\n",
       "      <td>0.180180</td>\n",
       "      <td>0.160989</td>\n",
       "      <td>5.72287</td>\n",
       "      <td>2.297602e+05</td>\n",
       "      <td>1.359740e+05</td>\n",
       "      <td>-1</td>\n",
       "      <td>-1</td>\n",
       "      <td>0</td>\n",
       "      <td>0</td>\n",
       "      <td>0</td>\n",
       "      <td>-1</td>\n",
       "      <td>-1</td>\n",
       "      <td>0</td>\n",
       "      <td>32</td>\n",
       "    </tr>\n",
       "    <tr>\n",
       "      <th>...</th>\n",
       "      <td>...</td>\n",
       "      <td>...</td>\n",
       "      <td>...</td>\n",
       "      <td>...</td>\n",
       "      <td>...</td>\n",
       "      <td>...</td>\n",
       "      <td>...</td>\n",
       "      <td>...</td>\n",
       "      <td>...</td>\n",
       "      <td>...</td>\n",
       "      <td>...</td>\n",
       "      <td>...</td>\n",
       "      <td>...</td>\n",
       "      <td>...</td>\n",
       "      <td>...</td>\n",
       "      <td>...</td>\n",
       "      <td>...</td>\n",
       "      <td>...</td>\n",
       "      <td>...</td>\n",
       "      <td>...</td>\n",
       "    </tr>\n",
       "    <tr>\n",
       "      <th>12752</th>\n",
       "      <td>2022-12-23</td>\n",
       "      <td>48.119682</td>\n",
       "      <td>10666500</td>\n",
       "      <td>46.964144</td>\n",
       "      <td>47.688066</td>\n",
       "      <td>58.570429</td>\n",
       "      <td>50.141868</td>\n",
       "      <td>43.786419</td>\n",
       "      <td>5.259932</td>\n",
       "      <td>6.176607e+07</td>\n",
       "      <td>6.200154e+07</td>\n",
       "      <td>-1</td>\n",
       "      <td>-1</td>\n",
       "      <td>0</td>\n",
       "      <td>0</td>\n",
       "      <td>0</td>\n",
       "      <td>1</td>\n",
       "      <td>0</td>\n",
       "      <td>0</td>\n",
       "      <td>12752</td>\n",
       "    </tr>\n",
       "    <tr>\n",
       "      <th>12753</th>\n",
       "      <td>2022-12-27</td>\n",
       "      <td>47.469799</td>\n",
       "      <td>12033800</td>\n",
       "      <td>47.049027</td>\n",
       "      <td>47.722939</td>\n",
       "      <td>58.454409</td>\n",
       "      <td>50.145358</td>\n",
       "      <td>43.952697</td>\n",
       "      <td>5.270743</td>\n",
       "      <td>6.160354e+07</td>\n",
       "      <td>6.197409e+07</td>\n",
       "      <td>1</td>\n",
       "      <td>-1</td>\n",
       "      <td>0</td>\n",
       "      <td>0</td>\n",
       "      <td>0</td>\n",
       "      <td>1</td>\n",
       "      <td>1</td>\n",
       "      <td>0</td>\n",
       "      <td>12753</td>\n",
       "    </tr>\n",
       "    <tr>\n",
       "      <th>12754</th>\n",
       "      <td>2022-12-28</td>\n",
       "      <td>47.163422</td>\n",
       "      <td>10053900</td>\n",
       "      <td>47.140211</td>\n",
       "      <td>47.730828</td>\n",
       "      <td>59.197325</td>\n",
       "      <td>50.085309</td>\n",
       "      <td>44.195113</td>\n",
       "      <td>5.723216</td>\n",
       "      <td>6.153865e+07</td>\n",
       "      <td>6.194406e+07</td>\n",
       "      <td>1</td>\n",
       "      <td>-1</td>\n",
       "      <td>0</td>\n",
       "      <td>0</td>\n",
       "      <td>0</td>\n",
       "      <td>1</td>\n",
       "      <td>1</td>\n",
       "      <td>0</td>\n",
       "      <td>12754</td>\n",
       "    </tr>\n",
       "    <tr>\n",
       "      <th>12755</th>\n",
       "      <td>2022-12-29</td>\n",
       "      <td>47.655483</td>\n",
       "      <td>8971300</td>\n",
       "      <td>47.239684</td>\n",
       "      <td>47.766364</td>\n",
       "      <td>59.868404</td>\n",
       "      <td>50.051893</td>\n",
       "      <td>44.427475</td>\n",
       "      <td>6.207321</td>\n",
       "      <td>6.163225e+07</td>\n",
       "      <td>6.192256e+07</td>\n",
       "      <td>1</td>\n",
       "      <td>-1</td>\n",
       "      <td>0</td>\n",
       "      <td>0</td>\n",
       "      <td>0</td>\n",
       "      <td>1</td>\n",
       "      <td>1</td>\n",
       "      <td>0</td>\n",
       "      <td>12755</td>\n",
       "    </tr>\n",
       "    <tr>\n",
       "      <th>12756</th>\n",
       "      <td>2022-12-30</td>\n",
       "      <td>47.571926</td>\n",
       "      <td>11396200</td>\n",
       "      <td>47.339488</td>\n",
       "      <td>47.789278</td>\n",
       "      <td>59.907837</td>\n",
       "      <td>49.982470</td>\n",
       "      <td>44.696507</td>\n",
       "      <td>6.240937</td>\n",
       "      <td>6.161227e+07</td>\n",
       "      <td>6.190116e+07</td>\n",
       "      <td>1</td>\n",
       "      <td>-1</td>\n",
       "      <td>0</td>\n",
       "      <td>0</td>\n",
       "      <td>0</td>\n",
       "      <td>1</td>\n",
       "      <td>1</td>\n",
       "      <td>0</td>\n",
       "      <td>12756</td>\n",
       "    </tr>\n",
       "  </tbody>\n",
       "</table>\n",
       "<p>12729 rows × 20 columns</p>\n",
       "</div>"
      ],
      "text/plain": [
       "            Date  Adj Close    Volume        SMA        WMA        RSI  \\\n",
       "28    1972-07-12   0.178834   2696554   0.168828   0.171110  69.736833   \n",
       "29    1972-07-13   0.173867   1113024   0.169254   0.171457  64.634050   \n",
       "30    1972-07-14   0.177841   1583530   0.169839   0.172050  68.538990   \n",
       "31    1972-07-17   0.176351    819590   0.170247   0.172499  63.529273   \n",
       "32    1972-07-18   0.174363   1527878   0.170584   0.172783  60.673934   \n",
       "...          ...        ...       ...        ...        ...        ...   \n",
       "12752 2022-12-23  48.119682  10666500  46.964144  47.688066  58.570429   \n",
       "12753 2022-12-27  47.469799  12033800  47.049027  47.722939  58.454409   \n",
       "12754 2022-12-28  47.163422  10053900  47.140211  47.730828  59.197325   \n",
       "12755 2022-12-29  47.655483   8971300  47.239684  47.766364  59.868404   \n",
       "12756 2022-12-30  47.571926  11396200  47.339488  47.789278  59.907837   \n",
       "\n",
       "             BUB        BLB         PC           VPT       VPT_EMA  \\\n",
       "28      0.178614   0.159042   9.090981  2.485664e+05  1.024523e+05   \n",
       "29      0.178833   0.159675   7.361984  2.176489e+05  1.103969e+05   \n",
       "30      0.179443   0.160236  10.153792  2.538445e+05  1.202898e+05   \n",
       "31      0.179955   0.160540   6.927748  2.469765e+05  1.290269e+05   \n",
       "32      0.180180   0.160989    5.72287  2.297602e+05  1.359740e+05   \n",
       "...          ...        ...        ...           ...           ...   \n",
       "12752  50.141868  43.786419   5.259932  6.176607e+07  6.200154e+07   \n",
       "12753  50.145358  43.952697   5.270743  6.160354e+07  6.197409e+07   \n",
       "12754  50.085309  44.195113   5.723216  6.153865e+07  6.194406e+07   \n",
       "12755  50.051893  44.427475   6.207321  6.163225e+07  6.192256e+07   \n",
       "12756  49.982470  44.696507   6.240937  6.161227e+07  6.190116e+07   \n",
       "\n",
       "       WMA Signal  SMA Signal  RSI Signal  PC Signal  BB Signal  VPT Signal  \\\n",
       "28             -1          -1           0         -1         -1          -1   \n",
       "29             -1          -1           0          0          0          -1   \n",
       "30             -1          -1           0         -1          0          -1   \n",
       "31             -1          -1           0          0          0          -1   \n",
       "32             -1          -1           0          0          0          -1   \n",
       "...           ...         ...         ...        ...        ...         ...   \n",
       "12752          -1          -1           0          0          0           1   \n",
       "12753           1          -1           0          0          0           1   \n",
       "12754           1          -1           0          0          0           1   \n",
       "12755           1          -1           0          0          0           1   \n",
       "12756           1          -1           0          0          0           1   \n",
       "\n",
       "       WMA RSI Signal  WMA RSI Signal Optimized    idx  \n",
       "28                 -1                        -1     28  \n",
       "29                 -1                         0     29  \n",
       "30                 -1                         0     30  \n",
       "31                 -1                         0     31  \n",
       "32                 -1                         0     32  \n",
       "...               ...                       ...    ...  \n",
       "12752               0                         0  12752  \n",
       "12753               1                         0  12753  \n",
       "12754               1                         0  12754  \n",
       "12755               1                         0  12755  \n",
       "12756               1                         0  12756  \n",
       "\n",
       "[12729 rows x 20 columns]"
      ]
     },
     "execution_count": 16,
     "metadata": {},
     "output_type": "execute_result"
    }
   ],
   "source": [
    "\n",
    "#train on previous year\n",
    "df_train = new_df[(new_df['Date'] >= train_start_date) & (new_df['Date'] <= train_end_date)]\n",
    "df_train"
   ]
  },
  {
   "cell_type": "code",
   "execution_count": 17,
   "metadata": {},
   "outputs": [
    {
     "name": "stdout",
     "output_type": "stream",
     "text": [
      "Selected features (CHI): [0 1]\n",
      "Selected features (CHI): Index(['Adj Close', 'WMA'], dtype='object')\n",
      "   Train Accuracy  Test Accuracy  Precission   Recall      AUC\n",
      "0         0.90135        0.90154     0.99925  0.77993  0.88973\n",
      "1         0.90135        0.90154     0.99925  0.77993  0.88973\n",
      "2         0.89282        0.89081     1.00000  0.75528  0.87764\n",
      "3         0.87744        0.87484     1.00000  0.71948  0.85974\n",
      "Best parameters: {'learning_rate': 0.2, 'max_depth': 7, 'n_estimators': 1000}\n",
      "Mean Squared Error after tuning: 0.19900497512437812\n",
      "Logistic Signal : Final Profit: $-3310.78, -33.11%\n"
     ]
    },
    {
     "data": {
      "application/vnd.plotly.v1+json": {
       "config": {
        "plotlyServerURL": "https://plot.ly"
       },
       "data": [
        {
         "line": {
          "color": "blue"
         },
         "mode": "lines",
         "name": "Adj Close",
         "type": "scatter",
         "x": [
          "2023-01-03T00:00:00",
          "2023-01-04T00:00:00",
          "2023-01-05T00:00:00",
          "2023-01-06T00:00:00",
          "2023-01-09T00:00:00",
          "2023-01-10T00:00:00",
          "2023-01-11T00:00:00",
          "2023-01-12T00:00:00",
          "2023-01-13T00:00:00",
          "2023-01-17T00:00:00",
          "2023-01-18T00:00:00",
          "2023-01-19T00:00:00",
          "2023-01-20T00:00:00",
          "2023-01-23T00:00:00",
          "2023-01-24T00:00:00",
          "2023-01-25T00:00:00",
          "2023-01-26T00:00:00",
          "2023-01-27T00:00:00",
          "2023-01-30T00:00:00",
          "2023-01-31T00:00:00",
          "2023-02-01T00:00:00",
          "2023-02-02T00:00:00",
          "2023-02-03T00:00:00",
          "2023-02-06T00:00:00",
          "2023-02-07T00:00:00",
          "2023-02-08T00:00:00",
          "2023-02-09T00:00:00",
          "2023-02-10T00:00:00",
          "2023-02-13T00:00:00",
          "2023-02-14T00:00:00",
          "2023-02-15T00:00:00",
          "2023-02-16T00:00:00",
          "2023-02-17T00:00:00",
          "2023-02-21T00:00:00",
          "2023-02-22T00:00:00",
          "2023-02-23T00:00:00",
          "2023-02-24T00:00:00",
          "2023-02-27T00:00:00",
          "2023-02-28T00:00:00",
          "2023-03-01T00:00:00",
          "2023-03-02T00:00:00",
          "2023-03-03T00:00:00",
          "2023-03-06T00:00:00",
          "2023-03-07T00:00:00",
          "2023-03-08T00:00:00",
          "2023-03-09T00:00:00",
          "2023-03-10T00:00:00",
          "2023-03-13T00:00:00",
          "2023-03-14T00:00:00",
          "2023-03-15T00:00:00",
          "2023-03-16T00:00:00",
          "2023-03-17T00:00:00",
          "2023-03-20T00:00:00",
          "2023-03-21T00:00:00",
          "2023-03-22T00:00:00",
          "2023-03-23T00:00:00",
          "2023-03-24T00:00:00",
          "2023-03-27T00:00:00",
          "2023-03-28T00:00:00",
          "2023-03-29T00:00:00",
          "2023-03-30T00:00:00",
          "2023-03-31T00:00:00",
          "2023-04-03T00:00:00",
          "2023-04-04T00:00:00",
          "2023-04-05T00:00:00",
          "2023-04-06T00:00:00",
          "2023-04-10T00:00:00",
          "2023-04-11T00:00:00",
          "2023-04-12T00:00:00",
          "2023-04-13T00:00:00",
          "2023-04-14T00:00:00",
          "2023-04-17T00:00:00",
          "2023-04-18T00:00:00",
          "2023-04-19T00:00:00",
          "2023-04-20T00:00:00",
          "2023-04-21T00:00:00",
          "2023-04-24T00:00:00",
          "2023-04-25T00:00:00",
          "2023-04-26T00:00:00",
          "2023-04-27T00:00:00",
          "2023-04-28T00:00:00",
          "2023-05-01T00:00:00",
          "2023-05-02T00:00:00",
          "2023-05-03T00:00:00",
          "2023-05-04T00:00:00",
          "2023-05-05T00:00:00",
          "2023-05-08T00:00:00",
          "2023-05-09T00:00:00",
          "2023-05-10T00:00:00",
          "2023-05-11T00:00:00",
          "2023-05-12T00:00:00",
          "2023-05-15T00:00:00",
          "2023-05-16T00:00:00",
          "2023-05-17T00:00:00",
          "2023-05-18T00:00:00",
          "2023-05-19T00:00:00",
          "2023-05-22T00:00:00",
          "2023-05-23T00:00:00",
          "2023-05-24T00:00:00",
          "2023-05-25T00:00:00",
          "2023-05-26T00:00:00",
          "2023-05-30T00:00:00",
          "2023-05-31T00:00:00",
          "2023-06-01T00:00:00",
          "2023-06-02T00:00:00",
          "2023-06-05T00:00:00",
          "2023-06-06T00:00:00",
          "2023-06-07T00:00:00",
          "2023-06-08T00:00:00",
          "2023-06-09T00:00:00",
          "2023-06-12T00:00:00",
          "2023-06-13T00:00:00",
          "2023-06-14T00:00:00",
          "2023-06-15T00:00:00",
          "2023-06-16T00:00:00",
          "2023-06-20T00:00:00",
          "2023-06-21T00:00:00",
          "2023-06-22T00:00:00",
          "2023-06-23T00:00:00",
          "2023-06-26T00:00:00",
          "2023-06-27T00:00:00",
          "2023-06-28T00:00:00",
          "2023-06-29T00:00:00",
          "2023-06-30T00:00:00",
          "2023-07-03T00:00:00",
          "2023-07-05T00:00:00",
          "2023-07-06T00:00:00",
          "2023-07-07T00:00:00",
          "2023-07-10T00:00:00",
          "2023-07-11T00:00:00",
          "2023-07-12T00:00:00",
          "2023-07-13T00:00:00",
          "2023-07-14T00:00:00",
          "2023-07-17T00:00:00",
          "2023-07-18T00:00:00",
          "2023-07-19T00:00:00",
          "2023-07-20T00:00:00",
          "2023-07-21T00:00:00",
          "2023-07-24T00:00:00",
          "2023-07-25T00:00:00",
          "2023-07-26T00:00:00",
          "2023-07-27T00:00:00",
          "2023-07-28T00:00:00",
          "2023-07-31T00:00:00",
          "2023-08-01T00:00:00",
          "2023-08-02T00:00:00",
          "2023-08-03T00:00:00",
          "2023-08-04T00:00:00",
          "2023-08-07T00:00:00",
          "2023-08-08T00:00:00",
          "2023-08-09T00:00:00",
          "2023-08-10T00:00:00",
          "2023-08-11T00:00:00",
          "2023-08-14T00:00:00",
          "2023-08-15T00:00:00",
          "2023-08-16T00:00:00",
          "2023-08-17T00:00:00",
          "2023-08-18T00:00:00",
          "2023-08-21T00:00:00",
          "2023-08-22T00:00:00",
          "2023-08-23T00:00:00",
          "2023-08-24T00:00:00",
          "2023-08-25T00:00:00",
          "2023-08-28T00:00:00",
          "2023-08-29T00:00:00",
          "2023-08-30T00:00:00",
          "2023-08-31T00:00:00",
          "2023-09-01T00:00:00",
          "2023-09-05T00:00:00",
          "2023-09-06T00:00:00",
          "2023-09-07T00:00:00",
          "2023-09-08T00:00:00",
          "2023-09-11T00:00:00",
          "2023-09-12T00:00:00",
          "2023-09-13T00:00:00",
          "2023-09-14T00:00:00",
          "2023-09-15T00:00:00",
          "2023-09-18T00:00:00",
          "2023-09-19T00:00:00",
          "2023-09-20T00:00:00",
          "2023-09-21T00:00:00",
          "2023-09-22T00:00:00",
          "2023-09-25T00:00:00",
          "2023-09-26T00:00:00",
          "2023-09-27T00:00:00",
          "2023-09-28T00:00:00",
          "2023-09-29T00:00:00",
          "2023-10-02T00:00:00",
          "2023-10-03T00:00:00",
          "2023-10-04T00:00:00",
          "2023-10-05T00:00:00",
          "2023-10-06T00:00:00",
          "2023-10-09T00:00:00",
          "2023-10-10T00:00:00",
          "2023-10-11T00:00:00",
          "2023-10-12T00:00:00",
          "2023-10-13T00:00:00",
          "2023-10-16T00:00:00",
          "2023-10-17T00:00:00",
          "2023-10-18T00:00:00",
          "2023-10-19T00:00:00",
          "2023-10-20T00:00:00",
          "2023-10-23T00:00:00",
          "2023-10-24T00:00:00",
          "2023-10-25T00:00:00",
          "2023-10-26T00:00:00",
          "2023-10-27T00:00:00",
          "2023-10-30T00:00:00",
          "2023-10-31T00:00:00",
          "2023-11-01T00:00:00",
          "2023-11-02T00:00:00",
          "2023-11-03T00:00:00",
          "2023-11-06T00:00:00",
          "2023-11-07T00:00:00",
          "2023-11-08T00:00:00",
          "2023-11-09T00:00:00",
          "2023-11-10T00:00:00",
          "2023-11-13T00:00:00",
          "2023-11-14T00:00:00",
          "2023-11-15T00:00:00",
          "2023-11-16T00:00:00",
          "2023-11-17T00:00:00",
          "2023-11-20T00:00:00",
          "2023-11-21T00:00:00",
          "2023-11-22T00:00:00",
          "2023-11-24T00:00:00",
          "2023-11-27T00:00:00",
          "2023-11-28T00:00:00",
          "2023-11-29T00:00:00",
          "2023-11-30T00:00:00",
          "2023-12-01T00:00:00",
          "2023-12-04T00:00:00",
          "2023-12-05T00:00:00",
          "2023-12-06T00:00:00",
          "2023-12-07T00:00:00",
          "2023-12-08T00:00:00",
          "2023-12-11T00:00:00",
          "2023-12-12T00:00:00",
          "2023-12-13T00:00:00",
          "2023-12-14T00:00:00",
          "2023-12-15T00:00:00",
          "2023-12-18T00:00:00",
          "2023-12-19T00:00:00",
          "2023-12-20T00:00:00",
          "2023-12-21T00:00:00",
          "2023-12-22T00:00:00",
          "2023-12-26T00:00:00",
          "2023-12-27T00:00:00",
          "2023-12-28T00:00:00",
          "2023-12-29T00:00:00"
         ],
         "y": [
          47.59048461914063,
          46.541385650634766,
          46.10502624511719,
          47.27482604980469,
          44.92593765258789,
          44.211063385009766,
          44.0532341003418,
          44.294620513916016,
          44.42459487915039,
          42.78131103515625,
          41.77862548828125,
          41.741485595703125,
          41.88074493408203,
          41.76005172729492,
          41.50938034057617,
          41.84361267089844,
          41.459468841552734,
          41.02847290039063,
          40.80360794067383,
          41.37514114379883,
          41.19712829589844,
          41.54378890991211,
          41.28144836425781,
          41.0003662109375,
          40.84109115600586,
          41.20649337768555,
          40.60685348510742,
          41.11280059814453,
          41.21586608886719,
          40.962890625,
          40.58811569213867,
          40.24145126342773,
          40.48505401611328,
          40.0072135925293,
          39.7073974609375,
          39.6324348449707,
          39.11712265014648,
          38.20829391479492,
          38.01153564453125,
          37.64613342285156,
          38.05838394165039,
          38.554962158203125,
          38.51748275756836,
          37.796043395996094,
          37.58991241455078,
          36.97153854370117,
          36.905948638916016,
          37.3463134765625,
          37.38379287719727,
          37.73982620239258,
          37.82415008544922,
          37.5711784362793,
          38.23640441894531,
          38.09586334228516,
          37.486854553222656,
          37.64613342285156,
          37.842891693115234,
          37.68361282348633,
          37.46811676025391,
          37.71171951293945,
          37.8335189819336,
          38.22703552246094,
          38.74234771728516,
          38.32072448730469,
          38.92973327636719,
          38.88289260864258,
          39.09838104248047,
          39.15460205078125,
          38.76108551025391,
          38.85478210449219,
          38.59244155883789,
          38.58307266235352,
          37.992794036865234,
          37.70235061645508,
          37.33694076538086,
          37.67424011230469,
          37.39315414428711,
          36.849735260009766,
          36.19388198852539,
          36.29694366455078,
          36.43748092651367,
          36.737300872802734,
          36.59675979614258,
          36.025230407714844,
          35.8191032409668,
          36.06270980834961,
          36.231353759765625,
          36.053340911865234,
          35.88468933105469,
          35.59109878540039,
          35.37326431274414,
          35.19332504272461,
          35.05126190185547,
          34.805023193359375,
          34.54931640625,
          34.82396697998047,
          36.69917678833008,
          37.54207229614258,
          36.58552932739258,
          35.82786560058594,
          35.61003494262695,
          35.05126190185547,
          36.0078125,
          36.0078125,
          36.32981491088867,
          36.604469299316406,
          36.33928298950195,
          36.83176040649414,
          37.021183013916016,
          36.90753173828125,
          37.78831481933594,
          38.148197174072266,
          37.276893615722656,
          37.64624786376953,
          37.93984603881836,
          37.25794982910156,
          36.84123992919922,
          36.68022918701172,
          36.272987365722656,
          34.93761444091797,
          34.492488861083984,
          34.36936950683594,
          34.20836639404297,
          34.73872756958008,
          34.7103157043457,
          34.530372619628906,
          33.74430084228516,
          33.649593353271484,
          33.79165267944336,
          34.1136589050293,
          34.08524703979492,
          34.15154266357422,
          34.39777755737305,
          33.96212387084961,
          34.32201385498047,
          34.51142883300781,
          34.82396697998047,
          35.420623779296875,
          35.52479934692383,
          35.09861755371094,
          35.24068069458008,
          34.66610336303711,
          34.54160690307617,
          34.53203582763672,
          34.101104736328125,
          33.85211563110352,
          33.51694869995117,
          33.536102294921875,
          34.16813659667969,
          34.12982940673828,
          34.32135772705078,
          34.20643997192383,
          34.51288604736328,
          34.54160690307617,
          33.89042663574219,
          33.97660827636719,
          34.96296310424805,
          35.10660934448242,
          35.441776275634766,
          35.27898406982422,
          35.10660934448242,
          34.62779235839844,
          34.83847427368164,
          34.67567443847656,
          34.618221282958984,
          34.37881851196289,
          33.8808479309082,
          34.26389694213867,
          33.8808479309082,
          32.91364288330078,
          32.82745742797852,
          32.79872512817383,
          32.501861572265625,
          32.70296859741211,
          32.63593292236328,
          32.70296859741211,
          32.62635803222656,
          32.214576721191406,
          32.54975128173828,
          32.1954231262207,
          31.45804786682129,
          31.30483055114746,
          31.582544326782227,
          31.027118682861328,
          30.739830017089844,
          30.73025321960449,
          31.764488220214844,
          32.501861572265625,
          32.463558197021484,
          31.8985595703125,
          32.051780700683594,
          31.726186752319336,
          31.793222427368164,
          31.764488220214844,
          31.707035064697266,
          31.52508354187012,
          30.749406814575195,
          31.860254287719727,
          31.362287521362305,
          30.07906723022461,
          29.868391036987305,
          29.35127067565918,
          29.533218383789062,
          29.14059257507324,
          29.427879333496094,
          29.83966064453125,
          28.83415031433105,
          29.25550651550293,
          29.26508331298828,
          29.21720314025879,
          29.20762634277344,
          29.9354248046875,
          29.858814239501957,
          29.92584800720215,
          29.514068603515625,
          28.805574417114254,
          28.61146545410156,
          28.126197814941406,
          28.397947311401367,
          29.30055046081543,
          28.89292335510254,
          29.038503646850582,
          29.09673500061035,
          29.40730857849121,
          29.42671775817871,
          29.601415634155277,
          29.25201988220215,
          28.81528091430664,
          29.193790435791016,
          29.57229804992676,
          28.058259963989254,
          28.417360305786133,
          28.23295783996582,
          27.941795349121094,
          27.786508560180664,
          27.932090759277344,
          27.79621315002441,
          27.73798179626465,
          25.874547958374023,
          25.36016273498535,
          25.84543228149414,
          26.26276397705078,
          27.33035469055176,
          26.81597137451172,
          27.475934982299805,
          27.56328582763672,
          27.57299041748047,
          27.767099380493164,
          27.941795349121094,
          27.941795349121094
         ]
        },
        {
         "marker": {
          "color": "green",
          "size": 10,
          "symbol": "triangle-up"
         },
         "mode": "markers",
         "name": "Buy Signal",
         "type": "scatter",
         "x": [
          "2023-01-03T00:00:00",
          "2023-01-04T00:00:00",
          "2023-01-05T00:00:00",
          "2023-01-06T00:00:00",
          "2023-01-09T00:00:00",
          "2023-01-10T00:00:00",
          "2023-01-11T00:00:00",
          "2023-01-12T00:00:00",
          "2023-01-13T00:00:00",
          "2023-01-17T00:00:00",
          "2023-01-18T00:00:00",
          "2023-01-19T00:00:00",
          "2023-01-20T00:00:00",
          "2023-01-23T00:00:00",
          "2023-01-24T00:00:00",
          "2023-01-25T00:00:00",
          "2023-01-26T00:00:00",
          "2023-01-27T00:00:00",
          "2023-01-30T00:00:00",
          "2023-01-31T00:00:00",
          "2023-02-01T00:00:00",
          "2023-02-02T00:00:00",
          "2023-02-03T00:00:00",
          "2023-02-06T00:00:00",
          "2023-02-07T00:00:00",
          "2023-02-08T00:00:00",
          "2023-02-09T00:00:00",
          "2023-02-10T00:00:00",
          "2023-02-13T00:00:00",
          "2023-02-14T00:00:00",
          "2023-02-15T00:00:00",
          "2023-02-16T00:00:00",
          "2023-02-17T00:00:00",
          "2023-02-21T00:00:00",
          "2023-02-22T00:00:00",
          "2023-02-23T00:00:00",
          "2023-02-24T00:00:00",
          "2023-02-27T00:00:00",
          "2023-02-28T00:00:00",
          "2023-03-01T00:00:00",
          "2023-03-02T00:00:00",
          "2023-03-03T00:00:00",
          "2023-03-06T00:00:00",
          "2023-03-07T00:00:00",
          "2023-03-08T00:00:00",
          "2023-03-09T00:00:00",
          "2023-03-10T00:00:00",
          "2023-03-13T00:00:00",
          "2023-03-14T00:00:00",
          "2023-03-15T00:00:00",
          "2023-03-16T00:00:00",
          "2023-03-17T00:00:00",
          "2023-03-20T00:00:00",
          "2023-03-21T00:00:00",
          "2023-03-22T00:00:00",
          "2023-03-23T00:00:00",
          "2023-03-24T00:00:00",
          "2023-03-27T00:00:00",
          "2023-03-28T00:00:00",
          "2023-03-29T00:00:00",
          "2023-03-30T00:00:00",
          "2023-04-18T00:00:00",
          "2023-04-19T00:00:00",
          "2023-04-20T00:00:00",
          "2023-04-21T00:00:00",
          "2023-04-24T00:00:00",
          "2023-04-25T00:00:00",
          "2023-04-26T00:00:00",
          "2023-04-27T00:00:00",
          "2023-04-28T00:00:00",
          "2023-05-01T00:00:00",
          "2023-05-02T00:00:00",
          "2023-05-03T00:00:00",
          "2023-05-04T00:00:00",
          "2023-05-05T00:00:00",
          "2023-05-08T00:00:00",
          "2023-05-09T00:00:00",
          "2023-05-10T00:00:00",
          "2023-05-11T00:00:00",
          "2023-05-12T00:00:00",
          "2023-05-15T00:00:00",
          "2023-05-16T00:00:00",
          "2023-05-17T00:00:00",
          "2023-05-18T00:00:00",
          "2023-05-19T00:00:00",
          "2023-05-25T00:00:00",
          "2023-05-26T00:00:00",
          "2023-05-30T00:00:00",
          "2023-06-21T00:00:00",
          "2023-06-22T00:00:00",
          "2023-06-23T00:00:00",
          "2023-06-26T00:00:00",
          "2023-06-27T00:00:00",
          "2023-06-28T00:00:00",
          "2023-06-29T00:00:00",
          "2023-06-30T00:00:00",
          "2023-07-03T00:00:00",
          "2023-07-05T00:00:00",
          "2023-07-06T00:00:00",
          "2023-07-07T00:00:00",
          "2023-07-10T00:00:00",
          "2023-07-11T00:00:00",
          "2023-07-12T00:00:00",
          "2023-07-13T00:00:00",
          "2023-07-14T00:00:00",
          "2023-07-17T00:00:00",
          "2023-07-18T00:00:00",
          "2023-07-19T00:00:00",
          "2023-07-27T00:00:00",
          "2023-07-28T00:00:00",
          "2023-07-31T00:00:00",
          "2023-08-01T00:00:00",
          "2023-08-02T00:00:00",
          "2023-08-03T00:00:00",
          "2023-08-04T00:00:00",
          "2023-08-07T00:00:00",
          "2023-08-08T00:00:00",
          "2023-08-09T00:00:00",
          "2023-08-10T00:00:00",
          "2023-08-15T00:00:00",
          "2023-08-16T00:00:00",
          "2023-08-24T00:00:00",
          "2023-08-28T00:00:00",
          "2023-08-29T00:00:00",
          "2023-08-30T00:00:00",
          "2023-08-31T00:00:00",
          "2023-09-01T00:00:00",
          "2023-09-05T00:00:00",
          "2023-09-06T00:00:00",
          "2023-09-07T00:00:00",
          "2023-09-08T00:00:00",
          "2023-09-11T00:00:00",
          "2023-09-12T00:00:00",
          "2023-09-13T00:00:00",
          "2023-09-14T00:00:00",
          "2023-09-15T00:00:00",
          "2023-09-18T00:00:00",
          "2023-09-19T00:00:00",
          "2023-09-20T00:00:00",
          "2023-09-21T00:00:00",
          "2023-09-22T00:00:00",
          "2023-09-25T00:00:00",
          "2023-09-26T00:00:00",
          "2023-09-27T00:00:00",
          "2023-09-28T00:00:00",
          "2023-09-29T00:00:00",
          "2023-10-04T00:00:00",
          "2023-10-05T00:00:00",
          "2023-10-06T00:00:00",
          "2023-10-09T00:00:00",
          "2023-10-10T00:00:00",
          "2023-10-11T00:00:00",
          "2023-10-12T00:00:00",
          "2023-10-13T00:00:00",
          "2023-10-17T00:00:00",
          "2023-10-18T00:00:00",
          "2023-10-19T00:00:00",
          "2023-10-20T00:00:00",
          "2023-10-23T00:00:00",
          "2023-10-24T00:00:00",
          "2023-10-25T00:00:00",
          "2023-10-26T00:00:00",
          "2023-10-27T00:00:00",
          "2023-10-30T00:00:00",
          "2023-10-31T00:00:00",
          "2023-11-01T00:00:00",
          "2023-11-02T00:00:00",
          "2023-11-03T00:00:00",
          "2023-11-06T00:00:00",
          "2023-11-07T00:00:00",
          "2023-11-08T00:00:00",
          "2023-11-09T00:00:00",
          "2023-11-10T00:00:00",
          "2023-11-13T00:00:00",
          "2023-11-14T00:00:00",
          "2023-11-15T00:00:00",
          "2023-11-16T00:00:00",
          "2023-11-17T00:00:00",
          "2023-11-20T00:00:00",
          "2023-11-27T00:00:00",
          "2023-11-28T00:00:00",
          "2023-11-29T00:00:00",
          "2023-12-01T00:00:00",
          "2023-12-04T00:00:00",
          "2023-12-05T00:00:00",
          "2023-12-06T00:00:00",
          "2023-12-07T00:00:00",
          "2023-12-08T00:00:00",
          "2023-12-11T00:00:00",
          "2023-12-12T00:00:00",
          "2023-12-13T00:00:00",
          "2023-12-14T00:00:00",
          "2023-12-15T00:00:00",
          "2023-12-18T00:00:00",
          "2023-12-19T00:00:00",
          "2023-12-20T00:00:00",
          "2023-12-21T00:00:00",
          "2023-12-22T00:00:00",
          "2023-12-26T00:00:00"
         ],
         "y": [
          47.59048461914063,
          46.541385650634766,
          46.10502624511719,
          47.27482604980469,
          44.92593765258789,
          44.211063385009766,
          44.0532341003418,
          44.294620513916016,
          44.42459487915039,
          42.78131103515625,
          41.77862548828125,
          41.741485595703125,
          41.88074493408203,
          41.76005172729492,
          41.50938034057617,
          41.84361267089844,
          41.459468841552734,
          41.02847290039063,
          40.80360794067383,
          41.37514114379883,
          41.19712829589844,
          41.54378890991211,
          41.28144836425781,
          41.0003662109375,
          40.84109115600586,
          41.20649337768555,
          40.60685348510742,
          41.11280059814453,
          41.21586608886719,
          40.962890625,
          40.58811569213867,
          40.24145126342773,
          40.48505401611328,
          40.0072135925293,
          39.7073974609375,
          39.6324348449707,
          39.11712265014648,
          38.20829391479492,
          38.01153564453125,
          37.64613342285156,
          38.05838394165039,
          38.554962158203125,
          38.51748275756836,
          37.796043395996094,
          37.58991241455078,
          36.97153854370117,
          36.905948638916016,
          37.3463134765625,
          37.38379287719727,
          37.73982620239258,
          37.82415008544922,
          37.5711784362793,
          38.23640441894531,
          38.09586334228516,
          37.486854553222656,
          37.64613342285156,
          37.842891693115234,
          37.68361282348633,
          37.46811676025391,
          37.71171951293945,
          37.8335189819336,
          37.992794036865234,
          37.70235061645508,
          37.33694076538086,
          37.67424011230469,
          37.39315414428711,
          36.849735260009766,
          36.19388198852539,
          36.29694366455078,
          36.43748092651367,
          36.737300872802734,
          36.59675979614258,
          36.025230407714844,
          35.8191032409668,
          36.06270980834961,
          36.231353759765625,
          36.053340911865234,
          35.88468933105469,
          35.59109878540039,
          35.37326431274414,
          35.19332504272461,
          35.05126190185547,
          34.805023193359375,
          34.54931640625,
          34.82396697998047,
          35.82786560058594,
          35.61003494262695,
          35.05126190185547,
          36.84123992919922,
          36.68022918701172,
          36.272987365722656,
          34.93761444091797,
          34.492488861083984,
          34.36936950683594,
          34.20836639404297,
          34.73872756958008,
          34.7103157043457,
          34.530372619628906,
          33.74430084228516,
          33.649593353271484,
          33.79165267944336,
          34.1136589050293,
          34.08524703979492,
          34.15154266357422,
          34.39777755737305,
          33.96212387084961,
          34.32201385498047,
          34.51142883300781,
          34.66610336303711,
          34.54160690307617,
          34.53203582763672,
          34.101104736328125,
          33.85211563110352,
          33.51694869995117,
          33.536102294921875,
          34.16813659667969,
          34.12982940673828,
          34.32135772705078,
          34.20643997192383,
          33.89042663574219,
          33.97660827636719,
          34.62779235839844,
          34.67567443847656,
          34.618221282958984,
          34.37881851196289,
          33.8808479309082,
          34.26389694213867,
          33.8808479309082,
          32.91364288330078,
          32.82745742797852,
          32.79872512817383,
          32.501861572265625,
          32.70296859741211,
          32.63593292236328,
          32.70296859741211,
          32.62635803222656,
          32.214576721191406,
          32.54975128173828,
          32.1954231262207,
          31.45804786682129,
          31.30483055114746,
          31.582544326782227,
          31.027118682861328,
          30.739830017089844,
          30.73025321960449,
          31.764488220214844,
          31.8985595703125,
          32.051780700683594,
          31.726186752319336,
          31.793222427368164,
          31.764488220214844,
          31.707035064697266,
          31.52508354187012,
          30.749406814575195,
          31.362287521362305,
          30.07906723022461,
          29.868391036987305,
          29.35127067565918,
          29.533218383789062,
          29.14059257507324,
          29.427879333496094,
          29.83966064453125,
          28.83415031433105,
          29.25550651550293,
          29.26508331298828,
          29.21720314025879,
          29.20762634277344,
          29.9354248046875,
          29.858814239501957,
          29.92584800720215,
          29.514068603515625,
          28.805574417114254,
          28.61146545410156,
          28.126197814941406,
          28.397947311401367,
          29.30055046081543,
          28.89292335510254,
          29.038503646850582,
          29.09673500061035,
          29.25201988220215,
          28.81528091430664,
          29.193790435791016,
          28.058259963989254,
          28.417360305786133,
          28.23295783996582,
          27.941795349121094,
          27.786508560180664,
          27.932090759277344,
          27.79621315002441,
          27.73798179626465,
          25.874547958374023,
          25.36016273498535,
          25.84543228149414,
          26.26276397705078,
          27.33035469055176,
          26.81597137451172,
          27.475934982299805,
          27.56328582763672,
          27.57299041748047
         ]
        },
        {
         "marker": {
          "color": "red",
          "size": 10,
          "symbol": "triangle-down"
         },
         "mode": "markers",
         "name": "Sell Signal",
         "type": "scatter",
         "x": [
          "2023-03-31T00:00:00",
          "2023-04-03T00:00:00",
          "2023-04-04T00:00:00",
          "2023-04-05T00:00:00",
          "2023-04-06T00:00:00",
          "2023-04-10T00:00:00",
          "2023-04-11T00:00:00",
          "2023-04-12T00:00:00",
          "2023-04-13T00:00:00",
          "2023-04-14T00:00:00",
          "2023-04-17T00:00:00",
          "2023-05-22T00:00:00",
          "2023-05-23T00:00:00",
          "2023-05-24T00:00:00",
          "2023-05-31T00:00:00",
          "2023-06-01T00:00:00",
          "2023-06-02T00:00:00",
          "2023-06-05T00:00:00",
          "2023-06-06T00:00:00",
          "2023-06-07T00:00:00",
          "2023-06-08T00:00:00",
          "2023-06-09T00:00:00",
          "2023-06-12T00:00:00",
          "2023-06-13T00:00:00",
          "2023-06-14T00:00:00",
          "2023-06-15T00:00:00",
          "2023-06-16T00:00:00",
          "2023-06-20T00:00:00",
          "2023-07-20T00:00:00",
          "2023-07-21T00:00:00",
          "2023-07-24T00:00:00",
          "2023-07-25T00:00:00",
          "2023-07-26T00:00:00",
          "2023-08-11T00:00:00",
          "2023-08-14T00:00:00",
          "2023-08-17T00:00:00",
          "2023-08-18T00:00:00",
          "2023-08-21T00:00:00",
          "2023-08-22T00:00:00",
          "2023-08-23T00:00:00",
          "2023-08-25T00:00:00",
          "2023-10-02T00:00:00",
          "2023-10-03T00:00:00",
          "2023-10-16T00:00:00",
          "2023-11-21T00:00:00",
          "2023-11-22T00:00:00",
          "2023-11-24T00:00:00",
          "2023-11-30T00:00:00",
          "2023-12-27T00:00:00",
          "2023-12-28T00:00:00",
          "2023-12-29T00:00:00"
         ],
         "y": [
          38.22703552246094,
          38.74234771728516,
          38.32072448730469,
          38.92973327636719,
          38.88289260864258,
          39.09838104248047,
          39.15460205078125,
          38.76108551025391,
          38.85478210449219,
          38.59244155883789,
          38.58307266235352,
          36.69917678833008,
          37.54207229614258,
          36.58552932739258,
          36.0078125,
          36.0078125,
          36.32981491088867,
          36.604469299316406,
          36.33928298950195,
          36.83176040649414,
          37.021183013916016,
          36.90753173828125,
          37.78831481933594,
          38.148197174072266,
          37.276893615722656,
          37.64624786376953,
          37.93984603881836,
          37.25794982910156,
          34.82396697998047,
          35.420623779296875,
          35.52479934692383,
          35.09861755371094,
          35.24068069458008,
          34.51288604736328,
          34.54160690307617,
          34.96296310424805,
          35.10660934448242,
          35.441776275634766,
          35.27898406982422,
          35.10660934448242,
          34.83847427368164,
          32.501861572265625,
          32.463558197021484,
          31.860254287719727,
          29.40730857849121,
          29.42671775817871,
          29.601415634155277,
          29.57229804992676,
          27.767099380493164,
          27.941795349121094,
          27.941795349121094
         ]
        }
       ],
       "layout": {
        "height": 600,
        "legend": {
         "x": 0,
         "y": 1
        },
        "template": {
         "data": {
          "bar": [
           {
            "error_x": {
             "color": "#f2f5fa"
            },
            "error_y": {
             "color": "#f2f5fa"
            },
            "marker": {
             "line": {
              "color": "rgb(17,17,17)",
              "width": 0.5
             },
             "pattern": {
              "fillmode": "overlay",
              "size": 10,
              "solidity": 0.2
             }
            },
            "type": "bar"
           }
          ],
          "barpolar": [
           {
            "marker": {
             "line": {
              "color": "rgb(17,17,17)",
              "width": 0.5
             },
             "pattern": {
              "fillmode": "overlay",
              "size": 10,
              "solidity": 0.2
             }
            },
            "type": "barpolar"
           }
          ],
          "carpet": [
           {
            "aaxis": {
             "endlinecolor": "#A2B1C6",
             "gridcolor": "#506784",
             "linecolor": "#506784",
             "minorgridcolor": "#506784",
             "startlinecolor": "#A2B1C6"
            },
            "baxis": {
             "endlinecolor": "#A2B1C6",
             "gridcolor": "#506784",
             "linecolor": "#506784",
             "minorgridcolor": "#506784",
             "startlinecolor": "#A2B1C6"
            },
            "type": "carpet"
           }
          ],
          "choropleth": [
           {
            "colorbar": {
             "outlinewidth": 0,
             "ticks": ""
            },
            "type": "choropleth"
           }
          ],
          "contour": [
           {
            "colorbar": {
             "outlinewidth": 0,
             "ticks": ""
            },
            "colorscale": [
             [
              0,
              "#0d0887"
             ],
             [
              0.1111111111111111,
              "#46039f"
             ],
             [
              0.2222222222222222,
              "#7201a8"
             ],
             [
              0.3333333333333333,
              "#9c179e"
             ],
             [
              0.4444444444444444,
              "#bd3786"
             ],
             [
              0.5555555555555556,
              "#d8576b"
             ],
             [
              0.6666666666666666,
              "#ed7953"
             ],
             [
              0.7777777777777778,
              "#fb9f3a"
             ],
             [
              0.8888888888888888,
              "#fdca26"
             ],
             [
              1,
              "#f0f921"
             ]
            ],
            "type": "contour"
           }
          ],
          "contourcarpet": [
           {
            "colorbar": {
             "outlinewidth": 0,
             "ticks": ""
            },
            "type": "contourcarpet"
           }
          ],
          "heatmap": [
           {
            "colorbar": {
             "outlinewidth": 0,
             "ticks": ""
            },
            "colorscale": [
             [
              0,
              "#0d0887"
             ],
             [
              0.1111111111111111,
              "#46039f"
             ],
             [
              0.2222222222222222,
              "#7201a8"
             ],
             [
              0.3333333333333333,
              "#9c179e"
             ],
             [
              0.4444444444444444,
              "#bd3786"
             ],
             [
              0.5555555555555556,
              "#d8576b"
             ],
             [
              0.6666666666666666,
              "#ed7953"
             ],
             [
              0.7777777777777778,
              "#fb9f3a"
             ],
             [
              0.8888888888888888,
              "#fdca26"
             ],
             [
              1,
              "#f0f921"
             ]
            ],
            "type": "heatmap"
           }
          ],
          "heatmapgl": [
           {
            "colorbar": {
             "outlinewidth": 0,
             "ticks": ""
            },
            "colorscale": [
             [
              0,
              "#0d0887"
             ],
             [
              0.1111111111111111,
              "#46039f"
             ],
             [
              0.2222222222222222,
              "#7201a8"
             ],
             [
              0.3333333333333333,
              "#9c179e"
             ],
             [
              0.4444444444444444,
              "#bd3786"
             ],
             [
              0.5555555555555556,
              "#d8576b"
             ],
             [
              0.6666666666666666,
              "#ed7953"
             ],
             [
              0.7777777777777778,
              "#fb9f3a"
             ],
             [
              0.8888888888888888,
              "#fdca26"
             ],
             [
              1,
              "#f0f921"
             ]
            ],
            "type": "heatmapgl"
           }
          ],
          "histogram": [
           {
            "marker": {
             "pattern": {
              "fillmode": "overlay",
              "size": 10,
              "solidity": 0.2
             }
            },
            "type": "histogram"
           }
          ],
          "histogram2d": [
           {
            "colorbar": {
             "outlinewidth": 0,
             "ticks": ""
            },
            "colorscale": [
             [
              0,
              "#0d0887"
             ],
             [
              0.1111111111111111,
              "#46039f"
             ],
             [
              0.2222222222222222,
              "#7201a8"
             ],
             [
              0.3333333333333333,
              "#9c179e"
             ],
             [
              0.4444444444444444,
              "#bd3786"
             ],
             [
              0.5555555555555556,
              "#d8576b"
             ],
             [
              0.6666666666666666,
              "#ed7953"
             ],
             [
              0.7777777777777778,
              "#fb9f3a"
             ],
             [
              0.8888888888888888,
              "#fdca26"
             ],
             [
              1,
              "#f0f921"
             ]
            ],
            "type": "histogram2d"
           }
          ],
          "histogram2dcontour": [
           {
            "colorbar": {
             "outlinewidth": 0,
             "ticks": ""
            },
            "colorscale": [
             [
              0,
              "#0d0887"
             ],
             [
              0.1111111111111111,
              "#46039f"
             ],
             [
              0.2222222222222222,
              "#7201a8"
             ],
             [
              0.3333333333333333,
              "#9c179e"
             ],
             [
              0.4444444444444444,
              "#bd3786"
             ],
             [
              0.5555555555555556,
              "#d8576b"
             ],
             [
              0.6666666666666666,
              "#ed7953"
             ],
             [
              0.7777777777777778,
              "#fb9f3a"
             ],
             [
              0.8888888888888888,
              "#fdca26"
             ],
             [
              1,
              "#f0f921"
             ]
            ],
            "type": "histogram2dcontour"
           }
          ],
          "mesh3d": [
           {
            "colorbar": {
             "outlinewidth": 0,
             "ticks": ""
            },
            "type": "mesh3d"
           }
          ],
          "parcoords": [
           {
            "line": {
             "colorbar": {
              "outlinewidth": 0,
              "ticks": ""
             }
            },
            "type": "parcoords"
           }
          ],
          "pie": [
           {
            "automargin": true,
            "type": "pie"
           }
          ],
          "scatter": [
           {
            "marker": {
             "line": {
              "color": "#283442"
             }
            },
            "type": "scatter"
           }
          ],
          "scatter3d": [
           {
            "line": {
             "colorbar": {
              "outlinewidth": 0,
              "ticks": ""
             }
            },
            "marker": {
             "colorbar": {
              "outlinewidth": 0,
              "ticks": ""
             }
            },
            "type": "scatter3d"
           }
          ],
          "scattercarpet": [
           {
            "marker": {
             "colorbar": {
              "outlinewidth": 0,
              "ticks": ""
             }
            },
            "type": "scattercarpet"
           }
          ],
          "scattergeo": [
           {
            "marker": {
             "colorbar": {
              "outlinewidth": 0,
              "ticks": ""
             }
            },
            "type": "scattergeo"
           }
          ],
          "scattergl": [
           {
            "marker": {
             "line": {
              "color": "#283442"
             }
            },
            "type": "scattergl"
           }
          ],
          "scattermapbox": [
           {
            "marker": {
             "colorbar": {
              "outlinewidth": 0,
              "ticks": ""
             }
            },
            "type": "scattermapbox"
           }
          ],
          "scatterpolar": [
           {
            "marker": {
             "colorbar": {
              "outlinewidth": 0,
              "ticks": ""
             }
            },
            "type": "scatterpolar"
           }
          ],
          "scatterpolargl": [
           {
            "marker": {
             "colorbar": {
              "outlinewidth": 0,
              "ticks": ""
             }
            },
            "type": "scatterpolargl"
           }
          ],
          "scatterternary": [
           {
            "marker": {
             "colorbar": {
              "outlinewidth": 0,
              "ticks": ""
             }
            },
            "type": "scatterternary"
           }
          ],
          "surface": [
           {
            "colorbar": {
             "outlinewidth": 0,
             "ticks": ""
            },
            "colorscale": [
             [
              0,
              "#0d0887"
             ],
             [
              0.1111111111111111,
              "#46039f"
             ],
             [
              0.2222222222222222,
              "#7201a8"
             ],
             [
              0.3333333333333333,
              "#9c179e"
             ],
             [
              0.4444444444444444,
              "#bd3786"
             ],
             [
              0.5555555555555556,
              "#d8576b"
             ],
             [
              0.6666666666666666,
              "#ed7953"
             ],
             [
              0.7777777777777778,
              "#fb9f3a"
             ],
             [
              0.8888888888888888,
              "#fdca26"
             ],
             [
              1,
              "#f0f921"
             ]
            ],
            "type": "surface"
           }
          ],
          "table": [
           {
            "cells": {
             "fill": {
              "color": "#506784"
             },
             "line": {
              "color": "rgb(17,17,17)"
             }
            },
            "header": {
             "fill": {
              "color": "#2a3f5f"
             },
             "line": {
              "color": "rgb(17,17,17)"
             }
            },
            "type": "table"
           }
          ]
         },
         "layout": {
          "annotationdefaults": {
           "arrowcolor": "#f2f5fa",
           "arrowhead": 0,
           "arrowwidth": 1
          },
          "autotypenumbers": "strict",
          "coloraxis": {
           "colorbar": {
            "outlinewidth": 0,
            "ticks": ""
           }
          },
          "colorscale": {
           "diverging": [
            [
             0,
             "#8e0152"
            ],
            [
             0.1,
             "#c51b7d"
            ],
            [
             0.2,
             "#de77ae"
            ],
            [
             0.3,
             "#f1b6da"
            ],
            [
             0.4,
             "#fde0ef"
            ],
            [
             0.5,
             "#f7f7f7"
            ],
            [
             0.6,
             "#e6f5d0"
            ],
            [
             0.7,
             "#b8e186"
            ],
            [
             0.8,
             "#7fbc41"
            ],
            [
             0.9,
             "#4d9221"
            ],
            [
             1,
             "#276419"
            ]
           ],
           "sequential": [
            [
             0,
             "#0d0887"
            ],
            [
             0.1111111111111111,
             "#46039f"
            ],
            [
             0.2222222222222222,
             "#7201a8"
            ],
            [
             0.3333333333333333,
             "#9c179e"
            ],
            [
             0.4444444444444444,
             "#bd3786"
            ],
            [
             0.5555555555555556,
             "#d8576b"
            ],
            [
             0.6666666666666666,
             "#ed7953"
            ],
            [
             0.7777777777777778,
             "#fb9f3a"
            ],
            [
             0.8888888888888888,
             "#fdca26"
            ],
            [
             1,
             "#f0f921"
            ]
           ],
           "sequentialminus": [
            [
             0,
             "#0d0887"
            ],
            [
             0.1111111111111111,
             "#46039f"
            ],
            [
             0.2222222222222222,
             "#7201a8"
            ],
            [
             0.3333333333333333,
             "#9c179e"
            ],
            [
             0.4444444444444444,
             "#bd3786"
            ],
            [
             0.5555555555555556,
             "#d8576b"
            ],
            [
             0.6666666666666666,
             "#ed7953"
            ],
            [
             0.7777777777777778,
             "#fb9f3a"
            ],
            [
             0.8888888888888888,
             "#fdca26"
            ],
            [
             1,
             "#f0f921"
            ]
           ]
          },
          "colorway": [
           "#636efa",
           "#EF553B",
           "#00cc96",
           "#ab63fa",
           "#FFA15A",
           "#19d3f3",
           "#FF6692",
           "#B6E880",
           "#FF97FF",
           "#FECB52"
          ],
          "font": {
           "color": "#f2f5fa"
          },
          "geo": {
           "bgcolor": "rgb(17,17,17)",
           "lakecolor": "rgb(17,17,17)",
           "landcolor": "rgb(17,17,17)",
           "showlakes": true,
           "showland": true,
           "subunitcolor": "#506784"
          },
          "hoverlabel": {
           "align": "left"
          },
          "hovermode": "closest",
          "mapbox": {
           "style": "dark"
          },
          "paper_bgcolor": "rgb(17,17,17)",
          "plot_bgcolor": "rgb(17,17,17)",
          "polar": {
           "angularaxis": {
            "gridcolor": "#506784",
            "linecolor": "#506784",
            "ticks": ""
           },
           "bgcolor": "rgb(17,17,17)",
           "radialaxis": {
            "gridcolor": "#506784",
            "linecolor": "#506784",
            "ticks": ""
           }
          },
          "scene": {
           "xaxis": {
            "backgroundcolor": "rgb(17,17,17)",
            "gridcolor": "#506784",
            "gridwidth": 2,
            "linecolor": "#506784",
            "showbackground": true,
            "ticks": "",
            "zerolinecolor": "#C8D4E3"
           },
           "yaxis": {
            "backgroundcolor": "rgb(17,17,17)",
            "gridcolor": "#506784",
            "gridwidth": 2,
            "linecolor": "#506784",
            "showbackground": true,
            "ticks": "",
            "zerolinecolor": "#C8D4E3"
           },
           "zaxis": {
            "backgroundcolor": "rgb(17,17,17)",
            "gridcolor": "#506784",
            "gridwidth": 2,
            "linecolor": "#506784",
            "showbackground": true,
            "ticks": "",
            "zerolinecolor": "#C8D4E3"
           }
          },
          "shapedefaults": {
           "line": {
            "color": "#f2f5fa"
           }
          },
          "sliderdefaults": {
           "bgcolor": "#C8D4E3",
           "bordercolor": "rgb(17,17,17)",
           "borderwidth": 1,
           "tickwidth": 0
          },
          "ternary": {
           "aaxis": {
            "gridcolor": "#506784",
            "linecolor": "#506784",
            "ticks": ""
           },
           "baxis": {
            "gridcolor": "#506784",
            "linecolor": "#506784",
            "ticks": ""
           },
           "bgcolor": "rgb(17,17,17)",
           "caxis": {
            "gridcolor": "#506784",
            "linecolor": "#506784",
            "ticks": ""
           }
          },
          "title": {
           "x": 0.05
          },
          "updatemenudefaults": {
           "bgcolor": "#506784",
           "borderwidth": 0
          },
          "xaxis": {
           "automargin": true,
           "gridcolor": "#283442",
           "linecolor": "#506784",
           "ticks": "",
           "title": {
            "standoff": 15
           },
           "zerolinecolor": "#283442",
           "zerolinewidth": 2
          },
          "yaxis": {
           "automargin": true,
           "gridcolor": "#283442",
           "linecolor": "#506784",
           "ticks": "",
           "title": {
            "standoff": 15
           },
           "zerolinecolor": "#283442",
           "zerolinewidth": 2
          }
         }
        },
        "title": {
         "text": "PFE Stock Analysis Logistic Signal"
        },
        "width": 1000,
        "xaxis": {
         "rangeslider": {
          "visible": true
         },
         "title": {
          "text": "Date"
         }
        },
        "yaxis": {
         "title": {
          "text": "Price"
         }
        }
       }
      }
     },
     "metadata": {},
     "output_type": "display_data"
    },
    {
     "name": "stdout",
     "output_type": "stream",
     "text": [
      "Gradient WMA RSI Signal : Final Profit: $-3607.88, -36.08%\n"
     ]
    },
    {
     "data": {
      "application/vnd.plotly.v1+json": {
       "config": {
        "plotlyServerURL": "https://plot.ly"
       },
       "data": [
        {
         "line": {
          "color": "blue"
         },
         "mode": "lines",
         "name": "Adj Close",
         "type": "scatter",
         "x": [
          "2023-01-03T00:00:00",
          "2023-01-04T00:00:00",
          "2023-01-05T00:00:00",
          "2023-01-06T00:00:00",
          "2023-01-09T00:00:00",
          "2023-01-10T00:00:00",
          "2023-01-11T00:00:00",
          "2023-01-12T00:00:00",
          "2023-01-13T00:00:00",
          "2023-01-17T00:00:00",
          "2023-01-18T00:00:00",
          "2023-01-19T00:00:00",
          "2023-01-20T00:00:00",
          "2023-01-23T00:00:00",
          "2023-01-24T00:00:00",
          "2023-01-25T00:00:00",
          "2023-01-26T00:00:00",
          "2023-01-27T00:00:00",
          "2023-01-30T00:00:00",
          "2023-01-31T00:00:00",
          "2023-02-01T00:00:00",
          "2023-02-02T00:00:00",
          "2023-02-03T00:00:00",
          "2023-02-06T00:00:00",
          "2023-02-07T00:00:00",
          "2023-02-08T00:00:00",
          "2023-02-09T00:00:00",
          "2023-02-10T00:00:00",
          "2023-02-13T00:00:00",
          "2023-02-14T00:00:00",
          "2023-02-15T00:00:00",
          "2023-02-16T00:00:00",
          "2023-02-17T00:00:00",
          "2023-02-21T00:00:00",
          "2023-02-22T00:00:00",
          "2023-02-23T00:00:00",
          "2023-02-24T00:00:00",
          "2023-02-27T00:00:00",
          "2023-02-28T00:00:00",
          "2023-03-01T00:00:00",
          "2023-03-02T00:00:00",
          "2023-03-03T00:00:00",
          "2023-03-06T00:00:00",
          "2023-03-07T00:00:00",
          "2023-03-08T00:00:00",
          "2023-03-09T00:00:00",
          "2023-03-10T00:00:00",
          "2023-03-13T00:00:00",
          "2023-03-14T00:00:00",
          "2023-03-15T00:00:00",
          "2023-03-16T00:00:00",
          "2023-03-17T00:00:00",
          "2023-03-20T00:00:00",
          "2023-03-21T00:00:00",
          "2023-03-22T00:00:00",
          "2023-03-23T00:00:00",
          "2023-03-24T00:00:00",
          "2023-03-27T00:00:00",
          "2023-03-28T00:00:00",
          "2023-03-29T00:00:00",
          "2023-03-30T00:00:00",
          "2023-03-31T00:00:00",
          "2023-04-03T00:00:00",
          "2023-04-04T00:00:00",
          "2023-04-05T00:00:00",
          "2023-04-06T00:00:00",
          "2023-04-10T00:00:00",
          "2023-04-11T00:00:00",
          "2023-04-12T00:00:00",
          "2023-04-13T00:00:00",
          "2023-04-14T00:00:00",
          "2023-04-17T00:00:00",
          "2023-04-18T00:00:00",
          "2023-04-19T00:00:00",
          "2023-04-20T00:00:00",
          "2023-04-21T00:00:00",
          "2023-04-24T00:00:00",
          "2023-04-25T00:00:00",
          "2023-04-26T00:00:00",
          "2023-04-27T00:00:00",
          "2023-04-28T00:00:00",
          "2023-05-01T00:00:00",
          "2023-05-02T00:00:00",
          "2023-05-03T00:00:00",
          "2023-05-04T00:00:00",
          "2023-05-05T00:00:00",
          "2023-05-08T00:00:00",
          "2023-05-09T00:00:00",
          "2023-05-10T00:00:00",
          "2023-05-11T00:00:00",
          "2023-05-12T00:00:00",
          "2023-05-15T00:00:00",
          "2023-05-16T00:00:00",
          "2023-05-17T00:00:00",
          "2023-05-18T00:00:00",
          "2023-05-19T00:00:00",
          "2023-05-22T00:00:00",
          "2023-05-23T00:00:00",
          "2023-05-24T00:00:00",
          "2023-05-25T00:00:00",
          "2023-05-26T00:00:00",
          "2023-05-30T00:00:00",
          "2023-05-31T00:00:00",
          "2023-06-01T00:00:00",
          "2023-06-02T00:00:00",
          "2023-06-05T00:00:00",
          "2023-06-06T00:00:00",
          "2023-06-07T00:00:00",
          "2023-06-08T00:00:00",
          "2023-06-09T00:00:00",
          "2023-06-12T00:00:00",
          "2023-06-13T00:00:00",
          "2023-06-14T00:00:00",
          "2023-06-15T00:00:00",
          "2023-06-16T00:00:00",
          "2023-06-20T00:00:00",
          "2023-06-21T00:00:00",
          "2023-06-22T00:00:00",
          "2023-06-23T00:00:00",
          "2023-06-26T00:00:00",
          "2023-06-27T00:00:00",
          "2023-06-28T00:00:00",
          "2023-06-29T00:00:00",
          "2023-06-30T00:00:00",
          "2023-07-03T00:00:00",
          "2023-07-05T00:00:00",
          "2023-07-06T00:00:00",
          "2023-07-07T00:00:00",
          "2023-07-10T00:00:00",
          "2023-07-11T00:00:00",
          "2023-07-12T00:00:00",
          "2023-07-13T00:00:00",
          "2023-07-14T00:00:00",
          "2023-07-17T00:00:00",
          "2023-07-18T00:00:00",
          "2023-07-19T00:00:00",
          "2023-07-20T00:00:00",
          "2023-07-21T00:00:00",
          "2023-07-24T00:00:00",
          "2023-07-25T00:00:00",
          "2023-07-26T00:00:00",
          "2023-07-27T00:00:00",
          "2023-07-28T00:00:00",
          "2023-07-31T00:00:00",
          "2023-08-01T00:00:00",
          "2023-08-02T00:00:00",
          "2023-08-03T00:00:00",
          "2023-08-04T00:00:00",
          "2023-08-07T00:00:00",
          "2023-08-08T00:00:00",
          "2023-08-09T00:00:00",
          "2023-08-10T00:00:00",
          "2023-08-11T00:00:00",
          "2023-08-14T00:00:00",
          "2023-08-15T00:00:00",
          "2023-08-16T00:00:00",
          "2023-08-17T00:00:00",
          "2023-08-18T00:00:00",
          "2023-08-21T00:00:00",
          "2023-08-22T00:00:00",
          "2023-08-23T00:00:00",
          "2023-08-24T00:00:00",
          "2023-08-25T00:00:00",
          "2023-08-28T00:00:00",
          "2023-08-29T00:00:00",
          "2023-08-30T00:00:00",
          "2023-08-31T00:00:00",
          "2023-09-01T00:00:00",
          "2023-09-05T00:00:00",
          "2023-09-06T00:00:00",
          "2023-09-07T00:00:00",
          "2023-09-08T00:00:00",
          "2023-09-11T00:00:00",
          "2023-09-12T00:00:00",
          "2023-09-13T00:00:00",
          "2023-09-14T00:00:00",
          "2023-09-15T00:00:00",
          "2023-09-18T00:00:00",
          "2023-09-19T00:00:00",
          "2023-09-20T00:00:00",
          "2023-09-21T00:00:00",
          "2023-09-22T00:00:00",
          "2023-09-25T00:00:00",
          "2023-09-26T00:00:00",
          "2023-09-27T00:00:00",
          "2023-09-28T00:00:00",
          "2023-09-29T00:00:00",
          "2023-10-02T00:00:00",
          "2023-10-03T00:00:00",
          "2023-10-04T00:00:00",
          "2023-10-05T00:00:00",
          "2023-10-06T00:00:00",
          "2023-10-09T00:00:00",
          "2023-10-10T00:00:00",
          "2023-10-11T00:00:00",
          "2023-10-12T00:00:00",
          "2023-10-13T00:00:00",
          "2023-10-16T00:00:00",
          "2023-10-17T00:00:00",
          "2023-10-18T00:00:00",
          "2023-10-19T00:00:00",
          "2023-10-20T00:00:00",
          "2023-10-23T00:00:00",
          "2023-10-24T00:00:00",
          "2023-10-25T00:00:00",
          "2023-10-26T00:00:00",
          "2023-10-27T00:00:00",
          "2023-10-30T00:00:00",
          "2023-10-31T00:00:00",
          "2023-11-01T00:00:00",
          "2023-11-02T00:00:00",
          "2023-11-03T00:00:00",
          "2023-11-06T00:00:00",
          "2023-11-07T00:00:00",
          "2023-11-08T00:00:00",
          "2023-11-09T00:00:00",
          "2023-11-10T00:00:00",
          "2023-11-13T00:00:00",
          "2023-11-14T00:00:00",
          "2023-11-15T00:00:00",
          "2023-11-16T00:00:00",
          "2023-11-17T00:00:00",
          "2023-11-20T00:00:00",
          "2023-11-21T00:00:00",
          "2023-11-22T00:00:00",
          "2023-11-24T00:00:00",
          "2023-11-27T00:00:00",
          "2023-11-28T00:00:00",
          "2023-11-29T00:00:00",
          "2023-11-30T00:00:00",
          "2023-12-01T00:00:00",
          "2023-12-04T00:00:00",
          "2023-12-05T00:00:00",
          "2023-12-06T00:00:00",
          "2023-12-07T00:00:00",
          "2023-12-08T00:00:00",
          "2023-12-11T00:00:00",
          "2023-12-12T00:00:00",
          "2023-12-13T00:00:00",
          "2023-12-14T00:00:00",
          "2023-12-15T00:00:00",
          "2023-12-18T00:00:00",
          "2023-12-19T00:00:00",
          "2023-12-20T00:00:00",
          "2023-12-21T00:00:00",
          "2023-12-22T00:00:00",
          "2023-12-26T00:00:00",
          "2023-12-27T00:00:00",
          "2023-12-28T00:00:00",
          "2023-12-29T00:00:00"
         ],
         "y": [
          47.59048461914063,
          46.541385650634766,
          46.10502624511719,
          47.27482604980469,
          44.92593765258789,
          44.211063385009766,
          44.0532341003418,
          44.294620513916016,
          44.42459487915039,
          42.78131103515625,
          41.77862548828125,
          41.741485595703125,
          41.88074493408203,
          41.76005172729492,
          41.50938034057617,
          41.84361267089844,
          41.459468841552734,
          41.02847290039063,
          40.80360794067383,
          41.37514114379883,
          41.19712829589844,
          41.54378890991211,
          41.28144836425781,
          41.0003662109375,
          40.84109115600586,
          41.20649337768555,
          40.60685348510742,
          41.11280059814453,
          41.21586608886719,
          40.962890625,
          40.58811569213867,
          40.24145126342773,
          40.48505401611328,
          40.0072135925293,
          39.7073974609375,
          39.6324348449707,
          39.11712265014648,
          38.20829391479492,
          38.01153564453125,
          37.64613342285156,
          38.05838394165039,
          38.554962158203125,
          38.51748275756836,
          37.796043395996094,
          37.58991241455078,
          36.97153854370117,
          36.905948638916016,
          37.3463134765625,
          37.38379287719727,
          37.73982620239258,
          37.82415008544922,
          37.5711784362793,
          38.23640441894531,
          38.09586334228516,
          37.486854553222656,
          37.64613342285156,
          37.842891693115234,
          37.68361282348633,
          37.46811676025391,
          37.71171951293945,
          37.8335189819336,
          38.22703552246094,
          38.74234771728516,
          38.32072448730469,
          38.92973327636719,
          38.88289260864258,
          39.09838104248047,
          39.15460205078125,
          38.76108551025391,
          38.85478210449219,
          38.59244155883789,
          38.58307266235352,
          37.992794036865234,
          37.70235061645508,
          37.33694076538086,
          37.67424011230469,
          37.39315414428711,
          36.849735260009766,
          36.19388198852539,
          36.29694366455078,
          36.43748092651367,
          36.737300872802734,
          36.59675979614258,
          36.025230407714844,
          35.8191032409668,
          36.06270980834961,
          36.231353759765625,
          36.053340911865234,
          35.88468933105469,
          35.59109878540039,
          35.37326431274414,
          35.19332504272461,
          35.05126190185547,
          34.805023193359375,
          34.54931640625,
          34.82396697998047,
          36.69917678833008,
          37.54207229614258,
          36.58552932739258,
          35.82786560058594,
          35.61003494262695,
          35.05126190185547,
          36.0078125,
          36.0078125,
          36.32981491088867,
          36.604469299316406,
          36.33928298950195,
          36.83176040649414,
          37.021183013916016,
          36.90753173828125,
          37.78831481933594,
          38.148197174072266,
          37.276893615722656,
          37.64624786376953,
          37.93984603881836,
          37.25794982910156,
          36.84123992919922,
          36.68022918701172,
          36.272987365722656,
          34.93761444091797,
          34.492488861083984,
          34.36936950683594,
          34.20836639404297,
          34.73872756958008,
          34.7103157043457,
          34.530372619628906,
          33.74430084228516,
          33.649593353271484,
          33.79165267944336,
          34.1136589050293,
          34.08524703979492,
          34.15154266357422,
          34.39777755737305,
          33.96212387084961,
          34.32201385498047,
          34.51142883300781,
          34.82396697998047,
          35.420623779296875,
          35.52479934692383,
          35.09861755371094,
          35.24068069458008,
          34.66610336303711,
          34.54160690307617,
          34.53203582763672,
          34.101104736328125,
          33.85211563110352,
          33.51694869995117,
          33.536102294921875,
          34.16813659667969,
          34.12982940673828,
          34.32135772705078,
          34.20643997192383,
          34.51288604736328,
          34.54160690307617,
          33.89042663574219,
          33.97660827636719,
          34.96296310424805,
          35.10660934448242,
          35.441776275634766,
          35.27898406982422,
          35.10660934448242,
          34.62779235839844,
          34.83847427368164,
          34.67567443847656,
          34.618221282958984,
          34.37881851196289,
          33.8808479309082,
          34.26389694213867,
          33.8808479309082,
          32.91364288330078,
          32.82745742797852,
          32.79872512817383,
          32.501861572265625,
          32.70296859741211,
          32.63593292236328,
          32.70296859741211,
          32.62635803222656,
          32.214576721191406,
          32.54975128173828,
          32.1954231262207,
          31.45804786682129,
          31.30483055114746,
          31.582544326782227,
          31.027118682861328,
          30.739830017089844,
          30.73025321960449,
          31.764488220214844,
          32.501861572265625,
          32.463558197021484,
          31.8985595703125,
          32.051780700683594,
          31.726186752319336,
          31.793222427368164,
          31.764488220214844,
          31.707035064697266,
          31.52508354187012,
          30.749406814575195,
          31.860254287719727,
          31.362287521362305,
          30.07906723022461,
          29.868391036987305,
          29.35127067565918,
          29.533218383789062,
          29.14059257507324,
          29.427879333496094,
          29.83966064453125,
          28.83415031433105,
          29.25550651550293,
          29.26508331298828,
          29.21720314025879,
          29.20762634277344,
          29.9354248046875,
          29.858814239501957,
          29.92584800720215,
          29.514068603515625,
          28.805574417114254,
          28.61146545410156,
          28.126197814941406,
          28.397947311401367,
          29.30055046081543,
          28.89292335510254,
          29.038503646850582,
          29.09673500061035,
          29.40730857849121,
          29.42671775817871,
          29.601415634155277,
          29.25201988220215,
          28.81528091430664,
          29.193790435791016,
          29.57229804992676,
          28.058259963989254,
          28.417360305786133,
          28.23295783996582,
          27.941795349121094,
          27.786508560180664,
          27.932090759277344,
          27.79621315002441,
          27.73798179626465,
          25.874547958374023,
          25.36016273498535,
          25.84543228149414,
          26.26276397705078,
          27.33035469055176,
          26.81597137451172,
          27.475934982299805,
          27.56328582763672,
          27.57299041748047,
          27.767099380493164,
          27.941795349121094,
          27.941795349121094
         ]
        },
        {
         "marker": {
          "color": "green",
          "size": 10,
          "symbol": "triangle-up"
         },
         "mode": "markers",
         "name": "Buy Signal",
         "type": "scatter",
         "x": [
          "2023-01-09T00:00:00",
          "2023-01-10T00:00:00",
          "2023-01-11T00:00:00",
          "2023-01-12T00:00:00",
          "2023-01-13T00:00:00",
          "2023-01-17T00:00:00",
          "2023-01-18T00:00:00",
          "2023-01-19T00:00:00",
          "2023-01-20T00:00:00",
          "2023-01-23T00:00:00",
          "2023-01-24T00:00:00",
          "2023-01-25T00:00:00",
          "2023-01-26T00:00:00",
          "2023-01-27T00:00:00",
          "2023-01-30T00:00:00",
          "2023-01-31T00:00:00",
          "2023-02-01T00:00:00",
          "2023-02-02T00:00:00",
          "2023-02-03T00:00:00",
          "2023-02-06T00:00:00",
          "2023-02-07T00:00:00",
          "2023-02-09T00:00:00",
          "2023-02-15T00:00:00",
          "2023-02-16T00:00:00",
          "2023-02-17T00:00:00",
          "2023-02-21T00:00:00",
          "2023-02-22T00:00:00",
          "2023-02-23T00:00:00",
          "2023-02-24T00:00:00",
          "2023-02-27T00:00:00",
          "2023-02-28T00:00:00",
          "2023-03-01T00:00:00",
          "2023-03-02T00:00:00",
          "2023-03-03T00:00:00",
          "2023-03-06T00:00:00",
          "2023-03-07T00:00:00",
          "2023-03-08T00:00:00",
          "2023-03-09T00:00:00",
          "2023-03-10T00:00:00",
          "2023-03-16T00:00:00",
          "2023-04-14T00:00:00",
          "2023-04-17T00:00:00",
          "2023-04-18T00:00:00",
          "2023-04-19T00:00:00",
          "2023-04-25T00:00:00",
          "2023-04-26T00:00:00",
          "2023-04-27T00:00:00",
          "2023-04-28T00:00:00",
          "2023-05-01T00:00:00",
          "2023-05-02T00:00:00",
          "2023-05-03T00:00:00",
          "2023-05-04T00:00:00",
          "2023-05-05T00:00:00",
          "2023-05-08T00:00:00",
          "2023-05-09T00:00:00",
          "2023-05-10T00:00:00",
          "2023-05-11T00:00:00",
          "2023-05-12T00:00:00",
          "2023-05-15T00:00:00",
          "2023-05-16T00:00:00",
          "2023-05-17T00:00:00",
          "2023-05-18T00:00:00",
          "2023-05-19T00:00:00",
          "2023-05-25T00:00:00",
          "2023-05-26T00:00:00",
          "2023-05-30T00:00:00",
          "2023-06-21T00:00:00",
          "2023-06-22T00:00:00",
          "2023-06-23T00:00:00",
          "2023-06-26T00:00:00",
          "2023-06-27T00:00:00",
          "2023-06-28T00:00:00",
          "2023-06-29T00:00:00",
          "2023-06-30T00:00:00",
          "2023-07-03T00:00:00",
          "2023-07-05T00:00:00",
          "2023-07-06T00:00:00",
          "2023-07-07T00:00:00",
          "2023-07-10T00:00:00",
          "2023-07-11T00:00:00",
          "2023-07-12T00:00:00",
          "2023-07-13T00:00:00",
          "2023-07-14T00:00:00",
          "2023-07-17T00:00:00",
          "2023-07-18T00:00:00",
          "2023-07-19T00:00:00",
          "2023-07-27T00:00:00",
          "2023-07-28T00:00:00",
          "2023-07-31T00:00:00",
          "2023-08-01T00:00:00",
          "2023-08-02T00:00:00",
          "2023-08-03T00:00:00",
          "2023-08-04T00:00:00",
          "2023-08-07T00:00:00",
          "2023-08-08T00:00:00",
          "2023-08-09T00:00:00",
          "2023-08-10T00:00:00",
          "2023-08-11T00:00:00",
          "2023-08-14T00:00:00",
          "2023-08-15T00:00:00",
          "2023-08-16T00:00:00",
          "2023-08-24T00:00:00",
          "2023-08-25T00:00:00",
          "2023-08-29T00:00:00",
          "2023-08-30T00:00:00",
          "2023-08-31T00:00:00",
          "2023-09-01T00:00:00",
          "2023-09-05T00:00:00",
          "2023-09-06T00:00:00",
          "2023-09-07T00:00:00",
          "2023-09-08T00:00:00",
          "2023-09-11T00:00:00",
          "2023-09-12T00:00:00",
          "2023-09-13T00:00:00",
          "2023-09-14T00:00:00",
          "2023-09-15T00:00:00",
          "2023-09-18T00:00:00",
          "2023-09-19T00:00:00",
          "2023-09-20T00:00:00",
          "2023-09-21T00:00:00",
          "2023-09-22T00:00:00",
          "2023-09-25T00:00:00",
          "2023-09-26T00:00:00",
          "2023-09-27T00:00:00",
          "2023-09-28T00:00:00",
          "2023-09-29T00:00:00",
          "2023-10-02T00:00:00",
          "2023-10-04T00:00:00",
          "2023-10-05T00:00:00",
          "2023-10-06T00:00:00",
          "2023-10-09T00:00:00",
          "2023-10-10T00:00:00",
          "2023-10-11T00:00:00",
          "2023-10-12T00:00:00",
          "2023-10-13T00:00:00",
          "2023-10-16T00:00:00",
          "2023-10-17T00:00:00",
          "2023-10-18T00:00:00",
          "2023-10-19T00:00:00",
          "2023-10-20T00:00:00",
          "2023-10-23T00:00:00",
          "2023-10-24T00:00:00",
          "2023-10-25T00:00:00",
          "2023-10-26T00:00:00",
          "2023-10-27T00:00:00",
          "2023-10-30T00:00:00",
          "2023-10-31T00:00:00",
          "2023-11-01T00:00:00",
          "2023-11-02T00:00:00",
          "2023-11-03T00:00:00",
          "2023-11-06T00:00:00",
          "2023-11-08T00:00:00",
          "2023-11-09T00:00:00",
          "2023-11-10T00:00:00",
          "2023-11-13T00:00:00",
          "2023-11-14T00:00:00",
          "2023-11-15T00:00:00",
          "2023-11-16T00:00:00",
          "2023-11-17T00:00:00",
          "2023-11-20T00:00:00",
          "2023-11-21T00:00:00",
          "2023-11-22T00:00:00",
          "2023-11-24T00:00:00",
          "2023-11-27T00:00:00",
          "2023-11-28T00:00:00",
          "2023-11-29T00:00:00",
          "2023-11-30T00:00:00",
          "2023-12-01T00:00:00",
          "2023-12-04T00:00:00",
          "2023-12-05T00:00:00",
          "2023-12-06T00:00:00",
          "2023-12-07T00:00:00",
          "2023-12-08T00:00:00",
          "2023-12-11T00:00:00",
          "2023-12-12T00:00:00",
          "2023-12-13T00:00:00",
          "2023-12-14T00:00:00",
          "2023-12-15T00:00:00",
          "2023-12-18T00:00:00"
         ],
         "y": [
          44.92593765258789,
          44.211063385009766,
          44.0532341003418,
          44.294620513916016,
          44.42459487915039,
          42.78131103515625,
          41.77862548828125,
          41.741485595703125,
          41.88074493408203,
          41.76005172729492,
          41.50938034057617,
          41.84361267089844,
          41.459468841552734,
          41.02847290039063,
          40.80360794067383,
          41.37514114379883,
          41.19712829589844,
          41.54378890991211,
          41.28144836425781,
          41.0003662109375,
          40.84109115600586,
          40.60685348510742,
          40.58811569213867,
          40.24145126342773,
          40.48505401611328,
          40.0072135925293,
          39.7073974609375,
          39.6324348449707,
          39.11712265014648,
          38.20829391479492,
          38.01153564453125,
          37.64613342285156,
          38.05838394165039,
          38.554962158203125,
          38.51748275756836,
          37.796043395996094,
          37.58991241455078,
          36.97153854370117,
          36.905948638916016,
          37.82415008544922,
          38.59244155883789,
          38.58307266235352,
          37.992794036865234,
          37.70235061645508,
          36.849735260009766,
          36.19388198852539,
          36.29694366455078,
          36.43748092651367,
          36.737300872802734,
          36.59675979614258,
          36.025230407714844,
          35.8191032409668,
          36.06270980834961,
          36.231353759765625,
          36.053340911865234,
          35.88468933105469,
          35.59109878540039,
          35.37326431274414,
          35.19332504272461,
          35.05126190185547,
          34.805023193359375,
          34.54931640625,
          34.82396697998047,
          35.82786560058594,
          35.61003494262695,
          35.05126190185547,
          36.84123992919922,
          36.68022918701172,
          36.272987365722656,
          34.93761444091797,
          34.492488861083984,
          34.36936950683594,
          34.20836639404297,
          34.73872756958008,
          34.7103157043457,
          34.530372619628906,
          33.74430084228516,
          33.649593353271484,
          33.79165267944336,
          34.1136589050293,
          34.08524703979492,
          34.15154266357422,
          34.39777755737305,
          33.96212387084961,
          34.32201385498047,
          34.51142883300781,
          34.66610336303711,
          34.54160690307617,
          34.53203582763672,
          34.101104736328125,
          33.85211563110352,
          33.51694869995117,
          33.536102294921875,
          34.16813659667969,
          34.12982940673828,
          34.32135772705078,
          34.20643997192383,
          34.51288604736328,
          34.54160690307617,
          33.89042663574219,
          33.97660827636719,
          34.62779235839844,
          34.83847427368164,
          34.618221282958984,
          34.37881851196289,
          33.8808479309082,
          34.26389694213867,
          33.8808479309082,
          32.91364288330078,
          32.82745742797852,
          32.79872512817383,
          32.501861572265625,
          32.70296859741211,
          32.63593292236328,
          32.70296859741211,
          32.62635803222656,
          32.214576721191406,
          32.54975128173828,
          32.1954231262207,
          31.45804786682129,
          31.30483055114746,
          31.582544326782227,
          31.027118682861328,
          30.739830017089844,
          30.73025321960449,
          31.764488220214844,
          32.501861572265625,
          31.8985595703125,
          32.051780700683594,
          31.726186752319336,
          31.793222427368164,
          31.764488220214844,
          31.707035064697266,
          31.52508354187012,
          30.749406814575195,
          31.860254287719727,
          31.362287521362305,
          30.07906723022461,
          29.868391036987305,
          29.35127067565918,
          29.533218383789062,
          29.14059257507324,
          29.427879333496094,
          29.83966064453125,
          28.83415031433105,
          29.25550651550293,
          29.26508331298828,
          29.21720314025879,
          29.20762634277344,
          29.9354248046875,
          29.858814239501957,
          29.514068603515625,
          28.805574417114254,
          28.61146545410156,
          28.126197814941406,
          28.397947311401367,
          29.30055046081543,
          28.89292335510254,
          29.038503646850582,
          29.09673500061035,
          29.40730857849121,
          29.42671775817871,
          29.601415634155277,
          29.25201988220215,
          28.81528091430664,
          29.193790435791016,
          29.57229804992676,
          28.058259963989254,
          28.417360305786133,
          28.23295783996582,
          27.941795349121094,
          27.786508560180664,
          27.932090759277344,
          27.79621315002441,
          27.73798179626465,
          25.874547958374023,
          25.36016273498535,
          25.84543228149414,
          26.26276397705078
         ]
        },
        {
         "marker": {
          "color": "red",
          "size": 10,
          "symbol": "triangle-down"
         },
         "mode": "markers",
         "name": "Sell Signal",
         "type": "scatter",
         "x": [
          "2023-01-03T00:00:00",
          "2023-01-04T00:00:00",
          "2023-01-05T00:00:00",
          "2023-01-06T00:00:00",
          "2023-02-08T00:00:00",
          "2023-02-10T00:00:00",
          "2023-02-13T00:00:00",
          "2023-02-14T00:00:00",
          "2023-03-13T00:00:00",
          "2023-03-14T00:00:00",
          "2023-03-15T00:00:00",
          "2023-03-17T00:00:00",
          "2023-03-20T00:00:00",
          "2023-03-21T00:00:00",
          "2023-03-22T00:00:00",
          "2023-03-23T00:00:00",
          "2023-03-24T00:00:00",
          "2023-03-27T00:00:00",
          "2023-03-28T00:00:00",
          "2023-03-29T00:00:00",
          "2023-03-30T00:00:00",
          "2023-03-31T00:00:00",
          "2023-04-03T00:00:00",
          "2023-04-04T00:00:00",
          "2023-04-05T00:00:00",
          "2023-04-06T00:00:00",
          "2023-04-10T00:00:00",
          "2023-04-11T00:00:00",
          "2023-04-12T00:00:00",
          "2023-04-13T00:00:00",
          "2023-04-20T00:00:00",
          "2023-04-21T00:00:00",
          "2023-04-24T00:00:00",
          "2023-05-22T00:00:00",
          "2023-05-23T00:00:00",
          "2023-05-24T00:00:00",
          "2023-05-31T00:00:00",
          "2023-06-01T00:00:00",
          "2023-06-02T00:00:00",
          "2023-06-05T00:00:00",
          "2023-06-06T00:00:00",
          "2023-06-07T00:00:00",
          "2023-06-08T00:00:00",
          "2023-06-09T00:00:00",
          "2023-06-12T00:00:00",
          "2023-06-13T00:00:00",
          "2023-06-14T00:00:00",
          "2023-06-15T00:00:00",
          "2023-06-16T00:00:00",
          "2023-06-20T00:00:00",
          "2023-07-20T00:00:00",
          "2023-07-21T00:00:00",
          "2023-07-24T00:00:00",
          "2023-07-25T00:00:00",
          "2023-07-26T00:00:00",
          "2023-08-17T00:00:00",
          "2023-08-18T00:00:00",
          "2023-08-21T00:00:00",
          "2023-08-22T00:00:00",
          "2023-08-23T00:00:00",
          "2023-08-28T00:00:00",
          "2023-10-03T00:00:00",
          "2023-11-07T00:00:00",
          "2023-12-19T00:00:00",
          "2023-12-20T00:00:00",
          "2023-12-21T00:00:00",
          "2023-12-22T00:00:00",
          "2023-12-26T00:00:00",
          "2023-12-27T00:00:00",
          "2023-12-28T00:00:00",
          "2023-12-29T00:00:00"
         ],
         "y": [
          47.59048461914063,
          46.541385650634766,
          46.10502624511719,
          47.27482604980469,
          41.20649337768555,
          41.11280059814453,
          41.21586608886719,
          40.962890625,
          37.3463134765625,
          37.38379287719727,
          37.73982620239258,
          37.5711784362793,
          38.23640441894531,
          38.09586334228516,
          37.486854553222656,
          37.64613342285156,
          37.842891693115234,
          37.68361282348633,
          37.46811676025391,
          37.71171951293945,
          37.8335189819336,
          38.22703552246094,
          38.74234771728516,
          38.32072448730469,
          38.92973327636719,
          38.88289260864258,
          39.09838104248047,
          39.15460205078125,
          38.76108551025391,
          38.85478210449219,
          37.33694076538086,
          37.67424011230469,
          37.39315414428711,
          36.69917678833008,
          37.54207229614258,
          36.58552932739258,
          36.0078125,
          36.0078125,
          36.32981491088867,
          36.604469299316406,
          36.33928298950195,
          36.83176040649414,
          37.021183013916016,
          36.90753173828125,
          37.78831481933594,
          38.148197174072266,
          37.276893615722656,
          37.64624786376953,
          37.93984603881836,
          37.25794982910156,
          34.82396697998047,
          35.420623779296875,
          35.52479934692383,
          35.09861755371094,
          35.24068069458008,
          34.96296310424805,
          35.10660934448242,
          35.441776275634766,
          35.27898406982422,
          35.10660934448242,
          34.67567443847656,
          32.463558197021484,
          29.92584800720215,
          27.33035469055176,
          26.81597137451172,
          27.475934982299805,
          27.56328582763672,
          27.57299041748047,
          27.767099380493164,
          27.941795349121094,
          27.941795349121094
         ]
        }
       ],
       "layout": {
        "height": 600,
        "legend": {
         "x": 0,
         "y": 1
        },
        "template": {
         "data": {
          "bar": [
           {
            "error_x": {
             "color": "#f2f5fa"
            },
            "error_y": {
             "color": "#f2f5fa"
            },
            "marker": {
             "line": {
              "color": "rgb(17,17,17)",
              "width": 0.5
             },
             "pattern": {
              "fillmode": "overlay",
              "size": 10,
              "solidity": 0.2
             }
            },
            "type": "bar"
           }
          ],
          "barpolar": [
           {
            "marker": {
             "line": {
              "color": "rgb(17,17,17)",
              "width": 0.5
             },
             "pattern": {
              "fillmode": "overlay",
              "size": 10,
              "solidity": 0.2
             }
            },
            "type": "barpolar"
           }
          ],
          "carpet": [
           {
            "aaxis": {
             "endlinecolor": "#A2B1C6",
             "gridcolor": "#506784",
             "linecolor": "#506784",
             "minorgridcolor": "#506784",
             "startlinecolor": "#A2B1C6"
            },
            "baxis": {
             "endlinecolor": "#A2B1C6",
             "gridcolor": "#506784",
             "linecolor": "#506784",
             "minorgridcolor": "#506784",
             "startlinecolor": "#A2B1C6"
            },
            "type": "carpet"
           }
          ],
          "choropleth": [
           {
            "colorbar": {
             "outlinewidth": 0,
             "ticks": ""
            },
            "type": "choropleth"
           }
          ],
          "contour": [
           {
            "colorbar": {
             "outlinewidth": 0,
             "ticks": ""
            },
            "colorscale": [
             [
              0,
              "#0d0887"
             ],
             [
              0.1111111111111111,
              "#46039f"
             ],
             [
              0.2222222222222222,
              "#7201a8"
             ],
             [
              0.3333333333333333,
              "#9c179e"
             ],
             [
              0.4444444444444444,
              "#bd3786"
             ],
             [
              0.5555555555555556,
              "#d8576b"
             ],
             [
              0.6666666666666666,
              "#ed7953"
             ],
             [
              0.7777777777777778,
              "#fb9f3a"
             ],
             [
              0.8888888888888888,
              "#fdca26"
             ],
             [
              1,
              "#f0f921"
             ]
            ],
            "type": "contour"
           }
          ],
          "contourcarpet": [
           {
            "colorbar": {
             "outlinewidth": 0,
             "ticks": ""
            },
            "type": "contourcarpet"
           }
          ],
          "heatmap": [
           {
            "colorbar": {
             "outlinewidth": 0,
             "ticks": ""
            },
            "colorscale": [
             [
              0,
              "#0d0887"
             ],
             [
              0.1111111111111111,
              "#46039f"
             ],
             [
              0.2222222222222222,
              "#7201a8"
             ],
             [
              0.3333333333333333,
              "#9c179e"
             ],
             [
              0.4444444444444444,
              "#bd3786"
             ],
             [
              0.5555555555555556,
              "#d8576b"
             ],
             [
              0.6666666666666666,
              "#ed7953"
             ],
             [
              0.7777777777777778,
              "#fb9f3a"
             ],
             [
              0.8888888888888888,
              "#fdca26"
             ],
             [
              1,
              "#f0f921"
             ]
            ],
            "type": "heatmap"
           }
          ],
          "heatmapgl": [
           {
            "colorbar": {
             "outlinewidth": 0,
             "ticks": ""
            },
            "colorscale": [
             [
              0,
              "#0d0887"
             ],
             [
              0.1111111111111111,
              "#46039f"
             ],
             [
              0.2222222222222222,
              "#7201a8"
             ],
             [
              0.3333333333333333,
              "#9c179e"
             ],
             [
              0.4444444444444444,
              "#bd3786"
             ],
             [
              0.5555555555555556,
              "#d8576b"
             ],
             [
              0.6666666666666666,
              "#ed7953"
             ],
             [
              0.7777777777777778,
              "#fb9f3a"
             ],
             [
              0.8888888888888888,
              "#fdca26"
             ],
             [
              1,
              "#f0f921"
             ]
            ],
            "type": "heatmapgl"
           }
          ],
          "histogram": [
           {
            "marker": {
             "pattern": {
              "fillmode": "overlay",
              "size": 10,
              "solidity": 0.2
             }
            },
            "type": "histogram"
           }
          ],
          "histogram2d": [
           {
            "colorbar": {
             "outlinewidth": 0,
             "ticks": ""
            },
            "colorscale": [
             [
              0,
              "#0d0887"
             ],
             [
              0.1111111111111111,
              "#46039f"
             ],
             [
              0.2222222222222222,
              "#7201a8"
             ],
             [
              0.3333333333333333,
              "#9c179e"
             ],
             [
              0.4444444444444444,
              "#bd3786"
             ],
             [
              0.5555555555555556,
              "#d8576b"
             ],
             [
              0.6666666666666666,
              "#ed7953"
             ],
             [
              0.7777777777777778,
              "#fb9f3a"
             ],
             [
              0.8888888888888888,
              "#fdca26"
             ],
             [
              1,
              "#f0f921"
             ]
            ],
            "type": "histogram2d"
           }
          ],
          "histogram2dcontour": [
           {
            "colorbar": {
             "outlinewidth": 0,
             "ticks": ""
            },
            "colorscale": [
             [
              0,
              "#0d0887"
             ],
             [
              0.1111111111111111,
              "#46039f"
             ],
             [
              0.2222222222222222,
              "#7201a8"
             ],
             [
              0.3333333333333333,
              "#9c179e"
             ],
             [
              0.4444444444444444,
              "#bd3786"
             ],
             [
              0.5555555555555556,
              "#d8576b"
             ],
             [
              0.6666666666666666,
              "#ed7953"
             ],
             [
              0.7777777777777778,
              "#fb9f3a"
             ],
             [
              0.8888888888888888,
              "#fdca26"
             ],
             [
              1,
              "#f0f921"
             ]
            ],
            "type": "histogram2dcontour"
           }
          ],
          "mesh3d": [
           {
            "colorbar": {
             "outlinewidth": 0,
             "ticks": ""
            },
            "type": "mesh3d"
           }
          ],
          "parcoords": [
           {
            "line": {
             "colorbar": {
              "outlinewidth": 0,
              "ticks": ""
             }
            },
            "type": "parcoords"
           }
          ],
          "pie": [
           {
            "automargin": true,
            "type": "pie"
           }
          ],
          "scatter": [
           {
            "marker": {
             "line": {
              "color": "#283442"
             }
            },
            "type": "scatter"
           }
          ],
          "scatter3d": [
           {
            "line": {
             "colorbar": {
              "outlinewidth": 0,
              "ticks": ""
             }
            },
            "marker": {
             "colorbar": {
              "outlinewidth": 0,
              "ticks": ""
             }
            },
            "type": "scatter3d"
           }
          ],
          "scattercarpet": [
           {
            "marker": {
             "colorbar": {
              "outlinewidth": 0,
              "ticks": ""
             }
            },
            "type": "scattercarpet"
           }
          ],
          "scattergeo": [
           {
            "marker": {
             "colorbar": {
              "outlinewidth": 0,
              "ticks": ""
             }
            },
            "type": "scattergeo"
           }
          ],
          "scattergl": [
           {
            "marker": {
             "line": {
              "color": "#283442"
             }
            },
            "type": "scattergl"
           }
          ],
          "scattermapbox": [
           {
            "marker": {
             "colorbar": {
              "outlinewidth": 0,
              "ticks": ""
             }
            },
            "type": "scattermapbox"
           }
          ],
          "scatterpolar": [
           {
            "marker": {
             "colorbar": {
              "outlinewidth": 0,
              "ticks": ""
             }
            },
            "type": "scatterpolar"
           }
          ],
          "scatterpolargl": [
           {
            "marker": {
             "colorbar": {
              "outlinewidth": 0,
              "ticks": ""
             }
            },
            "type": "scatterpolargl"
           }
          ],
          "scatterternary": [
           {
            "marker": {
             "colorbar": {
              "outlinewidth": 0,
              "ticks": ""
             }
            },
            "type": "scatterternary"
           }
          ],
          "surface": [
           {
            "colorbar": {
             "outlinewidth": 0,
             "ticks": ""
            },
            "colorscale": [
             [
              0,
              "#0d0887"
             ],
             [
              0.1111111111111111,
              "#46039f"
             ],
             [
              0.2222222222222222,
              "#7201a8"
             ],
             [
              0.3333333333333333,
              "#9c179e"
             ],
             [
              0.4444444444444444,
              "#bd3786"
             ],
             [
              0.5555555555555556,
              "#d8576b"
             ],
             [
              0.6666666666666666,
              "#ed7953"
             ],
             [
              0.7777777777777778,
              "#fb9f3a"
             ],
             [
              0.8888888888888888,
              "#fdca26"
             ],
             [
              1,
              "#f0f921"
             ]
            ],
            "type": "surface"
           }
          ],
          "table": [
           {
            "cells": {
             "fill": {
              "color": "#506784"
             },
             "line": {
              "color": "rgb(17,17,17)"
             }
            },
            "header": {
             "fill": {
              "color": "#2a3f5f"
             },
             "line": {
              "color": "rgb(17,17,17)"
             }
            },
            "type": "table"
           }
          ]
         },
         "layout": {
          "annotationdefaults": {
           "arrowcolor": "#f2f5fa",
           "arrowhead": 0,
           "arrowwidth": 1
          },
          "autotypenumbers": "strict",
          "coloraxis": {
           "colorbar": {
            "outlinewidth": 0,
            "ticks": ""
           }
          },
          "colorscale": {
           "diverging": [
            [
             0,
             "#8e0152"
            ],
            [
             0.1,
             "#c51b7d"
            ],
            [
             0.2,
             "#de77ae"
            ],
            [
             0.3,
             "#f1b6da"
            ],
            [
             0.4,
             "#fde0ef"
            ],
            [
             0.5,
             "#f7f7f7"
            ],
            [
             0.6,
             "#e6f5d0"
            ],
            [
             0.7,
             "#b8e186"
            ],
            [
             0.8,
             "#7fbc41"
            ],
            [
             0.9,
             "#4d9221"
            ],
            [
             1,
             "#276419"
            ]
           ],
           "sequential": [
            [
             0,
             "#0d0887"
            ],
            [
             0.1111111111111111,
             "#46039f"
            ],
            [
             0.2222222222222222,
             "#7201a8"
            ],
            [
             0.3333333333333333,
             "#9c179e"
            ],
            [
             0.4444444444444444,
             "#bd3786"
            ],
            [
             0.5555555555555556,
             "#d8576b"
            ],
            [
             0.6666666666666666,
             "#ed7953"
            ],
            [
             0.7777777777777778,
             "#fb9f3a"
            ],
            [
             0.8888888888888888,
             "#fdca26"
            ],
            [
             1,
             "#f0f921"
            ]
           ],
           "sequentialminus": [
            [
             0,
             "#0d0887"
            ],
            [
             0.1111111111111111,
             "#46039f"
            ],
            [
             0.2222222222222222,
             "#7201a8"
            ],
            [
             0.3333333333333333,
             "#9c179e"
            ],
            [
             0.4444444444444444,
             "#bd3786"
            ],
            [
             0.5555555555555556,
             "#d8576b"
            ],
            [
             0.6666666666666666,
             "#ed7953"
            ],
            [
             0.7777777777777778,
             "#fb9f3a"
            ],
            [
             0.8888888888888888,
             "#fdca26"
            ],
            [
             1,
             "#f0f921"
            ]
           ]
          },
          "colorway": [
           "#636efa",
           "#EF553B",
           "#00cc96",
           "#ab63fa",
           "#FFA15A",
           "#19d3f3",
           "#FF6692",
           "#B6E880",
           "#FF97FF",
           "#FECB52"
          ],
          "font": {
           "color": "#f2f5fa"
          },
          "geo": {
           "bgcolor": "rgb(17,17,17)",
           "lakecolor": "rgb(17,17,17)",
           "landcolor": "rgb(17,17,17)",
           "showlakes": true,
           "showland": true,
           "subunitcolor": "#506784"
          },
          "hoverlabel": {
           "align": "left"
          },
          "hovermode": "closest",
          "mapbox": {
           "style": "dark"
          },
          "paper_bgcolor": "rgb(17,17,17)",
          "plot_bgcolor": "rgb(17,17,17)",
          "polar": {
           "angularaxis": {
            "gridcolor": "#506784",
            "linecolor": "#506784",
            "ticks": ""
           },
           "bgcolor": "rgb(17,17,17)",
           "radialaxis": {
            "gridcolor": "#506784",
            "linecolor": "#506784",
            "ticks": ""
           }
          },
          "scene": {
           "xaxis": {
            "backgroundcolor": "rgb(17,17,17)",
            "gridcolor": "#506784",
            "gridwidth": 2,
            "linecolor": "#506784",
            "showbackground": true,
            "ticks": "",
            "zerolinecolor": "#C8D4E3"
           },
           "yaxis": {
            "backgroundcolor": "rgb(17,17,17)",
            "gridcolor": "#506784",
            "gridwidth": 2,
            "linecolor": "#506784",
            "showbackground": true,
            "ticks": "",
            "zerolinecolor": "#C8D4E3"
           },
           "zaxis": {
            "backgroundcolor": "rgb(17,17,17)",
            "gridcolor": "#506784",
            "gridwidth": 2,
            "linecolor": "#506784",
            "showbackground": true,
            "ticks": "",
            "zerolinecolor": "#C8D4E3"
           }
          },
          "shapedefaults": {
           "line": {
            "color": "#f2f5fa"
           }
          },
          "sliderdefaults": {
           "bgcolor": "#C8D4E3",
           "bordercolor": "rgb(17,17,17)",
           "borderwidth": 1,
           "tickwidth": 0
          },
          "ternary": {
           "aaxis": {
            "gridcolor": "#506784",
            "linecolor": "#506784",
            "ticks": ""
           },
           "baxis": {
            "gridcolor": "#506784",
            "linecolor": "#506784",
            "ticks": ""
           },
           "bgcolor": "rgb(17,17,17)",
           "caxis": {
            "gridcolor": "#506784",
            "linecolor": "#506784",
            "ticks": ""
           }
          },
          "title": {
           "x": 0.05
          },
          "updatemenudefaults": {
           "bgcolor": "#506784",
           "borderwidth": 0
          },
          "xaxis": {
           "automargin": true,
           "gridcolor": "#283442",
           "linecolor": "#506784",
           "ticks": "",
           "title": {
            "standoff": 15
           },
           "zerolinecolor": "#283442",
           "zerolinewidth": 2
          },
          "yaxis": {
           "automargin": true,
           "gridcolor": "#283442",
           "linecolor": "#506784",
           "ticks": "",
           "title": {
            "standoff": 15
           },
           "zerolinecolor": "#283442",
           "zerolinewidth": 2
          }
         }
        },
        "title": {
         "text": "PFE Stock Analysis Gradient WMA RSI Signal"
        },
        "width": 1000,
        "xaxis": {
         "rangeslider": {
          "visible": true
         },
         "title": {
          "text": "Date"
         }
        },
        "yaxis": {
         "title": {
          "text": "Price"
         }
        }
       }
      }
     },
     "metadata": {},
     "output_type": "display_data"
    },
    {
     "name": "stdout",
     "output_type": "stream",
     "text": [
      "SMA Signal : Final Profit: $-3039.49, -30.39%\n"
     ]
    },
    {
     "data": {
      "application/vnd.plotly.v1+json": {
       "config": {
        "plotlyServerURL": "https://plot.ly"
       },
       "data": [
        {
         "line": {
          "color": "blue"
         },
         "mode": "lines",
         "name": "Adj Close",
         "type": "scatter",
         "x": [
          "2023-01-03T00:00:00",
          "2023-01-04T00:00:00",
          "2023-01-05T00:00:00",
          "2023-01-06T00:00:00",
          "2023-01-09T00:00:00",
          "2023-01-10T00:00:00",
          "2023-01-11T00:00:00",
          "2023-01-12T00:00:00",
          "2023-01-13T00:00:00",
          "2023-01-17T00:00:00",
          "2023-01-18T00:00:00",
          "2023-01-19T00:00:00",
          "2023-01-20T00:00:00",
          "2023-01-23T00:00:00",
          "2023-01-24T00:00:00",
          "2023-01-25T00:00:00",
          "2023-01-26T00:00:00",
          "2023-01-27T00:00:00",
          "2023-01-30T00:00:00",
          "2023-01-31T00:00:00",
          "2023-02-01T00:00:00",
          "2023-02-02T00:00:00",
          "2023-02-03T00:00:00",
          "2023-02-06T00:00:00",
          "2023-02-07T00:00:00",
          "2023-02-08T00:00:00",
          "2023-02-09T00:00:00",
          "2023-02-10T00:00:00",
          "2023-02-13T00:00:00",
          "2023-02-14T00:00:00",
          "2023-02-15T00:00:00",
          "2023-02-16T00:00:00",
          "2023-02-17T00:00:00",
          "2023-02-21T00:00:00",
          "2023-02-22T00:00:00",
          "2023-02-23T00:00:00",
          "2023-02-24T00:00:00",
          "2023-02-27T00:00:00",
          "2023-02-28T00:00:00",
          "2023-03-01T00:00:00",
          "2023-03-02T00:00:00",
          "2023-03-03T00:00:00",
          "2023-03-06T00:00:00",
          "2023-03-07T00:00:00",
          "2023-03-08T00:00:00",
          "2023-03-09T00:00:00",
          "2023-03-10T00:00:00",
          "2023-03-13T00:00:00",
          "2023-03-14T00:00:00",
          "2023-03-15T00:00:00",
          "2023-03-16T00:00:00",
          "2023-03-17T00:00:00",
          "2023-03-20T00:00:00",
          "2023-03-21T00:00:00",
          "2023-03-22T00:00:00",
          "2023-03-23T00:00:00",
          "2023-03-24T00:00:00",
          "2023-03-27T00:00:00",
          "2023-03-28T00:00:00",
          "2023-03-29T00:00:00",
          "2023-03-30T00:00:00",
          "2023-03-31T00:00:00",
          "2023-04-03T00:00:00",
          "2023-04-04T00:00:00",
          "2023-04-05T00:00:00",
          "2023-04-06T00:00:00",
          "2023-04-10T00:00:00",
          "2023-04-11T00:00:00",
          "2023-04-12T00:00:00",
          "2023-04-13T00:00:00",
          "2023-04-14T00:00:00",
          "2023-04-17T00:00:00",
          "2023-04-18T00:00:00",
          "2023-04-19T00:00:00",
          "2023-04-20T00:00:00",
          "2023-04-21T00:00:00",
          "2023-04-24T00:00:00",
          "2023-04-25T00:00:00",
          "2023-04-26T00:00:00",
          "2023-04-27T00:00:00",
          "2023-04-28T00:00:00",
          "2023-05-01T00:00:00",
          "2023-05-02T00:00:00",
          "2023-05-03T00:00:00",
          "2023-05-04T00:00:00",
          "2023-05-05T00:00:00",
          "2023-05-08T00:00:00",
          "2023-05-09T00:00:00",
          "2023-05-10T00:00:00",
          "2023-05-11T00:00:00",
          "2023-05-12T00:00:00",
          "2023-05-15T00:00:00",
          "2023-05-16T00:00:00",
          "2023-05-17T00:00:00",
          "2023-05-18T00:00:00",
          "2023-05-19T00:00:00",
          "2023-05-22T00:00:00",
          "2023-05-23T00:00:00",
          "2023-05-24T00:00:00",
          "2023-05-25T00:00:00",
          "2023-05-26T00:00:00",
          "2023-05-30T00:00:00",
          "2023-05-31T00:00:00",
          "2023-06-01T00:00:00",
          "2023-06-02T00:00:00",
          "2023-06-05T00:00:00",
          "2023-06-06T00:00:00",
          "2023-06-07T00:00:00",
          "2023-06-08T00:00:00",
          "2023-06-09T00:00:00",
          "2023-06-12T00:00:00",
          "2023-06-13T00:00:00",
          "2023-06-14T00:00:00",
          "2023-06-15T00:00:00",
          "2023-06-16T00:00:00",
          "2023-06-20T00:00:00",
          "2023-06-21T00:00:00",
          "2023-06-22T00:00:00",
          "2023-06-23T00:00:00",
          "2023-06-26T00:00:00",
          "2023-06-27T00:00:00",
          "2023-06-28T00:00:00",
          "2023-06-29T00:00:00",
          "2023-06-30T00:00:00",
          "2023-07-03T00:00:00",
          "2023-07-05T00:00:00",
          "2023-07-06T00:00:00",
          "2023-07-07T00:00:00",
          "2023-07-10T00:00:00",
          "2023-07-11T00:00:00",
          "2023-07-12T00:00:00",
          "2023-07-13T00:00:00",
          "2023-07-14T00:00:00",
          "2023-07-17T00:00:00",
          "2023-07-18T00:00:00",
          "2023-07-19T00:00:00",
          "2023-07-20T00:00:00",
          "2023-07-21T00:00:00",
          "2023-07-24T00:00:00",
          "2023-07-25T00:00:00",
          "2023-07-26T00:00:00",
          "2023-07-27T00:00:00",
          "2023-07-28T00:00:00",
          "2023-07-31T00:00:00",
          "2023-08-01T00:00:00",
          "2023-08-02T00:00:00",
          "2023-08-03T00:00:00",
          "2023-08-04T00:00:00",
          "2023-08-07T00:00:00",
          "2023-08-08T00:00:00",
          "2023-08-09T00:00:00",
          "2023-08-10T00:00:00",
          "2023-08-11T00:00:00",
          "2023-08-14T00:00:00",
          "2023-08-15T00:00:00",
          "2023-08-16T00:00:00",
          "2023-08-17T00:00:00",
          "2023-08-18T00:00:00",
          "2023-08-21T00:00:00",
          "2023-08-22T00:00:00",
          "2023-08-23T00:00:00",
          "2023-08-24T00:00:00",
          "2023-08-25T00:00:00",
          "2023-08-28T00:00:00",
          "2023-08-29T00:00:00",
          "2023-08-30T00:00:00",
          "2023-08-31T00:00:00",
          "2023-09-01T00:00:00",
          "2023-09-05T00:00:00",
          "2023-09-06T00:00:00",
          "2023-09-07T00:00:00",
          "2023-09-08T00:00:00",
          "2023-09-11T00:00:00",
          "2023-09-12T00:00:00",
          "2023-09-13T00:00:00",
          "2023-09-14T00:00:00",
          "2023-09-15T00:00:00",
          "2023-09-18T00:00:00",
          "2023-09-19T00:00:00",
          "2023-09-20T00:00:00",
          "2023-09-21T00:00:00",
          "2023-09-22T00:00:00",
          "2023-09-25T00:00:00",
          "2023-09-26T00:00:00",
          "2023-09-27T00:00:00",
          "2023-09-28T00:00:00",
          "2023-09-29T00:00:00",
          "2023-10-02T00:00:00",
          "2023-10-03T00:00:00",
          "2023-10-04T00:00:00",
          "2023-10-05T00:00:00",
          "2023-10-06T00:00:00",
          "2023-10-09T00:00:00",
          "2023-10-10T00:00:00",
          "2023-10-11T00:00:00",
          "2023-10-12T00:00:00",
          "2023-10-13T00:00:00",
          "2023-10-16T00:00:00",
          "2023-10-17T00:00:00",
          "2023-10-18T00:00:00",
          "2023-10-19T00:00:00",
          "2023-10-20T00:00:00",
          "2023-10-23T00:00:00",
          "2023-10-24T00:00:00",
          "2023-10-25T00:00:00",
          "2023-10-26T00:00:00",
          "2023-10-27T00:00:00",
          "2023-10-30T00:00:00",
          "2023-10-31T00:00:00",
          "2023-11-01T00:00:00",
          "2023-11-02T00:00:00",
          "2023-11-03T00:00:00",
          "2023-11-06T00:00:00",
          "2023-11-07T00:00:00",
          "2023-11-08T00:00:00",
          "2023-11-09T00:00:00",
          "2023-11-10T00:00:00",
          "2023-11-13T00:00:00",
          "2023-11-14T00:00:00",
          "2023-11-15T00:00:00",
          "2023-11-16T00:00:00",
          "2023-11-17T00:00:00",
          "2023-11-20T00:00:00",
          "2023-11-21T00:00:00",
          "2023-11-22T00:00:00",
          "2023-11-24T00:00:00",
          "2023-11-27T00:00:00",
          "2023-11-28T00:00:00",
          "2023-11-29T00:00:00",
          "2023-11-30T00:00:00",
          "2023-12-01T00:00:00",
          "2023-12-04T00:00:00",
          "2023-12-05T00:00:00",
          "2023-12-06T00:00:00",
          "2023-12-07T00:00:00",
          "2023-12-08T00:00:00",
          "2023-12-11T00:00:00",
          "2023-12-12T00:00:00",
          "2023-12-13T00:00:00",
          "2023-12-14T00:00:00",
          "2023-12-15T00:00:00",
          "2023-12-18T00:00:00",
          "2023-12-19T00:00:00",
          "2023-12-20T00:00:00",
          "2023-12-21T00:00:00",
          "2023-12-22T00:00:00",
          "2023-12-26T00:00:00",
          "2023-12-27T00:00:00",
          "2023-12-28T00:00:00",
          "2023-12-29T00:00:00"
         ],
         "y": [
          47.59048461914063,
          46.541385650634766,
          46.10502624511719,
          47.27482604980469,
          44.92593765258789,
          44.211063385009766,
          44.0532341003418,
          44.294620513916016,
          44.42459487915039,
          42.78131103515625,
          41.77862548828125,
          41.741485595703125,
          41.88074493408203,
          41.76005172729492,
          41.50938034057617,
          41.84361267089844,
          41.459468841552734,
          41.02847290039063,
          40.80360794067383,
          41.37514114379883,
          41.19712829589844,
          41.54378890991211,
          41.28144836425781,
          41.0003662109375,
          40.84109115600586,
          41.20649337768555,
          40.60685348510742,
          41.11280059814453,
          41.21586608886719,
          40.962890625,
          40.58811569213867,
          40.24145126342773,
          40.48505401611328,
          40.0072135925293,
          39.7073974609375,
          39.6324348449707,
          39.11712265014648,
          38.20829391479492,
          38.01153564453125,
          37.64613342285156,
          38.05838394165039,
          38.554962158203125,
          38.51748275756836,
          37.796043395996094,
          37.58991241455078,
          36.97153854370117,
          36.905948638916016,
          37.3463134765625,
          37.38379287719727,
          37.73982620239258,
          37.82415008544922,
          37.5711784362793,
          38.23640441894531,
          38.09586334228516,
          37.486854553222656,
          37.64613342285156,
          37.842891693115234,
          37.68361282348633,
          37.46811676025391,
          37.71171951293945,
          37.8335189819336,
          38.22703552246094,
          38.74234771728516,
          38.32072448730469,
          38.92973327636719,
          38.88289260864258,
          39.09838104248047,
          39.15460205078125,
          38.76108551025391,
          38.85478210449219,
          38.59244155883789,
          38.58307266235352,
          37.992794036865234,
          37.70235061645508,
          37.33694076538086,
          37.67424011230469,
          37.39315414428711,
          36.849735260009766,
          36.19388198852539,
          36.29694366455078,
          36.43748092651367,
          36.737300872802734,
          36.59675979614258,
          36.025230407714844,
          35.8191032409668,
          36.06270980834961,
          36.231353759765625,
          36.053340911865234,
          35.88468933105469,
          35.59109878540039,
          35.37326431274414,
          35.19332504272461,
          35.05126190185547,
          34.805023193359375,
          34.54931640625,
          34.82396697998047,
          36.69917678833008,
          37.54207229614258,
          36.58552932739258,
          35.82786560058594,
          35.61003494262695,
          35.05126190185547,
          36.0078125,
          36.0078125,
          36.32981491088867,
          36.604469299316406,
          36.33928298950195,
          36.83176040649414,
          37.021183013916016,
          36.90753173828125,
          37.78831481933594,
          38.148197174072266,
          37.276893615722656,
          37.64624786376953,
          37.93984603881836,
          37.25794982910156,
          36.84123992919922,
          36.68022918701172,
          36.272987365722656,
          34.93761444091797,
          34.492488861083984,
          34.36936950683594,
          34.20836639404297,
          34.73872756958008,
          34.7103157043457,
          34.530372619628906,
          33.74430084228516,
          33.649593353271484,
          33.79165267944336,
          34.1136589050293,
          34.08524703979492,
          34.15154266357422,
          34.39777755737305,
          33.96212387084961,
          34.32201385498047,
          34.51142883300781,
          34.82396697998047,
          35.420623779296875,
          35.52479934692383,
          35.09861755371094,
          35.24068069458008,
          34.66610336303711,
          34.54160690307617,
          34.53203582763672,
          34.101104736328125,
          33.85211563110352,
          33.51694869995117,
          33.536102294921875,
          34.16813659667969,
          34.12982940673828,
          34.32135772705078,
          34.20643997192383,
          34.51288604736328,
          34.54160690307617,
          33.89042663574219,
          33.97660827636719,
          34.96296310424805,
          35.10660934448242,
          35.441776275634766,
          35.27898406982422,
          35.10660934448242,
          34.62779235839844,
          34.83847427368164,
          34.67567443847656,
          34.618221282958984,
          34.37881851196289,
          33.8808479309082,
          34.26389694213867,
          33.8808479309082,
          32.91364288330078,
          32.82745742797852,
          32.79872512817383,
          32.501861572265625,
          32.70296859741211,
          32.63593292236328,
          32.70296859741211,
          32.62635803222656,
          32.214576721191406,
          32.54975128173828,
          32.1954231262207,
          31.45804786682129,
          31.30483055114746,
          31.582544326782227,
          31.027118682861328,
          30.739830017089844,
          30.73025321960449,
          31.764488220214844,
          32.501861572265625,
          32.463558197021484,
          31.8985595703125,
          32.051780700683594,
          31.726186752319336,
          31.793222427368164,
          31.764488220214844,
          31.707035064697266,
          31.52508354187012,
          30.749406814575195,
          31.860254287719727,
          31.362287521362305,
          30.07906723022461,
          29.868391036987305,
          29.35127067565918,
          29.533218383789062,
          29.14059257507324,
          29.427879333496094,
          29.83966064453125,
          28.83415031433105,
          29.25550651550293,
          29.26508331298828,
          29.21720314025879,
          29.20762634277344,
          29.9354248046875,
          29.858814239501957,
          29.92584800720215,
          29.514068603515625,
          28.805574417114254,
          28.61146545410156,
          28.126197814941406,
          28.397947311401367,
          29.30055046081543,
          28.89292335510254,
          29.038503646850582,
          29.09673500061035,
          29.40730857849121,
          29.42671775817871,
          29.601415634155277,
          29.25201988220215,
          28.81528091430664,
          29.193790435791016,
          29.57229804992676,
          28.058259963989254,
          28.417360305786133,
          28.23295783996582,
          27.941795349121094,
          27.786508560180664,
          27.932090759277344,
          27.79621315002441,
          27.73798179626465,
          25.874547958374023,
          25.36016273498535,
          25.84543228149414,
          26.26276397705078,
          27.33035469055176,
          26.81597137451172,
          27.475934982299805,
          27.56328582763672,
          27.57299041748047,
          27.767099380493164,
          27.941795349121094,
          27.941795349121094
         ]
        },
        {
         "line": {
          "color": "orange"
         },
         "mode": "lines",
         "name": "SMA",
         "type": "scatter",
         "x": [
          "2023-01-03T00:00:00",
          "2023-01-04T00:00:00",
          "2023-01-05T00:00:00",
          "2023-01-06T00:00:00",
          "2023-01-09T00:00:00",
          "2023-01-10T00:00:00",
          "2023-01-11T00:00:00",
          "2023-01-12T00:00:00",
          "2023-01-13T00:00:00",
          "2023-01-17T00:00:00",
          "2023-01-18T00:00:00",
          "2023-01-19T00:00:00",
          "2023-01-20T00:00:00",
          "2023-01-23T00:00:00",
          "2023-01-24T00:00:00",
          "2023-01-25T00:00:00",
          "2023-01-26T00:00:00",
          "2023-01-27T00:00:00",
          "2023-01-30T00:00:00",
          "2023-01-31T00:00:00",
          "2023-02-01T00:00:00",
          "2023-02-02T00:00:00",
          "2023-02-03T00:00:00",
          "2023-02-06T00:00:00",
          "2023-02-07T00:00:00",
          "2023-02-08T00:00:00",
          "2023-02-09T00:00:00",
          "2023-02-10T00:00:00",
          "2023-02-13T00:00:00",
          "2023-02-14T00:00:00",
          "2023-02-15T00:00:00",
          "2023-02-16T00:00:00",
          "2023-02-17T00:00:00",
          "2023-02-21T00:00:00",
          "2023-02-22T00:00:00",
          "2023-02-23T00:00:00",
          "2023-02-24T00:00:00",
          "2023-02-27T00:00:00",
          "2023-02-28T00:00:00",
          "2023-03-01T00:00:00",
          "2023-03-02T00:00:00",
          "2023-03-03T00:00:00",
          "2023-03-06T00:00:00",
          "2023-03-07T00:00:00",
          "2023-03-08T00:00:00",
          "2023-03-09T00:00:00",
          "2023-03-10T00:00:00",
          "2023-03-13T00:00:00",
          "2023-03-14T00:00:00",
          "2023-03-15T00:00:00",
          "2023-03-16T00:00:00",
          "2023-03-17T00:00:00",
          "2023-03-20T00:00:00",
          "2023-03-21T00:00:00",
          "2023-03-22T00:00:00",
          "2023-03-23T00:00:00",
          "2023-03-24T00:00:00",
          "2023-03-27T00:00:00",
          "2023-03-28T00:00:00",
          "2023-03-29T00:00:00",
          "2023-03-30T00:00:00",
          "2023-03-31T00:00:00",
          "2023-04-03T00:00:00",
          "2023-04-04T00:00:00",
          "2023-04-05T00:00:00",
          "2023-04-06T00:00:00",
          "2023-04-10T00:00:00",
          "2023-04-11T00:00:00",
          "2023-04-12T00:00:00",
          "2023-04-13T00:00:00",
          "2023-04-14T00:00:00",
          "2023-04-17T00:00:00",
          "2023-04-18T00:00:00",
          "2023-04-19T00:00:00",
          "2023-04-20T00:00:00",
          "2023-04-21T00:00:00",
          "2023-04-24T00:00:00",
          "2023-04-25T00:00:00",
          "2023-04-26T00:00:00",
          "2023-04-27T00:00:00",
          "2023-04-28T00:00:00",
          "2023-05-01T00:00:00",
          "2023-05-02T00:00:00",
          "2023-05-03T00:00:00",
          "2023-05-04T00:00:00",
          "2023-05-05T00:00:00",
          "2023-05-08T00:00:00",
          "2023-05-09T00:00:00",
          "2023-05-10T00:00:00",
          "2023-05-11T00:00:00",
          "2023-05-12T00:00:00",
          "2023-05-15T00:00:00",
          "2023-05-16T00:00:00",
          "2023-05-17T00:00:00",
          "2023-05-18T00:00:00",
          "2023-05-19T00:00:00",
          "2023-05-22T00:00:00",
          "2023-05-23T00:00:00",
          "2023-05-24T00:00:00",
          "2023-05-25T00:00:00",
          "2023-05-26T00:00:00",
          "2023-05-30T00:00:00",
          "2023-05-31T00:00:00",
          "2023-06-01T00:00:00",
          "2023-06-02T00:00:00",
          "2023-06-05T00:00:00",
          "2023-06-06T00:00:00",
          "2023-06-07T00:00:00",
          "2023-06-08T00:00:00",
          "2023-06-09T00:00:00",
          "2023-06-12T00:00:00",
          "2023-06-13T00:00:00",
          "2023-06-14T00:00:00",
          "2023-06-15T00:00:00",
          "2023-06-16T00:00:00",
          "2023-06-20T00:00:00",
          "2023-06-21T00:00:00",
          "2023-06-22T00:00:00",
          "2023-06-23T00:00:00",
          "2023-06-26T00:00:00",
          "2023-06-27T00:00:00",
          "2023-06-28T00:00:00",
          "2023-06-29T00:00:00",
          "2023-06-30T00:00:00",
          "2023-07-03T00:00:00",
          "2023-07-05T00:00:00",
          "2023-07-06T00:00:00",
          "2023-07-07T00:00:00",
          "2023-07-10T00:00:00",
          "2023-07-11T00:00:00",
          "2023-07-12T00:00:00",
          "2023-07-13T00:00:00",
          "2023-07-14T00:00:00",
          "2023-07-17T00:00:00",
          "2023-07-18T00:00:00",
          "2023-07-19T00:00:00",
          "2023-07-20T00:00:00",
          "2023-07-21T00:00:00",
          "2023-07-24T00:00:00",
          "2023-07-25T00:00:00",
          "2023-07-26T00:00:00",
          "2023-07-27T00:00:00",
          "2023-07-28T00:00:00",
          "2023-07-31T00:00:00",
          "2023-08-01T00:00:00",
          "2023-08-02T00:00:00",
          "2023-08-03T00:00:00",
          "2023-08-04T00:00:00",
          "2023-08-07T00:00:00",
          "2023-08-08T00:00:00",
          "2023-08-09T00:00:00",
          "2023-08-10T00:00:00",
          "2023-08-11T00:00:00",
          "2023-08-14T00:00:00",
          "2023-08-15T00:00:00",
          "2023-08-16T00:00:00",
          "2023-08-17T00:00:00",
          "2023-08-18T00:00:00",
          "2023-08-21T00:00:00",
          "2023-08-22T00:00:00",
          "2023-08-23T00:00:00",
          "2023-08-24T00:00:00",
          "2023-08-25T00:00:00",
          "2023-08-28T00:00:00",
          "2023-08-29T00:00:00",
          "2023-08-30T00:00:00",
          "2023-08-31T00:00:00",
          "2023-09-01T00:00:00",
          "2023-09-05T00:00:00",
          "2023-09-06T00:00:00",
          "2023-09-07T00:00:00",
          "2023-09-08T00:00:00",
          "2023-09-11T00:00:00",
          "2023-09-12T00:00:00",
          "2023-09-13T00:00:00",
          "2023-09-14T00:00:00",
          "2023-09-15T00:00:00",
          "2023-09-18T00:00:00",
          "2023-09-19T00:00:00",
          "2023-09-20T00:00:00",
          "2023-09-21T00:00:00",
          "2023-09-22T00:00:00",
          "2023-09-25T00:00:00",
          "2023-09-26T00:00:00",
          "2023-09-27T00:00:00",
          "2023-09-28T00:00:00",
          "2023-09-29T00:00:00",
          "2023-10-02T00:00:00",
          "2023-10-03T00:00:00",
          "2023-10-04T00:00:00",
          "2023-10-05T00:00:00",
          "2023-10-06T00:00:00",
          "2023-10-09T00:00:00",
          "2023-10-10T00:00:00",
          "2023-10-11T00:00:00",
          "2023-10-12T00:00:00",
          "2023-10-13T00:00:00",
          "2023-10-16T00:00:00",
          "2023-10-17T00:00:00",
          "2023-10-18T00:00:00",
          "2023-10-19T00:00:00",
          "2023-10-20T00:00:00",
          "2023-10-23T00:00:00",
          "2023-10-24T00:00:00",
          "2023-10-25T00:00:00",
          "2023-10-26T00:00:00",
          "2023-10-27T00:00:00",
          "2023-10-30T00:00:00",
          "2023-10-31T00:00:00",
          "2023-11-01T00:00:00",
          "2023-11-02T00:00:00",
          "2023-11-03T00:00:00",
          "2023-11-06T00:00:00",
          "2023-11-07T00:00:00",
          "2023-11-08T00:00:00",
          "2023-11-09T00:00:00",
          "2023-11-10T00:00:00",
          "2023-11-13T00:00:00",
          "2023-11-14T00:00:00",
          "2023-11-15T00:00:00",
          "2023-11-16T00:00:00",
          "2023-11-17T00:00:00",
          "2023-11-20T00:00:00",
          "2023-11-21T00:00:00",
          "2023-11-22T00:00:00",
          "2023-11-24T00:00:00",
          "2023-11-27T00:00:00",
          "2023-11-28T00:00:00",
          "2023-11-29T00:00:00",
          "2023-11-30T00:00:00",
          "2023-12-01T00:00:00",
          "2023-12-04T00:00:00",
          "2023-12-05T00:00:00",
          "2023-12-06T00:00:00",
          "2023-12-07T00:00:00",
          "2023-12-08T00:00:00",
          "2023-12-11T00:00:00",
          "2023-12-12T00:00:00",
          "2023-12-13T00:00:00",
          "2023-12-14T00:00:00",
          "2023-12-15T00:00:00",
          "2023-12-18T00:00:00",
          "2023-12-19T00:00:00",
          "2023-12-20T00:00:00",
          "2023-12-21T00:00:00",
          "2023-12-22T00:00:00",
          "2023-12-26T00:00:00",
          "2023-12-27T00:00:00",
          "2023-12-28T00:00:00",
          "2023-12-29T00:00:00"
         ],
         "y": [
          47.441613742283415,
          47.47642912183489,
          47.50328690665109,
          47.55998625074114,
          47.520860127040315,
          47.458855220249724,
          47.36999266488211,
          47.258251326424734,
          47.15678868974958,
          47.00260584694998,
          46.84643350328718,
          46.67136124202183,
          46.45019980839321,
          46.22671726771763,
          45.979692867824006,
          45.7144318989345,
          45.388699122837615,
          45.07642078399658,
          44.829389980861116,
          44.60409736633301,
          44.3737735748291,
          44.144556862967356,
          43.90663405827114,
          43.65237276894705,
          43.41563320159912,
          43.20288576398577,
          42.951148986816406,
          42.72046593257359,
          42.49280098506382,
          42.29356901986258,
          42.09653650011335,
          41.84534454345703,
          41.68674155644008,
          41.53660406385149,
          41.381395612444194,
          41.21488898141043,
          41.02533640180315,
          40.86201436179025,
          40.727475438799175,
          40.581212861197336,
          40.44469996861049,
          40.33023248400007,
          40.22337899889265,
          40.07882295336042,
          39.94062450953892,
          39.79573399680002,
          39.656531878880095,
          39.51264517647879,
          39.376454625810894,
          39.240598814828054,
          39.117123876299175,
          38.9946528843471,
          38.90162835802351,
          38.790534428187776,
          38.67910589490618,
          38.55529635293143,
          38.43483298165457,
          38.3177159173148,
          38.2062873840332,
          38.11593982151577,
          38.02124214172363,
          37.95766435350691,
          37.92319829123361,
          37.876351492745535,
          37.869659015110564,
          37.89375182560512,
          37.932567732674734,
          37.98644161224365,
          38.01153809683664,
          38.02224595206125,
          38.02492305210659,
          38.053031240190776,
          38.06741986955915,
          38.09352030072893,
          38.108912876674104,
          38.12062454223633,
          38.120958873203826,
          38.08916991097586,
          38.03094605037144,
          37.98543766566685,
          37.92119039808001,
          37.87267030988421,
          37.84088121141706,
          37.78299181801932,
          37.71071365901402,
          37.65282426561628,
          37.608654158455984,
          37.54942635127476,
          37.4798252923148,
          37.38568469456264,
          37.2653602872576,
          37.15366744995117,
          37.015150615147185,
          36.86951242174421,
          36.70704582759312,
          36.55238028935024,
          36.47874069213867,
          36.43185819898333,
          36.360182762145996,
          36.26178250994001,
          36.176683970860076,
          36.08200223105295,
          36.0345333644322,
          35.97501809256418,
          35.93704169137137,
          35.92828219277518,
          35.933475085667204,
          35.95257568359375,
          35.97342218671526,
          35.97950186048235,
          36.02205739702497,
          36.09787763868059,
          36.14994158063616,
          36.20649651118687,
          36.267514092581614,
          36.310535839625764,
          36.34469836098807,
          36.38359587533133,
          36.415728841509136,
          36.40659632001604,
          36.386640139988494,
          36.37108107975551,
          36.358904293605256,
          36.3558600289481,
          36.28482927594866,
          36.17726857321603,
          36.075796127319336,
          35.99800068991525,
          35.93305846623012,
          35.8995726449149,
          35.83090959276472,
          35.764614241463796,
          35.69561290740967,
          35.601243427821565,
          35.529198101588655,
          35.44632911682129,
          35.367857115609304,
          35.314753259931294,
          35.23391342163086,
          35.12499986376081,
          35.05227797372,
          34.945844241550994,
          34.824478558131624,
          34.72712448665074,
          34.629262515476775,
          34.52825845990862,
          34.42982850755964,
          34.37977450234549,
          34.368190492902485,
          34.359635489327566,
          34.36367089407785,
          34.34466062273298,
          34.337609563555034,
          34.33801078796387,
          34.343229566301616,
          34.354908670697895,
          34.39674118586949,
          34.43220370156424,
          34.48065117427281,
          34.52091693878174,
          34.54623235974993,
          34.57000623430525,
          34.58845124925886,
          34.59431716373989,
          34.58696910313198,
          34.54976177215576,
          34.49104922158377,
          34.46123777117048,
          34.412672315325054,
          34.35008444104876,
          34.28886481693813,
          34.226960863385884,
          34.16984503609793,
          34.12880407060896,
          34.09733922140939,
          34.06758444649832,
          34.012520926339285,
          33.944119044712615,
          33.88084738595145,
          33.80902535574777,
          33.69992399215698,
          33.58432483673096,
          33.50190046855381,
          33.39656155450003,
          33.245735372815815,
          33.089436939784456,
          32.95810522351946,
          32.85892227717808,
          32.76452759334019,
          32.667054993765696,
          32.56753022330148,
          32.46219137736729,
          32.36129856109619,
          32.26792962210519,
          32.19029344831194,
          32.09247868401663,
          31.980641501290457,
          31.943020480019705,
          31.890692983354842,
          31.79356234414237,
          31.699509825025284,
          31.579806327819824,
          31.468995094299316,
          31.341767379215785,
          31.22753599711827,
          31.142717565808976,
          31.01001753125872,
          30.905020509447372,
          30.826700346810476,
          30.752142224993026,
          30.667323725564138,
          30.6283346584865,
          30.596869809286936,
          30.568141051701136,
          30.48776892253331,
          30.355758666992188,
          30.21818392617362,
          30.08345672062465,
          29.95296267100743,
          29.86633280345372,
          29.762750693729945,
          29.66539410182408,
          29.572169099535262,
          29.496534279414586,
          29.449295384543284,
          29.36862257548741,
          29.293255874088832,
          29.248120648520334,
          29.22402776990618,
          29.23192160470145,
          29.17924451828003,
          29.153414794376918,
          29.11073902675084,
          29.042958123343332,
          29.00554234640939,
          28.958277497972762,
          28.90581784929548,
          28.852988515581405,
          28.733950001852854,
          28.570547785077775,
          28.427212715148926,
          28.29638828550066,
          28.21839850289481,
          28.14734125137329,
          28.106786591666086,
          28.08668259211949,
          28.05721984590803,
          28.00245373589652,
          27.96848487854004,
          27.9293167250497
         ]
        },
        {
         "marker": {
          "color": "green",
          "size": 10,
          "symbol": "triangle-up"
         },
         "mode": "markers",
         "name": "Buy Signal",
         "type": "scatter",
         "x": [
          "2023-01-04T00:00:00",
          "2023-01-05T00:00:00",
          "2023-01-06T00:00:00",
          "2023-01-09T00:00:00",
          "2023-01-10T00:00:00",
          "2023-01-11T00:00:00",
          "2023-01-12T00:00:00",
          "2023-01-13T00:00:00",
          "2023-01-17T00:00:00",
          "2023-01-18T00:00:00",
          "2023-01-19T00:00:00",
          "2023-01-20T00:00:00",
          "2023-01-23T00:00:00",
          "2023-01-24T00:00:00",
          "2023-01-25T00:00:00",
          "2023-01-26T00:00:00",
          "2023-01-27T00:00:00",
          "2023-01-30T00:00:00",
          "2023-01-31T00:00:00",
          "2023-02-01T00:00:00",
          "2023-02-02T00:00:00",
          "2023-02-03T00:00:00",
          "2023-02-06T00:00:00",
          "2023-02-07T00:00:00",
          "2023-02-08T00:00:00",
          "2023-02-09T00:00:00",
          "2023-02-10T00:00:00",
          "2023-02-13T00:00:00",
          "2023-02-14T00:00:00",
          "2023-02-15T00:00:00",
          "2023-02-16T00:00:00",
          "2023-02-17T00:00:00",
          "2023-02-21T00:00:00",
          "2023-02-22T00:00:00",
          "2023-02-23T00:00:00",
          "2023-02-24T00:00:00",
          "2023-02-27T00:00:00",
          "2023-02-28T00:00:00",
          "2023-03-01T00:00:00",
          "2023-03-02T00:00:00",
          "2023-03-03T00:00:00",
          "2023-03-06T00:00:00",
          "2023-03-07T00:00:00",
          "2023-03-08T00:00:00",
          "2023-03-09T00:00:00",
          "2023-03-10T00:00:00",
          "2023-03-13T00:00:00",
          "2023-03-14T00:00:00",
          "2023-03-15T00:00:00",
          "2023-03-16T00:00:00",
          "2023-03-17T00:00:00",
          "2023-03-20T00:00:00",
          "2023-03-21T00:00:00",
          "2023-03-22T00:00:00",
          "2023-03-23T00:00:00",
          "2023-03-24T00:00:00",
          "2023-03-27T00:00:00",
          "2023-03-28T00:00:00",
          "2023-03-29T00:00:00",
          "2023-03-30T00:00:00",
          "2023-04-18T00:00:00",
          "2023-04-19T00:00:00",
          "2023-04-20T00:00:00",
          "2023-04-21T00:00:00",
          "2023-04-24T00:00:00",
          "2023-04-25T00:00:00",
          "2023-04-26T00:00:00",
          "2023-04-27T00:00:00",
          "2023-04-28T00:00:00",
          "2023-05-01T00:00:00",
          "2023-05-02T00:00:00",
          "2023-05-03T00:00:00",
          "2023-05-04T00:00:00",
          "2023-05-05T00:00:00",
          "2023-05-08T00:00:00",
          "2023-05-09T00:00:00",
          "2023-05-10T00:00:00",
          "2023-05-11T00:00:00",
          "2023-05-12T00:00:00",
          "2023-05-15T00:00:00",
          "2023-05-16T00:00:00",
          "2023-05-17T00:00:00",
          "2023-05-18T00:00:00",
          "2023-05-19T00:00:00",
          "2023-05-25T00:00:00",
          "2023-05-26T00:00:00",
          "2023-05-30T00:00:00",
          "2023-05-31T00:00:00",
          "2023-06-23T00:00:00",
          "2023-06-26T00:00:00",
          "2023-06-27T00:00:00",
          "2023-06-28T00:00:00",
          "2023-06-29T00:00:00",
          "2023-06-30T00:00:00",
          "2023-07-03T00:00:00",
          "2023-07-05T00:00:00",
          "2023-07-06T00:00:00",
          "2023-07-07T00:00:00",
          "2023-07-10T00:00:00",
          "2023-07-11T00:00:00",
          "2023-07-12T00:00:00",
          "2023-07-13T00:00:00",
          "2023-07-14T00:00:00",
          "2023-07-17T00:00:00",
          "2023-07-18T00:00:00",
          "2023-07-19T00:00:00",
          "2023-07-20T00:00:00",
          "2023-07-25T00:00:00",
          "2023-07-27T00:00:00",
          "2023-07-28T00:00:00",
          "2023-07-31T00:00:00",
          "2023-08-01T00:00:00",
          "2023-08-02T00:00:00",
          "2023-08-03T00:00:00",
          "2023-08-04T00:00:00",
          "2023-08-07T00:00:00",
          "2023-08-08T00:00:00",
          "2023-08-09T00:00:00",
          "2023-08-10T00:00:00",
          "2023-08-15T00:00:00",
          "2023-08-16T00:00:00",
          "2023-08-30T00:00:00",
          "2023-08-31T00:00:00",
          "2023-09-01T00:00:00",
          "2023-09-05T00:00:00",
          "2023-09-06T00:00:00",
          "2023-09-07T00:00:00",
          "2023-09-08T00:00:00",
          "2023-09-11T00:00:00",
          "2023-09-12T00:00:00",
          "2023-09-13T00:00:00",
          "2023-09-14T00:00:00",
          "2023-09-15T00:00:00",
          "2023-09-18T00:00:00",
          "2023-09-19T00:00:00",
          "2023-09-20T00:00:00",
          "2023-09-21T00:00:00",
          "2023-09-22T00:00:00",
          "2023-09-25T00:00:00",
          "2023-09-26T00:00:00",
          "2023-09-27T00:00:00",
          "2023-09-28T00:00:00",
          "2023-09-29T00:00:00",
          "2023-10-02T00:00:00",
          "2023-10-03T00:00:00",
          "2023-10-04T00:00:00",
          "2023-10-05T00:00:00",
          "2023-10-06T00:00:00",
          "2023-10-09T00:00:00",
          "2023-10-10T00:00:00",
          "2023-10-11T00:00:00",
          "2023-10-12T00:00:00",
          "2023-10-13T00:00:00",
          "2023-10-16T00:00:00",
          "2023-10-17T00:00:00",
          "2023-10-18T00:00:00",
          "2023-10-19T00:00:00",
          "2023-10-20T00:00:00",
          "2023-10-23T00:00:00",
          "2023-10-24T00:00:00",
          "2023-10-25T00:00:00",
          "2023-10-26T00:00:00",
          "2023-10-27T00:00:00",
          "2023-10-30T00:00:00",
          "2023-10-31T00:00:00",
          "2023-11-01T00:00:00",
          "2023-11-02T00:00:00",
          "2023-11-03T00:00:00",
          "2023-11-06T00:00:00",
          "2023-11-07T00:00:00",
          "2023-11-08T00:00:00",
          "2023-11-09T00:00:00",
          "2023-11-10T00:00:00",
          "2023-11-13T00:00:00",
          "2023-11-14T00:00:00",
          "2023-11-15T00:00:00",
          "2023-11-16T00:00:00",
          "2023-11-17T00:00:00",
          "2023-11-20T00:00:00",
          "2023-11-21T00:00:00",
          "2023-11-22T00:00:00",
          "2023-11-27T00:00:00",
          "2023-11-28T00:00:00",
          "2023-11-29T00:00:00",
          "2023-12-01T00:00:00",
          "2023-12-04T00:00:00",
          "2023-12-05T00:00:00",
          "2023-12-06T00:00:00",
          "2023-12-07T00:00:00",
          "2023-12-08T00:00:00",
          "2023-12-11T00:00:00",
          "2023-12-12T00:00:00",
          "2023-12-13T00:00:00",
          "2023-12-14T00:00:00",
          "2023-12-15T00:00:00",
          "2023-12-18T00:00:00",
          "2023-12-19T00:00:00",
          "2023-12-20T00:00:00",
          "2023-12-21T00:00:00",
          "2023-12-22T00:00:00",
          "2023-12-26T00:00:00",
          "2023-12-27T00:00:00",
          "2023-12-28T00:00:00"
         ],
         "y": [
          46.541385650634766,
          46.10502624511719,
          47.27482604980469,
          44.92593765258789,
          44.211063385009766,
          44.0532341003418,
          44.294620513916016,
          44.42459487915039,
          42.78131103515625,
          41.77862548828125,
          41.741485595703125,
          41.88074493408203,
          41.76005172729492,
          41.50938034057617,
          41.84361267089844,
          41.459468841552734,
          41.02847290039063,
          40.80360794067383,
          41.37514114379883,
          41.19712829589844,
          41.54378890991211,
          41.28144836425781,
          41.0003662109375,
          40.84109115600586,
          41.20649337768555,
          40.60685348510742,
          41.11280059814453,
          41.21586608886719,
          40.962890625,
          40.58811569213867,
          40.24145126342773,
          40.48505401611328,
          40.0072135925293,
          39.7073974609375,
          39.6324348449707,
          39.11712265014648,
          38.20829391479492,
          38.01153564453125,
          37.64613342285156,
          38.05838394165039,
          38.554962158203125,
          38.51748275756836,
          37.796043395996094,
          37.58991241455078,
          36.97153854370117,
          36.905948638916016,
          37.3463134765625,
          37.38379287719727,
          37.73982620239258,
          37.82415008544922,
          37.5711784362793,
          38.23640441894531,
          38.09586334228516,
          37.486854553222656,
          37.64613342285156,
          37.842891693115234,
          37.68361282348633,
          37.46811676025391,
          37.71171951293945,
          37.8335189819336,
          37.992794036865234,
          37.70235061645508,
          37.33694076538086,
          37.67424011230469,
          37.39315414428711,
          36.849735260009766,
          36.19388198852539,
          36.29694366455078,
          36.43748092651367,
          36.737300872802734,
          36.59675979614258,
          36.025230407714844,
          35.8191032409668,
          36.06270980834961,
          36.231353759765625,
          36.053340911865234,
          35.88468933105469,
          35.59109878540039,
          35.37326431274414,
          35.19332504272461,
          35.05126190185547,
          34.805023193359375,
          34.54931640625,
          34.82396697998047,
          35.82786560058594,
          35.61003494262695,
          35.05126190185547,
          36.0078125,
          36.272987365722656,
          34.93761444091797,
          34.492488861083984,
          34.36936950683594,
          34.20836639404297,
          34.73872756958008,
          34.7103157043457,
          34.530372619628906,
          33.74430084228516,
          33.649593353271484,
          33.79165267944336,
          34.1136589050293,
          34.08524703979492,
          34.15154266357422,
          34.39777755737305,
          33.96212387084961,
          34.32201385498047,
          34.51142883300781,
          34.82396697998047,
          35.09861755371094,
          34.66610336303711,
          34.54160690307617,
          34.53203582763672,
          34.101104736328125,
          33.85211563110352,
          33.51694869995117,
          33.536102294921875,
          34.16813659667969,
          34.12982940673828,
          34.32135772705078,
          34.20643997192383,
          33.89042663574219,
          33.97660827636719,
          34.37881851196289,
          33.8808479309082,
          34.26389694213867,
          33.8808479309082,
          32.91364288330078,
          32.82745742797852,
          32.79872512817383,
          32.501861572265625,
          32.70296859741211,
          32.63593292236328,
          32.70296859741211,
          32.62635803222656,
          32.214576721191406,
          32.54975128173828,
          32.1954231262207,
          31.45804786682129,
          31.30483055114746,
          31.582544326782227,
          31.027118682861328,
          30.739830017089844,
          30.73025321960449,
          31.764488220214844,
          32.501861572265625,
          32.463558197021484,
          31.8985595703125,
          32.051780700683594,
          31.726186752319336,
          31.793222427368164,
          31.764488220214844,
          31.707035064697266,
          31.52508354187012,
          30.749406814575195,
          31.860254287719727,
          31.362287521362305,
          30.07906723022461,
          29.868391036987305,
          29.35127067565918,
          29.533218383789062,
          29.14059257507324,
          29.427879333496094,
          29.83966064453125,
          28.83415031433105,
          29.25550651550293,
          29.26508331298828,
          29.21720314025879,
          29.20762634277344,
          29.9354248046875,
          29.858814239501957,
          29.92584800720215,
          29.514068603515625,
          28.805574417114254,
          28.61146545410156,
          28.126197814941406,
          28.397947311401367,
          29.30055046081543,
          28.89292335510254,
          29.038503646850582,
          29.09673500061035,
          29.40730857849121,
          29.42671775817871,
          29.25201988220215,
          28.81528091430664,
          29.193790435791016,
          28.058259963989254,
          28.417360305786133,
          28.23295783996582,
          27.941795349121094,
          27.786508560180664,
          27.932090759277344,
          27.79621315002441,
          27.73798179626465,
          25.874547958374023,
          25.36016273498535,
          25.84543228149414,
          26.26276397705078,
          27.33035469055176,
          26.81597137451172,
          27.475934982299805,
          27.56328582763672,
          27.57299041748047,
          27.767099380493164,
          27.941795349121094
         ]
        },
        {
         "marker": {
          "color": "red",
          "size": 10,
          "symbol": "triangle-down"
         },
         "mode": "markers",
         "name": "Sell Signal",
         "type": "scatter",
         "x": [
          "2023-01-03T00:00:00",
          "2023-03-31T00:00:00",
          "2023-04-03T00:00:00",
          "2023-04-04T00:00:00",
          "2023-04-05T00:00:00",
          "2023-04-06T00:00:00",
          "2023-04-10T00:00:00",
          "2023-04-11T00:00:00",
          "2023-04-12T00:00:00",
          "2023-04-13T00:00:00",
          "2023-04-14T00:00:00",
          "2023-04-17T00:00:00",
          "2023-05-22T00:00:00",
          "2023-05-23T00:00:00",
          "2023-05-24T00:00:00",
          "2023-06-01T00:00:00",
          "2023-06-02T00:00:00",
          "2023-06-05T00:00:00",
          "2023-06-06T00:00:00",
          "2023-06-07T00:00:00",
          "2023-06-08T00:00:00",
          "2023-06-09T00:00:00",
          "2023-06-12T00:00:00",
          "2023-06-13T00:00:00",
          "2023-06-14T00:00:00",
          "2023-06-15T00:00:00",
          "2023-06-16T00:00:00",
          "2023-06-20T00:00:00",
          "2023-06-21T00:00:00",
          "2023-06-22T00:00:00",
          "2023-07-21T00:00:00",
          "2023-07-24T00:00:00",
          "2023-07-26T00:00:00",
          "2023-08-11T00:00:00",
          "2023-08-14T00:00:00",
          "2023-08-17T00:00:00",
          "2023-08-18T00:00:00",
          "2023-08-21T00:00:00",
          "2023-08-22T00:00:00",
          "2023-08-23T00:00:00",
          "2023-08-24T00:00:00",
          "2023-08-25T00:00:00",
          "2023-08-28T00:00:00",
          "2023-08-29T00:00:00",
          "2023-11-24T00:00:00",
          "2023-11-30T00:00:00",
          "2023-12-29T00:00:00"
         ],
         "y": [
          47.59048461914063,
          38.22703552246094,
          38.74234771728516,
          38.32072448730469,
          38.92973327636719,
          38.88289260864258,
          39.09838104248047,
          39.15460205078125,
          38.76108551025391,
          38.85478210449219,
          38.59244155883789,
          38.58307266235352,
          36.69917678833008,
          37.54207229614258,
          36.58552932739258,
          36.0078125,
          36.32981491088867,
          36.604469299316406,
          36.33928298950195,
          36.83176040649414,
          37.021183013916016,
          36.90753173828125,
          37.78831481933594,
          38.148197174072266,
          37.276893615722656,
          37.64624786376953,
          37.93984603881836,
          37.25794982910156,
          36.84123992919922,
          36.68022918701172,
          35.420623779296875,
          35.52479934692383,
          35.24068069458008,
          34.51288604736328,
          34.54160690307617,
          34.96296310424805,
          35.10660934448242,
          35.441776275634766,
          35.27898406982422,
          35.10660934448242,
          34.62779235839844,
          34.83847427368164,
          34.67567443847656,
          34.618221282958984,
          29.601415634155277,
          29.57229804992676,
          27.941795349121094
         ]
        }
       ],
       "layout": {
        "height": 600,
        "legend": {
         "x": 0,
         "y": 1
        },
        "template": {
         "data": {
          "bar": [
           {
            "error_x": {
             "color": "#f2f5fa"
            },
            "error_y": {
             "color": "#f2f5fa"
            },
            "marker": {
             "line": {
              "color": "rgb(17,17,17)",
              "width": 0.5
             },
             "pattern": {
              "fillmode": "overlay",
              "size": 10,
              "solidity": 0.2
             }
            },
            "type": "bar"
           }
          ],
          "barpolar": [
           {
            "marker": {
             "line": {
              "color": "rgb(17,17,17)",
              "width": 0.5
             },
             "pattern": {
              "fillmode": "overlay",
              "size": 10,
              "solidity": 0.2
             }
            },
            "type": "barpolar"
           }
          ],
          "carpet": [
           {
            "aaxis": {
             "endlinecolor": "#A2B1C6",
             "gridcolor": "#506784",
             "linecolor": "#506784",
             "minorgridcolor": "#506784",
             "startlinecolor": "#A2B1C6"
            },
            "baxis": {
             "endlinecolor": "#A2B1C6",
             "gridcolor": "#506784",
             "linecolor": "#506784",
             "minorgridcolor": "#506784",
             "startlinecolor": "#A2B1C6"
            },
            "type": "carpet"
           }
          ],
          "choropleth": [
           {
            "colorbar": {
             "outlinewidth": 0,
             "ticks": ""
            },
            "type": "choropleth"
           }
          ],
          "contour": [
           {
            "colorbar": {
             "outlinewidth": 0,
             "ticks": ""
            },
            "colorscale": [
             [
              0,
              "#0d0887"
             ],
             [
              0.1111111111111111,
              "#46039f"
             ],
             [
              0.2222222222222222,
              "#7201a8"
             ],
             [
              0.3333333333333333,
              "#9c179e"
             ],
             [
              0.4444444444444444,
              "#bd3786"
             ],
             [
              0.5555555555555556,
              "#d8576b"
             ],
             [
              0.6666666666666666,
              "#ed7953"
             ],
             [
              0.7777777777777778,
              "#fb9f3a"
             ],
             [
              0.8888888888888888,
              "#fdca26"
             ],
             [
              1,
              "#f0f921"
             ]
            ],
            "type": "contour"
           }
          ],
          "contourcarpet": [
           {
            "colorbar": {
             "outlinewidth": 0,
             "ticks": ""
            },
            "type": "contourcarpet"
           }
          ],
          "heatmap": [
           {
            "colorbar": {
             "outlinewidth": 0,
             "ticks": ""
            },
            "colorscale": [
             [
              0,
              "#0d0887"
             ],
             [
              0.1111111111111111,
              "#46039f"
             ],
             [
              0.2222222222222222,
              "#7201a8"
             ],
             [
              0.3333333333333333,
              "#9c179e"
             ],
             [
              0.4444444444444444,
              "#bd3786"
             ],
             [
              0.5555555555555556,
              "#d8576b"
             ],
             [
              0.6666666666666666,
              "#ed7953"
             ],
             [
              0.7777777777777778,
              "#fb9f3a"
             ],
             [
              0.8888888888888888,
              "#fdca26"
             ],
             [
              1,
              "#f0f921"
             ]
            ],
            "type": "heatmap"
           }
          ],
          "heatmapgl": [
           {
            "colorbar": {
             "outlinewidth": 0,
             "ticks": ""
            },
            "colorscale": [
             [
              0,
              "#0d0887"
             ],
             [
              0.1111111111111111,
              "#46039f"
             ],
             [
              0.2222222222222222,
              "#7201a8"
             ],
             [
              0.3333333333333333,
              "#9c179e"
             ],
             [
              0.4444444444444444,
              "#bd3786"
             ],
             [
              0.5555555555555556,
              "#d8576b"
             ],
             [
              0.6666666666666666,
              "#ed7953"
             ],
             [
              0.7777777777777778,
              "#fb9f3a"
             ],
             [
              0.8888888888888888,
              "#fdca26"
             ],
             [
              1,
              "#f0f921"
             ]
            ],
            "type": "heatmapgl"
           }
          ],
          "histogram": [
           {
            "marker": {
             "pattern": {
              "fillmode": "overlay",
              "size": 10,
              "solidity": 0.2
             }
            },
            "type": "histogram"
           }
          ],
          "histogram2d": [
           {
            "colorbar": {
             "outlinewidth": 0,
             "ticks": ""
            },
            "colorscale": [
             [
              0,
              "#0d0887"
             ],
             [
              0.1111111111111111,
              "#46039f"
             ],
             [
              0.2222222222222222,
              "#7201a8"
             ],
             [
              0.3333333333333333,
              "#9c179e"
             ],
             [
              0.4444444444444444,
              "#bd3786"
             ],
             [
              0.5555555555555556,
              "#d8576b"
             ],
             [
              0.6666666666666666,
              "#ed7953"
             ],
             [
              0.7777777777777778,
              "#fb9f3a"
             ],
             [
              0.8888888888888888,
              "#fdca26"
             ],
             [
              1,
              "#f0f921"
             ]
            ],
            "type": "histogram2d"
           }
          ],
          "histogram2dcontour": [
           {
            "colorbar": {
             "outlinewidth": 0,
             "ticks": ""
            },
            "colorscale": [
             [
              0,
              "#0d0887"
             ],
             [
              0.1111111111111111,
              "#46039f"
             ],
             [
              0.2222222222222222,
              "#7201a8"
             ],
             [
              0.3333333333333333,
              "#9c179e"
             ],
             [
              0.4444444444444444,
              "#bd3786"
             ],
             [
              0.5555555555555556,
              "#d8576b"
             ],
             [
              0.6666666666666666,
              "#ed7953"
             ],
             [
              0.7777777777777778,
              "#fb9f3a"
             ],
             [
              0.8888888888888888,
              "#fdca26"
             ],
             [
              1,
              "#f0f921"
             ]
            ],
            "type": "histogram2dcontour"
           }
          ],
          "mesh3d": [
           {
            "colorbar": {
             "outlinewidth": 0,
             "ticks": ""
            },
            "type": "mesh3d"
           }
          ],
          "parcoords": [
           {
            "line": {
             "colorbar": {
              "outlinewidth": 0,
              "ticks": ""
             }
            },
            "type": "parcoords"
           }
          ],
          "pie": [
           {
            "automargin": true,
            "type": "pie"
           }
          ],
          "scatter": [
           {
            "marker": {
             "line": {
              "color": "#283442"
             }
            },
            "type": "scatter"
           }
          ],
          "scatter3d": [
           {
            "line": {
             "colorbar": {
              "outlinewidth": 0,
              "ticks": ""
             }
            },
            "marker": {
             "colorbar": {
              "outlinewidth": 0,
              "ticks": ""
             }
            },
            "type": "scatter3d"
           }
          ],
          "scattercarpet": [
           {
            "marker": {
             "colorbar": {
              "outlinewidth": 0,
              "ticks": ""
             }
            },
            "type": "scattercarpet"
           }
          ],
          "scattergeo": [
           {
            "marker": {
             "colorbar": {
              "outlinewidth": 0,
              "ticks": ""
             }
            },
            "type": "scattergeo"
           }
          ],
          "scattergl": [
           {
            "marker": {
             "line": {
              "color": "#283442"
             }
            },
            "type": "scattergl"
           }
          ],
          "scattermapbox": [
           {
            "marker": {
             "colorbar": {
              "outlinewidth": 0,
              "ticks": ""
             }
            },
            "type": "scattermapbox"
           }
          ],
          "scatterpolar": [
           {
            "marker": {
             "colorbar": {
              "outlinewidth": 0,
              "ticks": ""
             }
            },
            "type": "scatterpolar"
           }
          ],
          "scatterpolargl": [
           {
            "marker": {
             "colorbar": {
              "outlinewidth": 0,
              "ticks": ""
             }
            },
            "type": "scatterpolargl"
           }
          ],
          "scatterternary": [
           {
            "marker": {
             "colorbar": {
              "outlinewidth": 0,
              "ticks": ""
             }
            },
            "type": "scatterternary"
           }
          ],
          "surface": [
           {
            "colorbar": {
             "outlinewidth": 0,
             "ticks": ""
            },
            "colorscale": [
             [
              0,
              "#0d0887"
             ],
             [
              0.1111111111111111,
              "#46039f"
             ],
             [
              0.2222222222222222,
              "#7201a8"
             ],
             [
              0.3333333333333333,
              "#9c179e"
             ],
             [
              0.4444444444444444,
              "#bd3786"
             ],
             [
              0.5555555555555556,
              "#d8576b"
             ],
             [
              0.6666666666666666,
              "#ed7953"
             ],
             [
              0.7777777777777778,
              "#fb9f3a"
             ],
             [
              0.8888888888888888,
              "#fdca26"
             ],
             [
              1,
              "#f0f921"
             ]
            ],
            "type": "surface"
           }
          ],
          "table": [
           {
            "cells": {
             "fill": {
              "color": "#506784"
             },
             "line": {
              "color": "rgb(17,17,17)"
             }
            },
            "header": {
             "fill": {
              "color": "#2a3f5f"
             },
             "line": {
              "color": "rgb(17,17,17)"
             }
            },
            "type": "table"
           }
          ]
         },
         "layout": {
          "annotationdefaults": {
           "arrowcolor": "#f2f5fa",
           "arrowhead": 0,
           "arrowwidth": 1
          },
          "autotypenumbers": "strict",
          "coloraxis": {
           "colorbar": {
            "outlinewidth": 0,
            "ticks": ""
           }
          },
          "colorscale": {
           "diverging": [
            [
             0,
             "#8e0152"
            ],
            [
             0.1,
             "#c51b7d"
            ],
            [
             0.2,
             "#de77ae"
            ],
            [
             0.3,
             "#f1b6da"
            ],
            [
             0.4,
             "#fde0ef"
            ],
            [
             0.5,
             "#f7f7f7"
            ],
            [
             0.6,
             "#e6f5d0"
            ],
            [
             0.7,
             "#b8e186"
            ],
            [
             0.8,
             "#7fbc41"
            ],
            [
             0.9,
             "#4d9221"
            ],
            [
             1,
             "#276419"
            ]
           ],
           "sequential": [
            [
             0,
             "#0d0887"
            ],
            [
             0.1111111111111111,
             "#46039f"
            ],
            [
             0.2222222222222222,
             "#7201a8"
            ],
            [
             0.3333333333333333,
             "#9c179e"
            ],
            [
             0.4444444444444444,
             "#bd3786"
            ],
            [
             0.5555555555555556,
             "#d8576b"
            ],
            [
             0.6666666666666666,
             "#ed7953"
            ],
            [
             0.7777777777777778,
             "#fb9f3a"
            ],
            [
             0.8888888888888888,
             "#fdca26"
            ],
            [
             1,
             "#f0f921"
            ]
           ],
           "sequentialminus": [
            [
             0,
             "#0d0887"
            ],
            [
             0.1111111111111111,
             "#46039f"
            ],
            [
             0.2222222222222222,
             "#7201a8"
            ],
            [
             0.3333333333333333,
             "#9c179e"
            ],
            [
             0.4444444444444444,
             "#bd3786"
            ],
            [
             0.5555555555555556,
             "#d8576b"
            ],
            [
             0.6666666666666666,
             "#ed7953"
            ],
            [
             0.7777777777777778,
             "#fb9f3a"
            ],
            [
             0.8888888888888888,
             "#fdca26"
            ],
            [
             1,
             "#f0f921"
            ]
           ]
          },
          "colorway": [
           "#636efa",
           "#EF553B",
           "#00cc96",
           "#ab63fa",
           "#FFA15A",
           "#19d3f3",
           "#FF6692",
           "#B6E880",
           "#FF97FF",
           "#FECB52"
          ],
          "font": {
           "color": "#f2f5fa"
          },
          "geo": {
           "bgcolor": "rgb(17,17,17)",
           "lakecolor": "rgb(17,17,17)",
           "landcolor": "rgb(17,17,17)",
           "showlakes": true,
           "showland": true,
           "subunitcolor": "#506784"
          },
          "hoverlabel": {
           "align": "left"
          },
          "hovermode": "closest",
          "mapbox": {
           "style": "dark"
          },
          "paper_bgcolor": "rgb(17,17,17)",
          "plot_bgcolor": "rgb(17,17,17)",
          "polar": {
           "angularaxis": {
            "gridcolor": "#506784",
            "linecolor": "#506784",
            "ticks": ""
           },
           "bgcolor": "rgb(17,17,17)",
           "radialaxis": {
            "gridcolor": "#506784",
            "linecolor": "#506784",
            "ticks": ""
           }
          },
          "scene": {
           "xaxis": {
            "backgroundcolor": "rgb(17,17,17)",
            "gridcolor": "#506784",
            "gridwidth": 2,
            "linecolor": "#506784",
            "showbackground": true,
            "ticks": "",
            "zerolinecolor": "#C8D4E3"
           },
           "yaxis": {
            "backgroundcolor": "rgb(17,17,17)",
            "gridcolor": "#506784",
            "gridwidth": 2,
            "linecolor": "#506784",
            "showbackground": true,
            "ticks": "",
            "zerolinecolor": "#C8D4E3"
           },
           "zaxis": {
            "backgroundcolor": "rgb(17,17,17)",
            "gridcolor": "#506784",
            "gridwidth": 2,
            "linecolor": "#506784",
            "showbackground": true,
            "ticks": "",
            "zerolinecolor": "#C8D4E3"
           }
          },
          "shapedefaults": {
           "line": {
            "color": "#f2f5fa"
           }
          },
          "sliderdefaults": {
           "bgcolor": "#C8D4E3",
           "bordercolor": "rgb(17,17,17)",
           "borderwidth": 1,
           "tickwidth": 0
          },
          "ternary": {
           "aaxis": {
            "gridcolor": "#506784",
            "linecolor": "#506784",
            "ticks": ""
           },
           "baxis": {
            "gridcolor": "#506784",
            "linecolor": "#506784",
            "ticks": ""
           },
           "bgcolor": "rgb(17,17,17)",
           "caxis": {
            "gridcolor": "#506784",
            "linecolor": "#506784",
            "ticks": ""
           }
          },
          "title": {
           "x": 0.05
          },
          "updatemenudefaults": {
           "bgcolor": "#506784",
           "borderwidth": 0
          },
          "xaxis": {
           "automargin": true,
           "gridcolor": "#283442",
           "linecolor": "#506784",
           "ticks": "",
           "title": {
            "standoff": 15
           },
           "zerolinecolor": "#283442",
           "zerolinewidth": 2
          },
          "yaxis": {
           "automargin": true,
           "gridcolor": "#283442",
           "linecolor": "#506784",
           "ticks": "",
           "title": {
            "standoff": 15
           },
           "zerolinecolor": "#283442",
           "zerolinewidth": 2
          }
         }
        },
        "title": {
         "text": "PFE Stock Analysis SMA Signal"
        },
        "width": 1000,
        "xaxis": {
         "rangeslider": {
          "visible": true
         },
         "title": {
          "text": "Date"
         }
        },
        "yaxis": {
         "title": {
          "text": "Price"
         }
        }
       }
      }
     },
     "metadata": {},
     "output_type": "display_data"
    },
    {
     "name": "stdout",
     "output_type": "stream",
     "text": [
      "WMA RSI Signal : Final Profit: $-2182.94, -21.83%\n"
     ]
    },
    {
     "data": {
      "application/vnd.plotly.v1+json": {
       "config": {
        "plotlyServerURL": "https://plot.ly"
       },
       "data": [
        {
         "line": {
          "color": "blue"
         },
         "mode": "lines",
         "name": "Adj Close",
         "type": "scatter",
         "x": [
          "2023-01-03T00:00:00",
          "2023-01-04T00:00:00",
          "2023-01-05T00:00:00",
          "2023-01-06T00:00:00",
          "2023-01-09T00:00:00",
          "2023-01-10T00:00:00",
          "2023-01-11T00:00:00",
          "2023-01-12T00:00:00",
          "2023-01-13T00:00:00",
          "2023-01-17T00:00:00",
          "2023-01-18T00:00:00",
          "2023-01-19T00:00:00",
          "2023-01-20T00:00:00",
          "2023-01-23T00:00:00",
          "2023-01-24T00:00:00",
          "2023-01-25T00:00:00",
          "2023-01-26T00:00:00",
          "2023-01-27T00:00:00",
          "2023-01-30T00:00:00",
          "2023-01-31T00:00:00",
          "2023-02-01T00:00:00",
          "2023-02-02T00:00:00",
          "2023-02-03T00:00:00",
          "2023-02-06T00:00:00",
          "2023-02-07T00:00:00",
          "2023-02-08T00:00:00",
          "2023-02-09T00:00:00",
          "2023-02-10T00:00:00",
          "2023-02-13T00:00:00",
          "2023-02-14T00:00:00",
          "2023-02-15T00:00:00",
          "2023-02-16T00:00:00",
          "2023-02-17T00:00:00",
          "2023-02-21T00:00:00",
          "2023-02-22T00:00:00",
          "2023-02-23T00:00:00",
          "2023-02-24T00:00:00",
          "2023-02-27T00:00:00",
          "2023-02-28T00:00:00",
          "2023-03-01T00:00:00",
          "2023-03-02T00:00:00",
          "2023-03-03T00:00:00",
          "2023-03-06T00:00:00",
          "2023-03-07T00:00:00",
          "2023-03-08T00:00:00",
          "2023-03-09T00:00:00",
          "2023-03-10T00:00:00",
          "2023-03-13T00:00:00",
          "2023-03-14T00:00:00",
          "2023-03-15T00:00:00",
          "2023-03-16T00:00:00",
          "2023-03-17T00:00:00",
          "2023-03-20T00:00:00",
          "2023-03-21T00:00:00",
          "2023-03-22T00:00:00",
          "2023-03-23T00:00:00",
          "2023-03-24T00:00:00",
          "2023-03-27T00:00:00",
          "2023-03-28T00:00:00",
          "2023-03-29T00:00:00",
          "2023-03-30T00:00:00",
          "2023-03-31T00:00:00",
          "2023-04-03T00:00:00",
          "2023-04-04T00:00:00",
          "2023-04-05T00:00:00",
          "2023-04-06T00:00:00",
          "2023-04-10T00:00:00",
          "2023-04-11T00:00:00",
          "2023-04-12T00:00:00",
          "2023-04-13T00:00:00",
          "2023-04-14T00:00:00",
          "2023-04-17T00:00:00",
          "2023-04-18T00:00:00",
          "2023-04-19T00:00:00",
          "2023-04-20T00:00:00",
          "2023-04-21T00:00:00",
          "2023-04-24T00:00:00",
          "2023-04-25T00:00:00",
          "2023-04-26T00:00:00",
          "2023-04-27T00:00:00",
          "2023-04-28T00:00:00",
          "2023-05-01T00:00:00",
          "2023-05-02T00:00:00",
          "2023-05-03T00:00:00",
          "2023-05-04T00:00:00",
          "2023-05-05T00:00:00",
          "2023-05-08T00:00:00",
          "2023-05-09T00:00:00",
          "2023-05-10T00:00:00",
          "2023-05-11T00:00:00",
          "2023-05-12T00:00:00",
          "2023-05-15T00:00:00",
          "2023-05-16T00:00:00",
          "2023-05-17T00:00:00",
          "2023-05-18T00:00:00",
          "2023-05-19T00:00:00",
          "2023-05-22T00:00:00",
          "2023-05-23T00:00:00",
          "2023-05-24T00:00:00",
          "2023-05-25T00:00:00",
          "2023-05-26T00:00:00",
          "2023-05-30T00:00:00",
          "2023-05-31T00:00:00",
          "2023-06-01T00:00:00",
          "2023-06-02T00:00:00",
          "2023-06-05T00:00:00",
          "2023-06-06T00:00:00",
          "2023-06-07T00:00:00",
          "2023-06-08T00:00:00",
          "2023-06-09T00:00:00",
          "2023-06-12T00:00:00",
          "2023-06-13T00:00:00",
          "2023-06-14T00:00:00",
          "2023-06-15T00:00:00",
          "2023-06-16T00:00:00",
          "2023-06-20T00:00:00",
          "2023-06-21T00:00:00",
          "2023-06-22T00:00:00",
          "2023-06-23T00:00:00",
          "2023-06-26T00:00:00",
          "2023-06-27T00:00:00",
          "2023-06-28T00:00:00",
          "2023-06-29T00:00:00",
          "2023-06-30T00:00:00",
          "2023-07-03T00:00:00",
          "2023-07-05T00:00:00",
          "2023-07-06T00:00:00",
          "2023-07-07T00:00:00",
          "2023-07-10T00:00:00",
          "2023-07-11T00:00:00",
          "2023-07-12T00:00:00",
          "2023-07-13T00:00:00",
          "2023-07-14T00:00:00",
          "2023-07-17T00:00:00",
          "2023-07-18T00:00:00",
          "2023-07-19T00:00:00",
          "2023-07-20T00:00:00",
          "2023-07-21T00:00:00",
          "2023-07-24T00:00:00",
          "2023-07-25T00:00:00",
          "2023-07-26T00:00:00",
          "2023-07-27T00:00:00",
          "2023-07-28T00:00:00",
          "2023-07-31T00:00:00",
          "2023-08-01T00:00:00",
          "2023-08-02T00:00:00",
          "2023-08-03T00:00:00",
          "2023-08-04T00:00:00",
          "2023-08-07T00:00:00",
          "2023-08-08T00:00:00",
          "2023-08-09T00:00:00",
          "2023-08-10T00:00:00",
          "2023-08-11T00:00:00",
          "2023-08-14T00:00:00",
          "2023-08-15T00:00:00",
          "2023-08-16T00:00:00",
          "2023-08-17T00:00:00",
          "2023-08-18T00:00:00",
          "2023-08-21T00:00:00",
          "2023-08-22T00:00:00",
          "2023-08-23T00:00:00",
          "2023-08-24T00:00:00",
          "2023-08-25T00:00:00",
          "2023-08-28T00:00:00",
          "2023-08-29T00:00:00",
          "2023-08-30T00:00:00",
          "2023-08-31T00:00:00",
          "2023-09-01T00:00:00",
          "2023-09-05T00:00:00",
          "2023-09-06T00:00:00",
          "2023-09-07T00:00:00",
          "2023-09-08T00:00:00",
          "2023-09-11T00:00:00",
          "2023-09-12T00:00:00",
          "2023-09-13T00:00:00",
          "2023-09-14T00:00:00",
          "2023-09-15T00:00:00",
          "2023-09-18T00:00:00",
          "2023-09-19T00:00:00",
          "2023-09-20T00:00:00",
          "2023-09-21T00:00:00",
          "2023-09-22T00:00:00",
          "2023-09-25T00:00:00",
          "2023-09-26T00:00:00",
          "2023-09-27T00:00:00",
          "2023-09-28T00:00:00",
          "2023-09-29T00:00:00",
          "2023-10-02T00:00:00",
          "2023-10-03T00:00:00",
          "2023-10-04T00:00:00",
          "2023-10-05T00:00:00",
          "2023-10-06T00:00:00",
          "2023-10-09T00:00:00",
          "2023-10-10T00:00:00",
          "2023-10-11T00:00:00",
          "2023-10-12T00:00:00",
          "2023-10-13T00:00:00",
          "2023-10-16T00:00:00",
          "2023-10-17T00:00:00",
          "2023-10-18T00:00:00",
          "2023-10-19T00:00:00",
          "2023-10-20T00:00:00",
          "2023-10-23T00:00:00",
          "2023-10-24T00:00:00",
          "2023-10-25T00:00:00",
          "2023-10-26T00:00:00",
          "2023-10-27T00:00:00",
          "2023-10-30T00:00:00",
          "2023-10-31T00:00:00",
          "2023-11-01T00:00:00",
          "2023-11-02T00:00:00",
          "2023-11-03T00:00:00",
          "2023-11-06T00:00:00",
          "2023-11-07T00:00:00",
          "2023-11-08T00:00:00",
          "2023-11-09T00:00:00",
          "2023-11-10T00:00:00",
          "2023-11-13T00:00:00",
          "2023-11-14T00:00:00",
          "2023-11-15T00:00:00",
          "2023-11-16T00:00:00",
          "2023-11-17T00:00:00",
          "2023-11-20T00:00:00",
          "2023-11-21T00:00:00",
          "2023-11-22T00:00:00",
          "2023-11-24T00:00:00",
          "2023-11-27T00:00:00",
          "2023-11-28T00:00:00",
          "2023-11-29T00:00:00",
          "2023-11-30T00:00:00",
          "2023-12-01T00:00:00",
          "2023-12-04T00:00:00",
          "2023-12-05T00:00:00",
          "2023-12-06T00:00:00",
          "2023-12-07T00:00:00",
          "2023-12-08T00:00:00",
          "2023-12-11T00:00:00",
          "2023-12-12T00:00:00",
          "2023-12-13T00:00:00",
          "2023-12-14T00:00:00",
          "2023-12-15T00:00:00",
          "2023-12-18T00:00:00",
          "2023-12-19T00:00:00",
          "2023-12-20T00:00:00",
          "2023-12-21T00:00:00",
          "2023-12-22T00:00:00",
          "2023-12-26T00:00:00",
          "2023-12-27T00:00:00",
          "2023-12-28T00:00:00",
          "2023-12-29T00:00:00"
         ],
         "y": [
          47.59048461914063,
          46.541385650634766,
          46.10502624511719,
          47.27482604980469,
          44.92593765258789,
          44.211063385009766,
          44.0532341003418,
          44.294620513916016,
          44.42459487915039,
          42.78131103515625,
          41.77862548828125,
          41.741485595703125,
          41.88074493408203,
          41.76005172729492,
          41.50938034057617,
          41.84361267089844,
          41.459468841552734,
          41.02847290039063,
          40.80360794067383,
          41.37514114379883,
          41.19712829589844,
          41.54378890991211,
          41.28144836425781,
          41.0003662109375,
          40.84109115600586,
          41.20649337768555,
          40.60685348510742,
          41.11280059814453,
          41.21586608886719,
          40.962890625,
          40.58811569213867,
          40.24145126342773,
          40.48505401611328,
          40.0072135925293,
          39.7073974609375,
          39.6324348449707,
          39.11712265014648,
          38.20829391479492,
          38.01153564453125,
          37.64613342285156,
          38.05838394165039,
          38.554962158203125,
          38.51748275756836,
          37.796043395996094,
          37.58991241455078,
          36.97153854370117,
          36.905948638916016,
          37.3463134765625,
          37.38379287719727,
          37.73982620239258,
          37.82415008544922,
          37.5711784362793,
          38.23640441894531,
          38.09586334228516,
          37.486854553222656,
          37.64613342285156,
          37.842891693115234,
          37.68361282348633,
          37.46811676025391,
          37.71171951293945,
          37.8335189819336,
          38.22703552246094,
          38.74234771728516,
          38.32072448730469,
          38.92973327636719,
          38.88289260864258,
          39.09838104248047,
          39.15460205078125,
          38.76108551025391,
          38.85478210449219,
          38.59244155883789,
          38.58307266235352,
          37.992794036865234,
          37.70235061645508,
          37.33694076538086,
          37.67424011230469,
          37.39315414428711,
          36.849735260009766,
          36.19388198852539,
          36.29694366455078,
          36.43748092651367,
          36.737300872802734,
          36.59675979614258,
          36.025230407714844,
          35.8191032409668,
          36.06270980834961,
          36.231353759765625,
          36.053340911865234,
          35.88468933105469,
          35.59109878540039,
          35.37326431274414,
          35.19332504272461,
          35.05126190185547,
          34.805023193359375,
          34.54931640625,
          34.82396697998047,
          36.69917678833008,
          37.54207229614258,
          36.58552932739258,
          35.82786560058594,
          35.61003494262695,
          35.05126190185547,
          36.0078125,
          36.0078125,
          36.32981491088867,
          36.604469299316406,
          36.33928298950195,
          36.83176040649414,
          37.021183013916016,
          36.90753173828125,
          37.78831481933594,
          38.148197174072266,
          37.276893615722656,
          37.64624786376953,
          37.93984603881836,
          37.25794982910156,
          36.84123992919922,
          36.68022918701172,
          36.272987365722656,
          34.93761444091797,
          34.492488861083984,
          34.36936950683594,
          34.20836639404297,
          34.73872756958008,
          34.7103157043457,
          34.530372619628906,
          33.74430084228516,
          33.649593353271484,
          33.79165267944336,
          34.1136589050293,
          34.08524703979492,
          34.15154266357422,
          34.39777755737305,
          33.96212387084961,
          34.32201385498047,
          34.51142883300781,
          34.82396697998047,
          35.420623779296875,
          35.52479934692383,
          35.09861755371094,
          35.24068069458008,
          34.66610336303711,
          34.54160690307617,
          34.53203582763672,
          34.101104736328125,
          33.85211563110352,
          33.51694869995117,
          33.536102294921875,
          34.16813659667969,
          34.12982940673828,
          34.32135772705078,
          34.20643997192383,
          34.51288604736328,
          34.54160690307617,
          33.89042663574219,
          33.97660827636719,
          34.96296310424805,
          35.10660934448242,
          35.441776275634766,
          35.27898406982422,
          35.10660934448242,
          34.62779235839844,
          34.83847427368164,
          34.67567443847656,
          34.618221282958984,
          34.37881851196289,
          33.8808479309082,
          34.26389694213867,
          33.8808479309082,
          32.91364288330078,
          32.82745742797852,
          32.79872512817383,
          32.501861572265625,
          32.70296859741211,
          32.63593292236328,
          32.70296859741211,
          32.62635803222656,
          32.214576721191406,
          32.54975128173828,
          32.1954231262207,
          31.45804786682129,
          31.30483055114746,
          31.582544326782227,
          31.027118682861328,
          30.739830017089844,
          30.73025321960449,
          31.764488220214844,
          32.501861572265625,
          32.463558197021484,
          31.8985595703125,
          32.051780700683594,
          31.726186752319336,
          31.793222427368164,
          31.764488220214844,
          31.707035064697266,
          31.52508354187012,
          30.749406814575195,
          31.860254287719727,
          31.362287521362305,
          30.07906723022461,
          29.868391036987305,
          29.35127067565918,
          29.533218383789062,
          29.14059257507324,
          29.427879333496094,
          29.83966064453125,
          28.83415031433105,
          29.25550651550293,
          29.26508331298828,
          29.21720314025879,
          29.20762634277344,
          29.9354248046875,
          29.858814239501957,
          29.92584800720215,
          29.514068603515625,
          28.805574417114254,
          28.61146545410156,
          28.126197814941406,
          28.397947311401367,
          29.30055046081543,
          28.89292335510254,
          29.038503646850582,
          29.09673500061035,
          29.40730857849121,
          29.42671775817871,
          29.601415634155277,
          29.25201988220215,
          28.81528091430664,
          29.193790435791016,
          29.57229804992676,
          28.058259963989254,
          28.417360305786133,
          28.23295783996582,
          27.941795349121094,
          27.786508560180664,
          27.932090759277344,
          27.79621315002441,
          27.73798179626465,
          25.874547958374023,
          25.36016273498535,
          25.84543228149414,
          26.26276397705078,
          27.33035469055176,
          26.81597137451172,
          27.475934982299805,
          27.56328582763672,
          27.57299041748047,
          27.767099380493164,
          27.941795349121094,
          27.941795349121094
         ]
        },
        {
         "marker": {
          "color": "green",
          "size": 10,
          "symbol": "triangle-up"
         },
         "mode": "markers",
         "name": "Buy Signal",
         "type": "scatter",
         "x": [
          "2023-01-03T00:00:00",
          "2023-01-04T00:00:00",
          "2023-01-05T00:00:00",
          "2023-01-06T00:00:00",
          "2023-01-09T00:00:00",
          "2023-01-10T00:00:00",
          "2023-01-11T00:00:00",
          "2023-01-12T00:00:00",
          "2023-01-13T00:00:00",
          "2023-01-17T00:00:00",
          "2023-01-18T00:00:00",
          "2023-01-19T00:00:00",
          "2023-01-20T00:00:00",
          "2023-01-23T00:00:00",
          "2023-01-24T00:00:00",
          "2023-01-25T00:00:00",
          "2023-01-26T00:00:00",
          "2023-01-27T00:00:00",
          "2023-01-30T00:00:00",
          "2023-01-31T00:00:00",
          "2023-02-01T00:00:00",
          "2023-02-02T00:00:00",
          "2023-02-03T00:00:00",
          "2023-02-06T00:00:00",
          "2023-02-07T00:00:00",
          "2023-02-08T00:00:00",
          "2023-02-09T00:00:00",
          "2023-02-10T00:00:00",
          "2023-02-13T00:00:00",
          "2023-02-14T00:00:00",
          "2023-02-15T00:00:00",
          "2023-02-16T00:00:00",
          "2023-02-17T00:00:00",
          "2023-02-21T00:00:00",
          "2023-02-22T00:00:00",
          "2023-02-23T00:00:00",
          "2023-02-24T00:00:00",
          "2023-02-27T00:00:00",
          "2023-02-28T00:00:00",
          "2023-03-01T00:00:00",
          "2023-03-02T00:00:00",
          "2023-03-03T00:00:00",
          "2023-03-06T00:00:00",
          "2023-03-07T00:00:00",
          "2023-03-08T00:00:00",
          "2023-03-09T00:00:00",
          "2023-03-10T00:00:00",
          "2023-03-13T00:00:00",
          "2023-03-14T00:00:00",
          "2023-03-15T00:00:00",
          "2023-03-16T00:00:00",
          "2023-03-17T00:00:00",
          "2023-03-21T00:00:00",
          "2023-03-22T00:00:00",
          "2023-03-23T00:00:00",
          "2023-03-24T00:00:00",
          "2023-03-27T00:00:00",
          "2023-03-28T00:00:00",
          "2023-03-29T00:00:00",
          "2023-04-18T00:00:00",
          "2023-04-19T00:00:00",
          "2023-04-20T00:00:00",
          "2023-04-21T00:00:00",
          "2023-04-24T00:00:00",
          "2023-04-25T00:00:00",
          "2023-04-26T00:00:00",
          "2023-04-27T00:00:00",
          "2023-04-28T00:00:00",
          "2023-05-01T00:00:00",
          "2023-05-02T00:00:00",
          "2023-05-03T00:00:00",
          "2023-05-04T00:00:00",
          "2023-05-05T00:00:00",
          "2023-05-08T00:00:00",
          "2023-05-09T00:00:00",
          "2023-05-10T00:00:00",
          "2023-05-11T00:00:00",
          "2023-05-12T00:00:00",
          "2023-05-15T00:00:00",
          "2023-05-16T00:00:00",
          "2023-05-17T00:00:00",
          "2023-05-18T00:00:00",
          "2023-05-19T00:00:00",
          "2023-06-26T00:00:00",
          "2023-06-27T00:00:00",
          "2023-06-28T00:00:00",
          "2023-06-29T00:00:00",
          "2023-06-30T00:00:00",
          "2023-07-03T00:00:00",
          "2023-07-05T00:00:00",
          "2023-07-06T00:00:00",
          "2023-07-07T00:00:00",
          "2023-07-10T00:00:00",
          "2023-07-11T00:00:00",
          "2023-07-12T00:00:00",
          "2023-07-13T00:00:00",
          "2023-07-14T00:00:00",
          "2023-07-17T00:00:00",
          "2023-07-18T00:00:00",
          "2023-07-19T00:00:00",
          "2023-07-28T00:00:00",
          "2023-07-31T00:00:00",
          "2023-08-01T00:00:00",
          "2023-08-02T00:00:00",
          "2023-08-03T00:00:00",
          "2023-08-04T00:00:00",
          "2023-08-07T00:00:00",
          "2023-08-08T00:00:00",
          "2023-08-09T00:00:00",
          "2023-08-10T00:00:00",
          "2023-08-15T00:00:00",
          "2023-08-16T00:00:00",
          "2023-08-31T00:00:00",
          "2023-09-01T00:00:00",
          "2023-09-05T00:00:00",
          "2023-09-06T00:00:00",
          "2023-09-07T00:00:00",
          "2023-09-08T00:00:00",
          "2023-09-11T00:00:00",
          "2023-09-12T00:00:00",
          "2023-09-13T00:00:00",
          "2023-09-14T00:00:00",
          "2023-09-15T00:00:00",
          "2023-09-18T00:00:00",
          "2023-09-19T00:00:00",
          "2023-09-20T00:00:00",
          "2023-09-21T00:00:00",
          "2023-09-22T00:00:00",
          "2023-09-25T00:00:00",
          "2023-09-26T00:00:00",
          "2023-09-27T00:00:00",
          "2023-09-28T00:00:00",
          "2023-09-29T00:00:00",
          "2023-10-12T00:00:00",
          "2023-10-13T00:00:00",
          "2023-10-18T00:00:00",
          "2023-10-19T00:00:00",
          "2023-10-20T00:00:00",
          "2023-10-23T00:00:00",
          "2023-10-24T00:00:00",
          "2023-10-25T00:00:00",
          "2023-10-26T00:00:00",
          "2023-10-27T00:00:00",
          "2023-10-30T00:00:00",
          "2023-10-31T00:00:00",
          "2023-11-01T00:00:00",
          "2023-11-02T00:00:00",
          "2023-11-03T00:00:00",
          "2023-11-06T00:00:00",
          "2023-11-07T00:00:00",
          "2023-11-08T00:00:00",
          "2023-11-09T00:00:00",
          "2023-11-10T00:00:00",
          "2023-11-13T00:00:00",
          "2023-11-14T00:00:00",
          "2023-11-16T00:00:00",
          "2023-11-17T00:00:00",
          "2023-11-20T00:00:00",
          "2023-11-28T00:00:00",
          "2023-12-01T00:00:00",
          "2023-12-04T00:00:00",
          "2023-12-05T00:00:00",
          "2023-12-06T00:00:00",
          "2023-12-07T00:00:00",
          "2023-12-08T00:00:00",
          "2023-12-11T00:00:00",
          "2023-12-12T00:00:00",
          "2023-12-13T00:00:00",
          "2023-12-14T00:00:00",
          "2023-12-15T00:00:00",
          "2023-12-18T00:00:00",
          "2023-12-19T00:00:00",
          "2023-12-20T00:00:00",
          "2023-12-21T00:00:00",
          "2023-12-22T00:00:00"
         ],
         "y": [
          47.59048461914063,
          46.541385650634766,
          46.10502624511719,
          47.27482604980469,
          44.92593765258789,
          44.211063385009766,
          44.0532341003418,
          44.294620513916016,
          44.42459487915039,
          42.78131103515625,
          41.77862548828125,
          41.741485595703125,
          41.88074493408203,
          41.76005172729492,
          41.50938034057617,
          41.84361267089844,
          41.459468841552734,
          41.02847290039063,
          40.80360794067383,
          41.37514114379883,
          41.19712829589844,
          41.54378890991211,
          41.28144836425781,
          41.0003662109375,
          40.84109115600586,
          41.20649337768555,
          40.60685348510742,
          41.11280059814453,
          41.21586608886719,
          40.962890625,
          40.58811569213867,
          40.24145126342773,
          40.48505401611328,
          40.0072135925293,
          39.7073974609375,
          39.6324348449707,
          39.11712265014648,
          38.20829391479492,
          38.01153564453125,
          37.64613342285156,
          38.05838394165039,
          38.554962158203125,
          38.51748275756836,
          37.796043395996094,
          37.58991241455078,
          36.97153854370117,
          36.905948638916016,
          37.3463134765625,
          37.38379287719727,
          37.73982620239258,
          37.82415008544922,
          37.5711784362793,
          38.09586334228516,
          37.486854553222656,
          37.64613342285156,
          37.842891693115234,
          37.68361282348633,
          37.46811676025391,
          37.71171951293945,
          37.992794036865234,
          37.70235061645508,
          37.33694076538086,
          37.67424011230469,
          37.39315414428711,
          36.849735260009766,
          36.19388198852539,
          36.29694366455078,
          36.43748092651367,
          36.737300872802734,
          36.59675979614258,
          36.025230407714844,
          35.8191032409668,
          36.06270980834961,
          36.231353759765625,
          36.053340911865234,
          35.88468933105469,
          35.59109878540039,
          35.37326431274414,
          35.19332504272461,
          35.05126190185547,
          34.805023193359375,
          34.54931640625,
          34.82396697998047,
          34.93761444091797,
          34.492488861083984,
          34.36936950683594,
          34.20836639404297,
          34.73872756958008,
          34.7103157043457,
          34.530372619628906,
          33.74430084228516,
          33.649593353271484,
          33.79165267944336,
          34.1136589050293,
          34.08524703979492,
          34.15154266357422,
          34.39777755737305,
          33.96212387084961,
          34.32201385498047,
          34.51142883300781,
          34.54160690307617,
          34.53203582763672,
          34.101104736328125,
          33.85211563110352,
          33.51694869995117,
          33.536102294921875,
          34.16813659667969,
          34.12982940673828,
          34.32135772705078,
          34.20643997192383,
          33.89042663574219,
          33.97660827636719,
          33.8808479309082,
          34.26389694213867,
          33.8808479309082,
          32.91364288330078,
          32.82745742797852,
          32.79872512817383,
          32.501861572265625,
          32.70296859741211,
          32.63593292236328,
          32.70296859741211,
          32.62635803222656,
          32.214576721191406,
          32.54975128173828,
          32.1954231262207,
          31.45804786682129,
          31.30483055114746,
          31.582544326782227,
          31.027118682861328,
          30.739830017089844,
          30.73025321960449,
          31.764488220214844,
          31.52508354187012,
          30.749406814575195,
          30.07906723022461,
          29.868391036987305,
          29.35127067565918,
          29.533218383789062,
          29.14059257507324,
          29.427879333496094,
          29.83966064453125,
          28.83415031433105,
          29.25550651550293,
          29.26508331298828,
          29.21720314025879,
          29.20762634277344,
          29.9354248046875,
          29.858814239501957,
          29.92584800720215,
          29.514068603515625,
          28.805574417114254,
          28.61146545410156,
          28.126197814941406,
          28.397947311401367,
          28.89292335510254,
          29.038503646850582,
          29.09673500061035,
          28.81528091430664,
          28.058259963989254,
          28.417360305786133,
          28.23295783996582,
          27.941795349121094,
          27.786508560180664,
          27.932090759277344,
          27.79621315002441,
          27.73798179626465,
          25.874547958374023,
          25.36016273498535,
          25.84543228149414,
          26.26276397705078,
          27.33035469055176,
          26.81597137451172,
          27.475934982299805,
          27.56328582763672
         ]
        },
        {
         "marker": {
          "color": "red",
          "size": 10,
          "symbol": "triangle-down"
         },
         "mode": "markers",
         "name": "Sell Signal",
         "type": "scatter",
         "x": [
          "2023-04-03T00:00:00",
          "2023-04-05T00:00:00",
          "2023-04-06T00:00:00",
          "2023-04-10T00:00:00",
          "2023-04-11T00:00:00",
          "2023-04-12T00:00:00",
          "2023-04-13T00:00:00",
          "2023-04-14T00:00:00",
          "2023-04-17T00:00:00",
          "2023-05-22T00:00:00",
          "2023-05-23T00:00:00",
          "2023-05-24T00:00:00",
          "2023-05-31T00:00:00",
          "2023-06-01T00:00:00",
          "2023-06-02T00:00:00",
          "2023-06-05T00:00:00",
          "2023-06-06T00:00:00",
          "2023-06-07T00:00:00",
          "2023-06-08T00:00:00",
          "2023-06-09T00:00:00",
          "2023-06-12T00:00:00",
          "2023-06-13T00:00:00",
          "2023-06-14T00:00:00",
          "2023-06-15T00:00:00",
          "2023-06-16T00:00:00",
          "2023-06-20T00:00:00",
          "2023-06-21T00:00:00",
          "2023-07-21T00:00:00",
          "2023-07-24T00:00:00",
          "2023-07-26T00:00:00",
          "2023-08-17T00:00:00",
          "2023-08-18T00:00:00",
          "2023-08-21T00:00:00",
          "2023-08-22T00:00:00",
          "2023-08-23T00:00:00",
          "2023-08-24T00:00:00",
          "2023-08-25T00:00:00",
          "2023-08-28T00:00:00",
          "2023-08-29T00:00:00",
          "2023-10-02T00:00:00",
          "2023-10-03T00:00:00",
          "2023-10-16T00:00:00",
          "2023-11-21T00:00:00",
          "2023-11-22T00:00:00",
          "2023-11-24T00:00:00",
          "2023-11-30T00:00:00"
         ],
         "y": [
          38.74234771728516,
          38.92973327636719,
          38.88289260864258,
          39.09838104248047,
          39.15460205078125,
          38.76108551025391,
          38.85478210449219,
          38.59244155883789,
          38.58307266235352,
          36.69917678833008,
          37.54207229614258,
          36.58552932739258,
          36.0078125,
          36.0078125,
          36.32981491088867,
          36.604469299316406,
          36.33928298950195,
          36.83176040649414,
          37.021183013916016,
          36.90753173828125,
          37.78831481933594,
          38.148197174072266,
          37.276893615722656,
          37.64624786376953,
          37.93984603881836,
          37.25794982910156,
          36.84123992919922,
          35.420623779296875,
          35.52479934692383,
          35.24068069458008,
          34.96296310424805,
          35.10660934448242,
          35.441776275634766,
          35.27898406982422,
          35.10660934448242,
          34.62779235839844,
          34.83847427368164,
          34.67567443847656,
          34.618221282958984,
          32.501861572265625,
          32.463558197021484,
          31.860254287719727,
          29.40730857849121,
          29.42671775817871,
          29.601415634155277,
          29.57229804992676
         ]
        }
       ],
       "layout": {
        "height": 600,
        "legend": {
         "x": 0,
         "y": 1
        },
        "template": {
         "data": {
          "bar": [
           {
            "error_x": {
             "color": "#f2f5fa"
            },
            "error_y": {
             "color": "#f2f5fa"
            },
            "marker": {
             "line": {
              "color": "rgb(17,17,17)",
              "width": 0.5
             },
             "pattern": {
              "fillmode": "overlay",
              "size": 10,
              "solidity": 0.2
             }
            },
            "type": "bar"
           }
          ],
          "barpolar": [
           {
            "marker": {
             "line": {
              "color": "rgb(17,17,17)",
              "width": 0.5
             },
             "pattern": {
              "fillmode": "overlay",
              "size": 10,
              "solidity": 0.2
             }
            },
            "type": "barpolar"
           }
          ],
          "carpet": [
           {
            "aaxis": {
             "endlinecolor": "#A2B1C6",
             "gridcolor": "#506784",
             "linecolor": "#506784",
             "minorgridcolor": "#506784",
             "startlinecolor": "#A2B1C6"
            },
            "baxis": {
             "endlinecolor": "#A2B1C6",
             "gridcolor": "#506784",
             "linecolor": "#506784",
             "minorgridcolor": "#506784",
             "startlinecolor": "#A2B1C6"
            },
            "type": "carpet"
           }
          ],
          "choropleth": [
           {
            "colorbar": {
             "outlinewidth": 0,
             "ticks": ""
            },
            "type": "choropleth"
           }
          ],
          "contour": [
           {
            "colorbar": {
             "outlinewidth": 0,
             "ticks": ""
            },
            "colorscale": [
             [
              0,
              "#0d0887"
             ],
             [
              0.1111111111111111,
              "#46039f"
             ],
             [
              0.2222222222222222,
              "#7201a8"
             ],
             [
              0.3333333333333333,
              "#9c179e"
             ],
             [
              0.4444444444444444,
              "#bd3786"
             ],
             [
              0.5555555555555556,
              "#d8576b"
             ],
             [
              0.6666666666666666,
              "#ed7953"
             ],
             [
              0.7777777777777778,
              "#fb9f3a"
             ],
             [
              0.8888888888888888,
              "#fdca26"
             ],
             [
              1,
              "#f0f921"
             ]
            ],
            "type": "contour"
           }
          ],
          "contourcarpet": [
           {
            "colorbar": {
             "outlinewidth": 0,
             "ticks": ""
            },
            "type": "contourcarpet"
           }
          ],
          "heatmap": [
           {
            "colorbar": {
             "outlinewidth": 0,
             "ticks": ""
            },
            "colorscale": [
             [
              0,
              "#0d0887"
             ],
             [
              0.1111111111111111,
              "#46039f"
             ],
             [
              0.2222222222222222,
              "#7201a8"
             ],
             [
              0.3333333333333333,
              "#9c179e"
             ],
             [
              0.4444444444444444,
              "#bd3786"
             ],
             [
              0.5555555555555556,
              "#d8576b"
             ],
             [
              0.6666666666666666,
              "#ed7953"
             ],
             [
              0.7777777777777778,
              "#fb9f3a"
             ],
             [
              0.8888888888888888,
              "#fdca26"
             ],
             [
              1,
              "#f0f921"
             ]
            ],
            "type": "heatmap"
           }
          ],
          "heatmapgl": [
           {
            "colorbar": {
             "outlinewidth": 0,
             "ticks": ""
            },
            "colorscale": [
             [
              0,
              "#0d0887"
             ],
             [
              0.1111111111111111,
              "#46039f"
             ],
             [
              0.2222222222222222,
              "#7201a8"
             ],
             [
              0.3333333333333333,
              "#9c179e"
             ],
             [
              0.4444444444444444,
              "#bd3786"
             ],
             [
              0.5555555555555556,
              "#d8576b"
             ],
             [
              0.6666666666666666,
              "#ed7953"
             ],
             [
              0.7777777777777778,
              "#fb9f3a"
             ],
             [
              0.8888888888888888,
              "#fdca26"
             ],
             [
              1,
              "#f0f921"
             ]
            ],
            "type": "heatmapgl"
           }
          ],
          "histogram": [
           {
            "marker": {
             "pattern": {
              "fillmode": "overlay",
              "size": 10,
              "solidity": 0.2
             }
            },
            "type": "histogram"
           }
          ],
          "histogram2d": [
           {
            "colorbar": {
             "outlinewidth": 0,
             "ticks": ""
            },
            "colorscale": [
             [
              0,
              "#0d0887"
             ],
             [
              0.1111111111111111,
              "#46039f"
             ],
             [
              0.2222222222222222,
              "#7201a8"
             ],
             [
              0.3333333333333333,
              "#9c179e"
             ],
             [
              0.4444444444444444,
              "#bd3786"
             ],
             [
              0.5555555555555556,
              "#d8576b"
             ],
             [
              0.6666666666666666,
              "#ed7953"
             ],
             [
              0.7777777777777778,
              "#fb9f3a"
             ],
             [
              0.8888888888888888,
              "#fdca26"
             ],
             [
              1,
              "#f0f921"
             ]
            ],
            "type": "histogram2d"
           }
          ],
          "histogram2dcontour": [
           {
            "colorbar": {
             "outlinewidth": 0,
             "ticks": ""
            },
            "colorscale": [
             [
              0,
              "#0d0887"
             ],
             [
              0.1111111111111111,
              "#46039f"
             ],
             [
              0.2222222222222222,
              "#7201a8"
             ],
             [
              0.3333333333333333,
              "#9c179e"
             ],
             [
              0.4444444444444444,
              "#bd3786"
             ],
             [
              0.5555555555555556,
              "#d8576b"
             ],
             [
              0.6666666666666666,
              "#ed7953"
             ],
             [
              0.7777777777777778,
              "#fb9f3a"
             ],
             [
              0.8888888888888888,
              "#fdca26"
             ],
             [
              1,
              "#f0f921"
             ]
            ],
            "type": "histogram2dcontour"
           }
          ],
          "mesh3d": [
           {
            "colorbar": {
             "outlinewidth": 0,
             "ticks": ""
            },
            "type": "mesh3d"
           }
          ],
          "parcoords": [
           {
            "line": {
             "colorbar": {
              "outlinewidth": 0,
              "ticks": ""
             }
            },
            "type": "parcoords"
           }
          ],
          "pie": [
           {
            "automargin": true,
            "type": "pie"
           }
          ],
          "scatter": [
           {
            "marker": {
             "line": {
              "color": "#283442"
             }
            },
            "type": "scatter"
           }
          ],
          "scatter3d": [
           {
            "line": {
             "colorbar": {
              "outlinewidth": 0,
              "ticks": ""
             }
            },
            "marker": {
             "colorbar": {
              "outlinewidth": 0,
              "ticks": ""
             }
            },
            "type": "scatter3d"
           }
          ],
          "scattercarpet": [
           {
            "marker": {
             "colorbar": {
              "outlinewidth": 0,
              "ticks": ""
             }
            },
            "type": "scattercarpet"
           }
          ],
          "scattergeo": [
           {
            "marker": {
             "colorbar": {
              "outlinewidth": 0,
              "ticks": ""
             }
            },
            "type": "scattergeo"
           }
          ],
          "scattergl": [
           {
            "marker": {
             "line": {
              "color": "#283442"
             }
            },
            "type": "scattergl"
           }
          ],
          "scattermapbox": [
           {
            "marker": {
             "colorbar": {
              "outlinewidth": 0,
              "ticks": ""
             }
            },
            "type": "scattermapbox"
           }
          ],
          "scatterpolar": [
           {
            "marker": {
             "colorbar": {
              "outlinewidth": 0,
              "ticks": ""
             }
            },
            "type": "scatterpolar"
           }
          ],
          "scatterpolargl": [
           {
            "marker": {
             "colorbar": {
              "outlinewidth": 0,
              "ticks": ""
             }
            },
            "type": "scatterpolargl"
           }
          ],
          "scatterternary": [
           {
            "marker": {
             "colorbar": {
              "outlinewidth": 0,
              "ticks": ""
             }
            },
            "type": "scatterternary"
           }
          ],
          "surface": [
           {
            "colorbar": {
             "outlinewidth": 0,
             "ticks": ""
            },
            "colorscale": [
             [
              0,
              "#0d0887"
             ],
             [
              0.1111111111111111,
              "#46039f"
             ],
             [
              0.2222222222222222,
              "#7201a8"
             ],
             [
              0.3333333333333333,
              "#9c179e"
             ],
             [
              0.4444444444444444,
              "#bd3786"
             ],
             [
              0.5555555555555556,
              "#d8576b"
             ],
             [
              0.6666666666666666,
              "#ed7953"
             ],
             [
              0.7777777777777778,
              "#fb9f3a"
             ],
             [
              0.8888888888888888,
              "#fdca26"
             ],
             [
              1,
              "#f0f921"
             ]
            ],
            "type": "surface"
           }
          ],
          "table": [
           {
            "cells": {
             "fill": {
              "color": "#506784"
             },
             "line": {
              "color": "rgb(17,17,17)"
             }
            },
            "header": {
             "fill": {
              "color": "#2a3f5f"
             },
             "line": {
              "color": "rgb(17,17,17)"
             }
            },
            "type": "table"
           }
          ]
         },
         "layout": {
          "annotationdefaults": {
           "arrowcolor": "#f2f5fa",
           "arrowhead": 0,
           "arrowwidth": 1
          },
          "autotypenumbers": "strict",
          "coloraxis": {
           "colorbar": {
            "outlinewidth": 0,
            "ticks": ""
           }
          },
          "colorscale": {
           "diverging": [
            [
             0,
             "#8e0152"
            ],
            [
             0.1,
             "#c51b7d"
            ],
            [
             0.2,
             "#de77ae"
            ],
            [
             0.3,
             "#f1b6da"
            ],
            [
             0.4,
             "#fde0ef"
            ],
            [
             0.5,
             "#f7f7f7"
            ],
            [
             0.6,
             "#e6f5d0"
            ],
            [
             0.7,
             "#b8e186"
            ],
            [
             0.8,
             "#7fbc41"
            ],
            [
             0.9,
             "#4d9221"
            ],
            [
             1,
             "#276419"
            ]
           ],
           "sequential": [
            [
             0,
             "#0d0887"
            ],
            [
             0.1111111111111111,
             "#46039f"
            ],
            [
             0.2222222222222222,
             "#7201a8"
            ],
            [
             0.3333333333333333,
             "#9c179e"
            ],
            [
             0.4444444444444444,
             "#bd3786"
            ],
            [
             0.5555555555555556,
             "#d8576b"
            ],
            [
             0.6666666666666666,
             "#ed7953"
            ],
            [
             0.7777777777777778,
             "#fb9f3a"
            ],
            [
             0.8888888888888888,
             "#fdca26"
            ],
            [
             1,
             "#f0f921"
            ]
           ],
           "sequentialminus": [
            [
             0,
             "#0d0887"
            ],
            [
             0.1111111111111111,
             "#46039f"
            ],
            [
             0.2222222222222222,
             "#7201a8"
            ],
            [
             0.3333333333333333,
             "#9c179e"
            ],
            [
             0.4444444444444444,
             "#bd3786"
            ],
            [
             0.5555555555555556,
             "#d8576b"
            ],
            [
             0.6666666666666666,
             "#ed7953"
            ],
            [
             0.7777777777777778,
             "#fb9f3a"
            ],
            [
             0.8888888888888888,
             "#fdca26"
            ],
            [
             1,
             "#f0f921"
            ]
           ]
          },
          "colorway": [
           "#636efa",
           "#EF553B",
           "#00cc96",
           "#ab63fa",
           "#FFA15A",
           "#19d3f3",
           "#FF6692",
           "#B6E880",
           "#FF97FF",
           "#FECB52"
          ],
          "font": {
           "color": "#f2f5fa"
          },
          "geo": {
           "bgcolor": "rgb(17,17,17)",
           "lakecolor": "rgb(17,17,17)",
           "landcolor": "rgb(17,17,17)",
           "showlakes": true,
           "showland": true,
           "subunitcolor": "#506784"
          },
          "hoverlabel": {
           "align": "left"
          },
          "hovermode": "closest",
          "mapbox": {
           "style": "dark"
          },
          "paper_bgcolor": "rgb(17,17,17)",
          "plot_bgcolor": "rgb(17,17,17)",
          "polar": {
           "angularaxis": {
            "gridcolor": "#506784",
            "linecolor": "#506784",
            "ticks": ""
           },
           "bgcolor": "rgb(17,17,17)",
           "radialaxis": {
            "gridcolor": "#506784",
            "linecolor": "#506784",
            "ticks": ""
           }
          },
          "scene": {
           "xaxis": {
            "backgroundcolor": "rgb(17,17,17)",
            "gridcolor": "#506784",
            "gridwidth": 2,
            "linecolor": "#506784",
            "showbackground": true,
            "ticks": "",
            "zerolinecolor": "#C8D4E3"
           },
           "yaxis": {
            "backgroundcolor": "rgb(17,17,17)",
            "gridcolor": "#506784",
            "gridwidth": 2,
            "linecolor": "#506784",
            "showbackground": true,
            "ticks": "",
            "zerolinecolor": "#C8D4E3"
           },
           "zaxis": {
            "backgroundcolor": "rgb(17,17,17)",
            "gridcolor": "#506784",
            "gridwidth": 2,
            "linecolor": "#506784",
            "showbackground": true,
            "ticks": "",
            "zerolinecolor": "#C8D4E3"
           }
          },
          "shapedefaults": {
           "line": {
            "color": "#f2f5fa"
           }
          },
          "sliderdefaults": {
           "bgcolor": "#C8D4E3",
           "bordercolor": "rgb(17,17,17)",
           "borderwidth": 1,
           "tickwidth": 0
          },
          "ternary": {
           "aaxis": {
            "gridcolor": "#506784",
            "linecolor": "#506784",
            "ticks": ""
           },
           "baxis": {
            "gridcolor": "#506784",
            "linecolor": "#506784",
            "ticks": ""
           },
           "bgcolor": "rgb(17,17,17)",
           "caxis": {
            "gridcolor": "#506784",
            "linecolor": "#506784",
            "ticks": ""
           }
          },
          "title": {
           "x": 0.05
          },
          "updatemenudefaults": {
           "bgcolor": "#506784",
           "borderwidth": 0
          },
          "xaxis": {
           "automargin": true,
           "gridcolor": "#283442",
           "linecolor": "#506784",
           "ticks": "",
           "title": {
            "standoff": 15
           },
           "zerolinecolor": "#283442",
           "zerolinewidth": 2
          },
          "yaxis": {
           "automargin": true,
           "gridcolor": "#283442",
           "linecolor": "#506784",
           "ticks": "",
           "title": {
            "standoff": 15
           },
           "zerolinecolor": "#283442",
           "zerolinewidth": 2
          }
         }
        },
        "title": {
         "text": "PFE Stock Analysis WMA RSI Signal"
        },
        "width": 1000,
        "xaxis": {
         "rangeslider": {
          "visible": true
         },
         "title": {
          "text": "Date"
         }
        },
        "yaxis": {
         "title": {
          "text": "Price"
         }
        }
       }
      }
     },
     "metadata": {},
     "output_type": "display_data"
    },
    {
     "name": "stdout",
     "output_type": "stream",
     "text": [
      "WMA Signal : Final Profit: $-3317.54, -33.18%\n"
     ]
    },
    {
     "data": {
      "application/vnd.plotly.v1+json": {
       "config": {
        "plotlyServerURL": "https://plot.ly"
       },
       "data": [
        {
         "line": {
          "color": "blue"
         },
         "mode": "lines",
         "name": "Adj Close",
         "type": "scatter",
         "x": [
          "2023-01-03T00:00:00",
          "2023-01-04T00:00:00",
          "2023-01-05T00:00:00",
          "2023-01-06T00:00:00",
          "2023-01-09T00:00:00",
          "2023-01-10T00:00:00",
          "2023-01-11T00:00:00",
          "2023-01-12T00:00:00",
          "2023-01-13T00:00:00",
          "2023-01-17T00:00:00",
          "2023-01-18T00:00:00",
          "2023-01-19T00:00:00",
          "2023-01-20T00:00:00",
          "2023-01-23T00:00:00",
          "2023-01-24T00:00:00",
          "2023-01-25T00:00:00",
          "2023-01-26T00:00:00",
          "2023-01-27T00:00:00",
          "2023-01-30T00:00:00",
          "2023-01-31T00:00:00",
          "2023-02-01T00:00:00",
          "2023-02-02T00:00:00",
          "2023-02-03T00:00:00",
          "2023-02-06T00:00:00",
          "2023-02-07T00:00:00",
          "2023-02-08T00:00:00",
          "2023-02-09T00:00:00",
          "2023-02-10T00:00:00",
          "2023-02-13T00:00:00",
          "2023-02-14T00:00:00",
          "2023-02-15T00:00:00",
          "2023-02-16T00:00:00",
          "2023-02-17T00:00:00",
          "2023-02-21T00:00:00",
          "2023-02-22T00:00:00",
          "2023-02-23T00:00:00",
          "2023-02-24T00:00:00",
          "2023-02-27T00:00:00",
          "2023-02-28T00:00:00",
          "2023-03-01T00:00:00",
          "2023-03-02T00:00:00",
          "2023-03-03T00:00:00",
          "2023-03-06T00:00:00",
          "2023-03-07T00:00:00",
          "2023-03-08T00:00:00",
          "2023-03-09T00:00:00",
          "2023-03-10T00:00:00",
          "2023-03-13T00:00:00",
          "2023-03-14T00:00:00",
          "2023-03-15T00:00:00",
          "2023-03-16T00:00:00",
          "2023-03-17T00:00:00",
          "2023-03-20T00:00:00",
          "2023-03-21T00:00:00",
          "2023-03-22T00:00:00",
          "2023-03-23T00:00:00",
          "2023-03-24T00:00:00",
          "2023-03-27T00:00:00",
          "2023-03-28T00:00:00",
          "2023-03-29T00:00:00",
          "2023-03-30T00:00:00",
          "2023-03-31T00:00:00",
          "2023-04-03T00:00:00",
          "2023-04-04T00:00:00",
          "2023-04-05T00:00:00",
          "2023-04-06T00:00:00",
          "2023-04-10T00:00:00",
          "2023-04-11T00:00:00",
          "2023-04-12T00:00:00",
          "2023-04-13T00:00:00",
          "2023-04-14T00:00:00",
          "2023-04-17T00:00:00",
          "2023-04-18T00:00:00",
          "2023-04-19T00:00:00",
          "2023-04-20T00:00:00",
          "2023-04-21T00:00:00",
          "2023-04-24T00:00:00",
          "2023-04-25T00:00:00",
          "2023-04-26T00:00:00",
          "2023-04-27T00:00:00",
          "2023-04-28T00:00:00",
          "2023-05-01T00:00:00",
          "2023-05-02T00:00:00",
          "2023-05-03T00:00:00",
          "2023-05-04T00:00:00",
          "2023-05-05T00:00:00",
          "2023-05-08T00:00:00",
          "2023-05-09T00:00:00",
          "2023-05-10T00:00:00",
          "2023-05-11T00:00:00",
          "2023-05-12T00:00:00",
          "2023-05-15T00:00:00",
          "2023-05-16T00:00:00",
          "2023-05-17T00:00:00",
          "2023-05-18T00:00:00",
          "2023-05-19T00:00:00",
          "2023-05-22T00:00:00",
          "2023-05-23T00:00:00",
          "2023-05-24T00:00:00",
          "2023-05-25T00:00:00",
          "2023-05-26T00:00:00",
          "2023-05-30T00:00:00",
          "2023-05-31T00:00:00",
          "2023-06-01T00:00:00",
          "2023-06-02T00:00:00",
          "2023-06-05T00:00:00",
          "2023-06-06T00:00:00",
          "2023-06-07T00:00:00",
          "2023-06-08T00:00:00",
          "2023-06-09T00:00:00",
          "2023-06-12T00:00:00",
          "2023-06-13T00:00:00",
          "2023-06-14T00:00:00",
          "2023-06-15T00:00:00",
          "2023-06-16T00:00:00",
          "2023-06-20T00:00:00",
          "2023-06-21T00:00:00",
          "2023-06-22T00:00:00",
          "2023-06-23T00:00:00",
          "2023-06-26T00:00:00",
          "2023-06-27T00:00:00",
          "2023-06-28T00:00:00",
          "2023-06-29T00:00:00",
          "2023-06-30T00:00:00",
          "2023-07-03T00:00:00",
          "2023-07-05T00:00:00",
          "2023-07-06T00:00:00",
          "2023-07-07T00:00:00",
          "2023-07-10T00:00:00",
          "2023-07-11T00:00:00",
          "2023-07-12T00:00:00",
          "2023-07-13T00:00:00",
          "2023-07-14T00:00:00",
          "2023-07-17T00:00:00",
          "2023-07-18T00:00:00",
          "2023-07-19T00:00:00",
          "2023-07-20T00:00:00",
          "2023-07-21T00:00:00",
          "2023-07-24T00:00:00",
          "2023-07-25T00:00:00",
          "2023-07-26T00:00:00",
          "2023-07-27T00:00:00",
          "2023-07-28T00:00:00",
          "2023-07-31T00:00:00",
          "2023-08-01T00:00:00",
          "2023-08-02T00:00:00",
          "2023-08-03T00:00:00",
          "2023-08-04T00:00:00",
          "2023-08-07T00:00:00",
          "2023-08-08T00:00:00",
          "2023-08-09T00:00:00",
          "2023-08-10T00:00:00",
          "2023-08-11T00:00:00",
          "2023-08-14T00:00:00",
          "2023-08-15T00:00:00",
          "2023-08-16T00:00:00",
          "2023-08-17T00:00:00",
          "2023-08-18T00:00:00",
          "2023-08-21T00:00:00",
          "2023-08-22T00:00:00",
          "2023-08-23T00:00:00",
          "2023-08-24T00:00:00",
          "2023-08-25T00:00:00",
          "2023-08-28T00:00:00",
          "2023-08-29T00:00:00",
          "2023-08-30T00:00:00",
          "2023-08-31T00:00:00",
          "2023-09-01T00:00:00",
          "2023-09-05T00:00:00",
          "2023-09-06T00:00:00",
          "2023-09-07T00:00:00",
          "2023-09-08T00:00:00",
          "2023-09-11T00:00:00",
          "2023-09-12T00:00:00",
          "2023-09-13T00:00:00",
          "2023-09-14T00:00:00",
          "2023-09-15T00:00:00",
          "2023-09-18T00:00:00",
          "2023-09-19T00:00:00",
          "2023-09-20T00:00:00",
          "2023-09-21T00:00:00",
          "2023-09-22T00:00:00",
          "2023-09-25T00:00:00",
          "2023-09-26T00:00:00",
          "2023-09-27T00:00:00",
          "2023-09-28T00:00:00",
          "2023-09-29T00:00:00",
          "2023-10-02T00:00:00",
          "2023-10-03T00:00:00",
          "2023-10-04T00:00:00",
          "2023-10-05T00:00:00",
          "2023-10-06T00:00:00",
          "2023-10-09T00:00:00",
          "2023-10-10T00:00:00",
          "2023-10-11T00:00:00",
          "2023-10-12T00:00:00",
          "2023-10-13T00:00:00",
          "2023-10-16T00:00:00",
          "2023-10-17T00:00:00",
          "2023-10-18T00:00:00",
          "2023-10-19T00:00:00",
          "2023-10-20T00:00:00",
          "2023-10-23T00:00:00",
          "2023-10-24T00:00:00",
          "2023-10-25T00:00:00",
          "2023-10-26T00:00:00",
          "2023-10-27T00:00:00",
          "2023-10-30T00:00:00",
          "2023-10-31T00:00:00",
          "2023-11-01T00:00:00",
          "2023-11-02T00:00:00",
          "2023-11-03T00:00:00",
          "2023-11-06T00:00:00",
          "2023-11-07T00:00:00",
          "2023-11-08T00:00:00",
          "2023-11-09T00:00:00",
          "2023-11-10T00:00:00",
          "2023-11-13T00:00:00",
          "2023-11-14T00:00:00",
          "2023-11-15T00:00:00",
          "2023-11-16T00:00:00",
          "2023-11-17T00:00:00",
          "2023-11-20T00:00:00",
          "2023-11-21T00:00:00",
          "2023-11-22T00:00:00",
          "2023-11-24T00:00:00",
          "2023-11-27T00:00:00",
          "2023-11-28T00:00:00",
          "2023-11-29T00:00:00",
          "2023-11-30T00:00:00",
          "2023-12-01T00:00:00",
          "2023-12-04T00:00:00",
          "2023-12-05T00:00:00",
          "2023-12-06T00:00:00",
          "2023-12-07T00:00:00",
          "2023-12-08T00:00:00",
          "2023-12-11T00:00:00",
          "2023-12-12T00:00:00",
          "2023-12-13T00:00:00",
          "2023-12-14T00:00:00",
          "2023-12-15T00:00:00",
          "2023-12-18T00:00:00",
          "2023-12-19T00:00:00",
          "2023-12-20T00:00:00",
          "2023-12-21T00:00:00",
          "2023-12-22T00:00:00",
          "2023-12-26T00:00:00",
          "2023-12-27T00:00:00",
          "2023-12-28T00:00:00",
          "2023-12-29T00:00:00"
         ],
         "y": [
          47.59048461914063,
          46.541385650634766,
          46.10502624511719,
          47.27482604980469,
          44.92593765258789,
          44.211063385009766,
          44.0532341003418,
          44.294620513916016,
          44.42459487915039,
          42.78131103515625,
          41.77862548828125,
          41.741485595703125,
          41.88074493408203,
          41.76005172729492,
          41.50938034057617,
          41.84361267089844,
          41.459468841552734,
          41.02847290039063,
          40.80360794067383,
          41.37514114379883,
          41.19712829589844,
          41.54378890991211,
          41.28144836425781,
          41.0003662109375,
          40.84109115600586,
          41.20649337768555,
          40.60685348510742,
          41.11280059814453,
          41.21586608886719,
          40.962890625,
          40.58811569213867,
          40.24145126342773,
          40.48505401611328,
          40.0072135925293,
          39.7073974609375,
          39.6324348449707,
          39.11712265014648,
          38.20829391479492,
          38.01153564453125,
          37.64613342285156,
          38.05838394165039,
          38.554962158203125,
          38.51748275756836,
          37.796043395996094,
          37.58991241455078,
          36.97153854370117,
          36.905948638916016,
          37.3463134765625,
          37.38379287719727,
          37.73982620239258,
          37.82415008544922,
          37.5711784362793,
          38.23640441894531,
          38.09586334228516,
          37.486854553222656,
          37.64613342285156,
          37.842891693115234,
          37.68361282348633,
          37.46811676025391,
          37.71171951293945,
          37.8335189819336,
          38.22703552246094,
          38.74234771728516,
          38.32072448730469,
          38.92973327636719,
          38.88289260864258,
          39.09838104248047,
          39.15460205078125,
          38.76108551025391,
          38.85478210449219,
          38.59244155883789,
          38.58307266235352,
          37.992794036865234,
          37.70235061645508,
          37.33694076538086,
          37.67424011230469,
          37.39315414428711,
          36.849735260009766,
          36.19388198852539,
          36.29694366455078,
          36.43748092651367,
          36.737300872802734,
          36.59675979614258,
          36.025230407714844,
          35.8191032409668,
          36.06270980834961,
          36.231353759765625,
          36.053340911865234,
          35.88468933105469,
          35.59109878540039,
          35.37326431274414,
          35.19332504272461,
          35.05126190185547,
          34.805023193359375,
          34.54931640625,
          34.82396697998047,
          36.69917678833008,
          37.54207229614258,
          36.58552932739258,
          35.82786560058594,
          35.61003494262695,
          35.05126190185547,
          36.0078125,
          36.0078125,
          36.32981491088867,
          36.604469299316406,
          36.33928298950195,
          36.83176040649414,
          37.021183013916016,
          36.90753173828125,
          37.78831481933594,
          38.148197174072266,
          37.276893615722656,
          37.64624786376953,
          37.93984603881836,
          37.25794982910156,
          36.84123992919922,
          36.68022918701172,
          36.272987365722656,
          34.93761444091797,
          34.492488861083984,
          34.36936950683594,
          34.20836639404297,
          34.73872756958008,
          34.7103157043457,
          34.530372619628906,
          33.74430084228516,
          33.649593353271484,
          33.79165267944336,
          34.1136589050293,
          34.08524703979492,
          34.15154266357422,
          34.39777755737305,
          33.96212387084961,
          34.32201385498047,
          34.51142883300781,
          34.82396697998047,
          35.420623779296875,
          35.52479934692383,
          35.09861755371094,
          35.24068069458008,
          34.66610336303711,
          34.54160690307617,
          34.53203582763672,
          34.101104736328125,
          33.85211563110352,
          33.51694869995117,
          33.536102294921875,
          34.16813659667969,
          34.12982940673828,
          34.32135772705078,
          34.20643997192383,
          34.51288604736328,
          34.54160690307617,
          33.89042663574219,
          33.97660827636719,
          34.96296310424805,
          35.10660934448242,
          35.441776275634766,
          35.27898406982422,
          35.10660934448242,
          34.62779235839844,
          34.83847427368164,
          34.67567443847656,
          34.618221282958984,
          34.37881851196289,
          33.8808479309082,
          34.26389694213867,
          33.8808479309082,
          32.91364288330078,
          32.82745742797852,
          32.79872512817383,
          32.501861572265625,
          32.70296859741211,
          32.63593292236328,
          32.70296859741211,
          32.62635803222656,
          32.214576721191406,
          32.54975128173828,
          32.1954231262207,
          31.45804786682129,
          31.30483055114746,
          31.582544326782227,
          31.027118682861328,
          30.739830017089844,
          30.73025321960449,
          31.764488220214844,
          32.501861572265625,
          32.463558197021484,
          31.8985595703125,
          32.051780700683594,
          31.726186752319336,
          31.793222427368164,
          31.764488220214844,
          31.707035064697266,
          31.52508354187012,
          30.749406814575195,
          31.860254287719727,
          31.362287521362305,
          30.07906723022461,
          29.868391036987305,
          29.35127067565918,
          29.533218383789062,
          29.14059257507324,
          29.427879333496094,
          29.83966064453125,
          28.83415031433105,
          29.25550651550293,
          29.26508331298828,
          29.21720314025879,
          29.20762634277344,
          29.9354248046875,
          29.858814239501957,
          29.92584800720215,
          29.514068603515625,
          28.805574417114254,
          28.61146545410156,
          28.126197814941406,
          28.397947311401367,
          29.30055046081543,
          28.89292335510254,
          29.038503646850582,
          29.09673500061035,
          29.40730857849121,
          29.42671775817871,
          29.601415634155277,
          29.25201988220215,
          28.81528091430664,
          29.193790435791016,
          29.57229804992676,
          28.058259963989254,
          28.417360305786133,
          28.23295783996582,
          27.941795349121094,
          27.786508560180664,
          27.932090759277344,
          27.79621315002441,
          27.73798179626465,
          25.874547958374023,
          25.36016273498535,
          25.84543228149414,
          26.26276397705078,
          27.33035469055176,
          26.81597137451172,
          27.475934982299805,
          27.56328582763672,
          27.57299041748047,
          27.767099380493164,
          27.941795349121094,
          27.941795349121094
         ]
        },
        {
         "line": {
          "color": "orange"
         },
         "mode": "lines",
         "name": "WMA",
         "type": "scatter",
         "x": [
          "2023-01-03T00:00:00",
          "2023-01-04T00:00:00",
          "2023-01-05T00:00:00",
          "2023-01-06T00:00:00",
          "2023-01-09T00:00:00",
          "2023-01-10T00:00:00",
          "2023-01-11T00:00:00",
          "2023-01-12T00:00:00",
          "2023-01-13T00:00:00",
          "2023-01-17T00:00:00",
          "2023-01-18T00:00:00",
          "2023-01-19T00:00:00",
          "2023-01-20T00:00:00",
          "2023-01-23T00:00:00",
          "2023-01-24T00:00:00",
          "2023-01-25T00:00:00",
          "2023-01-26T00:00:00",
          "2023-01-27T00:00:00",
          "2023-01-30T00:00:00",
          "2023-01-31T00:00:00",
          "2023-02-01T00:00:00",
          "2023-02-02T00:00:00",
          "2023-02-03T00:00:00",
          "2023-02-06T00:00:00",
          "2023-02-07T00:00:00",
          "2023-02-08T00:00:00",
          "2023-02-09T00:00:00",
          "2023-02-10T00:00:00",
          "2023-02-13T00:00:00",
          "2023-02-14T00:00:00",
          "2023-02-15T00:00:00",
          "2023-02-16T00:00:00",
          "2023-02-17T00:00:00",
          "2023-02-21T00:00:00",
          "2023-02-22T00:00:00",
          "2023-02-23T00:00:00",
          "2023-02-24T00:00:00",
          "2023-02-27T00:00:00",
          "2023-02-28T00:00:00",
          "2023-03-01T00:00:00",
          "2023-03-02T00:00:00",
          "2023-03-03T00:00:00",
          "2023-03-06T00:00:00",
          "2023-03-07T00:00:00",
          "2023-03-08T00:00:00",
          "2023-03-09T00:00:00",
          "2023-03-10T00:00:00",
          "2023-03-13T00:00:00",
          "2023-03-14T00:00:00",
          "2023-03-15T00:00:00",
          "2023-03-16T00:00:00",
          "2023-03-17T00:00:00",
          "2023-03-20T00:00:00",
          "2023-03-21T00:00:00",
          "2023-03-22T00:00:00",
          "2023-03-23T00:00:00",
          "2023-03-24T00:00:00",
          "2023-03-27T00:00:00",
          "2023-03-28T00:00:00",
          "2023-03-29T00:00:00",
          "2023-03-30T00:00:00",
          "2023-03-31T00:00:00",
          "2023-04-03T00:00:00",
          "2023-04-04T00:00:00",
          "2023-04-05T00:00:00",
          "2023-04-06T00:00:00",
          "2023-04-10T00:00:00",
          "2023-04-11T00:00:00",
          "2023-04-12T00:00:00",
          "2023-04-13T00:00:00",
          "2023-04-14T00:00:00",
          "2023-04-17T00:00:00",
          "2023-04-18T00:00:00",
          "2023-04-19T00:00:00",
          "2023-04-20T00:00:00",
          "2023-04-21T00:00:00",
          "2023-04-24T00:00:00",
          "2023-04-25T00:00:00",
          "2023-04-26T00:00:00",
          "2023-04-27T00:00:00",
          "2023-04-28T00:00:00",
          "2023-05-01T00:00:00",
          "2023-05-02T00:00:00",
          "2023-05-03T00:00:00",
          "2023-05-04T00:00:00",
          "2023-05-05T00:00:00",
          "2023-05-08T00:00:00",
          "2023-05-09T00:00:00",
          "2023-05-10T00:00:00",
          "2023-05-11T00:00:00",
          "2023-05-12T00:00:00",
          "2023-05-15T00:00:00",
          "2023-05-16T00:00:00",
          "2023-05-17T00:00:00",
          "2023-05-18T00:00:00",
          "2023-05-19T00:00:00",
          "2023-05-22T00:00:00",
          "2023-05-23T00:00:00",
          "2023-05-24T00:00:00",
          "2023-05-25T00:00:00",
          "2023-05-26T00:00:00",
          "2023-05-30T00:00:00",
          "2023-05-31T00:00:00",
          "2023-06-01T00:00:00",
          "2023-06-02T00:00:00",
          "2023-06-05T00:00:00",
          "2023-06-06T00:00:00",
          "2023-06-07T00:00:00",
          "2023-06-08T00:00:00",
          "2023-06-09T00:00:00",
          "2023-06-12T00:00:00",
          "2023-06-13T00:00:00",
          "2023-06-14T00:00:00",
          "2023-06-15T00:00:00",
          "2023-06-16T00:00:00",
          "2023-06-20T00:00:00",
          "2023-06-21T00:00:00",
          "2023-06-22T00:00:00",
          "2023-06-23T00:00:00",
          "2023-06-26T00:00:00",
          "2023-06-27T00:00:00",
          "2023-06-28T00:00:00",
          "2023-06-29T00:00:00",
          "2023-06-30T00:00:00",
          "2023-07-03T00:00:00",
          "2023-07-05T00:00:00",
          "2023-07-06T00:00:00",
          "2023-07-07T00:00:00",
          "2023-07-10T00:00:00",
          "2023-07-11T00:00:00",
          "2023-07-12T00:00:00",
          "2023-07-13T00:00:00",
          "2023-07-14T00:00:00",
          "2023-07-17T00:00:00",
          "2023-07-18T00:00:00",
          "2023-07-19T00:00:00",
          "2023-07-20T00:00:00",
          "2023-07-21T00:00:00",
          "2023-07-24T00:00:00",
          "2023-07-25T00:00:00",
          "2023-07-26T00:00:00",
          "2023-07-27T00:00:00",
          "2023-07-28T00:00:00",
          "2023-07-31T00:00:00",
          "2023-08-01T00:00:00",
          "2023-08-02T00:00:00",
          "2023-08-03T00:00:00",
          "2023-08-04T00:00:00",
          "2023-08-07T00:00:00",
          "2023-08-08T00:00:00",
          "2023-08-09T00:00:00",
          "2023-08-10T00:00:00",
          "2023-08-11T00:00:00",
          "2023-08-14T00:00:00",
          "2023-08-15T00:00:00",
          "2023-08-16T00:00:00",
          "2023-08-17T00:00:00",
          "2023-08-18T00:00:00",
          "2023-08-21T00:00:00",
          "2023-08-22T00:00:00",
          "2023-08-23T00:00:00",
          "2023-08-24T00:00:00",
          "2023-08-25T00:00:00",
          "2023-08-28T00:00:00",
          "2023-08-29T00:00:00",
          "2023-08-30T00:00:00",
          "2023-08-31T00:00:00",
          "2023-09-01T00:00:00",
          "2023-09-05T00:00:00",
          "2023-09-06T00:00:00",
          "2023-09-07T00:00:00",
          "2023-09-08T00:00:00",
          "2023-09-11T00:00:00",
          "2023-09-12T00:00:00",
          "2023-09-13T00:00:00",
          "2023-09-14T00:00:00",
          "2023-09-15T00:00:00",
          "2023-09-18T00:00:00",
          "2023-09-19T00:00:00",
          "2023-09-20T00:00:00",
          "2023-09-21T00:00:00",
          "2023-09-22T00:00:00",
          "2023-09-25T00:00:00",
          "2023-09-26T00:00:00",
          "2023-09-27T00:00:00",
          "2023-09-28T00:00:00",
          "2023-09-29T00:00:00",
          "2023-10-02T00:00:00",
          "2023-10-03T00:00:00",
          "2023-10-04T00:00:00",
          "2023-10-05T00:00:00",
          "2023-10-06T00:00:00",
          "2023-10-09T00:00:00",
          "2023-10-10T00:00:00",
          "2023-10-11T00:00:00",
          "2023-10-12T00:00:00",
          "2023-10-13T00:00:00",
          "2023-10-16T00:00:00",
          "2023-10-17T00:00:00",
          "2023-10-18T00:00:00",
          "2023-10-19T00:00:00",
          "2023-10-20T00:00:00",
          "2023-10-23T00:00:00",
          "2023-10-24T00:00:00",
          "2023-10-25T00:00:00",
          "2023-10-26T00:00:00",
          "2023-10-27T00:00:00",
          "2023-10-30T00:00:00",
          "2023-10-31T00:00:00",
          "2023-11-01T00:00:00",
          "2023-11-02T00:00:00",
          "2023-11-03T00:00:00",
          "2023-11-06T00:00:00",
          "2023-11-07T00:00:00",
          "2023-11-08T00:00:00",
          "2023-11-09T00:00:00",
          "2023-11-10T00:00:00",
          "2023-11-13T00:00:00",
          "2023-11-14T00:00:00",
          "2023-11-15T00:00:00",
          "2023-11-16T00:00:00",
          "2023-11-17T00:00:00",
          "2023-11-20T00:00:00",
          "2023-11-21T00:00:00",
          "2023-11-22T00:00:00",
          "2023-11-24T00:00:00",
          "2023-11-27T00:00:00",
          "2023-11-28T00:00:00",
          "2023-11-29T00:00:00",
          "2023-11-30T00:00:00",
          "2023-12-01T00:00:00",
          "2023-12-04T00:00:00",
          "2023-12-05T00:00:00",
          "2023-12-06T00:00:00",
          "2023-12-07T00:00:00",
          "2023-12-08T00:00:00",
          "2023-12-11T00:00:00",
          "2023-12-12T00:00:00",
          "2023-12-13T00:00:00",
          "2023-12-14T00:00:00",
          "2023-12-15T00:00:00",
          "2023-12-18T00:00:00",
          "2023-12-19T00:00:00",
          "2023-12-20T00:00:00",
          "2023-12-21T00:00:00",
          "2023-12-22T00:00:00",
          "2023-12-26T00:00:00",
          "2023-12-27T00:00:00",
          "2023-12-28T00:00:00",
          "2023-12-29T00:00:00"
         ],
         "y": [
          47.80658764204956,
          47.74450294607379,
          47.649923437334635,
          47.634167516172816,
          47.452508992162244,
          47.22424714788428,
          46.98937672582166,
          46.77728209472055,
          46.5818575121499,
          46.28010043252278,
          45.919825925028384,
          45.56776055209155,
          45.2373732205095,
          44.91391473215789,
          44.58858115097572,
          44.30333424084292,
          44.00988851274763,
          43.709183256027146,
          43.41450650821179,
          43.17628245048335,
          42.94131906631545,
          42.74614771011428,
          42.54869195158258,
          42.34825968624923,
          42.15437819570156,
          42.00202372508683,
          41.822987016198674,
          41.69620436870406,
          41.59243886224155,
          41.4869278029268,
          41.36931033204929,
          41.24137341917442,
          41.14756027935761,
          41.03173076460514,
          40.905578585093835,
          40.784960601130145,
          40.640287061042976,
          40.446008268835506,
          40.2494235297142,
          40.03691718378678,
          39.86292898243871,
          39.73260223689338,
          39.607585014380845,
          39.44018255900867,
          39.268533556332144,
          39.06376900696402,
          38.86447346504099,
          38.7051480579846,
          38.55833065803415,
          38.445459732281165,
          38.34777361301366,
          38.24115668611574,
          38.18886368850182,
          38.13329368741641,
          38.04338473052227,
          37.97214524969092,
          37.92301389384152,
          37.871205607071296,
          37.81261256175675,
          37.778504432715806,
          37.75902713343428,
          37.77321978038168,
          37.82733587443535,
          37.85475147416439,
          37.9273984937245,
          37.99727667258878,
          38.08035454961467,
          38.1646327784496,
          38.21805649555375,
          38.27621125470241,
          38.31553508965253,
          38.35402816622128,
          38.34987387633676,
          38.32469668646751,
          38.27251878747799,
          38.242541355452516,
          38.192370983180155,
          38.10470038916677,
          37.973990877273636,
          37.85440450583773,
          37.74764886865475,
          37.66600131518735,
          37.57800748665345,
          37.4527901898464,
          37.317349598325535,
          37.203694160348675,
          37.10566171166932,
          36.99839872914582,
          36.88358927947547,
          36.75333227899861,
          36.61454466645941,
          36.47164568407782,
          36.32665219800226,
          36.174229617189305,
          36.01421609887936,
          35.884348592147454,
          35.89447248862882,
          35.96780570269805,
          35.97840371155387,
          35.94169218317041,
          35.89674407507986,
          35.81912875997609,
          35.814012226800024,
          35.81216940856332,
          35.836638154654665,
          35.882667644857776,
          35.91101252739065,
          35.972963239171825,
          36.04666029643543,
          36.111081644819286,
          36.23582736611954,
          36.38245769557107,
          36.46376914226363,
          36.56696267903145,
          36.686504025764656,
          36.7548099386281,
          36.79141022066764,
          36.814550277634794,
          36.80692210455833,
          36.704983180379635,
          36.572975769418804,
          36.43385365678759,
          36.284700919841896,
          36.17296459404706,
          36.059478778557235,
          35.938481767776565,
          35.770690889781335,
          35.60336656053665,
          35.45120462877997,
          35.32572879697302,
          35.20060289317164,
          35.08478448426195,
          34.99051988535914,
          34.87096891732052,
          34.78274618815906,
          34.712555204119,
          34.66963367744032,
          34.67327275769464,
          34.68775869472861,
          34.67842794521689,
          34.68640593354925,
          34.659773201778016,
          34.63189476464182,
          34.61172630046976,
          34.56855252458544,
          34.51495618773211,
          34.445210687045396,
          34.383574396518654,
          34.36897867888653,
          34.35253998328899,
          34.34990013761473,
          34.339056625742046,
          34.35065837916482,
          34.36472716120076,
          34.333859288633754,
          34.30857506174172,
          34.35050985026242,
          34.399466274994346,
          34.469091969757834,
          34.52414941083034,
          34.56454199053384,
          34.57016681802684,
          34.58868185522521,
          34.59469724758505,
          34.5963458075312,
          34.581990594347126,
          34.535858605295566,
          34.520192930851074,
          34.48016604531575,
          34.37678470517614,
          34.271775945654056,
          34.16900769125652,
          34.050035326351676,
          33.94887143402851,
          33.845914803115015,
          33.74975131180486,
          33.65035638668267,
          33.52636023460351,
          33.43019694060528,
          33.313960784761775,
          33.15182440621512,
          32.98664554821447,
          32.84859171994214,
          32.67791711403231,
          32.494694249383336,
          32.321212721575655,
          32.22983694781224,
          32.19837186841542,
          32.17110538012876,
          32.11138344750616,
          32.068950737638424,
          32.01092704998449,
          31.964791260329374,
          31.923631926475487,
          31.884949543205977,
          31.839072997934124,
          31.74644735176575,
          31.738144785312596,
          31.698094236439672,
          31.573154529327244,
          31.44038409435103,
          31.27843656680854,
          31.13729257066849,
          30.97671308658393,
          30.84472080756878,
          30.749005266011054,
          30.589793731426372,
          30.468792971719076,
          30.355693854721896,
          30.244694047373503,
          30.138175710668705,
          30.08769992302204,
          30.034629549298966,
          29.988352183637947,
          29.915657532038946,
          29.799644117872116,
          29.679348034224486,
          29.535073130001575,
          29.41883110177928,
          29.373837156248797,
          29.306705470155613,
          29.256757397957035,
          29.217539528907814,
          29.206169837801326,
          29.201354905302303,
          29.21184595699968,
          29.203804391945525,
          29.17084060161572,
          29.167093690393006,
          29.191112330394425,
          29.110170148276342,
          29.05762640948366,
          28.994146619524276,
          28.9135298141705,
          28.826878120159282,
          28.75284697621914,
          28.672704607395115,
          28.592164189944715,
          28.386754496344203,
          28.154079512422307,
          27.966140512175162,
          27.81686818540977,
          27.750245178861572,
          27.653526066559287,
          27.60722218593353,
          27.56973937462116,
          27.534312328094334,
          27.514304020134688,
          27.51012068311569,
          27.508280025914384
         ]
        },
        {
         "marker": {
          "color": "green",
          "size": 10,
          "symbol": "triangle-up"
         },
         "mode": "markers",
         "name": "Buy Signal",
         "type": "scatter",
         "x": [
          "2023-01-03T00:00:00",
          "2023-01-04T00:00:00",
          "2023-01-05T00:00:00",
          "2023-01-06T00:00:00",
          "2023-01-09T00:00:00",
          "2023-01-10T00:00:00",
          "2023-01-11T00:00:00",
          "2023-01-12T00:00:00",
          "2023-01-13T00:00:00",
          "2023-01-17T00:00:00",
          "2023-01-18T00:00:00",
          "2023-01-19T00:00:00",
          "2023-01-20T00:00:00",
          "2023-01-23T00:00:00",
          "2023-01-24T00:00:00",
          "2023-01-25T00:00:00",
          "2023-01-26T00:00:00",
          "2023-01-27T00:00:00",
          "2023-01-30T00:00:00",
          "2023-01-31T00:00:00",
          "2023-02-01T00:00:00",
          "2023-02-02T00:00:00",
          "2023-02-03T00:00:00",
          "2023-02-06T00:00:00",
          "2023-02-07T00:00:00",
          "2023-02-08T00:00:00",
          "2023-02-09T00:00:00",
          "2023-02-10T00:00:00",
          "2023-02-13T00:00:00",
          "2023-02-14T00:00:00",
          "2023-02-15T00:00:00",
          "2023-02-16T00:00:00",
          "2023-02-17T00:00:00",
          "2023-02-21T00:00:00",
          "2023-02-22T00:00:00",
          "2023-02-23T00:00:00",
          "2023-02-24T00:00:00",
          "2023-02-27T00:00:00",
          "2023-02-28T00:00:00",
          "2023-03-01T00:00:00",
          "2023-03-02T00:00:00",
          "2023-03-03T00:00:00",
          "2023-03-06T00:00:00",
          "2023-03-07T00:00:00",
          "2023-03-08T00:00:00",
          "2023-03-09T00:00:00",
          "2023-03-10T00:00:00",
          "2023-03-13T00:00:00",
          "2023-03-14T00:00:00",
          "2023-03-15T00:00:00",
          "2023-03-16T00:00:00",
          "2023-03-17T00:00:00",
          "2023-03-21T00:00:00",
          "2023-03-22T00:00:00",
          "2023-03-23T00:00:00",
          "2023-03-24T00:00:00",
          "2023-03-27T00:00:00",
          "2023-03-28T00:00:00",
          "2023-03-29T00:00:00",
          "2023-04-18T00:00:00",
          "2023-04-19T00:00:00",
          "2023-04-20T00:00:00",
          "2023-04-21T00:00:00",
          "2023-04-24T00:00:00",
          "2023-04-25T00:00:00",
          "2023-04-26T00:00:00",
          "2023-04-27T00:00:00",
          "2023-04-28T00:00:00",
          "2023-05-01T00:00:00",
          "2023-05-02T00:00:00",
          "2023-05-03T00:00:00",
          "2023-05-04T00:00:00",
          "2023-05-05T00:00:00",
          "2023-05-08T00:00:00",
          "2023-05-09T00:00:00",
          "2023-05-10T00:00:00",
          "2023-05-11T00:00:00",
          "2023-05-12T00:00:00",
          "2023-05-15T00:00:00",
          "2023-05-16T00:00:00",
          "2023-05-17T00:00:00",
          "2023-05-18T00:00:00",
          "2023-05-19T00:00:00",
          "2023-05-25T00:00:00",
          "2023-05-26T00:00:00",
          "2023-05-30T00:00:00",
          "2023-06-22T00:00:00",
          "2023-06-23T00:00:00",
          "2023-06-26T00:00:00",
          "2023-06-27T00:00:00",
          "2023-06-28T00:00:00",
          "2023-06-29T00:00:00",
          "2023-06-30T00:00:00",
          "2023-07-03T00:00:00",
          "2023-07-05T00:00:00",
          "2023-07-06T00:00:00",
          "2023-07-07T00:00:00",
          "2023-07-10T00:00:00",
          "2023-07-11T00:00:00",
          "2023-07-12T00:00:00",
          "2023-07-13T00:00:00",
          "2023-07-14T00:00:00",
          "2023-07-17T00:00:00",
          "2023-07-18T00:00:00",
          "2023-07-19T00:00:00",
          "2023-07-28T00:00:00",
          "2023-07-31T00:00:00",
          "2023-08-01T00:00:00",
          "2023-08-02T00:00:00",
          "2023-08-03T00:00:00",
          "2023-08-04T00:00:00",
          "2023-08-07T00:00:00",
          "2023-08-08T00:00:00",
          "2023-08-09T00:00:00",
          "2023-08-10T00:00:00",
          "2023-08-15T00:00:00",
          "2023-08-16T00:00:00",
          "2023-08-30T00:00:00",
          "2023-08-31T00:00:00",
          "2023-09-01T00:00:00",
          "2023-09-05T00:00:00",
          "2023-09-06T00:00:00",
          "2023-09-07T00:00:00",
          "2023-09-08T00:00:00",
          "2023-09-11T00:00:00",
          "2023-09-12T00:00:00",
          "2023-09-13T00:00:00",
          "2023-09-14T00:00:00",
          "2023-09-15T00:00:00",
          "2023-09-18T00:00:00",
          "2023-09-19T00:00:00",
          "2023-09-20T00:00:00",
          "2023-09-21T00:00:00",
          "2023-09-22T00:00:00",
          "2023-09-25T00:00:00",
          "2023-09-26T00:00:00",
          "2023-09-27T00:00:00",
          "2023-09-28T00:00:00",
          "2023-09-29T00:00:00",
          "2023-10-04T00:00:00",
          "2023-10-05T00:00:00",
          "2023-10-06T00:00:00",
          "2023-10-09T00:00:00",
          "2023-10-10T00:00:00",
          "2023-10-11T00:00:00",
          "2023-10-12T00:00:00",
          "2023-10-13T00:00:00",
          "2023-10-17T00:00:00",
          "2023-10-18T00:00:00",
          "2023-10-19T00:00:00",
          "2023-10-20T00:00:00",
          "2023-10-23T00:00:00",
          "2023-10-24T00:00:00",
          "2023-10-25T00:00:00",
          "2023-10-26T00:00:00",
          "2023-10-27T00:00:00",
          "2023-10-30T00:00:00",
          "2023-10-31T00:00:00",
          "2023-11-01T00:00:00",
          "2023-11-02T00:00:00",
          "2023-11-03T00:00:00",
          "2023-11-06T00:00:00",
          "2023-11-07T00:00:00",
          "2023-11-08T00:00:00",
          "2023-11-09T00:00:00",
          "2023-11-10T00:00:00",
          "2023-11-13T00:00:00",
          "2023-11-14T00:00:00",
          "2023-11-15T00:00:00",
          "2023-11-16T00:00:00",
          "2023-11-17T00:00:00",
          "2023-11-20T00:00:00",
          "2023-11-28T00:00:00",
          "2023-12-01T00:00:00",
          "2023-12-04T00:00:00",
          "2023-12-05T00:00:00",
          "2023-12-06T00:00:00",
          "2023-12-07T00:00:00",
          "2023-12-08T00:00:00",
          "2023-12-11T00:00:00",
          "2023-12-12T00:00:00",
          "2023-12-13T00:00:00",
          "2023-12-14T00:00:00",
          "2023-12-15T00:00:00",
          "2023-12-18T00:00:00",
          "2023-12-19T00:00:00",
          "2023-12-20T00:00:00",
          "2023-12-21T00:00:00",
          "2023-12-22T00:00:00"
         ],
         "y": [
          47.59048461914063,
          46.541385650634766,
          46.10502624511719,
          47.27482604980469,
          44.92593765258789,
          44.211063385009766,
          44.0532341003418,
          44.294620513916016,
          44.42459487915039,
          42.78131103515625,
          41.77862548828125,
          41.741485595703125,
          41.88074493408203,
          41.76005172729492,
          41.50938034057617,
          41.84361267089844,
          41.459468841552734,
          41.02847290039063,
          40.80360794067383,
          41.37514114379883,
          41.19712829589844,
          41.54378890991211,
          41.28144836425781,
          41.0003662109375,
          40.84109115600586,
          41.20649337768555,
          40.60685348510742,
          41.11280059814453,
          41.21586608886719,
          40.962890625,
          40.58811569213867,
          40.24145126342773,
          40.48505401611328,
          40.0072135925293,
          39.7073974609375,
          39.6324348449707,
          39.11712265014648,
          38.20829391479492,
          38.01153564453125,
          37.64613342285156,
          38.05838394165039,
          38.554962158203125,
          38.51748275756836,
          37.796043395996094,
          37.58991241455078,
          36.97153854370117,
          36.905948638916016,
          37.3463134765625,
          37.38379287719727,
          37.73982620239258,
          37.82415008544922,
          37.5711784362793,
          38.09586334228516,
          37.486854553222656,
          37.64613342285156,
          37.842891693115234,
          37.68361282348633,
          37.46811676025391,
          37.71171951293945,
          37.992794036865234,
          37.70235061645508,
          37.33694076538086,
          37.67424011230469,
          37.39315414428711,
          36.849735260009766,
          36.19388198852539,
          36.29694366455078,
          36.43748092651367,
          36.737300872802734,
          36.59675979614258,
          36.025230407714844,
          35.8191032409668,
          36.06270980834961,
          36.231353759765625,
          36.053340911865234,
          35.88468933105469,
          35.59109878540039,
          35.37326431274414,
          35.19332504272461,
          35.05126190185547,
          34.805023193359375,
          34.54931640625,
          34.82396697998047,
          35.82786560058594,
          35.61003494262695,
          35.05126190185547,
          36.68022918701172,
          36.272987365722656,
          34.93761444091797,
          34.492488861083984,
          34.36936950683594,
          34.20836639404297,
          34.73872756958008,
          34.7103157043457,
          34.530372619628906,
          33.74430084228516,
          33.649593353271484,
          33.79165267944336,
          34.1136589050293,
          34.08524703979492,
          34.15154266357422,
          34.39777755737305,
          33.96212387084961,
          34.32201385498047,
          34.51142883300781,
          34.54160690307617,
          34.53203582763672,
          34.101104736328125,
          33.85211563110352,
          33.51694869995117,
          33.536102294921875,
          34.16813659667969,
          34.12982940673828,
          34.32135772705078,
          34.20643997192383,
          33.89042663574219,
          33.97660827636719,
          34.37881851196289,
          33.8808479309082,
          34.26389694213867,
          33.8808479309082,
          32.91364288330078,
          32.82745742797852,
          32.79872512817383,
          32.501861572265625,
          32.70296859741211,
          32.63593292236328,
          32.70296859741211,
          32.62635803222656,
          32.214576721191406,
          32.54975128173828,
          32.1954231262207,
          31.45804786682129,
          31.30483055114746,
          31.582544326782227,
          31.027118682861328,
          30.739830017089844,
          30.73025321960449,
          31.764488220214844,
          31.8985595703125,
          32.051780700683594,
          31.726186752319336,
          31.793222427368164,
          31.764488220214844,
          31.707035064697266,
          31.52508354187012,
          30.749406814575195,
          31.362287521362305,
          30.07906723022461,
          29.868391036987305,
          29.35127067565918,
          29.533218383789062,
          29.14059257507324,
          29.427879333496094,
          29.83966064453125,
          28.83415031433105,
          29.25550651550293,
          29.26508331298828,
          29.21720314025879,
          29.20762634277344,
          29.9354248046875,
          29.858814239501957,
          29.92584800720215,
          29.514068603515625,
          28.805574417114254,
          28.61146545410156,
          28.126197814941406,
          28.397947311401367,
          29.30055046081543,
          28.89292335510254,
          29.038503646850582,
          29.09673500061035,
          28.81528091430664,
          28.058259963989254,
          28.417360305786133,
          28.23295783996582,
          27.941795349121094,
          27.786508560180664,
          27.932090759277344,
          27.79621315002441,
          27.73798179626465,
          25.874547958374023,
          25.36016273498535,
          25.84543228149414,
          26.26276397705078,
          27.33035469055176,
          26.81597137451172,
          27.475934982299805,
          27.56328582763672
         ]
        },
        {
         "marker": {
          "color": "red",
          "size": 10,
          "symbol": "triangle-down"
         },
         "mode": "markers",
         "name": "Sell Signal",
         "type": "scatter",
         "x": [
          "2023-03-20T00:00:00",
          "2023-03-30T00:00:00",
          "2023-03-31T00:00:00",
          "2023-04-03T00:00:00",
          "2023-04-04T00:00:00",
          "2023-04-05T00:00:00",
          "2023-04-06T00:00:00",
          "2023-04-10T00:00:00",
          "2023-04-11T00:00:00",
          "2023-04-12T00:00:00",
          "2023-04-13T00:00:00",
          "2023-04-14T00:00:00",
          "2023-04-17T00:00:00",
          "2023-05-22T00:00:00",
          "2023-05-23T00:00:00",
          "2023-05-24T00:00:00",
          "2023-05-31T00:00:00",
          "2023-06-01T00:00:00",
          "2023-06-02T00:00:00",
          "2023-06-05T00:00:00",
          "2023-06-06T00:00:00",
          "2023-06-07T00:00:00",
          "2023-06-08T00:00:00",
          "2023-06-09T00:00:00",
          "2023-06-12T00:00:00",
          "2023-06-13T00:00:00",
          "2023-06-14T00:00:00",
          "2023-06-15T00:00:00",
          "2023-06-16T00:00:00",
          "2023-06-20T00:00:00",
          "2023-06-21T00:00:00",
          "2023-07-20T00:00:00",
          "2023-07-21T00:00:00",
          "2023-07-24T00:00:00",
          "2023-07-25T00:00:00",
          "2023-07-26T00:00:00",
          "2023-07-27T00:00:00",
          "2023-08-11T00:00:00",
          "2023-08-14T00:00:00",
          "2023-08-17T00:00:00",
          "2023-08-18T00:00:00",
          "2023-08-21T00:00:00",
          "2023-08-22T00:00:00",
          "2023-08-23T00:00:00",
          "2023-08-24T00:00:00",
          "2023-08-25T00:00:00",
          "2023-08-28T00:00:00",
          "2023-08-29T00:00:00",
          "2023-10-02T00:00:00",
          "2023-10-03T00:00:00",
          "2023-10-16T00:00:00",
          "2023-11-21T00:00:00",
          "2023-11-22T00:00:00",
          "2023-11-24T00:00:00",
          "2023-11-27T00:00:00",
          "2023-11-29T00:00:00",
          "2023-11-30T00:00:00",
          "2023-12-26T00:00:00",
          "2023-12-27T00:00:00",
          "2023-12-28T00:00:00",
          "2023-12-29T00:00:00"
         ],
         "y": [
          38.23640441894531,
          37.8335189819336,
          38.22703552246094,
          38.74234771728516,
          38.32072448730469,
          38.92973327636719,
          38.88289260864258,
          39.09838104248047,
          39.15460205078125,
          38.76108551025391,
          38.85478210449219,
          38.59244155883789,
          38.58307266235352,
          36.69917678833008,
          37.54207229614258,
          36.58552932739258,
          36.0078125,
          36.0078125,
          36.32981491088867,
          36.604469299316406,
          36.33928298950195,
          36.83176040649414,
          37.021183013916016,
          36.90753173828125,
          37.78831481933594,
          38.148197174072266,
          37.276893615722656,
          37.64624786376953,
          37.93984603881836,
          37.25794982910156,
          36.84123992919922,
          34.82396697998047,
          35.420623779296875,
          35.52479934692383,
          35.09861755371094,
          35.24068069458008,
          34.66610336303711,
          34.51288604736328,
          34.54160690307617,
          34.96296310424805,
          35.10660934448242,
          35.441776275634766,
          35.27898406982422,
          35.10660934448242,
          34.62779235839844,
          34.83847427368164,
          34.67567443847656,
          34.618221282958984,
          32.501861572265625,
          32.463558197021484,
          31.860254287719727,
          29.40730857849121,
          29.42671775817871,
          29.601415634155277,
          29.25201988220215,
          29.193790435791016,
          29.57229804992676,
          27.57299041748047,
          27.767099380493164,
          27.941795349121094,
          27.941795349121094
         ]
        }
       ],
       "layout": {
        "height": 600,
        "legend": {
         "x": 0,
         "y": 1
        },
        "template": {
         "data": {
          "bar": [
           {
            "error_x": {
             "color": "#f2f5fa"
            },
            "error_y": {
             "color": "#f2f5fa"
            },
            "marker": {
             "line": {
              "color": "rgb(17,17,17)",
              "width": 0.5
             },
             "pattern": {
              "fillmode": "overlay",
              "size": 10,
              "solidity": 0.2
             }
            },
            "type": "bar"
           }
          ],
          "barpolar": [
           {
            "marker": {
             "line": {
              "color": "rgb(17,17,17)",
              "width": 0.5
             },
             "pattern": {
              "fillmode": "overlay",
              "size": 10,
              "solidity": 0.2
             }
            },
            "type": "barpolar"
           }
          ],
          "carpet": [
           {
            "aaxis": {
             "endlinecolor": "#A2B1C6",
             "gridcolor": "#506784",
             "linecolor": "#506784",
             "minorgridcolor": "#506784",
             "startlinecolor": "#A2B1C6"
            },
            "baxis": {
             "endlinecolor": "#A2B1C6",
             "gridcolor": "#506784",
             "linecolor": "#506784",
             "minorgridcolor": "#506784",
             "startlinecolor": "#A2B1C6"
            },
            "type": "carpet"
           }
          ],
          "choropleth": [
           {
            "colorbar": {
             "outlinewidth": 0,
             "ticks": ""
            },
            "type": "choropleth"
           }
          ],
          "contour": [
           {
            "colorbar": {
             "outlinewidth": 0,
             "ticks": ""
            },
            "colorscale": [
             [
              0,
              "#0d0887"
             ],
             [
              0.1111111111111111,
              "#46039f"
             ],
             [
              0.2222222222222222,
              "#7201a8"
             ],
             [
              0.3333333333333333,
              "#9c179e"
             ],
             [
              0.4444444444444444,
              "#bd3786"
             ],
             [
              0.5555555555555556,
              "#d8576b"
             ],
             [
              0.6666666666666666,
              "#ed7953"
             ],
             [
              0.7777777777777778,
              "#fb9f3a"
             ],
             [
              0.8888888888888888,
              "#fdca26"
             ],
             [
              1,
              "#f0f921"
             ]
            ],
            "type": "contour"
           }
          ],
          "contourcarpet": [
           {
            "colorbar": {
             "outlinewidth": 0,
             "ticks": ""
            },
            "type": "contourcarpet"
           }
          ],
          "heatmap": [
           {
            "colorbar": {
             "outlinewidth": 0,
             "ticks": ""
            },
            "colorscale": [
             [
              0,
              "#0d0887"
             ],
             [
              0.1111111111111111,
              "#46039f"
             ],
             [
              0.2222222222222222,
              "#7201a8"
             ],
             [
              0.3333333333333333,
              "#9c179e"
             ],
             [
              0.4444444444444444,
              "#bd3786"
             ],
             [
              0.5555555555555556,
              "#d8576b"
             ],
             [
              0.6666666666666666,
              "#ed7953"
             ],
             [
              0.7777777777777778,
              "#fb9f3a"
             ],
             [
              0.8888888888888888,
              "#fdca26"
             ],
             [
              1,
              "#f0f921"
             ]
            ],
            "type": "heatmap"
           }
          ],
          "heatmapgl": [
           {
            "colorbar": {
             "outlinewidth": 0,
             "ticks": ""
            },
            "colorscale": [
             [
              0,
              "#0d0887"
             ],
             [
              0.1111111111111111,
              "#46039f"
             ],
             [
              0.2222222222222222,
              "#7201a8"
             ],
             [
              0.3333333333333333,
              "#9c179e"
             ],
             [
              0.4444444444444444,
              "#bd3786"
             ],
             [
              0.5555555555555556,
              "#d8576b"
             ],
             [
              0.6666666666666666,
              "#ed7953"
             ],
             [
              0.7777777777777778,
              "#fb9f3a"
             ],
             [
              0.8888888888888888,
              "#fdca26"
             ],
             [
              1,
              "#f0f921"
             ]
            ],
            "type": "heatmapgl"
           }
          ],
          "histogram": [
           {
            "marker": {
             "pattern": {
              "fillmode": "overlay",
              "size": 10,
              "solidity": 0.2
             }
            },
            "type": "histogram"
           }
          ],
          "histogram2d": [
           {
            "colorbar": {
             "outlinewidth": 0,
             "ticks": ""
            },
            "colorscale": [
             [
              0,
              "#0d0887"
             ],
             [
              0.1111111111111111,
              "#46039f"
             ],
             [
              0.2222222222222222,
              "#7201a8"
             ],
             [
              0.3333333333333333,
              "#9c179e"
             ],
             [
              0.4444444444444444,
              "#bd3786"
             ],
             [
              0.5555555555555556,
              "#d8576b"
             ],
             [
              0.6666666666666666,
              "#ed7953"
             ],
             [
              0.7777777777777778,
              "#fb9f3a"
             ],
             [
              0.8888888888888888,
              "#fdca26"
             ],
             [
              1,
              "#f0f921"
             ]
            ],
            "type": "histogram2d"
           }
          ],
          "histogram2dcontour": [
           {
            "colorbar": {
             "outlinewidth": 0,
             "ticks": ""
            },
            "colorscale": [
             [
              0,
              "#0d0887"
             ],
             [
              0.1111111111111111,
              "#46039f"
             ],
             [
              0.2222222222222222,
              "#7201a8"
             ],
             [
              0.3333333333333333,
              "#9c179e"
             ],
             [
              0.4444444444444444,
              "#bd3786"
             ],
             [
              0.5555555555555556,
              "#d8576b"
             ],
             [
              0.6666666666666666,
              "#ed7953"
             ],
             [
              0.7777777777777778,
              "#fb9f3a"
             ],
             [
              0.8888888888888888,
              "#fdca26"
             ],
             [
              1,
              "#f0f921"
             ]
            ],
            "type": "histogram2dcontour"
           }
          ],
          "mesh3d": [
           {
            "colorbar": {
             "outlinewidth": 0,
             "ticks": ""
            },
            "type": "mesh3d"
           }
          ],
          "parcoords": [
           {
            "line": {
             "colorbar": {
              "outlinewidth": 0,
              "ticks": ""
             }
            },
            "type": "parcoords"
           }
          ],
          "pie": [
           {
            "automargin": true,
            "type": "pie"
           }
          ],
          "scatter": [
           {
            "marker": {
             "line": {
              "color": "#283442"
             }
            },
            "type": "scatter"
           }
          ],
          "scatter3d": [
           {
            "line": {
             "colorbar": {
              "outlinewidth": 0,
              "ticks": ""
             }
            },
            "marker": {
             "colorbar": {
              "outlinewidth": 0,
              "ticks": ""
             }
            },
            "type": "scatter3d"
           }
          ],
          "scattercarpet": [
           {
            "marker": {
             "colorbar": {
              "outlinewidth": 0,
              "ticks": ""
             }
            },
            "type": "scattercarpet"
           }
          ],
          "scattergeo": [
           {
            "marker": {
             "colorbar": {
              "outlinewidth": 0,
              "ticks": ""
             }
            },
            "type": "scattergeo"
           }
          ],
          "scattergl": [
           {
            "marker": {
             "line": {
              "color": "#283442"
             }
            },
            "type": "scattergl"
           }
          ],
          "scattermapbox": [
           {
            "marker": {
             "colorbar": {
              "outlinewidth": 0,
              "ticks": ""
             }
            },
            "type": "scattermapbox"
           }
          ],
          "scatterpolar": [
           {
            "marker": {
             "colorbar": {
              "outlinewidth": 0,
              "ticks": ""
             }
            },
            "type": "scatterpolar"
           }
          ],
          "scatterpolargl": [
           {
            "marker": {
             "colorbar": {
              "outlinewidth": 0,
              "ticks": ""
             }
            },
            "type": "scatterpolargl"
           }
          ],
          "scatterternary": [
           {
            "marker": {
             "colorbar": {
              "outlinewidth": 0,
              "ticks": ""
             }
            },
            "type": "scatterternary"
           }
          ],
          "surface": [
           {
            "colorbar": {
             "outlinewidth": 0,
             "ticks": ""
            },
            "colorscale": [
             [
              0,
              "#0d0887"
             ],
             [
              0.1111111111111111,
              "#46039f"
             ],
             [
              0.2222222222222222,
              "#7201a8"
             ],
             [
              0.3333333333333333,
              "#9c179e"
             ],
             [
              0.4444444444444444,
              "#bd3786"
             ],
             [
              0.5555555555555556,
              "#d8576b"
             ],
             [
              0.6666666666666666,
              "#ed7953"
             ],
             [
              0.7777777777777778,
              "#fb9f3a"
             ],
             [
              0.8888888888888888,
              "#fdca26"
             ],
             [
              1,
              "#f0f921"
             ]
            ],
            "type": "surface"
           }
          ],
          "table": [
           {
            "cells": {
             "fill": {
              "color": "#506784"
             },
             "line": {
              "color": "rgb(17,17,17)"
             }
            },
            "header": {
             "fill": {
              "color": "#2a3f5f"
             },
             "line": {
              "color": "rgb(17,17,17)"
             }
            },
            "type": "table"
           }
          ]
         },
         "layout": {
          "annotationdefaults": {
           "arrowcolor": "#f2f5fa",
           "arrowhead": 0,
           "arrowwidth": 1
          },
          "autotypenumbers": "strict",
          "coloraxis": {
           "colorbar": {
            "outlinewidth": 0,
            "ticks": ""
           }
          },
          "colorscale": {
           "diverging": [
            [
             0,
             "#8e0152"
            ],
            [
             0.1,
             "#c51b7d"
            ],
            [
             0.2,
             "#de77ae"
            ],
            [
             0.3,
             "#f1b6da"
            ],
            [
             0.4,
             "#fde0ef"
            ],
            [
             0.5,
             "#f7f7f7"
            ],
            [
             0.6,
             "#e6f5d0"
            ],
            [
             0.7,
             "#b8e186"
            ],
            [
             0.8,
             "#7fbc41"
            ],
            [
             0.9,
             "#4d9221"
            ],
            [
             1,
             "#276419"
            ]
           ],
           "sequential": [
            [
             0,
             "#0d0887"
            ],
            [
             0.1111111111111111,
             "#46039f"
            ],
            [
             0.2222222222222222,
             "#7201a8"
            ],
            [
             0.3333333333333333,
             "#9c179e"
            ],
            [
             0.4444444444444444,
             "#bd3786"
            ],
            [
             0.5555555555555556,
             "#d8576b"
            ],
            [
             0.6666666666666666,
             "#ed7953"
            ],
            [
             0.7777777777777778,
             "#fb9f3a"
            ],
            [
             0.8888888888888888,
             "#fdca26"
            ],
            [
             1,
             "#f0f921"
            ]
           ],
           "sequentialminus": [
            [
             0,
             "#0d0887"
            ],
            [
             0.1111111111111111,
             "#46039f"
            ],
            [
             0.2222222222222222,
             "#7201a8"
            ],
            [
             0.3333333333333333,
             "#9c179e"
            ],
            [
             0.4444444444444444,
             "#bd3786"
            ],
            [
             0.5555555555555556,
             "#d8576b"
            ],
            [
             0.6666666666666666,
             "#ed7953"
            ],
            [
             0.7777777777777778,
             "#fb9f3a"
            ],
            [
             0.8888888888888888,
             "#fdca26"
            ],
            [
             1,
             "#f0f921"
            ]
           ]
          },
          "colorway": [
           "#636efa",
           "#EF553B",
           "#00cc96",
           "#ab63fa",
           "#FFA15A",
           "#19d3f3",
           "#FF6692",
           "#B6E880",
           "#FF97FF",
           "#FECB52"
          ],
          "font": {
           "color": "#f2f5fa"
          },
          "geo": {
           "bgcolor": "rgb(17,17,17)",
           "lakecolor": "rgb(17,17,17)",
           "landcolor": "rgb(17,17,17)",
           "showlakes": true,
           "showland": true,
           "subunitcolor": "#506784"
          },
          "hoverlabel": {
           "align": "left"
          },
          "hovermode": "closest",
          "mapbox": {
           "style": "dark"
          },
          "paper_bgcolor": "rgb(17,17,17)",
          "plot_bgcolor": "rgb(17,17,17)",
          "polar": {
           "angularaxis": {
            "gridcolor": "#506784",
            "linecolor": "#506784",
            "ticks": ""
           },
           "bgcolor": "rgb(17,17,17)",
           "radialaxis": {
            "gridcolor": "#506784",
            "linecolor": "#506784",
            "ticks": ""
           }
          },
          "scene": {
           "xaxis": {
            "backgroundcolor": "rgb(17,17,17)",
            "gridcolor": "#506784",
            "gridwidth": 2,
            "linecolor": "#506784",
            "showbackground": true,
            "ticks": "",
            "zerolinecolor": "#C8D4E3"
           },
           "yaxis": {
            "backgroundcolor": "rgb(17,17,17)",
            "gridcolor": "#506784",
            "gridwidth": 2,
            "linecolor": "#506784",
            "showbackground": true,
            "ticks": "",
            "zerolinecolor": "#C8D4E3"
           },
           "zaxis": {
            "backgroundcolor": "rgb(17,17,17)",
            "gridcolor": "#506784",
            "gridwidth": 2,
            "linecolor": "#506784",
            "showbackground": true,
            "ticks": "",
            "zerolinecolor": "#C8D4E3"
           }
          },
          "shapedefaults": {
           "line": {
            "color": "#f2f5fa"
           }
          },
          "sliderdefaults": {
           "bgcolor": "#C8D4E3",
           "bordercolor": "rgb(17,17,17)",
           "borderwidth": 1,
           "tickwidth": 0
          },
          "ternary": {
           "aaxis": {
            "gridcolor": "#506784",
            "linecolor": "#506784",
            "ticks": ""
           },
           "baxis": {
            "gridcolor": "#506784",
            "linecolor": "#506784",
            "ticks": ""
           },
           "bgcolor": "rgb(17,17,17)",
           "caxis": {
            "gridcolor": "#506784",
            "linecolor": "#506784",
            "ticks": ""
           }
          },
          "title": {
           "x": 0.05
          },
          "updatemenudefaults": {
           "bgcolor": "#506784",
           "borderwidth": 0
          },
          "xaxis": {
           "automargin": true,
           "gridcolor": "#283442",
           "linecolor": "#506784",
           "ticks": "",
           "title": {
            "standoff": 15
           },
           "zerolinecolor": "#283442",
           "zerolinewidth": 2
          },
          "yaxis": {
           "automargin": true,
           "gridcolor": "#283442",
           "linecolor": "#506784",
           "ticks": "",
           "title": {
            "standoff": 15
           },
           "zerolinecolor": "#283442",
           "zerolinewidth": 2
          }
         }
        },
        "title": {
         "text": "PFE Stock Analysis WMA Signal"
        },
        "width": 1000,
        "xaxis": {
         "rangeslider": {
          "visible": true
         },
         "title": {
          "text": "Date"
         }
        },
        "yaxis": {
         "title": {
          "text": "Price"
         }
        }
       }
      }
     },
     "metadata": {},
     "output_type": "display_data"
    },
    {
     "name": "stdout",
     "output_type": "stream",
     "text": [
      "RSI Signal : Final Profit: $-3268.56, -32.69%\n"
     ]
    },
    {
     "data": {
      "application/vnd.plotly.v1+json": {
       "config": {
        "plotlyServerURL": "https://plot.ly"
       },
       "data": [
        {
         "line": {
          "color": "blue"
         },
         "mode": "lines",
         "name": "Adj Close",
         "type": "scatter",
         "x": [
          "2023-01-03T00:00:00",
          "2023-01-04T00:00:00",
          "2023-01-05T00:00:00",
          "2023-01-06T00:00:00",
          "2023-01-09T00:00:00",
          "2023-01-10T00:00:00",
          "2023-01-11T00:00:00",
          "2023-01-12T00:00:00",
          "2023-01-13T00:00:00",
          "2023-01-17T00:00:00",
          "2023-01-18T00:00:00",
          "2023-01-19T00:00:00",
          "2023-01-20T00:00:00",
          "2023-01-23T00:00:00",
          "2023-01-24T00:00:00",
          "2023-01-25T00:00:00",
          "2023-01-26T00:00:00",
          "2023-01-27T00:00:00",
          "2023-01-30T00:00:00",
          "2023-01-31T00:00:00",
          "2023-02-01T00:00:00",
          "2023-02-02T00:00:00",
          "2023-02-03T00:00:00",
          "2023-02-06T00:00:00",
          "2023-02-07T00:00:00",
          "2023-02-08T00:00:00",
          "2023-02-09T00:00:00",
          "2023-02-10T00:00:00",
          "2023-02-13T00:00:00",
          "2023-02-14T00:00:00",
          "2023-02-15T00:00:00",
          "2023-02-16T00:00:00",
          "2023-02-17T00:00:00",
          "2023-02-21T00:00:00",
          "2023-02-22T00:00:00",
          "2023-02-23T00:00:00",
          "2023-02-24T00:00:00",
          "2023-02-27T00:00:00",
          "2023-02-28T00:00:00",
          "2023-03-01T00:00:00",
          "2023-03-02T00:00:00",
          "2023-03-03T00:00:00",
          "2023-03-06T00:00:00",
          "2023-03-07T00:00:00",
          "2023-03-08T00:00:00",
          "2023-03-09T00:00:00",
          "2023-03-10T00:00:00",
          "2023-03-13T00:00:00",
          "2023-03-14T00:00:00",
          "2023-03-15T00:00:00",
          "2023-03-16T00:00:00",
          "2023-03-17T00:00:00",
          "2023-03-20T00:00:00",
          "2023-03-21T00:00:00",
          "2023-03-22T00:00:00",
          "2023-03-23T00:00:00",
          "2023-03-24T00:00:00",
          "2023-03-27T00:00:00",
          "2023-03-28T00:00:00",
          "2023-03-29T00:00:00",
          "2023-03-30T00:00:00",
          "2023-03-31T00:00:00",
          "2023-04-03T00:00:00",
          "2023-04-04T00:00:00",
          "2023-04-05T00:00:00",
          "2023-04-06T00:00:00",
          "2023-04-10T00:00:00",
          "2023-04-11T00:00:00",
          "2023-04-12T00:00:00",
          "2023-04-13T00:00:00",
          "2023-04-14T00:00:00",
          "2023-04-17T00:00:00",
          "2023-04-18T00:00:00",
          "2023-04-19T00:00:00",
          "2023-04-20T00:00:00",
          "2023-04-21T00:00:00",
          "2023-04-24T00:00:00",
          "2023-04-25T00:00:00",
          "2023-04-26T00:00:00",
          "2023-04-27T00:00:00",
          "2023-04-28T00:00:00",
          "2023-05-01T00:00:00",
          "2023-05-02T00:00:00",
          "2023-05-03T00:00:00",
          "2023-05-04T00:00:00",
          "2023-05-05T00:00:00",
          "2023-05-08T00:00:00",
          "2023-05-09T00:00:00",
          "2023-05-10T00:00:00",
          "2023-05-11T00:00:00",
          "2023-05-12T00:00:00",
          "2023-05-15T00:00:00",
          "2023-05-16T00:00:00",
          "2023-05-17T00:00:00",
          "2023-05-18T00:00:00",
          "2023-05-19T00:00:00",
          "2023-05-22T00:00:00",
          "2023-05-23T00:00:00",
          "2023-05-24T00:00:00",
          "2023-05-25T00:00:00",
          "2023-05-26T00:00:00",
          "2023-05-30T00:00:00",
          "2023-05-31T00:00:00",
          "2023-06-01T00:00:00",
          "2023-06-02T00:00:00",
          "2023-06-05T00:00:00",
          "2023-06-06T00:00:00",
          "2023-06-07T00:00:00",
          "2023-06-08T00:00:00",
          "2023-06-09T00:00:00",
          "2023-06-12T00:00:00",
          "2023-06-13T00:00:00",
          "2023-06-14T00:00:00",
          "2023-06-15T00:00:00",
          "2023-06-16T00:00:00",
          "2023-06-20T00:00:00",
          "2023-06-21T00:00:00",
          "2023-06-22T00:00:00",
          "2023-06-23T00:00:00",
          "2023-06-26T00:00:00",
          "2023-06-27T00:00:00",
          "2023-06-28T00:00:00",
          "2023-06-29T00:00:00",
          "2023-06-30T00:00:00",
          "2023-07-03T00:00:00",
          "2023-07-05T00:00:00",
          "2023-07-06T00:00:00",
          "2023-07-07T00:00:00",
          "2023-07-10T00:00:00",
          "2023-07-11T00:00:00",
          "2023-07-12T00:00:00",
          "2023-07-13T00:00:00",
          "2023-07-14T00:00:00",
          "2023-07-17T00:00:00",
          "2023-07-18T00:00:00",
          "2023-07-19T00:00:00",
          "2023-07-20T00:00:00",
          "2023-07-21T00:00:00",
          "2023-07-24T00:00:00",
          "2023-07-25T00:00:00",
          "2023-07-26T00:00:00",
          "2023-07-27T00:00:00",
          "2023-07-28T00:00:00",
          "2023-07-31T00:00:00",
          "2023-08-01T00:00:00",
          "2023-08-02T00:00:00",
          "2023-08-03T00:00:00",
          "2023-08-04T00:00:00",
          "2023-08-07T00:00:00",
          "2023-08-08T00:00:00",
          "2023-08-09T00:00:00",
          "2023-08-10T00:00:00",
          "2023-08-11T00:00:00",
          "2023-08-14T00:00:00",
          "2023-08-15T00:00:00",
          "2023-08-16T00:00:00",
          "2023-08-17T00:00:00",
          "2023-08-18T00:00:00",
          "2023-08-21T00:00:00",
          "2023-08-22T00:00:00",
          "2023-08-23T00:00:00",
          "2023-08-24T00:00:00",
          "2023-08-25T00:00:00",
          "2023-08-28T00:00:00",
          "2023-08-29T00:00:00",
          "2023-08-30T00:00:00",
          "2023-08-31T00:00:00",
          "2023-09-01T00:00:00",
          "2023-09-05T00:00:00",
          "2023-09-06T00:00:00",
          "2023-09-07T00:00:00",
          "2023-09-08T00:00:00",
          "2023-09-11T00:00:00",
          "2023-09-12T00:00:00",
          "2023-09-13T00:00:00",
          "2023-09-14T00:00:00",
          "2023-09-15T00:00:00",
          "2023-09-18T00:00:00",
          "2023-09-19T00:00:00",
          "2023-09-20T00:00:00",
          "2023-09-21T00:00:00",
          "2023-09-22T00:00:00",
          "2023-09-25T00:00:00",
          "2023-09-26T00:00:00",
          "2023-09-27T00:00:00",
          "2023-09-28T00:00:00",
          "2023-09-29T00:00:00",
          "2023-10-02T00:00:00",
          "2023-10-03T00:00:00",
          "2023-10-04T00:00:00",
          "2023-10-05T00:00:00",
          "2023-10-06T00:00:00",
          "2023-10-09T00:00:00",
          "2023-10-10T00:00:00",
          "2023-10-11T00:00:00",
          "2023-10-12T00:00:00",
          "2023-10-13T00:00:00",
          "2023-10-16T00:00:00",
          "2023-10-17T00:00:00",
          "2023-10-18T00:00:00",
          "2023-10-19T00:00:00",
          "2023-10-20T00:00:00",
          "2023-10-23T00:00:00",
          "2023-10-24T00:00:00",
          "2023-10-25T00:00:00",
          "2023-10-26T00:00:00",
          "2023-10-27T00:00:00",
          "2023-10-30T00:00:00",
          "2023-10-31T00:00:00",
          "2023-11-01T00:00:00",
          "2023-11-02T00:00:00",
          "2023-11-03T00:00:00",
          "2023-11-06T00:00:00",
          "2023-11-07T00:00:00",
          "2023-11-08T00:00:00",
          "2023-11-09T00:00:00",
          "2023-11-10T00:00:00",
          "2023-11-13T00:00:00",
          "2023-11-14T00:00:00",
          "2023-11-15T00:00:00",
          "2023-11-16T00:00:00",
          "2023-11-17T00:00:00",
          "2023-11-20T00:00:00",
          "2023-11-21T00:00:00",
          "2023-11-22T00:00:00",
          "2023-11-24T00:00:00",
          "2023-11-27T00:00:00",
          "2023-11-28T00:00:00",
          "2023-11-29T00:00:00",
          "2023-11-30T00:00:00",
          "2023-12-01T00:00:00",
          "2023-12-04T00:00:00",
          "2023-12-05T00:00:00",
          "2023-12-06T00:00:00",
          "2023-12-07T00:00:00",
          "2023-12-08T00:00:00",
          "2023-12-11T00:00:00",
          "2023-12-12T00:00:00",
          "2023-12-13T00:00:00",
          "2023-12-14T00:00:00",
          "2023-12-15T00:00:00",
          "2023-12-18T00:00:00",
          "2023-12-19T00:00:00",
          "2023-12-20T00:00:00",
          "2023-12-21T00:00:00",
          "2023-12-22T00:00:00",
          "2023-12-26T00:00:00",
          "2023-12-27T00:00:00",
          "2023-12-28T00:00:00",
          "2023-12-29T00:00:00"
         ],
         "y": [
          47.59048461914063,
          46.541385650634766,
          46.10502624511719,
          47.27482604980469,
          44.92593765258789,
          44.211063385009766,
          44.0532341003418,
          44.294620513916016,
          44.42459487915039,
          42.78131103515625,
          41.77862548828125,
          41.741485595703125,
          41.88074493408203,
          41.76005172729492,
          41.50938034057617,
          41.84361267089844,
          41.459468841552734,
          41.02847290039063,
          40.80360794067383,
          41.37514114379883,
          41.19712829589844,
          41.54378890991211,
          41.28144836425781,
          41.0003662109375,
          40.84109115600586,
          41.20649337768555,
          40.60685348510742,
          41.11280059814453,
          41.21586608886719,
          40.962890625,
          40.58811569213867,
          40.24145126342773,
          40.48505401611328,
          40.0072135925293,
          39.7073974609375,
          39.6324348449707,
          39.11712265014648,
          38.20829391479492,
          38.01153564453125,
          37.64613342285156,
          38.05838394165039,
          38.554962158203125,
          38.51748275756836,
          37.796043395996094,
          37.58991241455078,
          36.97153854370117,
          36.905948638916016,
          37.3463134765625,
          37.38379287719727,
          37.73982620239258,
          37.82415008544922,
          37.5711784362793,
          38.23640441894531,
          38.09586334228516,
          37.486854553222656,
          37.64613342285156,
          37.842891693115234,
          37.68361282348633,
          37.46811676025391,
          37.71171951293945,
          37.8335189819336,
          38.22703552246094,
          38.74234771728516,
          38.32072448730469,
          38.92973327636719,
          38.88289260864258,
          39.09838104248047,
          39.15460205078125,
          38.76108551025391,
          38.85478210449219,
          38.59244155883789,
          38.58307266235352,
          37.992794036865234,
          37.70235061645508,
          37.33694076538086,
          37.67424011230469,
          37.39315414428711,
          36.849735260009766,
          36.19388198852539,
          36.29694366455078,
          36.43748092651367,
          36.737300872802734,
          36.59675979614258,
          36.025230407714844,
          35.8191032409668,
          36.06270980834961,
          36.231353759765625,
          36.053340911865234,
          35.88468933105469,
          35.59109878540039,
          35.37326431274414,
          35.19332504272461,
          35.05126190185547,
          34.805023193359375,
          34.54931640625,
          34.82396697998047,
          36.69917678833008,
          37.54207229614258,
          36.58552932739258,
          35.82786560058594,
          35.61003494262695,
          35.05126190185547,
          36.0078125,
          36.0078125,
          36.32981491088867,
          36.604469299316406,
          36.33928298950195,
          36.83176040649414,
          37.021183013916016,
          36.90753173828125,
          37.78831481933594,
          38.148197174072266,
          37.276893615722656,
          37.64624786376953,
          37.93984603881836,
          37.25794982910156,
          36.84123992919922,
          36.68022918701172,
          36.272987365722656,
          34.93761444091797,
          34.492488861083984,
          34.36936950683594,
          34.20836639404297,
          34.73872756958008,
          34.7103157043457,
          34.530372619628906,
          33.74430084228516,
          33.649593353271484,
          33.79165267944336,
          34.1136589050293,
          34.08524703979492,
          34.15154266357422,
          34.39777755737305,
          33.96212387084961,
          34.32201385498047,
          34.51142883300781,
          34.82396697998047,
          35.420623779296875,
          35.52479934692383,
          35.09861755371094,
          35.24068069458008,
          34.66610336303711,
          34.54160690307617,
          34.53203582763672,
          34.101104736328125,
          33.85211563110352,
          33.51694869995117,
          33.536102294921875,
          34.16813659667969,
          34.12982940673828,
          34.32135772705078,
          34.20643997192383,
          34.51288604736328,
          34.54160690307617,
          33.89042663574219,
          33.97660827636719,
          34.96296310424805,
          35.10660934448242,
          35.441776275634766,
          35.27898406982422,
          35.10660934448242,
          34.62779235839844,
          34.83847427368164,
          34.67567443847656,
          34.618221282958984,
          34.37881851196289,
          33.8808479309082,
          34.26389694213867,
          33.8808479309082,
          32.91364288330078,
          32.82745742797852,
          32.79872512817383,
          32.501861572265625,
          32.70296859741211,
          32.63593292236328,
          32.70296859741211,
          32.62635803222656,
          32.214576721191406,
          32.54975128173828,
          32.1954231262207,
          31.45804786682129,
          31.30483055114746,
          31.582544326782227,
          31.027118682861328,
          30.739830017089844,
          30.73025321960449,
          31.764488220214844,
          32.501861572265625,
          32.463558197021484,
          31.8985595703125,
          32.051780700683594,
          31.726186752319336,
          31.793222427368164,
          31.764488220214844,
          31.707035064697266,
          31.52508354187012,
          30.749406814575195,
          31.860254287719727,
          31.362287521362305,
          30.07906723022461,
          29.868391036987305,
          29.35127067565918,
          29.533218383789062,
          29.14059257507324,
          29.427879333496094,
          29.83966064453125,
          28.83415031433105,
          29.25550651550293,
          29.26508331298828,
          29.21720314025879,
          29.20762634277344,
          29.9354248046875,
          29.858814239501957,
          29.92584800720215,
          29.514068603515625,
          28.805574417114254,
          28.61146545410156,
          28.126197814941406,
          28.397947311401367,
          29.30055046081543,
          28.89292335510254,
          29.038503646850582,
          29.09673500061035,
          29.40730857849121,
          29.42671775817871,
          29.601415634155277,
          29.25201988220215,
          28.81528091430664,
          29.193790435791016,
          29.57229804992676,
          28.058259963989254,
          28.417360305786133,
          28.23295783996582,
          27.941795349121094,
          27.786508560180664,
          27.932090759277344,
          27.79621315002441,
          27.73798179626465,
          25.874547958374023,
          25.36016273498535,
          25.84543228149414,
          26.26276397705078,
          27.33035469055176,
          26.81597137451172,
          27.475934982299805,
          27.56328582763672,
          27.57299041748047,
          27.767099380493164,
          27.941795349121094,
          27.941795349121094
         ]
        },
        {
         "line": {
          "color": "orange"
         },
         "mode": "lines",
         "name": "RSI",
         "type": "scatter",
         "x": [
          "2023-01-03T00:00:00",
          "2023-01-04T00:00:00",
          "2023-01-05T00:00:00",
          "2023-01-06T00:00:00",
          "2023-01-09T00:00:00",
          "2023-01-10T00:00:00",
          "2023-01-11T00:00:00",
          "2023-01-12T00:00:00",
          "2023-01-13T00:00:00",
          "2023-01-17T00:00:00",
          "2023-01-18T00:00:00",
          "2023-01-19T00:00:00",
          "2023-01-20T00:00:00",
          "2023-01-23T00:00:00",
          "2023-01-24T00:00:00",
          "2023-01-25T00:00:00",
          "2023-01-26T00:00:00",
          "2023-01-27T00:00:00",
          "2023-01-30T00:00:00",
          "2023-01-31T00:00:00",
          "2023-02-01T00:00:00",
          "2023-02-02T00:00:00",
          "2023-02-03T00:00:00",
          "2023-02-06T00:00:00",
          "2023-02-07T00:00:00",
          "2023-02-08T00:00:00",
          "2023-02-09T00:00:00",
          "2023-02-10T00:00:00",
          "2023-02-13T00:00:00",
          "2023-02-14T00:00:00",
          "2023-02-15T00:00:00",
          "2023-02-16T00:00:00",
          "2023-02-17T00:00:00",
          "2023-02-21T00:00:00",
          "2023-02-22T00:00:00",
          "2023-02-23T00:00:00",
          "2023-02-24T00:00:00",
          "2023-02-27T00:00:00",
          "2023-02-28T00:00:00",
          "2023-03-01T00:00:00",
          "2023-03-02T00:00:00",
          "2023-03-03T00:00:00",
          "2023-03-06T00:00:00",
          "2023-03-07T00:00:00",
          "2023-03-08T00:00:00",
          "2023-03-09T00:00:00",
          "2023-03-10T00:00:00",
          "2023-03-13T00:00:00",
          "2023-03-14T00:00:00",
          "2023-03-15T00:00:00",
          "2023-03-16T00:00:00",
          "2023-03-17T00:00:00",
          "2023-03-20T00:00:00",
          "2023-03-21T00:00:00",
          "2023-03-22T00:00:00",
          "2023-03-23T00:00:00",
          "2023-03-24T00:00:00",
          "2023-03-27T00:00:00",
          "2023-03-28T00:00:00",
          "2023-03-29T00:00:00",
          "2023-03-30T00:00:00",
          "2023-03-31T00:00:00",
          "2023-04-03T00:00:00",
          "2023-04-04T00:00:00",
          "2023-04-05T00:00:00",
          "2023-04-06T00:00:00",
          "2023-04-10T00:00:00",
          "2023-04-11T00:00:00",
          "2023-04-12T00:00:00",
          "2023-04-13T00:00:00",
          "2023-04-14T00:00:00",
          "2023-04-17T00:00:00",
          "2023-04-18T00:00:00",
          "2023-04-19T00:00:00",
          "2023-04-20T00:00:00",
          "2023-04-21T00:00:00",
          "2023-04-24T00:00:00",
          "2023-04-25T00:00:00",
          "2023-04-26T00:00:00",
          "2023-04-27T00:00:00",
          "2023-04-28T00:00:00",
          "2023-05-01T00:00:00",
          "2023-05-02T00:00:00",
          "2023-05-03T00:00:00",
          "2023-05-04T00:00:00",
          "2023-05-05T00:00:00",
          "2023-05-08T00:00:00",
          "2023-05-09T00:00:00",
          "2023-05-10T00:00:00",
          "2023-05-11T00:00:00",
          "2023-05-12T00:00:00",
          "2023-05-15T00:00:00",
          "2023-05-16T00:00:00",
          "2023-05-17T00:00:00",
          "2023-05-18T00:00:00",
          "2023-05-19T00:00:00",
          "2023-05-22T00:00:00",
          "2023-05-23T00:00:00",
          "2023-05-24T00:00:00",
          "2023-05-25T00:00:00",
          "2023-05-26T00:00:00",
          "2023-05-30T00:00:00",
          "2023-05-31T00:00:00",
          "2023-06-01T00:00:00",
          "2023-06-02T00:00:00",
          "2023-06-05T00:00:00",
          "2023-06-06T00:00:00",
          "2023-06-07T00:00:00",
          "2023-06-08T00:00:00",
          "2023-06-09T00:00:00",
          "2023-06-12T00:00:00",
          "2023-06-13T00:00:00",
          "2023-06-14T00:00:00",
          "2023-06-15T00:00:00",
          "2023-06-16T00:00:00",
          "2023-06-20T00:00:00",
          "2023-06-21T00:00:00",
          "2023-06-22T00:00:00",
          "2023-06-23T00:00:00",
          "2023-06-26T00:00:00",
          "2023-06-27T00:00:00",
          "2023-06-28T00:00:00",
          "2023-06-29T00:00:00",
          "2023-06-30T00:00:00",
          "2023-07-03T00:00:00",
          "2023-07-05T00:00:00",
          "2023-07-06T00:00:00",
          "2023-07-07T00:00:00",
          "2023-07-10T00:00:00",
          "2023-07-11T00:00:00",
          "2023-07-12T00:00:00",
          "2023-07-13T00:00:00",
          "2023-07-14T00:00:00",
          "2023-07-17T00:00:00",
          "2023-07-18T00:00:00",
          "2023-07-19T00:00:00",
          "2023-07-20T00:00:00",
          "2023-07-21T00:00:00",
          "2023-07-24T00:00:00",
          "2023-07-25T00:00:00",
          "2023-07-26T00:00:00",
          "2023-07-27T00:00:00",
          "2023-07-28T00:00:00",
          "2023-07-31T00:00:00",
          "2023-08-01T00:00:00",
          "2023-08-02T00:00:00",
          "2023-08-03T00:00:00",
          "2023-08-04T00:00:00",
          "2023-08-07T00:00:00",
          "2023-08-08T00:00:00",
          "2023-08-09T00:00:00",
          "2023-08-10T00:00:00",
          "2023-08-11T00:00:00",
          "2023-08-14T00:00:00",
          "2023-08-15T00:00:00",
          "2023-08-16T00:00:00",
          "2023-08-17T00:00:00",
          "2023-08-18T00:00:00",
          "2023-08-21T00:00:00",
          "2023-08-22T00:00:00",
          "2023-08-23T00:00:00",
          "2023-08-24T00:00:00",
          "2023-08-25T00:00:00",
          "2023-08-28T00:00:00",
          "2023-08-29T00:00:00",
          "2023-08-30T00:00:00",
          "2023-08-31T00:00:00",
          "2023-09-01T00:00:00",
          "2023-09-05T00:00:00",
          "2023-09-06T00:00:00",
          "2023-09-07T00:00:00",
          "2023-09-08T00:00:00",
          "2023-09-11T00:00:00",
          "2023-09-12T00:00:00",
          "2023-09-13T00:00:00",
          "2023-09-14T00:00:00",
          "2023-09-15T00:00:00",
          "2023-09-18T00:00:00",
          "2023-09-19T00:00:00",
          "2023-09-20T00:00:00",
          "2023-09-21T00:00:00",
          "2023-09-22T00:00:00",
          "2023-09-25T00:00:00",
          "2023-09-26T00:00:00",
          "2023-09-27T00:00:00",
          "2023-09-28T00:00:00",
          "2023-09-29T00:00:00",
          "2023-10-02T00:00:00",
          "2023-10-03T00:00:00",
          "2023-10-04T00:00:00",
          "2023-10-05T00:00:00",
          "2023-10-06T00:00:00",
          "2023-10-09T00:00:00",
          "2023-10-10T00:00:00",
          "2023-10-11T00:00:00",
          "2023-10-12T00:00:00",
          "2023-10-13T00:00:00",
          "2023-10-16T00:00:00",
          "2023-10-17T00:00:00",
          "2023-10-18T00:00:00",
          "2023-10-19T00:00:00",
          "2023-10-20T00:00:00",
          "2023-10-23T00:00:00",
          "2023-10-24T00:00:00",
          "2023-10-25T00:00:00",
          "2023-10-26T00:00:00",
          "2023-10-27T00:00:00",
          "2023-10-30T00:00:00",
          "2023-10-31T00:00:00",
          "2023-11-01T00:00:00",
          "2023-11-02T00:00:00",
          "2023-11-03T00:00:00",
          "2023-11-06T00:00:00",
          "2023-11-07T00:00:00",
          "2023-11-08T00:00:00",
          "2023-11-09T00:00:00",
          "2023-11-10T00:00:00",
          "2023-11-13T00:00:00",
          "2023-11-14T00:00:00",
          "2023-11-15T00:00:00",
          "2023-11-16T00:00:00",
          "2023-11-17T00:00:00",
          "2023-11-20T00:00:00",
          "2023-11-21T00:00:00",
          "2023-11-22T00:00:00",
          "2023-11-24T00:00:00",
          "2023-11-27T00:00:00",
          "2023-11-28T00:00:00",
          "2023-11-29T00:00:00",
          "2023-11-30T00:00:00",
          "2023-12-01T00:00:00",
          "2023-12-04T00:00:00",
          "2023-12-05T00:00:00",
          "2023-12-06T00:00:00",
          "2023-12-07T00:00:00",
          "2023-12-08T00:00:00",
          "2023-12-11T00:00:00",
          "2023-12-12T00:00:00",
          "2023-12-13T00:00:00",
          "2023-12-14T00:00:00",
          "2023-12-15T00:00:00",
          "2023-12-18T00:00:00",
          "2023-12-19T00:00:00",
          "2023-12-20T00:00:00",
          "2023-12-21T00:00:00",
          "2023-12-22T00:00:00",
          "2023-12-26T00:00:00",
          "2023-12-27T00:00:00",
          "2023-12-28T00:00:00",
          "2023-12-29T00:00:00"
         ],
         "y": [
          60.158287603605025,
          53.411295322013686,
          52.59118374235507,
          55.1724035075029,
          46.84490674365795,
          45.17791119316076,
          42.91753136138059,
          40.75697291074131,
          41.59337167497279,
          38.25163092348444,
          38.13600615684476,
          36.36361706968391,
          31.441254319199103,
          31.319249849619638,
          29.15496996085912,
          26.905284603570536,
          19.909565930056587,
          20.417089669994212,
          23.29710729732058,
          26.61192848149767,
          26.336815985299765,
          26.504004683395976,
          26.039244160121385,
          24.585214184125206,
          25.477640130915702,
          28.0586547710746,
          24.241688362452834,
          27.10282370664069,
          27.536981146887356,
          29.17386686429886,
          29.30863536928912,
          21.885162283945434,
          28.655778125157028,
          29.323927278185366,
          28.920005432668802,
          27.014410895588,
          24.790854187518462,
          26.650227403317103,
          29.040274120070194,
          28.01686291469275,
          30.066432691393388,
          33.916062095625946,
          34.65763178691874,
          30.036944163063083,
          30.573807317821476,
          30.009221877315582,
          30.48778065759032,
          29.562732381752625,
          30.37607759086086,
          30.44317654968235,
          31.894020757617923,
          31.98820400389036,
          37.00934721685811,
          34.13004275022979,
          34.097446496588674,
          31.683186277355347,
          32.35295174252143,
          32.67328768200102,
          33.232647227291665,
          36.252547767003534,
          35.397309059801216,
          40.10418676769522,
          44.76091505368687,
          43.1372635113424,
          49.02911642736669,
          53.837976876906595,
          56.170211291458514,
          58.87541612350654,
          54.14363820652671,
          51.85614827270237,
          50.45149040083156,
          55.18519840298458,
          52.52642975691369,
          54.779418001614616,
          52.71227015249708,
          52.09079199290196,
          50.05788729763031,
          44.62060773954493,
          40.78391050388146,
          42.672410578238846,
          38.99079206196458,
          41.84474143035948,
          44.3384657640874,
          40.20383113637493,
          37.78276833399961,
          40.313534106773375,
          42.56752295698003,
          39.95458078732181,
          38.26183618212927,
          33.929818147483005,
          28.687075489865265,
          29.591937831046693,
          23.04828160985349,
          22.42677802683059,
          19.407100469061476,
          21.70727792736521,
          38.714188773006725,
          43.359527114828495,
          40.514068604506086,
          37.83750924065786,
          39.1240014208206,
          38.18855095021246,
          44.374621595571035,
          42.73975025129102,
          45.383728748439154,
          48.90978673905929,
          50.66956537625373,
          52.377538107866386,
          52.58362932600122,
          50.766115727167,
          55.0275570108699,
          59.120376455225795,
          55.92416224054438,
          56.370071352655955,
          56.80431858366208,
          54.612407392097786,
          53.594322108046676,
          54.13368868904956,
          53.36641076899757,
          49.119373365566794,
          48.11502153301476,
          48.51804521698328,
          48.83267577908685,
          49.71318447763892,
          42.35807335410002,
          37.80675810708754,
          38.335927225278986,
          40.542775061800945,
          42.05299316062398,
          45.81573197749978,
          40.645149794096,
          41.02563156788179,
          40.59038780521156,
          37.32967056686177,
          40.41404078412663,
          38.64690333439972,
          39.377272826192396,
          43.13210164202016,
          38.73699243890133,
          34.92508639380944,
          39.1523580946652,
          34.46341571097702,
          31.96575950351118,
          34.4221125246231,
          34.36625334195793,
          34.024674523750335,
          34.30400069520633,
          40.610528532494804,
          47.88008375248637,
          48.41685155304558,
          50.743771852378615,
          46.29346287725204,
          48.676465247974484,
          50.07687131402702,
          51.01868014624142,
          52.28241751746459,
          57.313304148584976,
          56.340906809892644,
          58.33609948390195,
          56.84711132857387,
          54.34380525718817,
          54.05782872758848,
          53.206607287418706,
          51.023152095494204,
          48.67625785569235,
          42.97417374772647,
          39.472521931838834,
          44.62495252983435,
          41.50716027640468,
          39.566685304737,
          39.7480041468481,
          39.65711039089634,
          40.30194011164872,
          42.99068812910968,
          44.44445513549869,
          44.777926607250706,
          39.612918214657995,
          37.71500551032672,
          38.84201178996411,
          37.70493485557772,
          32.25803592891317,
          31.469344103298013,
          36.19705035450913,
          33.29724297609785,
          24.028376980300806,
          22.63482335194435,
          28.854693482892117,
          35.02069308352665,
          35.53463557662076,
          35.20255554843155,
          34.79628058684112,
          34.18896383477552,
          34.87184128023691,
          35.676818604371206,
          37.48625875914894,
          33.8601022350399,
          32.36251691204578,
          44.16138408474233,
          42.233525140083884,
          37.27603191209505,
          37.579091590342145,
          34.64914004853908,
          35.93751188647629,
          34.3170399559197,
          36.17549556952781,
          39.73510818226816,
          34.82001299464147,
          38.05447396031364,
          40.52937229419758,
          40.901505113195235,
          39.401700540784056,
          45.202026213899224,
          46.05489492440086,
          46.41639008274577,
          39.38575127781064,
          32.51860114819162,
          32.046318866243865,
          32.28627499871031,
          33.03172406755844,
          39.308414672080836,
          37.58886423226691,
          38.450301825759354,
          38.94117367561863,
          41.12453960993261,
          44.08152570956487,
          38.96845730058344,
          39.54227880224145,
          43.1635773235488,
          46.415844160739944,
          51.19187449370895,
          43.04550236495169,
          46.579111089619296,
          44.29247032049584,
          40.82919445173583,
          44.48441059171189,
          42.824154655920864,
          42.1430826140869,
          42.09646668734767,
          35.13588871750318,
          29.200364390647195,
          32.4083694696547,
          34.42218689667247,
          41.20405618549853,
          41.85861919059556,
          45.524096703479145,
          47.70932145532693,
          46.56981699081632,
          43.22469633034514,
          45.70927843531777,
          44.9866887964953
         ]
        },
        {
         "marker": {
          "color": "green",
          "size": 10,
          "symbol": "triangle-up"
         },
         "mode": "markers",
         "name": "Buy Signal",
         "type": "scatter",
         "x": [
          "2023-01-24T00:00:00",
          "2023-01-25T00:00:00",
          "2023-01-26T00:00:00",
          "2023-01-27T00:00:00",
          "2023-01-30T00:00:00",
          "2023-01-31T00:00:00",
          "2023-02-01T00:00:00",
          "2023-02-02T00:00:00",
          "2023-02-03T00:00:00",
          "2023-02-06T00:00:00",
          "2023-02-07T00:00:00",
          "2023-02-08T00:00:00",
          "2023-02-09T00:00:00",
          "2023-02-10T00:00:00",
          "2023-02-13T00:00:00",
          "2023-02-14T00:00:00",
          "2023-02-15T00:00:00",
          "2023-02-16T00:00:00",
          "2023-02-17T00:00:00",
          "2023-02-21T00:00:00",
          "2023-02-22T00:00:00",
          "2023-02-23T00:00:00",
          "2023-02-24T00:00:00",
          "2023-02-27T00:00:00",
          "2023-02-28T00:00:00",
          "2023-03-01T00:00:00",
          "2023-03-13T00:00:00",
          "2023-05-12T00:00:00",
          "2023-05-15T00:00:00",
          "2023-05-16T00:00:00",
          "2023-05-17T00:00:00",
          "2023-05-18T00:00:00",
          "2023-05-19T00:00:00",
          "2023-09-27T00:00:00",
          "2023-09-28T00:00:00",
          "2023-09-29T00:00:00",
          "2023-12-14T00:00:00"
         ],
         "y": [
          41.50938034057617,
          41.84361267089844,
          41.459468841552734,
          41.02847290039063,
          40.80360794067383,
          41.37514114379883,
          41.19712829589844,
          41.54378890991211,
          41.28144836425781,
          41.0003662109375,
          40.84109115600586,
          41.20649337768555,
          40.60685348510742,
          41.11280059814453,
          41.21586608886719,
          40.962890625,
          40.58811569213867,
          40.24145126342773,
          40.48505401611328,
          40.0072135925293,
          39.7073974609375,
          39.6324348449707,
          39.11712265014648,
          38.20829391479492,
          38.01153564453125,
          37.64613342285156,
          37.3463134765625,
          35.37326431274414,
          35.19332504272461,
          35.05126190185547,
          34.805023193359375,
          34.54931640625,
          34.82396697998047,
          30.739830017089844,
          30.73025321960449,
          31.764488220214844,
          25.36016273498535
         ]
        },
        {
         "marker": {
          "color": "red",
          "size": 10,
          "symbol": "triangle-down"
         },
         "mode": "markers",
         "name": "Sell Signal",
         "type": "scatter",
         "x": [],
         "y": []
        }
       ],
       "layout": {
        "height": 600,
        "legend": {
         "x": 0,
         "y": 1
        },
        "template": {
         "data": {
          "bar": [
           {
            "error_x": {
             "color": "#f2f5fa"
            },
            "error_y": {
             "color": "#f2f5fa"
            },
            "marker": {
             "line": {
              "color": "rgb(17,17,17)",
              "width": 0.5
             },
             "pattern": {
              "fillmode": "overlay",
              "size": 10,
              "solidity": 0.2
             }
            },
            "type": "bar"
           }
          ],
          "barpolar": [
           {
            "marker": {
             "line": {
              "color": "rgb(17,17,17)",
              "width": 0.5
             },
             "pattern": {
              "fillmode": "overlay",
              "size": 10,
              "solidity": 0.2
             }
            },
            "type": "barpolar"
           }
          ],
          "carpet": [
           {
            "aaxis": {
             "endlinecolor": "#A2B1C6",
             "gridcolor": "#506784",
             "linecolor": "#506784",
             "minorgridcolor": "#506784",
             "startlinecolor": "#A2B1C6"
            },
            "baxis": {
             "endlinecolor": "#A2B1C6",
             "gridcolor": "#506784",
             "linecolor": "#506784",
             "minorgridcolor": "#506784",
             "startlinecolor": "#A2B1C6"
            },
            "type": "carpet"
           }
          ],
          "choropleth": [
           {
            "colorbar": {
             "outlinewidth": 0,
             "ticks": ""
            },
            "type": "choropleth"
           }
          ],
          "contour": [
           {
            "colorbar": {
             "outlinewidth": 0,
             "ticks": ""
            },
            "colorscale": [
             [
              0,
              "#0d0887"
             ],
             [
              0.1111111111111111,
              "#46039f"
             ],
             [
              0.2222222222222222,
              "#7201a8"
             ],
             [
              0.3333333333333333,
              "#9c179e"
             ],
             [
              0.4444444444444444,
              "#bd3786"
             ],
             [
              0.5555555555555556,
              "#d8576b"
             ],
             [
              0.6666666666666666,
              "#ed7953"
             ],
             [
              0.7777777777777778,
              "#fb9f3a"
             ],
             [
              0.8888888888888888,
              "#fdca26"
             ],
             [
              1,
              "#f0f921"
             ]
            ],
            "type": "contour"
           }
          ],
          "contourcarpet": [
           {
            "colorbar": {
             "outlinewidth": 0,
             "ticks": ""
            },
            "type": "contourcarpet"
           }
          ],
          "heatmap": [
           {
            "colorbar": {
             "outlinewidth": 0,
             "ticks": ""
            },
            "colorscale": [
             [
              0,
              "#0d0887"
             ],
             [
              0.1111111111111111,
              "#46039f"
             ],
             [
              0.2222222222222222,
              "#7201a8"
             ],
             [
              0.3333333333333333,
              "#9c179e"
             ],
             [
              0.4444444444444444,
              "#bd3786"
             ],
             [
              0.5555555555555556,
              "#d8576b"
             ],
             [
              0.6666666666666666,
              "#ed7953"
             ],
             [
              0.7777777777777778,
              "#fb9f3a"
             ],
             [
              0.8888888888888888,
              "#fdca26"
             ],
             [
              1,
              "#f0f921"
             ]
            ],
            "type": "heatmap"
           }
          ],
          "heatmapgl": [
           {
            "colorbar": {
             "outlinewidth": 0,
             "ticks": ""
            },
            "colorscale": [
             [
              0,
              "#0d0887"
             ],
             [
              0.1111111111111111,
              "#46039f"
             ],
             [
              0.2222222222222222,
              "#7201a8"
             ],
             [
              0.3333333333333333,
              "#9c179e"
             ],
             [
              0.4444444444444444,
              "#bd3786"
             ],
             [
              0.5555555555555556,
              "#d8576b"
             ],
             [
              0.6666666666666666,
              "#ed7953"
             ],
             [
              0.7777777777777778,
              "#fb9f3a"
             ],
             [
              0.8888888888888888,
              "#fdca26"
             ],
             [
              1,
              "#f0f921"
             ]
            ],
            "type": "heatmapgl"
           }
          ],
          "histogram": [
           {
            "marker": {
             "pattern": {
              "fillmode": "overlay",
              "size": 10,
              "solidity": 0.2
             }
            },
            "type": "histogram"
           }
          ],
          "histogram2d": [
           {
            "colorbar": {
             "outlinewidth": 0,
             "ticks": ""
            },
            "colorscale": [
             [
              0,
              "#0d0887"
             ],
             [
              0.1111111111111111,
              "#46039f"
             ],
             [
              0.2222222222222222,
              "#7201a8"
             ],
             [
              0.3333333333333333,
              "#9c179e"
             ],
             [
              0.4444444444444444,
              "#bd3786"
             ],
             [
              0.5555555555555556,
              "#d8576b"
             ],
             [
              0.6666666666666666,
              "#ed7953"
             ],
             [
              0.7777777777777778,
              "#fb9f3a"
             ],
             [
              0.8888888888888888,
              "#fdca26"
             ],
             [
              1,
              "#f0f921"
             ]
            ],
            "type": "histogram2d"
           }
          ],
          "histogram2dcontour": [
           {
            "colorbar": {
             "outlinewidth": 0,
             "ticks": ""
            },
            "colorscale": [
             [
              0,
              "#0d0887"
             ],
             [
              0.1111111111111111,
              "#46039f"
             ],
             [
              0.2222222222222222,
              "#7201a8"
             ],
             [
              0.3333333333333333,
              "#9c179e"
             ],
             [
              0.4444444444444444,
              "#bd3786"
             ],
             [
              0.5555555555555556,
              "#d8576b"
             ],
             [
              0.6666666666666666,
              "#ed7953"
             ],
             [
              0.7777777777777778,
              "#fb9f3a"
             ],
             [
              0.8888888888888888,
              "#fdca26"
             ],
             [
              1,
              "#f0f921"
             ]
            ],
            "type": "histogram2dcontour"
           }
          ],
          "mesh3d": [
           {
            "colorbar": {
             "outlinewidth": 0,
             "ticks": ""
            },
            "type": "mesh3d"
           }
          ],
          "parcoords": [
           {
            "line": {
             "colorbar": {
              "outlinewidth": 0,
              "ticks": ""
             }
            },
            "type": "parcoords"
           }
          ],
          "pie": [
           {
            "automargin": true,
            "type": "pie"
           }
          ],
          "scatter": [
           {
            "marker": {
             "line": {
              "color": "#283442"
             }
            },
            "type": "scatter"
           }
          ],
          "scatter3d": [
           {
            "line": {
             "colorbar": {
              "outlinewidth": 0,
              "ticks": ""
             }
            },
            "marker": {
             "colorbar": {
              "outlinewidth": 0,
              "ticks": ""
             }
            },
            "type": "scatter3d"
           }
          ],
          "scattercarpet": [
           {
            "marker": {
             "colorbar": {
              "outlinewidth": 0,
              "ticks": ""
             }
            },
            "type": "scattercarpet"
           }
          ],
          "scattergeo": [
           {
            "marker": {
             "colorbar": {
              "outlinewidth": 0,
              "ticks": ""
             }
            },
            "type": "scattergeo"
           }
          ],
          "scattergl": [
           {
            "marker": {
             "line": {
              "color": "#283442"
             }
            },
            "type": "scattergl"
           }
          ],
          "scattermapbox": [
           {
            "marker": {
             "colorbar": {
              "outlinewidth": 0,
              "ticks": ""
             }
            },
            "type": "scattermapbox"
           }
          ],
          "scatterpolar": [
           {
            "marker": {
             "colorbar": {
              "outlinewidth": 0,
              "ticks": ""
             }
            },
            "type": "scatterpolar"
           }
          ],
          "scatterpolargl": [
           {
            "marker": {
             "colorbar": {
              "outlinewidth": 0,
              "ticks": ""
             }
            },
            "type": "scatterpolargl"
           }
          ],
          "scatterternary": [
           {
            "marker": {
             "colorbar": {
              "outlinewidth": 0,
              "ticks": ""
             }
            },
            "type": "scatterternary"
           }
          ],
          "surface": [
           {
            "colorbar": {
             "outlinewidth": 0,
             "ticks": ""
            },
            "colorscale": [
             [
              0,
              "#0d0887"
             ],
             [
              0.1111111111111111,
              "#46039f"
             ],
             [
              0.2222222222222222,
              "#7201a8"
             ],
             [
              0.3333333333333333,
              "#9c179e"
             ],
             [
              0.4444444444444444,
              "#bd3786"
             ],
             [
              0.5555555555555556,
              "#d8576b"
             ],
             [
              0.6666666666666666,
              "#ed7953"
             ],
             [
              0.7777777777777778,
              "#fb9f3a"
             ],
             [
              0.8888888888888888,
              "#fdca26"
             ],
             [
              1,
              "#f0f921"
             ]
            ],
            "type": "surface"
           }
          ],
          "table": [
           {
            "cells": {
             "fill": {
              "color": "#506784"
             },
             "line": {
              "color": "rgb(17,17,17)"
             }
            },
            "header": {
             "fill": {
              "color": "#2a3f5f"
             },
             "line": {
              "color": "rgb(17,17,17)"
             }
            },
            "type": "table"
           }
          ]
         },
         "layout": {
          "annotationdefaults": {
           "arrowcolor": "#f2f5fa",
           "arrowhead": 0,
           "arrowwidth": 1
          },
          "autotypenumbers": "strict",
          "coloraxis": {
           "colorbar": {
            "outlinewidth": 0,
            "ticks": ""
           }
          },
          "colorscale": {
           "diverging": [
            [
             0,
             "#8e0152"
            ],
            [
             0.1,
             "#c51b7d"
            ],
            [
             0.2,
             "#de77ae"
            ],
            [
             0.3,
             "#f1b6da"
            ],
            [
             0.4,
             "#fde0ef"
            ],
            [
             0.5,
             "#f7f7f7"
            ],
            [
             0.6,
             "#e6f5d0"
            ],
            [
             0.7,
             "#b8e186"
            ],
            [
             0.8,
             "#7fbc41"
            ],
            [
             0.9,
             "#4d9221"
            ],
            [
             1,
             "#276419"
            ]
           ],
           "sequential": [
            [
             0,
             "#0d0887"
            ],
            [
             0.1111111111111111,
             "#46039f"
            ],
            [
             0.2222222222222222,
             "#7201a8"
            ],
            [
             0.3333333333333333,
             "#9c179e"
            ],
            [
             0.4444444444444444,
             "#bd3786"
            ],
            [
             0.5555555555555556,
             "#d8576b"
            ],
            [
             0.6666666666666666,
             "#ed7953"
            ],
            [
             0.7777777777777778,
             "#fb9f3a"
            ],
            [
             0.8888888888888888,
             "#fdca26"
            ],
            [
             1,
             "#f0f921"
            ]
           ],
           "sequentialminus": [
            [
             0,
             "#0d0887"
            ],
            [
             0.1111111111111111,
             "#46039f"
            ],
            [
             0.2222222222222222,
             "#7201a8"
            ],
            [
             0.3333333333333333,
             "#9c179e"
            ],
            [
             0.4444444444444444,
             "#bd3786"
            ],
            [
             0.5555555555555556,
             "#d8576b"
            ],
            [
             0.6666666666666666,
             "#ed7953"
            ],
            [
             0.7777777777777778,
             "#fb9f3a"
            ],
            [
             0.8888888888888888,
             "#fdca26"
            ],
            [
             1,
             "#f0f921"
            ]
           ]
          },
          "colorway": [
           "#636efa",
           "#EF553B",
           "#00cc96",
           "#ab63fa",
           "#FFA15A",
           "#19d3f3",
           "#FF6692",
           "#B6E880",
           "#FF97FF",
           "#FECB52"
          ],
          "font": {
           "color": "#f2f5fa"
          },
          "geo": {
           "bgcolor": "rgb(17,17,17)",
           "lakecolor": "rgb(17,17,17)",
           "landcolor": "rgb(17,17,17)",
           "showlakes": true,
           "showland": true,
           "subunitcolor": "#506784"
          },
          "hoverlabel": {
           "align": "left"
          },
          "hovermode": "closest",
          "mapbox": {
           "style": "dark"
          },
          "paper_bgcolor": "rgb(17,17,17)",
          "plot_bgcolor": "rgb(17,17,17)",
          "polar": {
           "angularaxis": {
            "gridcolor": "#506784",
            "linecolor": "#506784",
            "ticks": ""
           },
           "bgcolor": "rgb(17,17,17)",
           "radialaxis": {
            "gridcolor": "#506784",
            "linecolor": "#506784",
            "ticks": ""
           }
          },
          "scene": {
           "xaxis": {
            "backgroundcolor": "rgb(17,17,17)",
            "gridcolor": "#506784",
            "gridwidth": 2,
            "linecolor": "#506784",
            "showbackground": true,
            "ticks": "",
            "zerolinecolor": "#C8D4E3"
           },
           "yaxis": {
            "backgroundcolor": "rgb(17,17,17)",
            "gridcolor": "#506784",
            "gridwidth": 2,
            "linecolor": "#506784",
            "showbackground": true,
            "ticks": "",
            "zerolinecolor": "#C8D4E3"
           },
           "zaxis": {
            "backgroundcolor": "rgb(17,17,17)",
            "gridcolor": "#506784",
            "gridwidth": 2,
            "linecolor": "#506784",
            "showbackground": true,
            "ticks": "",
            "zerolinecolor": "#C8D4E3"
           }
          },
          "shapedefaults": {
           "line": {
            "color": "#f2f5fa"
           }
          },
          "sliderdefaults": {
           "bgcolor": "#C8D4E3",
           "bordercolor": "rgb(17,17,17)",
           "borderwidth": 1,
           "tickwidth": 0
          },
          "ternary": {
           "aaxis": {
            "gridcolor": "#506784",
            "linecolor": "#506784",
            "ticks": ""
           },
           "baxis": {
            "gridcolor": "#506784",
            "linecolor": "#506784",
            "ticks": ""
           },
           "bgcolor": "rgb(17,17,17)",
           "caxis": {
            "gridcolor": "#506784",
            "linecolor": "#506784",
            "ticks": ""
           }
          },
          "title": {
           "x": 0.05
          },
          "updatemenudefaults": {
           "bgcolor": "#506784",
           "borderwidth": 0
          },
          "xaxis": {
           "automargin": true,
           "gridcolor": "#283442",
           "linecolor": "#506784",
           "ticks": "",
           "title": {
            "standoff": 15
           },
           "zerolinecolor": "#283442",
           "zerolinewidth": 2
          },
          "yaxis": {
           "automargin": true,
           "gridcolor": "#283442",
           "linecolor": "#506784",
           "ticks": "",
           "title": {
            "standoff": 15
           },
           "zerolinecolor": "#283442",
           "zerolinewidth": 2
          }
         }
        },
        "title": {
         "text": "PFE Stock Analysis RSI Signal"
        },
        "width": 1000,
        "xaxis": {
         "rangeslider": {
          "visible": true
         },
         "title": {
          "text": "Date"
         }
        },
        "yaxis": {
         "title": {
          "text": "Price"
         }
        }
       }
      }
     },
     "metadata": {},
     "output_type": "display_data"
    },
    {
     "name": "stdout",
     "output_type": "stream",
     "text": [
      "VPT Signal : Final Profit: $-3268.56, -20.63%\n"
     ]
    },
    {
     "data": {
      "application/vnd.plotly.v1+json": {
       "config": {
        "plotlyServerURL": "https://plot.ly"
       },
       "data": [
        {
         "line": {
          "color": "blue"
         },
         "mode": "lines",
         "name": "Adj Close",
         "type": "scatter",
         "x": [
          "2023-01-03T00:00:00",
          "2023-01-04T00:00:00",
          "2023-01-05T00:00:00",
          "2023-01-06T00:00:00",
          "2023-01-09T00:00:00",
          "2023-01-10T00:00:00",
          "2023-01-11T00:00:00",
          "2023-01-12T00:00:00",
          "2023-01-13T00:00:00",
          "2023-01-17T00:00:00",
          "2023-01-18T00:00:00",
          "2023-01-19T00:00:00",
          "2023-01-20T00:00:00",
          "2023-01-23T00:00:00",
          "2023-01-24T00:00:00",
          "2023-01-25T00:00:00",
          "2023-01-26T00:00:00",
          "2023-01-27T00:00:00",
          "2023-01-30T00:00:00",
          "2023-01-31T00:00:00",
          "2023-02-01T00:00:00",
          "2023-02-02T00:00:00",
          "2023-02-03T00:00:00",
          "2023-02-06T00:00:00",
          "2023-02-07T00:00:00",
          "2023-02-08T00:00:00",
          "2023-02-09T00:00:00",
          "2023-02-10T00:00:00",
          "2023-02-13T00:00:00",
          "2023-02-14T00:00:00",
          "2023-02-15T00:00:00",
          "2023-02-16T00:00:00",
          "2023-02-17T00:00:00",
          "2023-02-21T00:00:00",
          "2023-02-22T00:00:00",
          "2023-02-23T00:00:00",
          "2023-02-24T00:00:00",
          "2023-02-27T00:00:00",
          "2023-02-28T00:00:00",
          "2023-03-01T00:00:00",
          "2023-03-02T00:00:00",
          "2023-03-03T00:00:00",
          "2023-03-06T00:00:00",
          "2023-03-07T00:00:00",
          "2023-03-08T00:00:00",
          "2023-03-09T00:00:00",
          "2023-03-10T00:00:00",
          "2023-03-13T00:00:00",
          "2023-03-14T00:00:00",
          "2023-03-15T00:00:00",
          "2023-03-16T00:00:00",
          "2023-03-17T00:00:00",
          "2023-03-20T00:00:00",
          "2023-03-21T00:00:00",
          "2023-03-22T00:00:00",
          "2023-03-23T00:00:00",
          "2023-03-24T00:00:00",
          "2023-03-27T00:00:00",
          "2023-03-28T00:00:00",
          "2023-03-29T00:00:00",
          "2023-03-30T00:00:00",
          "2023-03-31T00:00:00",
          "2023-04-03T00:00:00",
          "2023-04-04T00:00:00",
          "2023-04-05T00:00:00",
          "2023-04-06T00:00:00",
          "2023-04-10T00:00:00",
          "2023-04-11T00:00:00",
          "2023-04-12T00:00:00",
          "2023-04-13T00:00:00",
          "2023-04-14T00:00:00",
          "2023-04-17T00:00:00",
          "2023-04-18T00:00:00",
          "2023-04-19T00:00:00",
          "2023-04-20T00:00:00",
          "2023-04-21T00:00:00",
          "2023-04-24T00:00:00",
          "2023-04-25T00:00:00",
          "2023-04-26T00:00:00",
          "2023-04-27T00:00:00",
          "2023-04-28T00:00:00",
          "2023-05-01T00:00:00",
          "2023-05-02T00:00:00",
          "2023-05-03T00:00:00",
          "2023-05-04T00:00:00",
          "2023-05-05T00:00:00",
          "2023-05-08T00:00:00",
          "2023-05-09T00:00:00",
          "2023-05-10T00:00:00",
          "2023-05-11T00:00:00",
          "2023-05-12T00:00:00",
          "2023-05-15T00:00:00",
          "2023-05-16T00:00:00",
          "2023-05-17T00:00:00",
          "2023-05-18T00:00:00",
          "2023-05-19T00:00:00",
          "2023-05-22T00:00:00",
          "2023-05-23T00:00:00",
          "2023-05-24T00:00:00",
          "2023-05-25T00:00:00",
          "2023-05-26T00:00:00",
          "2023-05-30T00:00:00",
          "2023-05-31T00:00:00",
          "2023-06-01T00:00:00",
          "2023-06-02T00:00:00",
          "2023-06-05T00:00:00",
          "2023-06-06T00:00:00",
          "2023-06-07T00:00:00",
          "2023-06-08T00:00:00",
          "2023-06-09T00:00:00",
          "2023-06-12T00:00:00",
          "2023-06-13T00:00:00",
          "2023-06-14T00:00:00",
          "2023-06-15T00:00:00",
          "2023-06-16T00:00:00",
          "2023-06-20T00:00:00",
          "2023-06-21T00:00:00",
          "2023-06-22T00:00:00",
          "2023-06-23T00:00:00",
          "2023-06-26T00:00:00",
          "2023-06-27T00:00:00",
          "2023-06-28T00:00:00",
          "2023-06-29T00:00:00",
          "2023-06-30T00:00:00",
          "2023-07-03T00:00:00",
          "2023-07-05T00:00:00",
          "2023-07-06T00:00:00",
          "2023-07-07T00:00:00",
          "2023-07-10T00:00:00",
          "2023-07-11T00:00:00",
          "2023-07-12T00:00:00",
          "2023-07-13T00:00:00",
          "2023-07-14T00:00:00",
          "2023-07-17T00:00:00",
          "2023-07-18T00:00:00",
          "2023-07-19T00:00:00",
          "2023-07-20T00:00:00",
          "2023-07-21T00:00:00",
          "2023-07-24T00:00:00",
          "2023-07-25T00:00:00",
          "2023-07-26T00:00:00",
          "2023-07-27T00:00:00",
          "2023-07-28T00:00:00",
          "2023-07-31T00:00:00",
          "2023-08-01T00:00:00",
          "2023-08-02T00:00:00",
          "2023-08-03T00:00:00",
          "2023-08-04T00:00:00",
          "2023-08-07T00:00:00",
          "2023-08-08T00:00:00",
          "2023-08-09T00:00:00",
          "2023-08-10T00:00:00",
          "2023-08-11T00:00:00",
          "2023-08-14T00:00:00",
          "2023-08-15T00:00:00",
          "2023-08-16T00:00:00",
          "2023-08-17T00:00:00",
          "2023-08-18T00:00:00",
          "2023-08-21T00:00:00",
          "2023-08-22T00:00:00",
          "2023-08-23T00:00:00",
          "2023-08-24T00:00:00",
          "2023-08-25T00:00:00",
          "2023-08-28T00:00:00",
          "2023-08-29T00:00:00",
          "2023-08-30T00:00:00",
          "2023-08-31T00:00:00",
          "2023-09-01T00:00:00",
          "2023-09-05T00:00:00",
          "2023-09-06T00:00:00",
          "2023-09-07T00:00:00",
          "2023-09-08T00:00:00",
          "2023-09-11T00:00:00",
          "2023-09-12T00:00:00",
          "2023-09-13T00:00:00",
          "2023-09-14T00:00:00",
          "2023-09-15T00:00:00",
          "2023-09-18T00:00:00",
          "2023-09-19T00:00:00",
          "2023-09-20T00:00:00",
          "2023-09-21T00:00:00",
          "2023-09-22T00:00:00",
          "2023-09-25T00:00:00",
          "2023-09-26T00:00:00",
          "2023-09-27T00:00:00",
          "2023-09-28T00:00:00",
          "2023-09-29T00:00:00",
          "2023-10-02T00:00:00",
          "2023-10-03T00:00:00",
          "2023-10-04T00:00:00",
          "2023-10-05T00:00:00",
          "2023-10-06T00:00:00",
          "2023-10-09T00:00:00",
          "2023-10-10T00:00:00",
          "2023-10-11T00:00:00",
          "2023-10-12T00:00:00",
          "2023-10-13T00:00:00",
          "2023-10-16T00:00:00",
          "2023-10-17T00:00:00",
          "2023-10-18T00:00:00",
          "2023-10-19T00:00:00",
          "2023-10-20T00:00:00",
          "2023-10-23T00:00:00",
          "2023-10-24T00:00:00",
          "2023-10-25T00:00:00",
          "2023-10-26T00:00:00",
          "2023-10-27T00:00:00",
          "2023-10-30T00:00:00",
          "2023-10-31T00:00:00",
          "2023-11-01T00:00:00",
          "2023-11-02T00:00:00",
          "2023-11-03T00:00:00",
          "2023-11-06T00:00:00",
          "2023-11-07T00:00:00",
          "2023-11-08T00:00:00",
          "2023-11-09T00:00:00",
          "2023-11-10T00:00:00",
          "2023-11-13T00:00:00",
          "2023-11-14T00:00:00",
          "2023-11-15T00:00:00",
          "2023-11-16T00:00:00",
          "2023-11-17T00:00:00",
          "2023-11-20T00:00:00",
          "2023-11-21T00:00:00",
          "2023-11-22T00:00:00",
          "2023-11-24T00:00:00",
          "2023-11-27T00:00:00",
          "2023-11-28T00:00:00",
          "2023-11-29T00:00:00",
          "2023-11-30T00:00:00",
          "2023-12-01T00:00:00",
          "2023-12-04T00:00:00",
          "2023-12-05T00:00:00",
          "2023-12-06T00:00:00",
          "2023-12-07T00:00:00",
          "2023-12-08T00:00:00",
          "2023-12-11T00:00:00",
          "2023-12-12T00:00:00",
          "2023-12-13T00:00:00",
          "2023-12-14T00:00:00",
          "2023-12-15T00:00:00",
          "2023-12-18T00:00:00",
          "2023-12-19T00:00:00",
          "2023-12-20T00:00:00",
          "2023-12-21T00:00:00",
          "2023-12-22T00:00:00",
          "2023-12-26T00:00:00",
          "2023-12-27T00:00:00",
          "2023-12-28T00:00:00",
          "2023-12-29T00:00:00"
         ],
         "y": [
          47.59048461914063,
          46.541385650634766,
          46.10502624511719,
          47.27482604980469,
          44.92593765258789,
          44.211063385009766,
          44.0532341003418,
          44.294620513916016,
          44.42459487915039,
          42.78131103515625,
          41.77862548828125,
          41.741485595703125,
          41.88074493408203,
          41.76005172729492,
          41.50938034057617,
          41.84361267089844,
          41.459468841552734,
          41.02847290039063,
          40.80360794067383,
          41.37514114379883,
          41.19712829589844,
          41.54378890991211,
          41.28144836425781,
          41.0003662109375,
          40.84109115600586,
          41.20649337768555,
          40.60685348510742,
          41.11280059814453,
          41.21586608886719,
          40.962890625,
          40.58811569213867,
          40.24145126342773,
          40.48505401611328,
          40.0072135925293,
          39.7073974609375,
          39.6324348449707,
          39.11712265014648,
          38.20829391479492,
          38.01153564453125,
          37.64613342285156,
          38.05838394165039,
          38.554962158203125,
          38.51748275756836,
          37.796043395996094,
          37.58991241455078,
          36.97153854370117,
          36.905948638916016,
          37.3463134765625,
          37.38379287719727,
          37.73982620239258,
          37.82415008544922,
          37.5711784362793,
          38.23640441894531,
          38.09586334228516,
          37.486854553222656,
          37.64613342285156,
          37.842891693115234,
          37.68361282348633,
          37.46811676025391,
          37.71171951293945,
          37.8335189819336,
          38.22703552246094,
          38.74234771728516,
          38.32072448730469,
          38.92973327636719,
          38.88289260864258,
          39.09838104248047,
          39.15460205078125,
          38.76108551025391,
          38.85478210449219,
          38.59244155883789,
          38.58307266235352,
          37.992794036865234,
          37.70235061645508,
          37.33694076538086,
          37.67424011230469,
          37.39315414428711,
          36.849735260009766,
          36.19388198852539,
          36.29694366455078,
          36.43748092651367,
          36.737300872802734,
          36.59675979614258,
          36.025230407714844,
          35.8191032409668,
          36.06270980834961,
          36.231353759765625,
          36.053340911865234,
          35.88468933105469,
          35.59109878540039,
          35.37326431274414,
          35.19332504272461,
          35.05126190185547,
          34.805023193359375,
          34.54931640625,
          34.82396697998047,
          36.69917678833008,
          37.54207229614258,
          36.58552932739258,
          35.82786560058594,
          35.61003494262695,
          35.05126190185547,
          36.0078125,
          36.0078125,
          36.32981491088867,
          36.604469299316406,
          36.33928298950195,
          36.83176040649414,
          37.021183013916016,
          36.90753173828125,
          37.78831481933594,
          38.148197174072266,
          37.276893615722656,
          37.64624786376953,
          37.93984603881836,
          37.25794982910156,
          36.84123992919922,
          36.68022918701172,
          36.272987365722656,
          34.93761444091797,
          34.492488861083984,
          34.36936950683594,
          34.20836639404297,
          34.73872756958008,
          34.7103157043457,
          34.530372619628906,
          33.74430084228516,
          33.649593353271484,
          33.79165267944336,
          34.1136589050293,
          34.08524703979492,
          34.15154266357422,
          34.39777755737305,
          33.96212387084961,
          34.32201385498047,
          34.51142883300781,
          34.82396697998047,
          35.420623779296875,
          35.52479934692383,
          35.09861755371094,
          35.24068069458008,
          34.66610336303711,
          34.54160690307617,
          34.53203582763672,
          34.101104736328125,
          33.85211563110352,
          33.51694869995117,
          33.536102294921875,
          34.16813659667969,
          34.12982940673828,
          34.32135772705078,
          34.20643997192383,
          34.51288604736328,
          34.54160690307617,
          33.89042663574219,
          33.97660827636719,
          34.96296310424805,
          35.10660934448242,
          35.441776275634766,
          35.27898406982422,
          35.10660934448242,
          34.62779235839844,
          34.83847427368164,
          34.67567443847656,
          34.618221282958984,
          34.37881851196289,
          33.8808479309082,
          34.26389694213867,
          33.8808479309082,
          32.91364288330078,
          32.82745742797852,
          32.79872512817383,
          32.501861572265625,
          32.70296859741211,
          32.63593292236328,
          32.70296859741211,
          32.62635803222656,
          32.214576721191406,
          32.54975128173828,
          32.1954231262207,
          31.45804786682129,
          31.30483055114746,
          31.582544326782227,
          31.027118682861328,
          30.739830017089844,
          30.73025321960449,
          31.764488220214844,
          32.501861572265625,
          32.463558197021484,
          31.8985595703125,
          32.051780700683594,
          31.726186752319336,
          31.793222427368164,
          31.764488220214844,
          31.707035064697266,
          31.52508354187012,
          30.749406814575195,
          31.860254287719727,
          31.362287521362305,
          30.07906723022461,
          29.868391036987305,
          29.35127067565918,
          29.533218383789062,
          29.14059257507324,
          29.427879333496094,
          29.83966064453125,
          28.83415031433105,
          29.25550651550293,
          29.26508331298828,
          29.21720314025879,
          29.20762634277344,
          29.9354248046875,
          29.858814239501957,
          29.92584800720215,
          29.514068603515625,
          28.805574417114254,
          28.61146545410156,
          28.126197814941406,
          28.397947311401367,
          29.30055046081543,
          28.89292335510254,
          29.038503646850582,
          29.09673500061035,
          29.40730857849121,
          29.42671775817871,
          29.601415634155277,
          29.25201988220215,
          28.81528091430664,
          29.193790435791016,
          29.57229804992676,
          28.058259963989254,
          28.417360305786133,
          28.23295783996582,
          27.941795349121094,
          27.786508560180664,
          27.932090759277344,
          27.79621315002441,
          27.73798179626465,
          25.874547958374023,
          25.36016273498535,
          25.84543228149414,
          26.26276397705078,
          27.33035469055176,
          26.81597137451172,
          27.475934982299805,
          27.56328582763672,
          27.57299041748047,
          27.767099380493164,
          27.941795349121094,
          27.941795349121094
         ]
        },
        {
         "marker": {
          "color": "green",
          "size": 10,
          "symbol": "triangle-up"
         },
         "mode": "markers",
         "name": "Buy Signal",
         "type": "scatter",
         "x": [
          "2023-01-03T00:00:00",
          "2023-01-04T00:00:00",
          "2023-01-05T00:00:00",
          "2023-01-06T00:00:00",
          "2023-01-09T00:00:00",
          "2023-01-10T00:00:00",
          "2023-01-11T00:00:00",
          "2023-01-12T00:00:00",
          "2023-01-13T00:00:00",
          "2023-01-17T00:00:00",
          "2023-01-18T00:00:00",
          "2023-01-19T00:00:00",
          "2023-01-20T00:00:00",
          "2023-01-23T00:00:00",
          "2023-01-24T00:00:00",
          "2023-01-25T00:00:00",
          "2023-01-26T00:00:00",
          "2023-01-27T00:00:00",
          "2023-01-30T00:00:00",
          "2023-01-31T00:00:00",
          "2023-02-01T00:00:00",
          "2023-02-02T00:00:00",
          "2023-02-03T00:00:00",
          "2023-02-06T00:00:00",
          "2023-02-07T00:00:00",
          "2023-02-08T00:00:00",
          "2023-02-09T00:00:00",
          "2023-02-10T00:00:00",
          "2023-02-13T00:00:00",
          "2023-02-14T00:00:00",
          "2023-02-15T00:00:00",
          "2023-02-16T00:00:00",
          "2023-02-17T00:00:00",
          "2023-02-21T00:00:00",
          "2023-02-22T00:00:00",
          "2023-02-23T00:00:00",
          "2023-02-24T00:00:00",
          "2023-02-27T00:00:00",
          "2023-02-28T00:00:00",
          "2023-03-01T00:00:00",
          "2023-03-02T00:00:00",
          "2023-03-03T00:00:00",
          "2023-03-06T00:00:00",
          "2023-03-07T00:00:00",
          "2023-03-08T00:00:00",
          "2023-03-09T00:00:00",
          "2023-03-10T00:00:00",
          "2023-03-13T00:00:00",
          "2023-03-14T00:00:00",
          "2023-03-15T00:00:00",
          "2023-03-16T00:00:00",
          "2023-03-17T00:00:00",
          "2023-03-20T00:00:00",
          "2023-03-21T00:00:00",
          "2023-03-22T00:00:00",
          "2023-03-23T00:00:00",
          "2023-03-24T00:00:00",
          "2023-03-27T00:00:00",
          "2023-03-28T00:00:00",
          "2023-03-29T00:00:00",
          "2023-03-30T00:00:00",
          "2023-03-31T00:00:00",
          "2023-04-04T00:00:00",
          "2023-04-18T00:00:00",
          "2023-04-19T00:00:00",
          "2023-04-20T00:00:00",
          "2023-04-21T00:00:00",
          "2023-04-24T00:00:00",
          "2023-04-25T00:00:00",
          "2023-04-26T00:00:00",
          "2023-04-27T00:00:00",
          "2023-04-28T00:00:00",
          "2023-05-01T00:00:00",
          "2023-05-02T00:00:00",
          "2023-05-03T00:00:00",
          "2023-05-04T00:00:00",
          "2023-05-05T00:00:00",
          "2023-05-08T00:00:00",
          "2023-05-09T00:00:00",
          "2023-05-10T00:00:00",
          "2023-05-11T00:00:00",
          "2023-05-12T00:00:00",
          "2023-05-15T00:00:00",
          "2023-05-16T00:00:00",
          "2023-05-17T00:00:00",
          "2023-05-18T00:00:00",
          "2023-05-19T00:00:00",
          "2023-06-26T00:00:00",
          "2023-06-27T00:00:00",
          "2023-06-28T00:00:00",
          "2023-06-29T00:00:00",
          "2023-06-30T00:00:00",
          "2023-07-03T00:00:00",
          "2023-07-05T00:00:00",
          "2023-07-06T00:00:00",
          "2023-07-07T00:00:00",
          "2023-07-10T00:00:00",
          "2023-07-11T00:00:00",
          "2023-07-12T00:00:00",
          "2023-07-13T00:00:00",
          "2023-07-14T00:00:00",
          "2023-07-17T00:00:00",
          "2023-07-18T00:00:00",
          "2023-07-19T00:00:00",
          "2023-07-20T00:00:00",
          "2023-07-25T00:00:00",
          "2023-07-27T00:00:00",
          "2023-07-28T00:00:00",
          "2023-07-31T00:00:00",
          "2023-08-01T00:00:00",
          "2023-08-02T00:00:00",
          "2023-08-03T00:00:00",
          "2023-08-04T00:00:00",
          "2023-08-07T00:00:00",
          "2023-08-08T00:00:00",
          "2023-08-09T00:00:00",
          "2023-08-10T00:00:00",
          "2023-08-11T00:00:00",
          "2023-08-14T00:00:00",
          "2023-08-15T00:00:00",
          "2023-08-16T00:00:00",
          "2023-08-31T00:00:00",
          "2023-09-01T00:00:00",
          "2023-09-05T00:00:00",
          "2023-09-06T00:00:00",
          "2023-09-07T00:00:00",
          "2023-09-08T00:00:00",
          "2023-09-11T00:00:00",
          "2023-09-12T00:00:00",
          "2023-09-13T00:00:00",
          "2023-09-14T00:00:00",
          "2023-09-15T00:00:00",
          "2023-09-18T00:00:00",
          "2023-09-19T00:00:00",
          "2023-09-20T00:00:00",
          "2023-09-21T00:00:00",
          "2023-09-22T00:00:00",
          "2023-09-25T00:00:00",
          "2023-09-26T00:00:00",
          "2023-09-27T00:00:00",
          "2023-09-28T00:00:00",
          "2023-09-29T00:00:00",
          "2023-10-12T00:00:00",
          "2023-10-13T00:00:00",
          "2023-10-18T00:00:00",
          "2023-10-19T00:00:00",
          "2023-10-20T00:00:00",
          "2023-10-23T00:00:00",
          "2023-10-24T00:00:00",
          "2023-10-25T00:00:00",
          "2023-10-26T00:00:00",
          "2023-10-27T00:00:00",
          "2023-10-30T00:00:00",
          "2023-10-31T00:00:00",
          "2023-11-01T00:00:00",
          "2023-11-02T00:00:00",
          "2023-11-03T00:00:00",
          "2023-11-06T00:00:00",
          "2023-11-07T00:00:00",
          "2023-11-08T00:00:00",
          "2023-11-09T00:00:00",
          "2023-11-10T00:00:00",
          "2023-11-13T00:00:00",
          "2023-11-14T00:00:00",
          "2023-11-16T00:00:00",
          "2023-11-17T00:00:00",
          "2023-11-20T00:00:00",
          "2023-11-27T00:00:00",
          "2023-11-28T00:00:00",
          "2023-11-29T00:00:00",
          "2023-12-01T00:00:00",
          "2023-12-04T00:00:00",
          "2023-12-05T00:00:00",
          "2023-12-06T00:00:00",
          "2023-12-07T00:00:00",
          "2023-12-08T00:00:00",
          "2023-12-11T00:00:00",
          "2023-12-12T00:00:00",
          "2023-12-13T00:00:00",
          "2023-12-14T00:00:00",
          "2023-12-15T00:00:00",
          "2023-12-18T00:00:00",
          "2023-12-19T00:00:00",
          "2023-12-20T00:00:00",
          "2023-12-21T00:00:00",
          "2023-12-22T00:00:00",
          "2023-12-26T00:00:00",
          "2023-12-27T00:00:00",
          "2023-12-28T00:00:00",
          "2023-12-29T00:00:00"
         ],
         "y": [
          47.59048461914063,
          46.541385650634766,
          46.10502624511719,
          47.27482604980469,
          44.92593765258789,
          44.211063385009766,
          44.0532341003418,
          44.294620513916016,
          44.42459487915039,
          42.78131103515625,
          41.77862548828125,
          41.741485595703125,
          41.88074493408203,
          41.76005172729492,
          41.50938034057617,
          41.84361267089844,
          41.459468841552734,
          41.02847290039063,
          40.80360794067383,
          41.37514114379883,
          41.19712829589844,
          41.54378890991211,
          41.28144836425781,
          41.0003662109375,
          40.84109115600586,
          41.20649337768555,
          40.60685348510742,
          41.11280059814453,
          41.21586608886719,
          40.962890625,
          40.58811569213867,
          40.24145126342773,
          40.48505401611328,
          40.0072135925293,
          39.7073974609375,
          39.6324348449707,
          39.11712265014648,
          38.20829391479492,
          38.01153564453125,
          37.64613342285156,
          38.05838394165039,
          38.554962158203125,
          38.51748275756836,
          37.796043395996094,
          37.58991241455078,
          36.97153854370117,
          36.905948638916016,
          37.3463134765625,
          37.38379287719727,
          37.73982620239258,
          37.82415008544922,
          37.5711784362793,
          38.23640441894531,
          38.09586334228516,
          37.486854553222656,
          37.64613342285156,
          37.842891693115234,
          37.68361282348633,
          37.46811676025391,
          37.71171951293945,
          37.8335189819336,
          38.22703552246094,
          38.32072448730469,
          37.992794036865234,
          37.70235061645508,
          37.33694076538086,
          37.67424011230469,
          37.39315414428711,
          36.849735260009766,
          36.19388198852539,
          36.29694366455078,
          36.43748092651367,
          36.737300872802734,
          36.59675979614258,
          36.025230407714844,
          35.8191032409668,
          36.06270980834961,
          36.231353759765625,
          36.053340911865234,
          35.88468933105469,
          35.59109878540039,
          35.37326431274414,
          35.19332504272461,
          35.05126190185547,
          34.805023193359375,
          34.54931640625,
          34.82396697998047,
          34.93761444091797,
          34.492488861083984,
          34.36936950683594,
          34.20836639404297,
          34.73872756958008,
          34.7103157043457,
          34.530372619628906,
          33.74430084228516,
          33.649593353271484,
          33.79165267944336,
          34.1136589050293,
          34.08524703979492,
          34.15154266357422,
          34.39777755737305,
          33.96212387084961,
          34.32201385498047,
          34.51142883300781,
          34.82396697998047,
          35.09861755371094,
          34.66610336303711,
          34.54160690307617,
          34.53203582763672,
          34.101104736328125,
          33.85211563110352,
          33.51694869995117,
          33.536102294921875,
          34.16813659667969,
          34.12982940673828,
          34.32135772705078,
          34.20643997192383,
          34.51288604736328,
          34.54160690307617,
          33.89042663574219,
          33.97660827636719,
          33.8808479309082,
          34.26389694213867,
          33.8808479309082,
          32.91364288330078,
          32.82745742797852,
          32.79872512817383,
          32.501861572265625,
          32.70296859741211,
          32.63593292236328,
          32.70296859741211,
          32.62635803222656,
          32.214576721191406,
          32.54975128173828,
          32.1954231262207,
          31.45804786682129,
          31.30483055114746,
          31.582544326782227,
          31.027118682861328,
          30.739830017089844,
          30.73025321960449,
          31.764488220214844,
          31.52508354187012,
          30.749406814575195,
          30.07906723022461,
          29.868391036987305,
          29.35127067565918,
          29.533218383789062,
          29.14059257507324,
          29.427879333496094,
          29.83966064453125,
          28.83415031433105,
          29.25550651550293,
          29.26508331298828,
          29.21720314025879,
          29.20762634277344,
          29.9354248046875,
          29.858814239501957,
          29.92584800720215,
          29.514068603515625,
          28.805574417114254,
          28.61146545410156,
          28.126197814941406,
          28.397947311401367,
          28.89292335510254,
          29.038503646850582,
          29.09673500061035,
          29.25201988220215,
          28.81528091430664,
          29.193790435791016,
          28.058259963989254,
          28.417360305786133,
          28.23295783996582,
          27.941795349121094,
          27.786508560180664,
          27.932090759277344,
          27.79621315002441,
          27.73798179626465,
          25.874547958374023,
          25.36016273498535,
          25.84543228149414,
          26.26276397705078,
          27.33035469055176,
          26.81597137451172,
          27.475934982299805,
          27.56328582763672,
          27.57299041748047,
          27.767099380493164,
          27.941795349121094,
          27.941795349121094
         ]
        },
        {
         "marker": {
          "color": "red",
          "size": 10,
          "symbol": "triangle-down"
         },
         "mode": "markers",
         "name": "Sell Signal",
         "type": "scatter",
         "x": [
          "2023-04-03T00:00:00",
          "2023-04-05T00:00:00",
          "2023-04-06T00:00:00",
          "2023-04-10T00:00:00",
          "2023-04-11T00:00:00",
          "2023-04-12T00:00:00",
          "2023-04-13T00:00:00",
          "2023-04-14T00:00:00",
          "2023-04-17T00:00:00",
          "2023-05-22T00:00:00",
          "2023-05-23T00:00:00",
          "2023-05-24T00:00:00",
          "2023-05-25T00:00:00",
          "2023-05-26T00:00:00",
          "2023-05-30T00:00:00",
          "2023-05-31T00:00:00",
          "2023-06-01T00:00:00",
          "2023-06-02T00:00:00",
          "2023-06-05T00:00:00",
          "2023-06-06T00:00:00",
          "2023-06-07T00:00:00",
          "2023-06-08T00:00:00",
          "2023-06-09T00:00:00",
          "2023-06-12T00:00:00",
          "2023-06-13T00:00:00",
          "2023-06-14T00:00:00",
          "2023-06-15T00:00:00",
          "2023-06-16T00:00:00",
          "2023-06-20T00:00:00",
          "2023-06-21T00:00:00",
          "2023-06-22T00:00:00",
          "2023-06-23T00:00:00",
          "2023-07-21T00:00:00",
          "2023-07-24T00:00:00",
          "2023-07-26T00:00:00",
          "2023-08-17T00:00:00",
          "2023-08-18T00:00:00",
          "2023-08-21T00:00:00",
          "2023-08-22T00:00:00",
          "2023-08-23T00:00:00",
          "2023-08-24T00:00:00",
          "2023-08-25T00:00:00",
          "2023-08-28T00:00:00",
          "2023-08-29T00:00:00",
          "2023-08-30T00:00:00",
          "2023-10-02T00:00:00",
          "2023-10-03T00:00:00",
          "2023-10-04T00:00:00",
          "2023-10-05T00:00:00",
          "2023-10-06T00:00:00",
          "2023-10-09T00:00:00",
          "2023-10-10T00:00:00",
          "2023-10-11T00:00:00",
          "2023-10-16T00:00:00",
          "2023-10-17T00:00:00",
          "2023-11-15T00:00:00",
          "2023-11-21T00:00:00",
          "2023-11-22T00:00:00",
          "2023-11-24T00:00:00",
          "2023-11-30T00:00:00"
         ],
         "y": [
          38.74234771728516,
          38.92973327636719,
          38.88289260864258,
          39.09838104248047,
          39.15460205078125,
          38.76108551025391,
          38.85478210449219,
          38.59244155883789,
          38.58307266235352,
          36.69917678833008,
          37.54207229614258,
          36.58552932739258,
          35.82786560058594,
          35.61003494262695,
          35.05126190185547,
          36.0078125,
          36.0078125,
          36.32981491088867,
          36.604469299316406,
          36.33928298950195,
          36.83176040649414,
          37.021183013916016,
          36.90753173828125,
          37.78831481933594,
          38.148197174072266,
          37.276893615722656,
          37.64624786376953,
          37.93984603881836,
          37.25794982910156,
          36.84123992919922,
          36.68022918701172,
          36.272987365722656,
          35.420623779296875,
          35.52479934692383,
          35.24068069458008,
          34.96296310424805,
          35.10660934448242,
          35.441776275634766,
          35.27898406982422,
          35.10660934448242,
          34.62779235839844,
          34.83847427368164,
          34.67567443847656,
          34.618221282958984,
          34.37881851196289,
          32.501861572265625,
          32.463558197021484,
          31.8985595703125,
          32.051780700683594,
          31.726186752319336,
          31.793222427368164,
          31.764488220214844,
          31.707035064697266,
          31.860254287719727,
          31.362287521362305,
          29.30055046081543,
          29.40730857849121,
          29.42671775817871,
          29.601415634155277,
          29.57229804992676
         ]
        }
       ],
       "layout": {
        "height": 600,
        "legend": {
         "x": 0,
         "y": 1
        },
        "template": {
         "data": {
          "bar": [
           {
            "error_x": {
             "color": "#f2f5fa"
            },
            "error_y": {
             "color": "#f2f5fa"
            },
            "marker": {
             "line": {
              "color": "rgb(17,17,17)",
              "width": 0.5
             },
             "pattern": {
              "fillmode": "overlay",
              "size": 10,
              "solidity": 0.2
             }
            },
            "type": "bar"
           }
          ],
          "barpolar": [
           {
            "marker": {
             "line": {
              "color": "rgb(17,17,17)",
              "width": 0.5
             },
             "pattern": {
              "fillmode": "overlay",
              "size": 10,
              "solidity": 0.2
             }
            },
            "type": "barpolar"
           }
          ],
          "carpet": [
           {
            "aaxis": {
             "endlinecolor": "#A2B1C6",
             "gridcolor": "#506784",
             "linecolor": "#506784",
             "minorgridcolor": "#506784",
             "startlinecolor": "#A2B1C6"
            },
            "baxis": {
             "endlinecolor": "#A2B1C6",
             "gridcolor": "#506784",
             "linecolor": "#506784",
             "minorgridcolor": "#506784",
             "startlinecolor": "#A2B1C6"
            },
            "type": "carpet"
           }
          ],
          "choropleth": [
           {
            "colorbar": {
             "outlinewidth": 0,
             "ticks": ""
            },
            "type": "choropleth"
           }
          ],
          "contour": [
           {
            "colorbar": {
             "outlinewidth": 0,
             "ticks": ""
            },
            "colorscale": [
             [
              0,
              "#0d0887"
             ],
             [
              0.1111111111111111,
              "#46039f"
             ],
             [
              0.2222222222222222,
              "#7201a8"
             ],
             [
              0.3333333333333333,
              "#9c179e"
             ],
             [
              0.4444444444444444,
              "#bd3786"
             ],
             [
              0.5555555555555556,
              "#d8576b"
             ],
             [
              0.6666666666666666,
              "#ed7953"
             ],
             [
              0.7777777777777778,
              "#fb9f3a"
             ],
             [
              0.8888888888888888,
              "#fdca26"
             ],
             [
              1,
              "#f0f921"
             ]
            ],
            "type": "contour"
           }
          ],
          "contourcarpet": [
           {
            "colorbar": {
             "outlinewidth": 0,
             "ticks": ""
            },
            "type": "contourcarpet"
           }
          ],
          "heatmap": [
           {
            "colorbar": {
             "outlinewidth": 0,
             "ticks": ""
            },
            "colorscale": [
             [
              0,
              "#0d0887"
             ],
             [
              0.1111111111111111,
              "#46039f"
             ],
             [
              0.2222222222222222,
              "#7201a8"
             ],
             [
              0.3333333333333333,
              "#9c179e"
             ],
             [
              0.4444444444444444,
              "#bd3786"
             ],
             [
              0.5555555555555556,
              "#d8576b"
             ],
             [
              0.6666666666666666,
              "#ed7953"
             ],
             [
              0.7777777777777778,
              "#fb9f3a"
             ],
             [
              0.8888888888888888,
              "#fdca26"
             ],
             [
              1,
              "#f0f921"
             ]
            ],
            "type": "heatmap"
           }
          ],
          "heatmapgl": [
           {
            "colorbar": {
             "outlinewidth": 0,
             "ticks": ""
            },
            "colorscale": [
             [
              0,
              "#0d0887"
             ],
             [
              0.1111111111111111,
              "#46039f"
             ],
             [
              0.2222222222222222,
              "#7201a8"
             ],
             [
              0.3333333333333333,
              "#9c179e"
             ],
             [
              0.4444444444444444,
              "#bd3786"
             ],
             [
              0.5555555555555556,
              "#d8576b"
             ],
             [
              0.6666666666666666,
              "#ed7953"
             ],
             [
              0.7777777777777778,
              "#fb9f3a"
             ],
             [
              0.8888888888888888,
              "#fdca26"
             ],
             [
              1,
              "#f0f921"
             ]
            ],
            "type": "heatmapgl"
           }
          ],
          "histogram": [
           {
            "marker": {
             "pattern": {
              "fillmode": "overlay",
              "size": 10,
              "solidity": 0.2
             }
            },
            "type": "histogram"
           }
          ],
          "histogram2d": [
           {
            "colorbar": {
             "outlinewidth": 0,
             "ticks": ""
            },
            "colorscale": [
             [
              0,
              "#0d0887"
             ],
             [
              0.1111111111111111,
              "#46039f"
             ],
             [
              0.2222222222222222,
              "#7201a8"
             ],
             [
              0.3333333333333333,
              "#9c179e"
             ],
             [
              0.4444444444444444,
              "#bd3786"
             ],
             [
              0.5555555555555556,
              "#d8576b"
             ],
             [
              0.6666666666666666,
              "#ed7953"
             ],
             [
              0.7777777777777778,
              "#fb9f3a"
             ],
             [
              0.8888888888888888,
              "#fdca26"
             ],
             [
              1,
              "#f0f921"
             ]
            ],
            "type": "histogram2d"
           }
          ],
          "histogram2dcontour": [
           {
            "colorbar": {
             "outlinewidth": 0,
             "ticks": ""
            },
            "colorscale": [
             [
              0,
              "#0d0887"
             ],
             [
              0.1111111111111111,
              "#46039f"
             ],
             [
              0.2222222222222222,
              "#7201a8"
             ],
             [
              0.3333333333333333,
              "#9c179e"
             ],
             [
              0.4444444444444444,
              "#bd3786"
             ],
             [
              0.5555555555555556,
              "#d8576b"
             ],
             [
              0.6666666666666666,
              "#ed7953"
             ],
             [
              0.7777777777777778,
              "#fb9f3a"
             ],
             [
              0.8888888888888888,
              "#fdca26"
             ],
             [
              1,
              "#f0f921"
             ]
            ],
            "type": "histogram2dcontour"
           }
          ],
          "mesh3d": [
           {
            "colorbar": {
             "outlinewidth": 0,
             "ticks": ""
            },
            "type": "mesh3d"
           }
          ],
          "parcoords": [
           {
            "line": {
             "colorbar": {
              "outlinewidth": 0,
              "ticks": ""
             }
            },
            "type": "parcoords"
           }
          ],
          "pie": [
           {
            "automargin": true,
            "type": "pie"
           }
          ],
          "scatter": [
           {
            "marker": {
             "line": {
              "color": "#283442"
             }
            },
            "type": "scatter"
           }
          ],
          "scatter3d": [
           {
            "line": {
             "colorbar": {
              "outlinewidth": 0,
              "ticks": ""
             }
            },
            "marker": {
             "colorbar": {
              "outlinewidth": 0,
              "ticks": ""
             }
            },
            "type": "scatter3d"
           }
          ],
          "scattercarpet": [
           {
            "marker": {
             "colorbar": {
              "outlinewidth": 0,
              "ticks": ""
             }
            },
            "type": "scattercarpet"
           }
          ],
          "scattergeo": [
           {
            "marker": {
             "colorbar": {
              "outlinewidth": 0,
              "ticks": ""
             }
            },
            "type": "scattergeo"
           }
          ],
          "scattergl": [
           {
            "marker": {
             "line": {
              "color": "#283442"
             }
            },
            "type": "scattergl"
           }
          ],
          "scattermapbox": [
           {
            "marker": {
             "colorbar": {
              "outlinewidth": 0,
              "ticks": ""
             }
            },
            "type": "scattermapbox"
           }
          ],
          "scatterpolar": [
           {
            "marker": {
             "colorbar": {
              "outlinewidth": 0,
              "ticks": ""
             }
            },
            "type": "scatterpolar"
           }
          ],
          "scatterpolargl": [
           {
            "marker": {
             "colorbar": {
              "outlinewidth": 0,
              "ticks": ""
             }
            },
            "type": "scatterpolargl"
           }
          ],
          "scatterternary": [
           {
            "marker": {
             "colorbar": {
              "outlinewidth": 0,
              "ticks": ""
             }
            },
            "type": "scatterternary"
           }
          ],
          "surface": [
           {
            "colorbar": {
             "outlinewidth": 0,
             "ticks": ""
            },
            "colorscale": [
             [
              0,
              "#0d0887"
             ],
             [
              0.1111111111111111,
              "#46039f"
             ],
             [
              0.2222222222222222,
              "#7201a8"
             ],
             [
              0.3333333333333333,
              "#9c179e"
             ],
             [
              0.4444444444444444,
              "#bd3786"
             ],
             [
              0.5555555555555556,
              "#d8576b"
             ],
             [
              0.6666666666666666,
              "#ed7953"
             ],
             [
              0.7777777777777778,
              "#fb9f3a"
             ],
             [
              0.8888888888888888,
              "#fdca26"
             ],
             [
              1,
              "#f0f921"
             ]
            ],
            "type": "surface"
           }
          ],
          "table": [
           {
            "cells": {
             "fill": {
              "color": "#506784"
             },
             "line": {
              "color": "rgb(17,17,17)"
             }
            },
            "header": {
             "fill": {
              "color": "#2a3f5f"
             },
             "line": {
              "color": "rgb(17,17,17)"
             }
            },
            "type": "table"
           }
          ]
         },
         "layout": {
          "annotationdefaults": {
           "arrowcolor": "#f2f5fa",
           "arrowhead": 0,
           "arrowwidth": 1
          },
          "autotypenumbers": "strict",
          "coloraxis": {
           "colorbar": {
            "outlinewidth": 0,
            "ticks": ""
           }
          },
          "colorscale": {
           "diverging": [
            [
             0,
             "#8e0152"
            ],
            [
             0.1,
             "#c51b7d"
            ],
            [
             0.2,
             "#de77ae"
            ],
            [
             0.3,
             "#f1b6da"
            ],
            [
             0.4,
             "#fde0ef"
            ],
            [
             0.5,
             "#f7f7f7"
            ],
            [
             0.6,
             "#e6f5d0"
            ],
            [
             0.7,
             "#b8e186"
            ],
            [
             0.8,
             "#7fbc41"
            ],
            [
             0.9,
             "#4d9221"
            ],
            [
             1,
             "#276419"
            ]
           ],
           "sequential": [
            [
             0,
             "#0d0887"
            ],
            [
             0.1111111111111111,
             "#46039f"
            ],
            [
             0.2222222222222222,
             "#7201a8"
            ],
            [
             0.3333333333333333,
             "#9c179e"
            ],
            [
             0.4444444444444444,
             "#bd3786"
            ],
            [
             0.5555555555555556,
             "#d8576b"
            ],
            [
             0.6666666666666666,
             "#ed7953"
            ],
            [
             0.7777777777777778,
             "#fb9f3a"
            ],
            [
             0.8888888888888888,
             "#fdca26"
            ],
            [
             1,
             "#f0f921"
            ]
           ],
           "sequentialminus": [
            [
             0,
             "#0d0887"
            ],
            [
             0.1111111111111111,
             "#46039f"
            ],
            [
             0.2222222222222222,
             "#7201a8"
            ],
            [
             0.3333333333333333,
             "#9c179e"
            ],
            [
             0.4444444444444444,
             "#bd3786"
            ],
            [
             0.5555555555555556,
             "#d8576b"
            ],
            [
             0.6666666666666666,
             "#ed7953"
            ],
            [
             0.7777777777777778,
             "#fb9f3a"
            ],
            [
             0.8888888888888888,
             "#fdca26"
            ],
            [
             1,
             "#f0f921"
            ]
           ]
          },
          "colorway": [
           "#636efa",
           "#EF553B",
           "#00cc96",
           "#ab63fa",
           "#FFA15A",
           "#19d3f3",
           "#FF6692",
           "#B6E880",
           "#FF97FF",
           "#FECB52"
          ],
          "font": {
           "color": "#f2f5fa"
          },
          "geo": {
           "bgcolor": "rgb(17,17,17)",
           "lakecolor": "rgb(17,17,17)",
           "landcolor": "rgb(17,17,17)",
           "showlakes": true,
           "showland": true,
           "subunitcolor": "#506784"
          },
          "hoverlabel": {
           "align": "left"
          },
          "hovermode": "closest",
          "mapbox": {
           "style": "dark"
          },
          "paper_bgcolor": "rgb(17,17,17)",
          "plot_bgcolor": "rgb(17,17,17)",
          "polar": {
           "angularaxis": {
            "gridcolor": "#506784",
            "linecolor": "#506784",
            "ticks": ""
           },
           "bgcolor": "rgb(17,17,17)",
           "radialaxis": {
            "gridcolor": "#506784",
            "linecolor": "#506784",
            "ticks": ""
           }
          },
          "scene": {
           "xaxis": {
            "backgroundcolor": "rgb(17,17,17)",
            "gridcolor": "#506784",
            "gridwidth": 2,
            "linecolor": "#506784",
            "showbackground": true,
            "ticks": "",
            "zerolinecolor": "#C8D4E3"
           },
           "yaxis": {
            "backgroundcolor": "rgb(17,17,17)",
            "gridcolor": "#506784",
            "gridwidth": 2,
            "linecolor": "#506784",
            "showbackground": true,
            "ticks": "",
            "zerolinecolor": "#C8D4E3"
           },
           "zaxis": {
            "backgroundcolor": "rgb(17,17,17)",
            "gridcolor": "#506784",
            "gridwidth": 2,
            "linecolor": "#506784",
            "showbackground": true,
            "ticks": "",
            "zerolinecolor": "#C8D4E3"
           }
          },
          "shapedefaults": {
           "line": {
            "color": "#f2f5fa"
           }
          },
          "sliderdefaults": {
           "bgcolor": "#C8D4E3",
           "bordercolor": "rgb(17,17,17)",
           "borderwidth": 1,
           "tickwidth": 0
          },
          "ternary": {
           "aaxis": {
            "gridcolor": "#506784",
            "linecolor": "#506784",
            "ticks": ""
           },
           "baxis": {
            "gridcolor": "#506784",
            "linecolor": "#506784",
            "ticks": ""
           },
           "bgcolor": "rgb(17,17,17)",
           "caxis": {
            "gridcolor": "#506784",
            "linecolor": "#506784",
            "ticks": ""
           }
          },
          "title": {
           "x": 0.05
          },
          "updatemenudefaults": {
           "bgcolor": "#506784",
           "borderwidth": 0
          },
          "xaxis": {
           "automargin": true,
           "gridcolor": "#283442",
           "linecolor": "#506784",
           "ticks": "",
           "title": {
            "standoff": 15
           },
           "zerolinecolor": "#283442",
           "zerolinewidth": 2
          },
          "yaxis": {
           "automargin": true,
           "gridcolor": "#283442",
           "linecolor": "#506784",
           "ticks": "",
           "title": {
            "standoff": 15
           },
           "zerolinecolor": "#283442",
           "zerolinewidth": 2
          }
         }
        },
        "title": {
         "text": "PFE Stock Analysis VPT Signal"
        },
        "width": 1000,
        "xaxis": {
         "rangeslider": {
          "visible": true
         },
         "title": {
          "text": "Date"
         }
        },
        "yaxis": {
         "title": {
          "text": "Price"
         }
        }
       }
      }
     },
     "metadata": {},
     "output_type": "display_data"
    }
   ],
   "source": [
    "##### main #####\n",
    "\n",
    "\n",
    "#print (df_train)\n",
    "#clean data\n",
    "\n",
    "features = ['Adj Close','WMA'] #'RSI','VPT','Volume'     'WMA','VPT','RSI'\n",
    "\n",
    "model_lr,scaler_lr = train_logistic_regression_model(df_train,features,\"WMA Signal\")\n",
    "model_gbr,scaler_gbr = train_gradient_classifier_model(df_train,features,\"WMA Signal\")\n",
    "\n",
    "#test on last 1 year data\n",
    "df_test = new_df[(new_df['Date'] >= test_entry_date) & (new_df['Date'] <= test_exit_date)]\n",
    "#print(df_filter)\n",
    "\n",
    "\n",
    "\n",
    "\n",
    "\n",
    "#calculate_all_profit(ticker_symbol,df_filter)\n",
    "df_test[\"Logistic Signal\"] =  predict_signals(model_lr,scaler_lr,df_test,features)\n",
    "df_test[\"Gradient WMA RSI Signal\"] =  predict_signals(model_gbr,scaler_gbr,df_test,features)\n",
    "\n",
    "    \n",
    "\n",
    "ml_wam_profit, ml_wam_portfolio_value, ml_wam_profit_percentage = calculate_profit(df_test[\"Adj Close\"],df_test[\"Logistic Signal\"])\n",
    "print(f\"Logistic Signal : Final Profit: ${ml_wam_profit:.2f}, {ml_wam_profit_percentage.round(2)}%\")\n",
    "plot(ticker_symbol,\"Logistic Signal\",df_test)\n",
    "\n",
    "ml_wam_profit, ml_wam_portfolio_value, ml_wam_profit_percentage = calculate_profit(df_test[\"Adj Close\"],df_test[\"Gradient WMA RSI Signal\"])\n",
    "print(f\"Gradient WMA RSI Signal : Final Profit: ${ml_wam_profit:.2f}, {ml_wam_profit_percentage.round(2)}%\")\n",
    "plot(ticker_symbol,\"Gradient WMA RSI Signal\",df_test)\n",
    "\n",
    "\n",
    "\n",
    "wam_profit, wam_portfolio_value, wam_profit_percentage = calculate_profit(df_test[\"Adj Close\"],df_test[\"SMA Signal\"])\n",
    "print(f\"SMA Signal : Final Profit: ${wam_profit:.2f}, {wam_profit_percentage.round(2)}%\")\n",
    "plot(ticker_symbol,\"SMA Signal\",df_test)\n",
    "\n",
    "\n",
    "wam_profit, wam_portfolio_value, wam_profit_percentage = calculate_profit(df_test[\"Adj Close\"],df_test[\"WMA RSI Signal\"])\n",
    "print(f\"WMA RSI Signal : Final Profit: ${wam_profit:.2f}, {wam_profit_percentage.round(2)}%\")\n",
    "plot(ticker_symbol,\"WMA RSI Signal\",df_test)\n",
    "\n",
    "wam_profit, wam_portfolio_value, wam_profit_percentage = calculate_profit(df_test[\"Adj Close\"],df_test[\"WMA Signal\"])\n",
    "print(f\"WMA Signal : Final Profit: ${wam_profit:.2f}, {wam_profit_percentage.round(2)}%\")\n",
    "plot(ticker_symbol,\"WMA Signal\",df_test)\n",
    "\n",
    "wam_profit, wam_portfolio_value, wam_profit_percentage = calculate_profit(df_test[\"Adj Close\"],df_test[\"RSI Signal\"])\n",
    "print(f\"RSI Signal : Final Profit: ${wam_profit:.2f}, {wam_profit_percentage.round(2)}%\")\n",
    "plot(ticker_symbol,\"RSI Signal\",df_test)\n",
    "\n",
    "vpt_profit, vpt_portfolio_value, vpt_profit_percentage = calculate_profit(df_test[\"Adj Close\"],df_test[\"VPT Signal\"])\n",
    "print(f\"VPT Signal : Final Profit: ${wam_profit:.2f}, {vpt_profit_percentage.round(2)}%\")\n",
    "plot(ticker_symbol,\"VPT Signal\",df_test)\n",
    "\n",
    "\n"
   ]
  },
  {
   "cell_type": "code",
   "execution_count": 18,
   "metadata": {},
   "outputs": [
    {
     "name": "stdout",
     "output_type": "stream",
     "text": [
      "WMA RSI Signal\n",
      " 1    175\n",
      "-1     46\n",
      " 0     29\n",
      "Name: count, dtype: int64\n",
      "Empty DataFrame\n",
      "Columns: [Date, Adj Close, Volume, SMA, WMA, RSI, BUB, BLB, PC, VPT, VPT_EMA, WMA Signal, SMA Signal, RSI Signal, PC Signal, BB Signal, VPT Signal, WMA RSI Signal, WMA RSI Signal Optimized, idx, Logistic Signal, Gradient WMA RSI Signal]\n",
      "Index: []\n",
      "\n",
      "[0 rows x 22 columns]\n"
     ]
    }
   ],
   "source": [
    "print(df_test['WMA RSI Signal'].value_counts())\n",
    "#print(df_test['Logistic WMA RSI Signal'].value_counts())\n",
    "print(df_test[df_test['VPT']==0])\n",
    "\n"
   ]
  }
 ],
 "metadata": {
  "kernelspec": {
   "display_name": "Python 3",
   "language": "python",
   "name": "python3"
  },
  "language_info": {
   "codemirror_mode": {
    "name": "ipython",
    "version": 3
   },
   "file_extension": ".py",
   "mimetype": "text/x-python",
   "name": "python",
   "nbconvert_exporter": "python",
   "pygments_lexer": "ipython3",
   "version": "3.11.9"
  }
 },
 "nbformat": 4,
 "nbformat_minor": 2
}
