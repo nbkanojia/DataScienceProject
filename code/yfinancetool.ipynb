{
 "cells": [
  {
   "cell_type": "code",
   "execution_count": 1,
   "metadata": {},
   "outputs": [],
   "source": [
    "import yfinance as yf\n",
    "\n",
    "class yfinancetool(): \n",
    "      \n",
    "    def __init__(self): \n",
    "          \n",
    "    def get_data(ticker,start_date,end_date):\n",
    "        fname = \"../data/\"+ticker+\"_\"+ start_date+ \"_\" + end_date +\".csv\"\n",
    "        if not os.path.isfile(fname):\n",
    "            df = yf.download(ticker ,start=start_date, end=end_date)\n",
    "            df.to_csv(fname)\n",
    "            \n",
    "        df = pd.read_csv(fname)\n",
    "        df['Date'] = pd.to_datetime(df['Date'])\n",
    "        return df \n",
    "\n",
    "def download_stock_data(ticker):\n",
    "    start_date = '2014-01-01'\n",
    "    end_date = '2024-12-31'\n",
    "    data = yf.download(ticker ,start=start_date, end=end_date)\n",
    "    data.to_csv(\"data/\"+ ticker  +\".csv\")\n",
    "\n"
   ]
  }
 ],
 "metadata": {
  "kernelspec": {
   "display_name": "Python 3",
   "language": "python",
   "name": "python3"
  },
  "language_info": {
   "codemirror_mode": {
    "name": "ipython",
    "version": 3
   },
   "file_extension": ".py",
   "mimetype": "text/x-python",
   "name": "python",
   "nbconvert_exporter": "python",
   "pygments_lexer": "ipython3",
   "version": "3.11.9"
  }
 },
 "nbformat": 4,
 "nbformat_minor": 2
}
