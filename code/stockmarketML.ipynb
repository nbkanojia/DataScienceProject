{
 "cells": [
  {
   "cell_type": "code",
   "execution_count": 79,
   "metadata": {},
   "outputs": [],
   "source": [
    "import numpy as np\n",
    "import pandas as pd\n",
    "import matplotlib.pyplot as plt\n",
    "import yfinancetool as yft\n",
    "import techinal_indicato as ti\n",
    "import model_logistic_regression as mllr\n",
    "import plots\n",
    "\n",
    "\n",
    "from sklearn.model_selection import train_test_split\n",
    "import plotly.graph_objects as go\n",
    "from sklearn.preprocessing import StandardScaler\n",
    "from sklearn.metrics import classification_report, confusion_matrix\n",
    "from sklearn.linear_model import LogisticRegression\n",
    "from sklearn.ensemble import GradientBoostingClassifier\n",
    "from tensorflow.keras.models import Sequential\n",
    "from tensorflow.keras.layers import Dense\n",
    "from sklearn.ensemble import GradientBoostingRegressor\n",
    "from sklearn.metrics import mean_squared_error\n",
    "from sklearn.model_selection import GridSearchCV\n",
    "from sklearn.feature_selection import SelectKBest, chi2\n",
    "\n",
    "import warnings\n",
    "warnings.filterwarnings('ignore')\n",
    "import importlib\n",
    "importlib.reload(ti)\n",
    "importlib.reload(yft)\n",
    "importlib.reload(mllr)\n",
    "importlib.reload(plots)\n",
    "# #global constant\n",
    "Buy = 1\n",
    "Sell = -1\n",
    "Neutral = 0"
   ]
  },
  {
   "cell_type": "code",
   "execution_count": 80,
   "metadata": {},
   "outputs": [
    {
     "name": "stdout",
     "output_type": "stream",
     "text": [
      "13007\n",
      "12978\n",
      "SMA Signal\n",
      "-1    7245\n",
      " 1    5733\n",
      "Name: count, dtype: int64\n"
     ]
    }
   ],
   "source": [
    "\n",
    "basepath = \"../data/\"\n",
    "yfh = yft.YFinanceHelper(basepath)\n",
    "tih = ti.TechinalIndicatoHelper()\n",
    "ml_lr =  mllr.LogisticRegressionHelper()\n",
    "ml_gb =  mllr.GradientBoostClassifierHelper()\n",
    "ml_lstm = mllr.LongShortTermMemoryMLHelper()\n",
    "sd = '1887-12-31' #'2014-01-01'\n",
    "ed = '2023-12-31' #'1999-12-31'#'2023-12-31'\n",
    "\n",
    "test_exit_date = pd.to_datetime(ed)\n",
    "test_entry_date = test_exit_date - pd.Timedelta(days=365*1)\n",
    "\n",
    "train_start_date = pd.to_datetime(sd)\n",
    "train_end_date = test_entry_date\n",
    "#appl\n",
    "ticker_symbol = \"PFE\" #PFE, AAPL, MSFT\n",
    "\n",
    "\n",
    "stock_df = yfh.get_data(ticker_symbol,sd,ed)[['Date', 'Adj Close','Volume']]\n",
    "new_df = tih.apply_techinal_indicators(stock_df, 29)\n",
    "new_df.to_csv(\"test.csv\")\n",
    "print(len(new_df))\n",
    "new_df.dropna(inplace=True)\n",
    "print(len(new_df))\n",
    "#new_df['WMA RSI Signal'].value_counts()\n",
    "print(new_df['SMA Signal'].value_counts())\n",
    "\n",
    "\n",
    "df_filter = new_df[(new_df['Date'] >= pd.to_datetime('2023-01-01'))]\n",
    "\n",
    "    "
   ]
  },
  {
   "cell_type": "code",
   "execution_count": 81,
   "metadata": {},
   "outputs": [],
   "source": [
    "features = features = ['Adj Close','WMA','VPT','RSI'] #'RSI','VPT','Volume'   ||  ['Adj Close','WMA'] #'RSI','VPT','Volume'     'WMA','VPT','RSI'\n",
    "target = \"WMA Signal\""
   ]
  },
  {
   "cell_type": "code",
   "execution_count": 67,
   "metadata": {},
   "outputs": [
    {
     "name": "stdout",
     "output_type": "stream",
     "text": [
      "Selected features (CHI): [0 1]\n",
      "Selected features (CHI): Index(['Adj Close', 'WMA'], dtype='object')\n",
      "   Train Accuracy  Test Accuracy  Precission   Recall      AUC\n",
      "4         0.99360        0.99293         1.0  0.98427  0.99214\n",
      "0         0.89471        0.88505         1.0  0.74432  0.87216\n",
      "1         0.89494        0.88505         1.0  0.74432  0.87216\n",
      "2         0.87305        0.86096         1.0  0.69074  0.84537\n",
      "3         0.85543        0.84001         1.0  0.64415  0.82207\n"
     ]
    }
   ],
   "source": [
    "\n",
    "#train on previous year\n",
    "df_train = new_df[(new_df['Date'] >= train_start_date) & (new_df['Date'] <= train_end_date)]\n",
    "model_lr,scaler_lr = ml_lr.train_logistic_regression_model(df_train,features,target)"
   ]
  },
  {
   "cell_type": "code",
   "execution_count": 71,
   "metadata": {},
   "outputs": [
    {
     "name": "stdout",
     "output_type": "stream",
     "text": [
      "Best parameters: {'learning_rate': 0.2, 'max_depth': 9, 'n_estimators': 1000}\n",
      "Mean Squared Error after tuning: 0.20843152657763814\n"
     ]
    }
   ],
   "source": [
    "model_gbr,scaler_gbr = ml_gb.train_gradient_classifier_model(df_train,features,\"WMA Signal\")\n"
   ]
  },
  {
   "cell_type": "code",
   "execution_count": 110,
   "metadata": {},
   "outputs": [
    {
     "name": "stdout",
     "output_type": "stream",
     "text": [
      "3 (28, 3)\n",
      "(12700, 28, 3)\n",
      "(12700, 3)\n",
      "(8890, 28, 3)\n",
      "(3810, 28, 3)\n",
      "Epoch 1/300\n",
      "\u001b[1m9/9\u001b[0m \u001b[32m━━━━━━━━━━━━━━━━━━━━\u001b[0m\u001b[37m\u001b[0m \u001b[1m3s\u001b[0m 116ms/step - accuracy: 0.5024 - loss: 1.0288 - val_accuracy: 0.5706 - val_loss: 0.8347\n",
      "Epoch 2/300\n",
      "\u001b[1m9/9\u001b[0m \u001b[32m━━━━━━━━━━━━━━━━━━━━\u001b[0m\u001b[37m\u001b[0m \u001b[1m1s\u001b[0m 77ms/step - accuracy: 0.5453 - loss: 0.8045 - val_accuracy: 0.5491 - val_loss: 0.7037\n",
      "Epoch 3/300\n",
      "\u001b[1m9/9\u001b[0m \u001b[32m━━━━━━━━━━━━━━━━━━━━\u001b[0m\u001b[37m\u001b[0m \u001b[1m1s\u001b[0m 76ms/step - accuracy: 0.5461 - loss: 0.6959 - val_accuracy: 0.5782 - val_loss: 0.6809\n",
      "Epoch 4/300\n",
      "\u001b[1m9/9\u001b[0m \u001b[32m━━━━━━━━━━━━━━━━━━━━\u001b[0m\u001b[37m\u001b[0m \u001b[1m1s\u001b[0m 79ms/step - accuracy: 0.5567 - loss: 0.6857 - val_accuracy: 0.5730 - val_loss: 0.6791\n",
      "Epoch 5/300\n",
      "\u001b[1m9/9\u001b[0m \u001b[32m━━━━━━━━━━━━━━━━━━━━\u001b[0m\u001b[37m\u001b[0m \u001b[1m1s\u001b[0m 81ms/step - accuracy: 0.5552 - loss: 0.6847 - val_accuracy: 0.5706 - val_loss: 0.6778\n",
      "Epoch 6/300\n",
      "\u001b[1m9/9\u001b[0m \u001b[32m━━━━━━━━━━━━━━━━━━━━\u001b[0m\u001b[37m\u001b[0m \u001b[1m1s\u001b[0m 80ms/step - accuracy: 0.5508 - loss: 0.6843 - val_accuracy: 0.5711 - val_loss: 0.6759\n",
      "Epoch 7/300\n",
      "\u001b[1m9/9\u001b[0m \u001b[32m━━━━━━━━━━━━━━━━━━━━\u001b[0m\u001b[37m\u001b[0m \u001b[1m1s\u001b[0m 82ms/step - accuracy: 0.5600 - loss: 0.6801 - val_accuracy: 0.5696 - val_loss: 0.6752\n",
      "Epoch 8/300\n",
      "\u001b[1m9/9\u001b[0m \u001b[32m━━━━━━━━━━━━━━━━━━━━\u001b[0m\u001b[37m\u001b[0m \u001b[1m1s\u001b[0m 80ms/step - accuracy: 0.5610 - loss: 0.6795 - val_accuracy: 0.5916 - val_loss: 0.6741\n",
      "Epoch 9/300\n",
      "\u001b[1m9/9\u001b[0m \u001b[32m━━━━━━━━━━━━━━━━━━━━\u001b[0m\u001b[37m\u001b[0m \u001b[1m1s\u001b[0m 80ms/step - accuracy: 0.5783 - loss: 0.6772 - val_accuracy: 0.5556 - val_loss: 0.6788\n",
      "Epoch 10/300\n",
      "\u001b[1m9/9\u001b[0m \u001b[32m━━━━━━━━━━━━━━━━━━━━\u001b[0m\u001b[37m\u001b[0m \u001b[1m1s\u001b[0m 81ms/step - accuracy: 0.5607 - loss: 0.6784 - val_accuracy: 0.5722 - val_loss: 0.6692\n",
      "Epoch 11/300\n",
      "\u001b[1m9/9\u001b[0m \u001b[32m━━━━━━━━━━━━━━━━━━━━\u001b[0m\u001b[37m\u001b[0m \u001b[1m1s\u001b[0m 93ms/step - accuracy: 0.5728 - loss: 0.6714 - val_accuracy: 0.6021 - val_loss: 0.6650\n",
      "Epoch 12/300\n",
      "\u001b[1m9/9\u001b[0m \u001b[32m━━━━━━━━━━━━━━━━━━━━\u001b[0m\u001b[37m\u001b[0m \u001b[1m1s\u001b[0m 77ms/step - accuracy: 0.5799 - loss: 0.6672 - val_accuracy: 0.5942 - val_loss: 0.6646\n",
      "Epoch 13/300\n",
      "\u001b[1m9/9\u001b[0m \u001b[32m━━━━━━━━━━━━━━━━━━━━\u001b[0m\u001b[37m\u001b[0m \u001b[1m1s\u001b[0m 78ms/step - accuracy: 0.5888 - loss: 0.6652 - val_accuracy: 0.5942 - val_loss: 0.6622\n",
      "Epoch 14/300\n",
      "\u001b[1m9/9\u001b[0m \u001b[32m━━━━━━━━━━━━━━━━━━━━\u001b[0m\u001b[37m\u001b[0m \u001b[1m1s\u001b[0m 74ms/step - accuracy: 0.5959 - loss: 0.6609 - val_accuracy: 0.5919 - val_loss: 0.6559\n",
      "Epoch 15/300\n",
      "\u001b[1m9/9\u001b[0m \u001b[32m━━━━━━━━━━━━━━━━━━━━\u001b[0m\u001b[37m\u001b[0m \u001b[1m1s\u001b[0m 76ms/step - accuracy: 0.5987 - loss: 0.6572 - val_accuracy: 0.5963 - val_loss: 0.6512\n",
      "Epoch 16/300\n",
      "\u001b[1m9/9\u001b[0m \u001b[32m━━━━━━━━━━━━━━━━━━━━\u001b[0m\u001b[37m\u001b[0m \u001b[1m1s\u001b[0m 73ms/step - accuracy: 0.5948 - loss: 0.6560 - val_accuracy: 0.6283 - val_loss: 0.6484\n",
      "Epoch 17/300\n",
      "\u001b[1m9/9\u001b[0m \u001b[32m━━━━━━━━━━━━━━━━━━━━\u001b[0m\u001b[37m\u001b[0m \u001b[1m1s\u001b[0m 74ms/step - accuracy: 0.6060 - loss: 0.6482 - val_accuracy: 0.6121 - val_loss: 0.6417\n",
      "Epoch 18/300\n",
      "\u001b[1m9/9\u001b[0m \u001b[32m━━━━━━━━━━━━━━━━━━━━\u001b[0m\u001b[37m\u001b[0m \u001b[1m1s\u001b[0m 66ms/step - accuracy: 0.6105 - loss: 0.6422 - val_accuracy: 0.6273 - val_loss: 0.6411\n",
      "Epoch 19/300\n",
      "\u001b[1m9/9\u001b[0m \u001b[32m━━━━━━━━━━━━━━━━━━━━\u001b[0m\u001b[37m\u001b[0m \u001b[1m1s\u001b[0m 68ms/step - accuracy: 0.6187 - loss: 0.6411 - val_accuracy: 0.6291 - val_loss: 0.6343\n",
      "Epoch 20/300\n",
      "\u001b[1m9/9\u001b[0m \u001b[32m━━━━━━━━━━━━━━━━━━━━\u001b[0m\u001b[37m\u001b[0m \u001b[1m1s\u001b[0m 67ms/step - accuracy: 0.6303 - loss: 0.6330 - val_accuracy: 0.6223 - val_loss: 0.6320\n",
      "Epoch 21/300\n",
      "\u001b[1m9/9\u001b[0m \u001b[32m━━━━━━━━━━━━━━━━━━━━\u001b[0m\u001b[37m\u001b[0m \u001b[1m1s\u001b[0m 66ms/step - accuracy: 0.6297 - loss: 0.6281 - val_accuracy: 0.6115 - val_loss: 0.6466\n",
      "Epoch 22/300\n",
      "\u001b[1m9/9\u001b[0m \u001b[32m━━━━━━━━━━━━━━━━━━━━\u001b[0m\u001b[37m\u001b[0m \u001b[1m1s\u001b[0m 67ms/step - accuracy: 0.6278 - loss: 0.6315 - val_accuracy: 0.6596 - val_loss: 0.6119\n",
      "Epoch 23/300\n",
      "\u001b[1m9/9\u001b[0m \u001b[32m━━━━━━━━━━━━━━━━━━━━\u001b[0m\u001b[37m\u001b[0m \u001b[1m1s\u001b[0m 65ms/step - accuracy: 0.6343 - loss: 0.6217 - val_accuracy: 0.6454 - val_loss: 0.6165\n",
      "Epoch 24/300\n",
      "\u001b[1m9/9\u001b[0m \u001b[32m━━━━━━━━━━━━━━━━━━━━\u001b[0m\u001b[37m\u001b[0m \u001b[1m1s\u001b[0m 70ms/step - accuracy: 0.6352 - loss: 0.6254 - val_accuracy: 0.6121 - val_loss: 0.6303\n",
      "Epoch 25/300\n",
      "\u001b[1m9/9\u001b[0m \u001b[32m━━━━━━━━━━━━━━━━━━━━\u001b[0m\u001b[37m\u001b[0m \u001b[1m1s\u001b[0m 62ms/step - accuracy: 0.6231 - loss: 0.6273 - val_accuracy: 0.6378 - val_loss: 0.6202\n",
      "Epoch 26/300\n",
      "\u001b[1m9/9\u001b[0m \u001b[32m━━━━━━━━━━━━━━━━━━━━\u001b[0m\u001b[37m\u001b[0m \u001b[1m1s\u001b[0m 64ms/step - accuracy: 0.6503 - loss: 0.6165 - val_accuracy: 0.6667 - val_loss: 0.5988\n",
      "Epoch 27/300\n",
      "\u001b[1m9/9\u001b[0m \u001b[32m━━━━━━━━━━━━━━━━━━━━\u001b[0m\u001b[37m\u001b[0m \u001b[1m1s\u001b[0m 63ms/step - accuracy: 0.6527 - loss: 0.6041 - val_accuracy: 0.6724 - val_loss: 0.5926\n",
      "Epoch 28/300\n",
      "\u001b[1m9/9\u001b[0m \u001b[32m━━━━━━━━━━━━━━━━━━━━\u001b[0m\u001b[37m\u001b[0m \u001b[1m1s\u001b[0m 64ms/step - accuracy: 0.6580 - loss: 0.5994 - val_accuracy: 0.6669 - val_loss: 0.5949\n",
      "Epoch 29/300\n",
      "\u001b[1m9/9\u001b[0m \u001b[32m━━━━━━━━━━━━━━━━━━━━\u001b[0m\u001b[37m\u001b[0m \u001b[1m1s\u001b[0m 65ms/step - accuracy: 0.6583 - loss: 0.5988 - val_accuracy: 0.6593 - val_loss: 0.5913\n",
      "Epoch 30/300\n",
      "\u001b[1m9/9\u001b[0m \u001b[32m━━━━━━━━━━━━━━━━━━━━\u001b[0m\u001b[37m\u001b[0m \u001b[1m1s\u001b[0m 64ms/step - accuracy: 0.6672 - loss: 0.5929 - val_accuracy: 0.6580 - val_loss: 0.5950\n",
      "Epoch 31/300\n",
      "\u001b[1m9/9\u001b[0m \u001b[32m━━━━━━━━━━━━━━━━━━━━\u001b[0m\u001b[37m\u001b[0m \u001b[1m1s\u001b[0m 64ms/step - accuracy: 0.6578 - loss: 0.5986 - val_accuracy: 0.6806 - val_loss: 0.5832\n",
      "Epoch 32/300\n",
      "\u001b[1m9/9\u001b[0m \u001b[32m━━━━━━━━━━━━━━━━━━━━\u001b[0m\u001b[37m\u001b[0m \u001b[1m1s\u001b[0m 66ms/step - accuracy: 0.6657 - loss: 0.5863 - val_accuracy: 0.6633 - val_loss: 0.5963\n",
      "Epoch 33/300\n",
      "\u001b[1m9/9\u001b[0m \u001b[32m━━━━━━━━━━━━━━━━━━━━\u001b[0m\u001b[37m\u001b[0m \u001b[1m1s\u001b[0m 65ms/step - accuracy: 0.6649 - loss: 0.5903 - val_accuracy: 0.6493 - val_loss: 0.5974\n",
      "Epoch 34/300\n",
      "\u001b[1m9/9\u001b[0m \u001b[32m━━━━━━━━━━━━━━━━━━━━\u001b[0m\u001b[37m\u001b[0m \u001b[1m1s\u001b[0m 62ms/step - accuracy: 0.6602 - loss: 0.5908 - val_accuracy: 0.6845 - val_loss: 0.5761\n",
      "Epoch 35/300\n",
      "\u001b[1m9/9\u001b[0m \u001b[32m━━━━━━━━━━━━━━━━━━━━\u001b[0m\u001b[37m\u001b[0m \u001b[1m1s\u001b[0m 66ms/step - accuracy: 0.6684 - loss: 0.5866 - val_accuracy: 0.6895 - val_loss: 0.5700\n",
      "Epoch 36/300\n",
      "\u001b[1m9/9\u001b[0m \u001b[32m━━━━━━━━━━━━━━━━━━━━\u001b[0m\u001b[37m\u001b[0m \u001b[1m1s\u001b[0m 65ms/step - accuracy: 0.6676 - loss: 0.5864 - val_accuracy: 0.6748 - val_loss: 0.5852\n",
      "Epoch 37/300\n",
      "\u001b[1m9/9\u001b[0m \u001b[32m━━━━━━━━━━━━━━━━━━━━\u001b[0m\u001b[37m\u001b[0m \u001b[1m1s\u001b[0m 69ms/step - accuracy: 0.6843 - loss: 0.5735 - val_accuracy: 0.6887 - val_loss: 0.5633\n",
      "Epoch 38/300\n",
      "\u001b[1m9/9\u001b[0m \u001b[32m━━━━━━━━━━━━━━━━━━━━\u001b[0m\u001b[37m\u001b[0m \u001b[1m1s\u001b[0m 62ms/step - accuracy: 0.6765 - loss: 0.5687 - val_accuracy: 0.6929 - val_loss: 0.5601\n",
      "Epoch 39/300\n",
      "\u001b[1m9/9\u001b[0m \u001b[32m━━━━━━━━━━━━━━━━━━━━\u001b[0m\u001b[37m\u001b[0m \u001b[1m1s\u001b[0m 66ms/step - accuracy: 0.6836 - loss: 0.5699 - val_accuracy: 0.6911 - val_loss: 0.5597\n",
      "Epoch 40/300\n",
      "\u001b[1m9/9\u001b[0m \u001b[32m━━━━━━━━━━━━━━━━━━━━\u001b[0m\u001b[37m\u001b[0m \u001b[1m1s\u001b[0m 63ms/step - accuracy: 0.6951 - loss: 0.5627 - val_accuracy: 0.6992 - val_loss: 0.5552\n",
      "Epoch 41/300\n",
      "\u001b[1m9/9\u001b[0m \u001b[32m━━━━━━━━━━━━━━━━━━━━\u001b[0m\u001b[37m\u001b[0m \u001b[1m1s\u001b[0m 62ms/step - accuracy: 0.6840 - loss: 0.5627 - val_accuracy: 0.6837 - val_loss: 0.5625\n",
      "Epoch 42/300\n",
      "\u001b[1m9/9\u001b[0m \u001b[32m━━━━━━━━━━━━━━━━━━━━\u001b[0m\u001b[37m\u001b[0m \u001b[1m1s\u001b[0m 64ms/step - accuracy: 0.6771 - loss: 0.5705 - val_accuracy: 0.6990 - val_loss: 0.5566\n",
      "Epoch 43/300\n",
      "\u001b[1m9/9\u001b[0m \u001b[32m━━━━━━━━━━━━━━━━━━━━\u001b[0m\u001b[37m\u001b[0m \u001b[1m1s\u001b[0m 65ms/step - accuracy: 0.6839 - loss: 0.5647 - val_accuracy: 0.7110 - val_loss: 0.5457\n",
      "Epoch 44/300\n",
      "\u001b[1m9/9\u001b[0m \u001b[32m━━━━━━━━━━━━━━━━━━━━\u001b[0m\u001b[37m\u001b[0m \u001b[1m1s\u001b[0m 59ms/step - accuracy: 0.7006 - loss: 0.5575 - val_accuracy: 0.7076 - val_loss: 0.5403\n",
      "Epoch 45/300\n",
      "\u001b[1m9/9\u001b[0m \u001b[32m━━━━━━━━━━━━━━━━━━━━\u001b[0m\u001b[37m\u001b[0m \u001b[1m1s\u001b[0m 62ms/step - accuracy: 0.6948 - loss: 0.5503 - val_accuracy: 0.6717 - val_loss: 0.5678\n",
      "Epoch 46/300\n",
      "\u001b[1m9/9\u001b[0m \u001b[32m━━━━━━━━━━━━━━━━━━━━\u001b[0m\u001b[37m\u001b[0m \u001b[1m1s\u001b[0m 64ms/step - accuracy: 0.6935 - loss: 0.5507 - val_accuracy: 0.7045 - val_loss: 0.5335\n",
      "Epoch 47/300\n",
      "\u001b[1m9/9\u001b[0m \u001b[32m━━━━━━━━━━━━━━━━━━━━\u001b[0m\u001b[37m\u001b[0m \u001b[1m1s\u001b[0m 62ms/step - accuracy: 0.7081 - loss: 0.5391 - val_accuracy: 0.7194 - val_loss: 0.5230\n",
      "Epoch 48/300\n",
      "\u001b[1m9/9\u001b[0m \u001b[32m━━━━━━━━━━━━━━━━━━━━\u001b[0m\u001b[37m\u001b[0m \u001b[1m1s\u001b[0m 65ms/step - accuracy: 0.7238 - loss: 0.5337 - val_accuracy: 0.7223 - val_loss: 0.5226\n",
      "Epoch 49/300\n",
      "\u001b[1m9/9\u001b[0m \u001b[32m━━━━━━━━━━━━━━━━━━━━\u001b[0m\u001b[37m\u001b[0m \u001b[1m1s\u001b[0m 68ms/step - accuracy: 0.7108 - loss: 0.5344 - val_accuracy: 0.7092 - val_loss: 0.5431\n",
      "Epoch 50/300\n",
      "\u001b[1m9/9\u001b[0m \u001b[32m━━━━━━━━━━━━━━━━━━━━\u001b[0m\u001b[37m\u001b[0m \u001b[1m1s\u001b[0m 64ms/step - accuracy: 0.6792 - loss: 0.5583 - val_accuracy: 0.6929 - val_loss: 0.5528\n",
      "Epoch 51/300\n",
      "\u001b[1m9/9\u001b[0m \u001b[32m━━━━━━━━━━━━━━━━━━━━\u001b[0m\u001b[37m\u001b[0m \u001b[1m1s\u001b[0m 61ms/step - accuracy: 0.6887 - loss: 0.5535 - val_accuracy: 0.7139 - val_loss: 0.5236\n",
      "Epoch 52/300\n",
      "\u001b[1m9/9\u001b[0m \u001b[32m━━━━━━━━━━━━━━━━━━━━\u001b[0m\u001b[37m\u001b[0m \u001b[1m1s\u001b[0m 65ms/step - accuracy: 0.7119 - loss: 0.5347 - val_accuracy: 0.7514 - val_loss: 0.5221\n",
      "Epoch 53/300\n",
      "\u001b[1m9/9\u001b[0m \u001b[32m━━━━━━━━━━━━━━━━━━━━\u001b[0m\u001b[37m\u001b[0m \u001b[1m1s\u001b[0m 62ms/step - accuracy: 0.7257 - loss: 0.5246 - val_accuracy: 0.6963 - val_loss: 0.5525\n",
      "Epoch 54/300\n",
      "\u001b[1m9/9\u001b[0m \u001b[32m━━━━━━━━━━━━━━━━━━━━\u001b[0m\u001b[37m\u001b[0m \u001b[1m1s\u001b[0m 61ms/step - accuracy: 0.7194 - loss: 0.5368 - val_accuracy: 0.7071 - val_loss: 0.5332\n",
      "Epoch 55/300\n",
      "\u001b[1m9/9\u001b[0m \u001b[32m━━━━━━━━━━━━━━━━━━━━\u001b[0m\u001b[37m\u001b[0m \u001b[1m1s\u001b[0m 62ms/step - accuracy: 0.7180 - loss: 0.5249 - val_accuracy: 0.7709 - val_loss: 0.5012\n",
      "Epoch 56/300\n",
      "\u001b[1m9/9\u001b[0m \u001b[32m━━━━━━━━━━━━━━━━━━━━\u001b[0m\u001b[37m\u001b[0m \u001b[1m1s\u001b[0m 63ms/step - accuracy: 0.7447 - loss: 0.5044 - val_accuracy: 0.7055 - val_loss: 0.5402\n",
      "Epoch 57/300\n",
      "\u001b[1m9/9\u001b[0m \u001b[32m━━━━━━━━━━━━━━━━━━━━\u001b[0m\u001b[37m\u001b[0m \u001b[1m1s\u001b[0m 62ms/step - accuracy: 0.7100 - loss: 0.5301 - val_accuracy: 0.7194 - val_loss: 0.5168\n",
      "Epoch 58/300\n",
      "\u001b[1m9/9\u001b[0m \u001b[32m━━━━━━━━━━━━━━━━━━━━\u001b[0m\u001b[37m\u001b[0m \u001b[1m1s\u001b[0m 63ms/step - accuracy: 0.7233 - loss: 0.5135 - val_accuracy: 0.7606 - val_loss: 0.5107\n",
      "Epoch 59/300\n",
      "\u001b[1m9/9\u001b[0m \u001b[32m━━━━━━━━━━━━━━━━━━━━\u001b[0m\u001b[37m\u001b[0m \u001b[1m1s\u001b[0m 64ms/step - accuracy: 0.7345 - loss: 0.5192 - val_accuracy: 0.7037 - val_loss: 0.5358\n",
      "Epoch 60/300\n",
      "\u001b[1m9/9\u001b[0m \u001b[32m━━━━━━━━━━━━━━━━━━━━\u001b[0m\u001b[37m\u001b[0m \u001b[1m1s\u001b[0m 60ms/step - accuracy: 0.7222 - loss: 0.5164 - val_accuracy: 0.7596 - val_loss: 0.4960\n",
      "Epoch 61/300\n",
      "\u001b[1m9/9\u001b[0m \u001b[32m━━━━━━━━━━━━━━━━━━━━\u001b[0m\u001b[37m\u001b[0m \u001b[1m1s\u001b[0m 66ms/step - accuracy: 0.7428 - loss: 0.4966 - val_accuracy: 0.7486 - val_loss: 0.4864\n",
      "Epoch 62/300\n",
      "\u001b[1m9/9\u001b[0m \u001b[32m━━━━━━━━━━━━━━━━━━━━\u001b[0m\u001b[37m\u001b[0m \u001b[1m1s\u001b[0m 64ms/step - accuracy: 0.7432 - loss: 0.5038 - val_accuracy: 0.7307 - val_loss: 0.4946\n",
      "Epoch 63/300\n",
      "\u001b[1m9/9\u001b[0m \u001b[32m━━━━━━━━━━━━━━━━━━━━\u001b[0m\u001b[37m\u001b[0m \u001b[1m1s\u001b[0m 60ms/step - accuracy: 0.7326 - loss: 0.5041 - val_accuracy: 0.7186 - val_loss: 0.5144\n",
      "Epoch 64/300\n",
      "\u001b[1m9/9\u001b[0m \u001b[32m━━━━━━━━━━━━━━━━━━━━\u001b[0m\u001b[37m\u001b[0m \u001b[1m1s\u001b[0m 63ms/step - accuracy: 0.7174 - loss: 0.5181 - val_accuracy: 0.7283 - val_loss: 0.5020\n",
      "Epoch 65/300\n",
      "\u001b[1m9/9\u001b[0m \u001b[32m━━━━━━━━━━━━━━━━━━━━\u001b[0m\u001b[37m\u001b[0m \u001b[1m1s\u001b[0m 63ms/step - accuracy: 0.7368 - loss: 0.5025 - val_accuracy: 0.7525 - val_loss: 0.4831\n",
      "Epoch 66/300\n",
      "\u001b[1m9/9\u001b[0m \u001b[32m━━━━━━━━━━━━━━━━━━━━\u001b[0m\u001b[37m\u001b[0m \u001b[1m1s\u001b[0m 64ms/step - accuracy: 0.7481 - loss: 0.4797 - val_accuracy: 0.7478 - val_loss: 0.4925\n",
      "Epoch 67/300\n",
      "\u001b[1m9/9\u001b[0m \u001b[32m━━━━━━━━━━━━━━━━━━━━\u001b[0m\u001b[37m\u001b[0m \u001b[1m1s\u001b[0m 61ms/step - accuracy: 0.7647 - loss: 0.4821 - val_accuracy: 0.7562 - val_loss: 0.4779\n",
      "Epoch 68/300\n",
      "\u001b[1m9/9\u001b[0m \u001b[32m━━━━━━━━━━━━━━━━━━━━\u001b[0m\u001b[37m\u001b[0m \u001b[1m1s\u001b[0m 63ms/step - accuracy: 0.7588 - loss: 0.4843 - val_accuracy: 0.7354 - val_loss: 0.5035\n",
      "Epoch 69/300\n",
      "\u001b[1m9/9\u001b[0m \u001b[32m━━━━━━━━━━━━━━━━━━━━\u001b[0m\u001b[37m\u001b[0m \u001b[1m1s\u001b[0m 63ms/step - accuracy: 0.7423 - loss: 0.4885 - val_accuracy: 0.7533 - val_loss: 0.4819\n",
      "Epoch 70/300\n",
      "\u001b[1m9/9\u001b[0m \u001b[32m━━━━━━━━━━━━━━━━━━━━\u001b[0m\u001b[37m\u001b[0m \u001b[1m1s\u001b[0m 60ms/step - accuracy: 0.7461 - loss: 0.4797 - val_accuracy: 0.7619 - val_loss: 0.4806\n",
      "Epoch 71/300\n",
      "\u001b[1m9/9\u001b[0m \u001b[32m━━━━━━━━━━━━━━━━━━━━\u001b[0m\u001b[37m\u001b[0m \u001b[1m1s\u001b[0m 61ms/step - accuracy: 0.7555 - loss: 0.4818 - val_accuracy: 0.7381 - val_loss: 0.4953\n",
      "Epoch 72/300\n",
      "\u001b[1m9/9\u001b[0m \u001b[32m━━━━━━━━━━━━━━━━━━━━\u001b[0m\u001b[37m\u001b[0m \u001b[1m1s\u001b[0m 63ms/step - accuracy: 0.7487 - loss: 0.4850 - val_accuracy: 0.7367 - val_loss: 0.4986\n",
      "Epoch 73/300\n",
      "\u001b[1m9/9\u001b[0m \u001b[32m━━━━━━━━━━━━━━━━━━━━\u001b[0m\u001b[37m\u001b[0m \u001b[1m1s\u001b[0m 65ms/step - accuracy: 0.7352 - loss: 0.4945 - val_accuracy: 0.7535 - val_loss: 0.4876\n",
      "Epoch 74/300\n",
      "\u001b[1m9/9\u001b[0m \u001b[32m━━━━━━━━━━━━━━━━━━━━\u001b[0m\u001b[37m\u001b[0m \u001b[1m1s\u001b[0m 63ms/step - accuracy: 0.7680 - loss: 0.4681 - val_accuracy: 0.7633 - val_loss: 0.4722\n",
      "Epoch 75/300\n",
      "\u001b[1m9/9\u001b[0m \u001b[32m━━━━━━━━━━━━━━━━━━━━\u001b[0m\u001b[37m\u001b[0m \u001b[1m1s\u001b[0m 65ms/step - accuracy: 0.7642 - loss: 0.4737 - val_accuracy: 0.7121 - val_loss: 0.5181\n",
      "Epoch 76/300\n",
      "\u001b[1m9/9\u001b[0m \u001b[32m━━━━━━━━━━━━━━━━━━━━\u001b[0m\u001b[37m\u001b[0m \u001b[1m1s\u001b[0m 61ms/step - accuracy: 0.7197 - loss: 0.5087 - val_accuracy: 0.7234 - val_loss: 0.5186\n",
      "Epoch 77/300\n",
      "\u001b[1m9/9\u001b[0m \u001b[32m━━━━━━━━━━━━━━━━━━━━\u001b[0m\u001b[37m\u001b[0m \u001b[1m1s\u001b[0m 65ms/step - accuracy: 0.7503 - loss: 0.4863 - val_accuracy: 0.7759 - val_loss: 0.4646\n",
      "Epoch 78/300\n",
      "\u001b[1m9/9\u001b[0m \u001b[32m━━━━━━━━━━━━━━━━━━━━\u001b[0m\u001b[37m\u001b[0m \u001b[1m1s\u001b[0m 63ms/step - accuracy: 0.7683 - loss: 0.4680 - val_accuracy: 0.7682 - val_loss: 0.4599\n",
      "Epoch 79/300\n",
      "\u001b[1m9/9\u001b[0m \u001b[32m━━━━━━━━━━━━━━━━━━━━\u001b[0m\u001b[37m\u001b[0m \u001b[1m1s\u001b[0m 64ms/step - accuracy: 0.7719 - loss: 0.4619 - val_accuracy: 0.7740 - val_loss: 0.4543\n",
      "Epoch 80/300\n",
      "\u001b[1m9/9\u001b[0m \u001b[32m━━━━━━━━━━━━━━━━━━━━\u001b[0m\u001b[37m\u001b[0m \u001b[1m1s\u001b[0m 64ms/step - accuracy: 0.7739 - loss: 0.4595 - val_accuracy: 0.7745 - val_loss: 0.4492\n",
      "Epoch 81/300\n",
      "\u001b[1m9/9\u001b[0m \u001b[32m━━━━━━━━━━━━━━━━━━━━\u001b[0m\u001b[37m\u001b[0m \u001b[1m1s\u001b[0m 67ms/step - accuracy: 0.7690 - loss: 0.4567 - val_accuracy: 0.7580 - val_loss: 0.4649\n",
      "Epoch 82/300\n",
      "\u001b[1m9/9\u001b[0m \u001b[32m━━━━━━━━━━━━━━━━━━━━\u001b[0m\u001b[37m\u001b[0m \u001b[1m1s\u001b[0m 72ms/step - accuracy: 0.7649 - loss: 0.4548 - val_accuracy: 0.7562 - val_loss: 0.4597\n",
      "Epoch 83/300\n",
      "\u001b[1m9/9\u001b[0m \u001b[32m━━━━━━━━━━━━━━━━━━━━\u001b[0m\u001b[37m\u001b[0m \u001b[1m1s\u001b[0m 62ms/step - accuracy: 0.7682 - loss: 0.4607 - val_accuracy: 0.7819 - val_loss: 0.4463\n",
      "Epoch 84/300\n",
      "\u001b[1m9/9\u001b[0m \u001b[32m━━━━━━━━━━━━━━━━━━━━\u001b[0m\u001b[37m\u001b[0m \u001b[1m1s\u001b[0m 65ms/step - accuracy: 0.7816 - loss: 0.4526 - val_accuracy: 0.7719 - val_loss: 0.4528\n",
      "Epoch 85/300\n",
      "\u001b[1m9/9\u001b[0m \u001b[32m━━━━━━━━━━━━━━━━━━━━\u001b[0m\u001b[37m\u001b[0m \u001b[1m1s\u001b[0m 63ms/step - accuracy: 0.7630 - loss: 0.4634 - val_accuracy: 0.7575 - val_loss: 0.4677\n",
      "Epoch 86/300\n",
      "\u001b[1m9/9\u001b[0m \u001b[32m━━━━━━━━━━━━━━━━━━━━\u001b[0m\u001b[37m\u001b[0m \u001b[1m1s\u001b[0m 65ms/step - accuracy: 0.7713 - loss: 0.4615 - val_accuracy: 0.7520 - val_loss: 0.4764\n",
      "Epoch 87/300\n",
      "\u001b[1m9/9\u001b[0m \u001b[32m━━━━━━━━━━━━━━━━━━━━\u001b[0m\u001b[37m\u001b[0m \u001b[1m1s\u001b[0m 67ms/step - accuracy: 0.7647 - loss: 0.4616 - val_accuracy: 0.7774 - val_loss: 0.4720\n",
      "Epoch 88/300\n",
      "\u001b[1m9/9\u001b[0m \u001b[32m━━━━━━━━━━━━━━━━━━━━\u001b[0m\u001b[37m\u001b[0m \u001b[1m1s\u001b[0m 68ms/step - accuracy: 0.7796 - loss: 0.4586 - val_accuracy: 0.7764 - val_loss: 0.4479\n",
      "Epoch 89/300\n",
      "\u001b[1m9/9\u001b[0m \u001b[32m━━━━━━━━━━━━━━━━━━━━\u001b[0m\u001b[37m\u001b[0m \u001b[1m1s\u001b[0m 62ms/step - accuracy: 0.7855 - loss: 0.4407 - val_accuracy: 0.7974 - val_loss: 0.4500\n",
      "Epoch 90/300\n",
      "\u001b[1m9/9\u001b[0m \u001b[32m━━━━━━━━━━━━━━━━━━━━\u001b[0m\u001b[37m\u001b[0m \u001b[1m1s\u001b[0m 66ms/step - accuracy: 0.7783 - loss: 0.4548 - val_accuracy: 0.7714 - val_loss: 0.4558\n",
      "Epoch 91/300\n",
      "\u001b[1m9/9\u001b[0m \u001b[32m━━━━━━━━━━━━━━━━━━━━\u001b[0m\u001b[37m\u001b[0m \u001b[1m1s\u001b[0m 70ms/step - accuracy: 0.7655 - loss: 0.4537 - val_accuracy: 0.7667 - val_loss: 0.4700\n",
      "Epoch 92/300\n",
      "\u001b[1m9/9\u001b[0m \u001b[32m━━━━━━━━━━━━━━━━━━━━\u001b[0m\u001b[37m\u001b[0m \u001b[1m1s\u001b[0m 64ms/step - accuracy: 0.7693 - loss: 0.4569 - val_accuracy: 0.7861 - val_loss: 0.4381\n",
      "Epoch 93/300\n",
      "\u001b[1m9/9\u001b[0m \u001b[32m━━━━━━━━━━━━━━━━━━━━\u001b[0m\u001b[37m\u001b[0m \u001b[1m1s\u001b[0m 66ms/step - accuracy: 0.7831 - loss: 0.4548 - val_accuracy: 0.7706 - val_loss: 0.4534\n",
      "Epoch 94/300\n",
      "\u001b[1m9/9\u001b[0m \u001b[32m━━━━━━━━━━━━━━━━━━━━\u001b[0m\u001b[37m\u001b[0m \u001b[1m1s\u001b[0m 66ms/step - accuracy: 0.7667 - loss: 0.4546 - val_accuracy: 0.7493 - val_loss: 0.4880\n",
      "Epoch 95/300\n",
      "\u001b[1m9/9\u001b[0m \u001b[32m━━━━━━━━━━━━━━━━━━━━\u001b[0m\u001b[37m\u001b[0m \u001b[1m1s\u001b[0m 62ms/step - accuracy: 0.7506 - loss: 0.4819 - val_accuracy: 0.7722 - val_loss: 0.4549\n",
      "Epoch 96/300\n",
      "\u001b[1m9/9\u001b[0m \u001b[32m━━━━━━━━━━━━━━━━━━━━\u001b[0m\u001b[37m\u001b[0m \u001b[1m1s\u001b[0m 65ms/step - accuracy: 0.7679 - loss: 0.4604 - val_accuracy: 0.7654 - val_loss: 0.4667\n",
      "Epoch 97/300\n",
      "\u001b[1m9/9\u001b[0m \u001b[32m━━━━━━━━━━━━━━━━━━━━\u001b[0m\u001b[37m\u001b[0m \u001b[1m1s\u001b[0m 65ms/step - accuracy: 0.7588 - loss: 0.4612 - val_accuracy: 0.7688 - val_loss: 0.4545\n",
      "Epoch 98/300\n",
      "\u001b[1m9/9\u001b[0m \u001b[32m━━━━━━━━━━━━━━━━━━━━\u001b[0m\u001b[37m\u001b[0m \u001b[1m1s\u001b[0m 63ms/step - accuracy: 0.7655 - loss: 0.4586 - val_accuracy: 0.7780 - val_loss: 0.4377\n",
      "Epoch 99/300\n",
      "\u001b[1m9/9\u001b[0m \u001b[32m━━━━━━━━━━━━━━━━━━━━\u001b[0m\u001b[37m\u001b[0m \u001b[1m1s\u001b[0m 66ms/step - accuracy: 0.7901 - loss: 0.4392 - val_accuracy: 0.7795 - val_loss: 0.4403\n",
      "Epoch 100/300\n",
      "\u001b[1m9/9\u001b[0m \u001b[32m━━━━━━━━━━━━━━━━━━━━\u001b[0m\u001b[37m\u001b[0m \u001b[1m1s\u001b[0m 69ms/step - accuracy: 0.7715 - loss: 0.4531 - val_accuracy: 0.7958 - val_loss: 0.4307\n",
      "Epoch 101/300\n",
      "\u001b[1m9/9\u001b[0m \u001b[32m━━━━━━━━━━━━━━━━━━━━\u001b[0m\u001b[37m\u001b[0m \u001b[1m1s\u001b[0m 63ms/step - accuracy: 0.7838 - loss: 0.4392 - val_accuracy: 0.7740 - val_loss: 0.4497\n",
      "Epoch 102/300\n",
      "\u001b[1m9/9\u001b[0m \u001b[32m━━━━━━━━━━━━━━━━━━━━\u001b[0m\u001b[37m\u001b[0m \u001b[1m1s\u001b[0m 66ms/step - accuracy: 0.7800 - loss: 0.4447 - val_accuracy: 0.7546 - val_loss: 0.4598\n",
      "Epoch 103/300\n",
      "\u001b[1m9/9\u001b[0m \u001b[32m━━━━━━━━━━━━━━━━━━━━\u001b[0m\u001b[37m\u001b[0m \u001b[1m1s\u001b[0m 66ms/step - accuracy: 0.7782 - loss: 0.4428 - val_accuracy: 0.7916 - val_loss: 0.4258\n",
      "Epoch 104/300\n",
      "\u001b[1m9/9\u001b[0m \u001b[32m━━━━━━━━━━━━━━━━━━━━\u001b[0m\u001b[37m\u001b[0m \u001b[1m1s\u001b[0m 66ms/step - accuracy: 0.7936 - loss: 0.4296 - val_accuracy: 0.7882 - val_loss: 0.4380\n",
      "Epoch 105/300\n",
      "\u001b[1m9/9\u001b[0m \u001b[32m━━━━━━━━━━━━━━━━━━━━\u001b[0m\u001b[37m\u001b[0m \u001b[1m1s\u001b[0m 64ms/step - accuracy: 0.7930 - loss: 0.4320 - val_accuracy: 0.7948 - val_loss: 0.4327\n",
      "Epoch 106/300\n",
      "\u001b[1m9/9\u001b[0m \u001b[32m━━━━━━━━━━━━━━━━━━━━\u001b[0m\u001b[37m\u001b[0m \u001b[1m1s\u001b[0m 71ms/step - accuracy: 0.7960 - loss: 0.4285 - val_accuracy: 0.8031 - val_loss: 0.4267\n",
      "Epoch 107/300\n",
      "\u001b[1m9/9\u001b[0m \u001b[32m━━━━━━━━━━━━━━━━━━━━\u001b[0m\u001b[37m\u001b[0m \u001b[1m1s\u001b[0m 65ms/step - accuracy: 0.8011 - loss: 0.4266 - val_accuracy: 0.7940 - val_loss: 0.4269\n",
      "Epoch 108/300\n",
      "\u001b[1m9/9\u001b[0m \u001b[32m━━━━━━━━━━━━━━━━━━━━\u001b[0m\u001b[37m\u001b[0m \u001b[1m1s\u001b[0m 61ms/step - accuracy: 0.8028 - loss: 0.4262 - val_accuracy: 0.8045 - val_loss: 0.4250\n",
      "Epoch 109/300\n",
      "\u001b[1m9/9\u001b[0m \u001b[32m━━━━━━━━━━━━━━━━━━━━\u001b[0m\u001b[37m\u001b[0m \u001b[1m1s\u001b[0m 60ms/step - accuracy: 0.8075 - loss: 0.4221 - val_accuracy: 0.7940 - val_loss: 0.4323\n",
      "Epoch 110/300\n",
      "\u001b[1m9/9\u001b[0m \u001b[32m━━━━━━━━━━━━━━━━━━━━\u001b[0m\u001b[37m\u001b[0m \u001b[1m1s\u001b[0m 58ms/step - accuracy: 0.7990 - loss: 0.4260 - val_accuracy: 0.7656 - val_loss: 0.4614\n",
      "Epoch 111/300\n",
      "\u001b[1m9/9\u001b[0m \u001b[32m━━━━━━━━━━━━━━━━━━━━\u001b[0m\u001b[37m\u001b[0m \u001b[1m1s\u001b[0m 59ms/step - accuracy: 0.7683 - loss: 0.4579 - val_accuracy: 0.7874 - val_loss: 0.4279\n",
      "Epoch 112/300\n",
      "\u001b[1m9/9\u001b[0m \u001b[32m━━━━━━━━━━━━━━━━━━━━\u001b[0m\u001b[37m\u001b[0m \u001b[1m1s\u001b[0m 59ms/step - accuracy: 0.7918 - loss: 0.4269 - val_accuracy: 0.7832 - val_loss: 0.4487\n",
      "Epoch 113/300\n",
      "\u001b[1m9/9\u001b[0m \u001b[32m━━━━━━━━━━━━━━━━━━━━\u001b[0m\u001b[37m\u001b[0m \u001b[1m1s\u001b[0m 60ms/step - accuracy: 0.7813 - loss: 0.4417 - val_accuracy: 0.7827 - val_loss: 0.4379\n",
      "Epoch 114/300\n",
      "\u001b[1m9/9\u001b[0m \u001b[32m━━━━━━━━━━━━━━━━━━━━\u001b[0m\u001b[37m\u001b[0m \u001b[1m1s\u001b[0m 58ms/step - accuracy: 0.7971 - loss: 0.4282 - val_accuracy: 0.8026 - val_loss: 0.4235\n",
      "Epoch 115/300\n",
      "\u001b[1m9/9\u001b[0m \u001b[32m━━━━━━━━━━━━━━━━━━━━\u001b[0m\u001b[37m\u001b[0m \u001b[1m1s\u001b[0m 61ms/step - accuracy: 0.7996 - loss: 0.4291 - val_accuracy: 0.7950 - val_loss: 0.4223\n",
      "Epoch 116/300\n",
      "\u001b[1m9/9\u001b[0m \u001b[32m━━━━━━━━━━━━━━━━━━━━\u001b[0m\u001b[37m\u001b[0m \u001b[1m1s\u001b[0m 61ms/step - accuracy: 0.7985 - loss: 0.4219 - val_accuracy: 0.8045 - val_loss: 0.4201\n",
      "Epoch 117/300\n",
      "\u001b[1m9/9\u001b[0m \u001b[32m━━━━━━━━━━━━━━━━━━━━\u001b[0m\u001b[37m\u001b[0m \u001b[1m1s\u001b[0m 58ms/step - accuracy: 0.8068 - loss: 0.4179 - val_accuracy: 0.7879 - val_loss: 0.4268\n",
      "Epoch 118/300\n",
      "\u001b[1m9/9\u001b[0m \u001b[32m━━━━━━━━━━━━━━━━━━━━\u001b[0m\u001b[37m\u001b[0m \u001b[1m1s\u001b[0m 61ms/step - accuracy: 0.7842 - loss: 0.4269 - val_accuracy: 0.7795 - val_loss: 0.4331\n",
      "Epoch 119/300\n",
      "\u001b[1m9/9\u001b[0m \u001b[32m━━━━━━━━━━━━━━━━━━━━\u001b[0m\u001b[37m\u001b[0m \u001b[1m1s\u001b[0m 59ms/step - accuracy: 0.7941 - loss: 0.4237 - val_accuracy: 0.8084 - val_loss: 0.4134\n",
      "Epoch 120/300\n",
      "\u001b[1m9/9\u001b[0m \u001b[32m━━━━━━━━━━━━━━━━━━━━\u001b[0m\u001b[37m\u001b[0m \u001b[1m1s\u001b[0m 60ms/step - accuracy: 0.7909 - loss: 0.4216 - val_accuracy: 0.7688 - val_loss: 0.4523\n",
      "Epoch 121/300\n",
      "\u001b[1m9/9\u001b[0m \u001b[32m━━━━━━━━━━━━━━━━━━━━\u001b[0m\u001b[37m\u001b[0m \u001b[1m1s\u001b[0m 59ms/step - accuracy: 0.7814 - loss: 0.4359 - val_accuracy: 0.8016 - val_loss: 0.4278\n",
      "Epoch 122/300\n",
      "\u001b[1m9/9\u001b[0m \u001b[32m━━━━━━━━━━━━━━━━━━━━\u001b[0m\u001b[37m\u001b[0m \u001b[1m1s\u001b[0m 62ms/step - accuracy: 0.8044 - loss: 0.4213 - val_accuracy: 0.8034 - val_loss: 0.4134\n",
      "Epoch 123/300\n",
      "\u001b[1m9/9\u001b[0m \u001b[32m━━━━━━━━━━━━━━━━━━━━\u001b[0m\u001b[37m\u001b[0m \u001b[1m1s\u001b[0m 59ms/step - accuracy: 0.8101 - loss: 0.4137 - val_accuracy: 0.7990 - val_loss: 0.4309\n",
      "Epoch 124/300\n",
      "\u001b[1m9/9\u001b[0m \u001b[32m━━━━━━━━━━━━━━━━━━━━\u001b[0m\u001b[37m\u001b[0m \u001b[1m1s\u001b[0m 58ms/step - accuracy: 0.7980 - loss: 0.4143 - val_accuracy: 0.8029 - val_loss: 0.4215\n",
      "Epoch 125/300\n",
      "\u001b[1m9/9\u001b[0m \u001b[32m━━━━━━━━━━━━━━━━━━━━\u001b[0m\u001b[37m\u001b[0m \u001b[1m1s\u001b[0m 58ms/step - accuracy: 0.8059 - loss: 0.4135 - val_accuracy: 0.7990 - val_loss: 0.4212\n",
      "Epoch 126/300\n",
      "\u001b[1m9/9\u001b[0m \u001b[32m━━━━━━━━━━━━━━━━━━━━\u001b[0m\u001b[37m\u001b[0m \u001b[1m1s\u001b[0m 59ms/step - accuracy: 0.8048 - loss: 0.4160 - val_accuracy: 0.8047 - val_loss: 0.4164\n",
      "Epoch 127/300\n",
      "\u001b[1m9/9\u001b[0m \u001b[32m━━━━━━━━━━━━━━━━━━━━\u001b[0m\u001b[37m\u001b[0m \u001b[1m1s\u001b[0m 61ms/step - accuracy: 0.8072 - loss: 0.4217 - val_accuracy: 0.8171 - val_loss: 0.4048\n",
      "Epoch 128/300\n",
      "\u001b[1m9/9\u001b[0m \u001b[32m━━━━━━━━━━━━━━━━━━━━\u001b[0m\u001b[37m\u001b[0m \u001b[1m1s\u001b[0m 63ms/step - accuracy: 0.8120 - loss: 0.4112 - val_accuracy: 0.8018 - val_loss: 0.4100\n",
      "Epoch 129/300\n",
      "\u001b[1m9/9\u001b[0m \u001b[32m━━━━━━━━━━━━━━━━━━━━\u001b[0m\u001b[37m\u001b[0m \u001b[1m1s\u001b[0m 63ms/step - accuracy: 0.7962 - loss: 0.4181 - val_accuracy: 0.7932 - val_loss: 0.4210\n",
      "Epoch 130/300\n",
      "\u001b[1m9/9\u001b[0m \u001b[32m━━━━━━━━━━━━━━━━━━━━\u001b[0m\u001b[37m\u001b[0m \u001b[1m1s\u001b[0m 61ms/step - accuracy: 0.8105 - loss: 0.4047 - val_accuracy: 0.8081 - val_loss: 0.4202\n",
      "Epoch 131/300\n",
      "\u001b[1m9/9\u001b[0m \u001b[32m━━━━━━━━━━━━━━━━━━━━\u001b[0m\u001b[37m\u001b[0m \u001b[1m1s\u001b[0m 62ms/step - accuracy: 0.8136 - loss: 0.4128 - val_accuracy: 0.8213 - val_loss: 0.4069\n",
      "Epoch 132/300\n",
      "\u001b[1m9/9\u001b[0m \u001b[32m━━━━━━━━━━━━━━━━━━━━\u001b[0m\u001b[37m\u001b[0m \u001b[1m1s\u001b[0m 63ms/step - accuracy: 0.8038 - loss: 0.4151 - val_accuracy: 0.7790 - val_loss: 0.4273\n",
      "Epoch 133/300\n",
      "\u001b[1m9/9\u001b[0m \u001b[32m━━━━━━━━━━━━━━━━━━━━\u001b[0m\u001b[37m\u001b[0m \u001b[1m1s\u001b[0m 63ms/step - accuracy: 0.7885 - loss: 0.4242 - val_accuracy: 0.7808 - val_loss: 0.4263\n",
      "Epoch 134/300\n",
      "\u001b[1m9/9\u001b[0m \u001b[32m━━━━━━━━━━━━━━━━━━━━\u001b[0m\u001b[37m\u001b[0m \u001b[1m1s\u001b[0m 62ms/step - accuracy: 0.7841 - loss: 0.4259 - val_accuracy: 0.8016 - val_loss: 0.4189\n",
      "Epoch 135/300\n",
      "\u001b[1m9/9\u001b[0m \u001b[32m━━━━━━━━━━━━━━━━━━━━\u001b[0m\u001b[37m\u001b[0m \u001b[1m1s\u001b[0m 62ms/step - accuracy: 0.8033 - loss: 0.4131 - val_accuracy: 0.8071 - val_loss: 0.4099\n",
      "Epoch 136/300\n",
      "\u001b[1m9/9\u001b[0m \u001b[32m━━━━━━━━━━━━━━━━━━━━\u001b[0m\u001b[37m\u001b[0m \u001b[1m1s\u001b[0m 61ms/step - accuracy: 0.8097 - loss: 0.4064 - val_accuracy: 0.7987 - val_loss: 0.4111\n",
      "Epoch 137/300\n",
      "\u001b[1m9/9\u001b[0m \u001b[32m━━━━━━━━━━━━━━━━━━━━\u001b[0m\u001b[37m\u001b[0m \u001b[1m1s\u001b[0m 61ms/step - accuracy: 0.8088 - loss: 0.4099 - val_accuracy: 0.7906 - val_loss: 0.4210\n",
      "Epoch 138/300\n",
      "\u001b[1m9/9\u001b[0m \u001b[32m━━━━━━━━━━━━━━━━━━━━\u001b[0m\u001b[37m\u001b[0m \u001b[1m1s\u001b[0m 67ms/step - accuracy: 0.7957 - loss: 0.4108 - val_accuracy: 0.8155 - val_loss: 0.4042\n",
      "Epoch 139/300\n",
      "\u001b[1m9/9\u001b[0m \u001b[32m━━━━━━━━━━━━━━━━━━━━\u001b[0m\u001b[37m\u001b[0m \u001b[1m1s\u001b[0m 63ms/step - accuracy: 0.8151 - loss: 0.4056 - val_accuracy: 0.7979 - val_loss: 0.4074\n",
      "Epoch 140/300\n",
      "\u001b[1m9/9\u001b[0m \u001b[32m━━━━━━━━━━━━━━━━━━━━\u001b[0m\u001b[37m\u001b[0m \u001b[1m1s\u001b[0m 60ms/step - accuracy: 0.8063 - loss: 0.3975 - val_accuracy: 0.7990 - val_loss: 0.4141\n",
      "Epoch 141/300\n",
      "\u001b[1m9/9\u001b[0m \u001b[32m━━━━━━━━━━━━━━━━━━━━\u001b[0m\u001b[37m\u001b[0m \u001b[1m1s\u001b[0m 63ms/step - accuracy: 0.7933 - loss: 0.4172 - val_accuracy: 0.8084 - val_loss: 0.4115\n",
      "Epoch 142/300\n",
      "\u001b[1m9/9\u001b[0m \u001b[32m━━━━━━━━━━━━━━━━━━━━\u001b[0m\u001b[37m\u001b[0m \u001b[1m1s\u001b[0m 64ms/step - accuracy: 0.8020 - loss: 0.4123 - val_accuracy: 0.8123 - val_loss: 0.4188\n",
      "Epoch 143/300\n",
      "\u001b[1m9/9\u001b[0m \u001b[32m━━━━━━━━━━━━━━━━━━━━\u001b[0m\u001b[37m\u001b[0m \u001b[1m1s\u001b[0m 63ms/step - accuracy: 0.8165 - loss: 0.3962 - val_accuracy: 0.7913 - val_loss: 0.4217\n",
      "Epoch 144/300\n",
      "\u001b[1m9/9\u001b[0m \u001b[32m━━━━━━━━━━━━━━━━━━━━\u001b[0m\u001b[37m\u001b[0m \u001b[1m1s\u001b[0m 65ms/step - accuracy: 0.8109 - loss: 0.4020 - val_accuracy: 0.8197 - val_loss: 0.3973\n",
      "Epoch 145/300\n",
      "\u001b[1m9/9\u001b[0m \u001b[32m━━━━━━━━━━━━━━━━━━━━\u001b[0m\u001b[37m\u001b[0m \u001b[1m1s\u001b[0m 63ms/step - accuracy: 0.8089 - loss: 0.4001 - val_accuracy: 0.7803 - val_loss: 0.4342\n",
      "Epoch 146/300\n",
      "\u001b[1m9/9\u001b[0m \u001b[32m━━━━━━━━━━━━━━━━━━━━\u001b[0m\u001b[37m\u001b[0m \u001b[1m1s\u001b[0m 65ms/step - accuracy: 0.7985 - loss: 0.4092 - val_accuracy: 0.8039 - val_loss: 0.4027\n",
      "Epoch 147/300\n",
      "\u001b[1m9/9\u001b[0m \u001b[32m━━━━━━━━━━━━━━━━━━━━\u001b[0m\u001b[37m\u001b[0m \u001b[1m1s\u001b[0m 66ms/step - accuracy: 0.8208 - loss: 0.3969 - val_accuracy: 0.7990 - val_loss: 0.4050\n",
      "Epoch 148/300\n",
      "\u001b[1m9/9\u001b[0m \u001b[32m━━━━━━━━━━━━━━━━━━━━\u001b[0m\u001b[37m\u001b[0m \u001b[1m1s\u001b[0m 63ms/step - accuracy: 0.8170 - loss: 0.3976 - val_accuracy: 0.8244 - val_loss: 0.3989\n",
      "Epoch 149/300\n",
      "\u001b[1m9/9\u001b[0m \u001b[32m━━━━━━━━━━━━━━━━━━━━\u001b[0m\u001b[37m\u001b[0m \u001b[1m1s\u001b[0m 61ms/step - accuracy: 0.8105 - loss: 0.4073 - val_accuracy: 0.7924 - val_loss: 0.4221\n",
      "Epoch 150/300\n",
      "\u001b[1m9/9\u001b[0m \u001b[32m━━━━━━━━━━━━━━━━━━━━\u001b[0m\u001b[37m\u001b[0m \u001b[1m1s\u001b[0m 62ms/step - accuracy: 0.8045 - loss: 0.4137 - val_accuracy: 0.8184 - val_loss: 0.3978\n",
      "Epoch 151/300\n",
      "\u001b[1m9/9\u001b[0m \u001b[32m━━━━━━━━━━━━━━━━━━━━\u001b[0m\u001b[37m\u001b[0m \u001b[1m1s\u001b[0m 65ms/step - accuracy: 0.8178 - loss: 0.4012 - val_accuracy: 0.8092 - val_loss: 0.4079\n",
      "Epoch 152/300\n",
      "\u001b[1m9/9\u001b[0m \u001b[32m━━━━━━━━━━━━━━━━━━━━\u001b[0m\u001b[37m\u001b[0m \u001b[1m1s\u001b[0m 60ms/step - accuracy: 0.8117 - loss: 0.3979 - val_accuracy: 0.8115 - val_loss: 0.4084\n",
      "Epoch 153/300\n",
      "\u001b[1m9/9\u001b[0m \u001b[32m━━━━━━━━━━━━━━━━━━━━\u001b[0m\u001b[37m\u001b[0m \u001b[1m1s\u001b[0m 67ms/step - accuracy: 0.8076 - loss: 0.4065 - val_accuracy: 0.8283 - val_loss: 0.3899\n",
      "Epoch 154/300\n",
      "\u001b[1m9/9\u001b[0m \u001b[32m━━━━━━━━━━━━━━━━━━━━\u001b[0m\u001b[37m\u001b[0m \u001b[1m1s\u001b[0m 63ms/step - accuracy: 0.8102 - loss: 0.3997 - val_accuracy: 0.8165 - val_loss: 0.3969\n",
      "Epoch 155/300\n",
      "\u001b[1m9/9\u001b[0m \u001b[32m━━━━━━━━━━━━━━━━━━━━\u001b[0m\u001b[37m\u001b[0m \u001b[1m1s\u001b[0m 63ms/step - accuracy: 0.8151 - loss: 0.4015 - val_accuracy: 0.7990 - val_loss: 0.4070\n",
      "Epoch 156/300\n",
      "\u001b[1m9/9\u001b[0m \u001b[32m━━━━━━━━━━━━━━━━━━━━\u001b[0m\u001b[37m\u001b[0m \u001b[1m1s\u001b[0m 60ms/step - accuracy: 0.8124 - loss: 0.4035 - val_accuracy: 0.8092 - val_loss: 0.4007\n",
      "Epoch 157/300\n",
      "\u001b[1m9/9\u001b[0m \u001b[32m━━━━━━━━━━━━━━━━━━━━\u001b[0m\u001b[37m\u001b[0m \u001b[1m1s\u001b[0m 64ms/step - accuracy: 0.8058 - loss: 0.3987 - val_accuracy: 0.8181 - val_loss: 0.3922\n",
      "Epoch 158/300\n",
      "\u001b[1m9/9\u001b[0m \u001b[32m━━━━━━━━━━━━━━━━━━━━\u001b[0m\u001b[37m\u001b[0m \u001b[1m1s\u001b[0m 64ms/step - accuracy: 0.8142 - loss: 0.3991 - val_accuracy: 0.7719 - val_loss: 0.4389\n",
      "Epoch 159/300\n",
      "\u001b[1m9/9\u001b[0m \u001b[32m━━━━━━━━━━━━━━━━━━━━\u001b[0m\u001b[37m\u001b[0m \u001b[1m1s\u001b[0m 60ms/step - accuracy: 0.7992 - loss: 0.4068 - val_accuracy: 0.7950 - val_loss: 0.4216\n",
      "Epoch 160/300\n",
      "\u001b[1m9/9\u001b[0m \u001b[32m━━━━━━━━━━━━━━━━━━━━\u001b[0m\u001b[37m\u001b[0m \u001b[1m1s\u001b[0m 63ms/step - accuracy: 0.8048 - loss: 0.4018 - val_accuracy: 0.8226 - val_loss: 0.3908\n",
      "Epoch 161/300\n",
      "\u001b[1m9/9\u001b[0m \u001b[32m━━━━━━━━━━━━━━━━━━━━\u001b[0m\u001b[37m\u001b[0m \u001b[1m1s\u001b[0m 67ms/step - accuracy: 0.8162 - loss: 0.3986 - val_accuracy: 0.8073 - val_loss: 0.3994\n",
      "Epoch 162/300\n",
      "\u001b[1m9/9\u001b[0m \u001b[32m━━━━━━━━━━━━━━━━━━━━\u001b[0m\u001b[37m\u001b[0m \u001b[1m1s\u001b[0m 60ms/step - accuracy: 0.8047 - loss: 0.4034 - val_accuracy: 0.8100 - val_loss: 0.3941\n",
      "Epoch 163/300\n",
      "\u001b[1m9/9\u001b[0m \u001b[32m━━━━━━━━━━━━━━━━━━━━\u001b[0m\u001b[37m\u001b[0m \u001b[1m1s\u001b[0m 63ms/step - accuracy: 0.8016 - loss: 0.4052 - val_accuracy: 0.8244 - val_loss: 0.3873\n",
      "Epoch 164/300\n",
      "\u001b[1m9/9\u001b[0m \u001b[32m━━━━━━━━━━━━━━━━━━━━\u001b[0m\u001b[37m\u001b[0m \u001b[1m1s\u001b[0m 62ms/step - accuracy: 0.7945 - loss: 0.4181 - val_accuracy: 0.8129 - val_loss: 0.3947\n",
      "Epoch 165/300\n",
      "\u001b[1m9/9\u001b[0m \u001b[32m━━━━━━━━━━━━━━━━━━━━\u001b[0m\u001b[37m\u001b[0m \u001b[1m1s\u001b[0m 63ms/step - accuracy: 0.8069 - loss: 0.4001 - val_accuracy: 0.8186 - val_loss: 0.3908\n",
      "Epoch 166/300\n",
      "\u001b[1m9/9\u001b[0m \u001b[32m━━━━━━━━━━━━━━━━━━━━\u001b[0m\u001b[37m\u001b[0m \u001b[1m1s\u001b[0m 63ms/step - accuracy: 0.8152 - loss: 0.3967 - val_accuracy: 0.8079 - val_loss: 0.4019\n",
      "Epoch 167/300\n",
      "\u001b[1m9/9\u001b[0m \u001b[32m━━━━━━━━━━━━━━━━━━━━\u001b[0m\u001b[37m\u001b[0m \u001b[1m1s\u001b[0m 64ms/step - accuracy: 0.8107 - loss: 0.3892 - val_accuracy: 0.8073 - val_loss: 0.3973\n",
      "Epoch 168/300\n",
      "\u001b[1m9/9\u001b[0m \u001b[32m━━━━━━━━━━━━━━━━━━━━\u001b[0m\u001b[37m\u001b[0m \u001b[1m1s\u001b[0m 64ms/step - accuracy: 0.8135 - loss: 0.3945 - val_accuracy: 0.8315 - val_loss: 0.3832\n",
      "Epoch 169/300\n",
      "\u001b[1m9/9\u001b[0m \u001b[32m━━━━━━━━━━━━━━━━━━━━\u001b[0m\u001b[37m\u001b[0m \u001b[1m1s\u001b[0m 68ms/step - accuracy: 0.8182 - loss: 0.3955 - val_accuracy: 0.8220 - val_loss: 0.3872\n",
      "Epoch 170/300\n",
      "\u001b[1m9/9\u001b[0m \u001b[32m━━━━━━━━━━━━━━━━━━━━\u001b[0m\u001b[37m\u001b[0m \u001b[1m1s\u001b[0m 63ms/step - accuracy: 0.8260 - loss: 0.3819 - val_accuracy: 0.8052 - val_loss: 0.4105\n",
      "Epoch 171/300\n",
      "\u001b[1m9/9\u001b[0m \u001b[32m━━━━━━━━━━━━━━━━━━━━\u001b[0m\u001b[37m\u001b[0m \u001b[1m1s\u001b[0m 64ms/step - accuracy: 0.8085 - loss: 0.3999 - val_accuracy: 0.8052 - val_loss: 0.4030\n",
      "Epoch 172/300\n",
      "\u001b[1m9/9\u001b[0m \u001b[32m━━━━━━━━━━━━━━━━━━━━\u001b[0m\u001b[37m\u001b[0m \u001b[1m1s\u001b[0m 61ms/step - accuracy: 0.8103 - loss: 0.3928 - val_accuracy: 0.8066 - val_loss: 0.4040\n",
      "Epoch 173/300\n",
      "\u001b[1m9/9\u001b[0m \u001b[32m━━━━━━━━━━━━━━━━━━━━\u001b[0m\u001b[37m\u001b[0m \u001b[1m1s\u001b[0m 64ms/step - accuracy: 0.8143 - loss: 0.3947 - val_accuracy: 0.8152 - val_loss: 0.3897\n",
      "Epoch 174/300\n",
      "\u001b[1m9/9\u001b[0m \u001b[32m━━━━━━━━━━━━━━━━━━━━\u001b[0m\u001b[37m\u001b[0m \u001b[1m1s\u001b[0m 62ms/step - accuracy: 0.8131 - loss: 0.3912 - val_accuracy: 0.8029 - val_loss: 0.4070\n",
      "Epoch 175/300\n",
      "\u001b[1m9/9\u001b[0m \u001b[32m━━━━━━━━━━━━━━━━━━━━\u001b[0m\u001b[37m\u001b[0m \u001b[1m1s\u001b[0m 66ms/step - accuracy: 0.7983 - loss: 0.4044 - val_accuracy: 0.8050 - val_loss: 0.4157\n",
      "Epoch 176/300\n",
      "\u001b[1m9/9\u001b[0m \u001b[32m━━━━━━━━━━━━━━━━━━━━\u001b[0m\u001b[37m\u001b[0m \u001b[1m1s\u001b[0m 61ms/step - accuracy: 0.7899 - loss: 0.4199 - val_accuracy: 0.8084 - val_loss: 0.3956\n",
      "Epoch 177/300\n",
      "\u001b[1m9/9\u001b[0m \u001b[32m━━━━━━━━━━━━━━━━━━━━\u001b[0m\u001b[37m\u001b[0m \u001b[1m1s\u001b[0m 64ms/step - accuracy: 0.7965 - loss: 0.4172 - val_accuracy: 0.7937 - val_loss: 0.4176\n",
      "Epoch 178/300\n",
      "\u001b[1m9/9\u001b[0m \u001b[32m━━━━━━━━━━━━━━━━━━━━\u001b[0m\u001b[37m\u001b[0m \u001b[1m1s\u001b[0m 60ms/step - accuracy: 0.8191 - loss: 0.3983 - val_accuracy: 0.8073 - val_loss: 0.3914\n",
      "Epoch 179/300\n",
      "\u001b[1m9/9\u001b[0m \u001b[32m━━━━━━━━━━━━━━━━━━━━\u001b[0m\u001b[37m\u001b[0m \u001b[1m1s\u001b[0m 64ms/step - accuracy: 0.8010 - loss: 0.3980 - val_accuracy: 0.7942 - val_loss: 0.4095\n",
      "Epoch 180/300\n",
      "\u001b[1m9/9\u001b[0m \u001b[32m━━━━━━━━━━━━━━━━━━━━\u001b[0m\u001b[37m\u001b[0m \u001b[1m1s\u001b[0m 64ms/step - accuracy: 0.8223 - loss: 0.3955 - val_accuracy: 0.8016 - val_loss: 0.4066\n",
      "Epoch 181/300\n",
      "\u001b[1m9/9\u001b[0m \u001b[32m━━━━━━━━━━━━━━━━━━━━\u001b[0m\u001b[37m\u001b[0m \u001b[1m1s\u001b[0m 60ms/step - accuracy: 0.8146 - loss: 0.3919 - val_accuracy: 0.8165 - val_loss: 0.3916\n",
      "Epoch 182/300\n",
      "\u001b[1m9/9\u001b[0m \u001b[32m━━━━━━━━━━━━━━━━━━━━\u001b[0m\u001b[37m\u001b[0m \u001b[1m1s\u001b[0m 66ms/step - accuracy: 0.8243 - loss: 0.3832 - val_accuracy: 0.8260 - val_loss: 0.3850\n",
      "Epoch 183/300\n",
      "\u001b[1m9/9\u001b[0m \u001b[32m━━━━━━━━━━━━━━━━━━━━\u001b[0m\u001b[37m\u001b[0m \u001b[1m1s\u001b[0m 64ms/step - accuracy: 0.8213 - loss: 0.3825 - val_accuracy: 0.8118 - val_loss: 0.3955\n",
      "Epoch 184/300\n",
      "\u001b[1m9/9\u001b[0m \u001b[32m━━━━━━━━━━━━━━━━━━━━\u001b[0m\u001b[37m\u001b[0m \u001b[1m1s\u001b[0m 64ms/step - accuracy: 0.8153 - loss: 0.3901 - val_accuracy: 0.8310 - val_loss: 0.3788\n",
      "Epoch 185/300\n",
      "\u001b[1m9/9\u001b[0m \u001b[32m━━━━━━━━━━━━━━━━━━━━\u001b[0m\u001b[37m\u001b[0m \u001b[1m1s\u001b[0m 59ms/step - accuracy: 0.8368 - loss: 0.3789 - val_accuracy: 0.8304 - val_loss: 0.3840\n",
      "Epoch 186/300\n",
      "\u001b[1m9/9\u001b[0m \u001b[32m━━━━━━━━━━━━━━━━━━━━\u001b[0m\u001b[37m\u001b[0m \u001b[1m1s\u001b[0m 63ms/step - accuracy: 0.8318 - loss: 0.3799 - val_accuracy: 0.8315 - val_loss: 0.3827\n",
      "Epoch 187/300\n",
      "\u001b[1m9/9\u001b[0m \u001b[32m━━━━━━━━━━━━━━━━━━━━\u001b[0m\u001b[37m\u001b[0m \u001b[1m1s\u001b[0m 60ms/step - accuracy: 0.8293 - loss: 0.3787 - val_accuracy: 0.8210 - val_loss: 0.3837\n",
      "Epoch 188/300\n",
      "\u001b[1m9/9\u001b[0m \u001b[32m━━━━━━━━━━━━━━━━━━━━\u001b[0m\u001b[37m\u001b[0m \u001b[1m1s\u001b[0m 59ms/step - accuracy: 0.8278 - loss: 0.3715 - val_accuracy: 0.8155 - val_loss: 0.3940\n",
      "Epoch 189/300\n",
      "\u001b[1m9/9\u001b[0m \u001b[32m━━━━━━━━━━━━━━━━━━━━\u001b[0m\u001b[37m\u001b[0m \u001b[1m1s\u001b[0m 57ms/step - accuracy: 0.8268 - loss: 0.3747 - val_accuracy: 0.8283 - val_loss: 0.3848\n",
      "Epoch 190/300\n",
      "\u001b[1m9/9\u001b[0m \u001b[32m━━━━━━━━━━━━━━━━━━━━\u001b[0m\u001b[37m\u001b[0m \u001b[1m1s\u001b[0m 65ms/step - accuracy: 0.8313 - loss: 0.3777 - val_accuracy: 0.8281 - val_loss: 0.3786\n",
      "Epoch 191/300\n",
      "\u001b[1m9/9\u001b[0m \u001b[32m━━━━━━━━━━━━━━━━━━━━\u001b[0m\u001b[37m\u001b[0m \u001b[1m1s\u001b[0m 58ms/step - accuracy: 0.8276 - loss: 0.3717 - val_accuracy: 0.7990 - val_loss: 0.4114\n",
      "Epoch 192/300\n",
      "\u001b[1m9/9\u001b[0m \u001b[32m━━━━━━━━━━━━━━━━━━━━\u001b[0m\u001b[37m\u001b[0m \u001b[1m1s\u001b[0m 62ms/step - accuracy: 0.8246 - loss: 0.3818 - val_accuracy: 0.8173 - val_loss: 0.3957\n",
      "Epoch 193/300\n",
      "\u001b[1m9/9\u001b[0m \u001b[32m━━━━━━━━━━━━━━━━━━━━\u001b[0m\u001b[37m\u001b[0m \u001b[1m1s\u001b[0m 63ms/step - accuracy: 0.8114 - loss: 0.3964 - val_accuracy: 0.7898 - val_loss: 0.4433\n",
      "Epoch 194/300\n",
      "\u001b[1m9/9\u001b[0m \u001b[32m━━━━━━━━━━━━━━━━━━━━\u001b[0m\u001b[37m\u001b[0m \u001b[1m1s\u001b[0m 59ms/step - accuracy: 0.7975 - loss: 0.4127 - val_accuracy: 0.7646 - val_loss: 0.4547\n",
      "Epoch 195/300\n",
      "\u001b[1m9/9\u001b[0m \u001b[32m━━━━━━━━━━━━━━━━━━━━\u001b[0m\u001b[37m\u001b[0m \u001b[1m1s\u001b[0m 61ms/step - accuracy: 0.7920 - loss: 0.4189 - val_accuracy: 0.8018 - val_loss: 0.4180\n",
      "Epoch 196/300\n",
      "\u001b[1m9/9\u001b[0m \u001b[32m━━━━━━━━━━━━━━━━━━━━\u001b[0m\u001b[37m\u001b[0m \u001b[1m1s\u001b[0m 62ms/step - accuracy: 0.8138 - loss: 0.3940 - val_accuracy: 0.8155 - val_loss: 0.4124\n",
      "Epoch 197/300\n",
      "\u001b[1m9/9\u001b[0m \u001b[32m━━━━━━━━━━━━━━━━━━━━\u001b[0m\u001b[37m\u001b[0m \u001b[1m1s\u001b[0m 62ms/step - accuracy: 0.8211 - loss: 0.3870 - val_accuracy: 0.8234 - val_loss: 0.3964\n",
      "Epoch 198/300\n",
      "\u001b[1m9/9\u001b[0m \u001b[32m━━━━━━━━━━━━━━━━━━━━\u001b[0m\u001b[37m\u001b[0m \u001b[1m1s\u001b[0m 62ms/step - accuracy: 0.8235 - loss: 0.3863 - val_accuracy: 0.8058 - val_loss: 0.4010\n",
      "Epoch 199/300\n",
      "\u001b[1m9/9\u001b[0m \u001b[32m━━━━━━━━━━━━━━━━━━━━\u001b[0m\u001b[37m\u001b[0m \u001b[1m1s\u001b[0m 61ms/step - accuracy: 0.8191 - loss: 0.3851 - val_accuracy: 0.8163 - val_loss: 0.3874\n",
      "Epoch 200/300\n",
      "\u001b[1m9/9\u001b[0m \u001b[32m━━━━━━━━━━━━━━━━━━━━\u001b[0m\u001b[37m\u001b[0m \u001b[1m1s\u001b[0m 61ms/step - accuracy: 0.8299 - loss: 0.3745 - val_accuracy: 0.8281 - val_loss: 0.3790\n",
      "Epoch 201/300\n",
      "\u001b[1m9/9\u001b[0m \u001b[32m━━━━━━━━━━━━━━━━━━━━\u001b[0m\u001b[37m\u001b[0m \u001b[1m1s\u001b[0m 58ms/step - accuracy: 0.8358 - loss: 0.3703 - val_accuracy: 0.7887 - val_loss: 0.4104\n",
      "Epoch 202/300\n",
      "\u001b[1m9/9\u001b[0m \u001b[32m━━━━━━━━━━━━━━━━━━━━\u001b[0m\u001b[37m\u001b[0m \u001b[1m1s\u001b[0m 58ms/step - accuracy: 0.8118 - loss: 0.3911 - val_accuracy: 0.8247 - val_loss: 0.3802\n",
      "Epoch 203/300\n",
      "\u001b[1m9/9\u001b[0m \u001b[32m━━━━━━━━━━━━━━━━━━━━\u001b[0m\u001b[37m\u001b[0m \u001b[1m1s\u001b[0m 61ms/step - accuracy: 0.8316 - loss: 0.3709 - val_accuracy: 0.8252 - val_loss: 0.3829\n",
      "Epoch 204/300\n",
      "\u001b[1m9/9\u001b[0m \u001b[32m━━━━━━━━━━━━━━━━━━━━\u001b[0m\u001b[37m\u001b[0m \u001b[1m1s\u001b[0m 63ms/step - accuracy: 0.8221 - loss: 0.3781 - val_accuracy: 0.8115 - val_loss: 0.3961\n",
      "Epoch 205/300\n",
      "\u001b[1m9/9\u001b[0m \u001b[32m━━━━━━━━━━━━━━━━━━━━\u001b[0m\u001b[37m\u001b[0m \u001b[1m1s\u001b[0m 63ms/step - accuracy: 0.8201 - loss: 0.3861 - val_accuracy: 0.8165 - val_loss: 0.3850\n",
      "Epoch 206/300\n",
      "\u001b[1m9/9\u001b[0m \u001b[32m━━━━━━━━━━━━━━━━━━━━\u001b[0m\u001b[37m\u001b[0m \u001b[1m1s\u001b[0m 64ms/step - accuracy: 0.8268 - loss: 0.3743 - val_accuracy: 0.8047 - val_loss: 0.4103\n",
      "Epoch 207/300\n",
      "\u001b[1m9/9\u001b[0m \u001b[32m━━━━━━━━━━━━━━━━━━━━\u001b[0m\u001b[37m\u001b[0m \u001b[1m1s\u001b[0m 61ms/step - accuracy: 0.8192 - loss: 0.3881 - val_accuracy: 0.8147 - val_loss: 0.3998\n",
      "Epoch 208/300\n",
      "\u001b[1m9/9\u001b[0m \u001b[32m━━━━━━━━━━━━━━━━━━━━\u001b[0m\u001b[37m\u001b[0m \u001b[1m1s\u001b[0m 68ms/step - accuracy: 0.8244 - loss: 0.3765 - val_accuracy: 0.8150 - val_loss: 0.3965\n",
      "Epoch 209/300\n",
      "\u001b[1m9/9\u001b[0m \u001b[32m━━━━━━━━━━━━━━━━━━━━\u001b[0m\u001b[37m\u001b[0m \u001b[1m1s\u001b[0m 64ms/step - accuracy: 0.8289 - loss: 0.3733 - val_accuracy: 0.8299 - val_loss: 0.3776\n",
      "Epoch 210/300\n",
      "\u001b[1m9/9\u001b[0m \u001b[32m━━━━━━━━━━━━━━━━━━━━\u001b[0m\u001b[37m\u001b[0m \u001b[1m1s\u001b[0m 63ms/step - accuracy: 0.8322 - loss: 0.3674 - val_accuracy: 0.8199 - val_loss: 0.3837\n",
      "Epoch 211/300\n",
      "\u001b[1m9/9\u001b[0m \u001b[32m━━━━━━━━━━━━━━━━━━━━\u001b[0m\u001b[37m\u001b[0m \u001b[1m1s\u001b[0m 66ms/step - accuracy: 0.8286 - loss: 0.3716 - val_accuracy: 0.8236 - val_loss: 0.3818\n",
      "Epoch 212/300\n",
      "\u001b[1m9/9\u001b[0m \u001b[32m━━━━━━━━━━━━━━━━━━━━\u001b[0m\u001b[37m\u001b[0m \u001b[1m1s\u001b[0m 63ms/step - accuracy: 0.8148 - loss: 0.3834 - val_accuracy: 0.8241 - val_loss: 0.3780\n",
      "Epoch 213/300\n",
      "\u001b[1m9/9\u001b[0m \u001b[32m━━━━━━━━━━━━━━━━━━━━\u001b[0m\u001b[37m\u001b[0m \u001b[1m1s\u001b[0m 62ms/step - accuracy: 0.8275 - loss: 0.3707 - val_accuracy: 0.8325 - val_loss: 0.3820\n",
      "Epoch 214/300\n",
      "\u001b[1m9/9\u001b[0m \u001b[32m━━━━━━━━━━━━━━━━━━━━\u001b[0m\u001b[37m\u001b[0m \u001b[1m1s\u001b[0m 65ms/step - accuracy: 0.8250 - loss: 0.3708 - val_accuracy: 0.8365 - val_loss: 0.3773\n",
      "Epoch 215/300\n",
      "\u001b[1m9/9\u001b[0m \u001b[32m━━━━━━━━━━━━━━━━━━━━\u001b[0m\u001b[37m\u001b[0m \u001b[1m1s\u001b[0m 67ms/step - accuracy: 0.8246 - loss: 0.3801 - val_accuracy: 0.8294 - val_loss: 0.3885\n",
      "Epoch 216/300\n",
      "\u001b[1m9/9\u001b[0m \u001b[32m━━━━━━━━━━━━━━━━━━━━\u001b[0m\u001b[37m\u001b[0m \u001b[1m1s\u001b[0m 60ms/step - accuracy: 0.8241 - loss: 0.3778 - val_accuracy: 0.8005 - val_loss: 0.4123\n",
      "Epoch 217/300\n",
      "\u001b[1m9/9\u001b[0m \u001b[32m━━━━━━━━━━━━━━━━━━━━\u001b[0m\u001b[37m\u001b[0m \u001b[1m1s\u001b[0m 63ms/step - accuracy: 0.8158 - loss: 0.3919 - val_accuracy: 0.8257 - val_loss: 0.3885\n",
      "Epoch 218/300\n",
      "\u001b[1m9/9\u001b[0m \u001b[32m━━━━━━━━━━━━━━━━━━━━\u001b[0m\u001b[37m\u001b[0m \u001b[1m1s\u001b[0m 62ms/step - accuracy: 0.8240 - loss: 0.3764 - val_accuracy: 0.8171 - val_loss: 0.3839\n",
      "Epoch 219/300\n",
      "\u001b[1m9/9\u001b[0m \u001b[32m━━━━━━━━━━━━━━━━━━━━\u001b[0m\u001b[37m\u001b[0m \u001b[1m1s\u001b[0m 63ms/step - accuracy: 0.8298 - loss: 0.3707 - val_accuracy: 0.8310 - val_loss: 0.3747\n",
      "Epoch 220/300\n",
      "\u001b[1m9/9\u001b[0m \u001b[32m━━━━━━━━━━━━━━━━━━━━\u001b[0m\u001b[37m\u001b[0m \u001b[1m1s\u001b[0m 61ms/step - accuracy: 0.8291 - loss: 0.3729 - val_accuracy: 0.8184 - val_loss: 0.3899\n",
      "Epoch 221/300\n",
      "\u001b[1m9/9\u001b[0m \u001b[32m━━━━━━━━━━━━━━━━━━━━\u001b[0m\u001b[37m\u001b[0m \u001b[1m1s\u001b[0m 64ms/step - accuracy: 0.8181 - loss: 0.3754 - val_accuracy: 0.8213 - val_loss: 0.3845\n",
      "Epoch 222/300\n",
      "\u001b[1m9/9\u001b[0m \u001b[32m━━━━━━━━━━━━━━━━━━━━\u001b[0m\u001b[37m\u001b[0m \u001b[1m1s\u001b[0m 64ms/step - accuracy: 0.8167 - loss: 0.3876 - val_accuracy: 0.8249 - val_loss: 0.3744\n",
      "Epoch 223/300\n",
      "\u001b[1m9/9\u001b[0m \u001b[32m━━━━━━━━━━━━━━━━━━━━\u001b[0m\u001b[37m\u001b[0m \u001b[1m1s\u001b[0m 66ms/step - accuracy: 0.8306 - loss: 0.3757 - val_accuracy: 0.8234 - val_loss: 0.3788\n",
      "Epoch 224/300\n",
      "\u001b[1m9/9\u001b[0m \u001b[32m━━━━━━━━━━━━━━━━━━━━\u001b[0m\u001b[37m\u001b[0m \u001b[1m1s\u001b[0m 61ms/step - accuracy: 0.8158 - loss: 0.3813 - val_accuracy: 0.8249 - val_loss: 0.3875\n",
      "Epoch 225/300\n",
      "\u001b[1m9/9\u001b[0m \u001b[32m━━━━━━━━━━━━━━━━━━━━\u001b[0m\u001b[37m\u001b[0m \u001b[1m1s\u001b[0m 63ms/step - accuracy: 0.8244 - loss: 0.3817 - val_accuracy: 0.8176 - val_loss: 0.3895\n",
      "Epoch 226/300\n",
      "\u001b[1m9/9\u001b[0m \u001b[32m━━━━━━━━━━━━━━━━━━━━\u001b[0m\u001b[37m\u001b[0m \u001b[1m1s\u001b[0m 63ms/step - accuracy: 0.8256 - loss: 0.3738 - val_accuracy: 0.8234 - val_loss: 0.3845\n",
      "Epoch 227/300\n",
      "\u001b[1m9/9\u001b[0m \u001b[32m━━━━━━━━━━━━━━━━━━━━\u001b[0m\u001b[37m\u001b[0m \u001b[1m1s\u001b[0m 62ms/step - accuracy: 0.8290 - loss: 0.3730 - val_accuracy: 0.8215 - val_loss: 0.3852\n",
      "Epoch 228/300\n",
      "\u001b[1m9/9\u001b[0m \u001b[32m━━━━━━━━━━━━━━━━━━━━\u001b[0m\u001b[37m\u001b[0m \u001b[1m1s\u001b[0m 60ms/step - accuracy: 0.8188 - loss: 0.3821 - val_accuracy: 0.8344 - val_loss: 0.3750\n",
      "Epoch 229/300\n",
      "\u001b[1m9/9\u001b[0m \u001b[32m━━━━━━━━━━━━━━━━━━━━\u001b[0m\u001b[37m\u001b[0m \u001b[1m1s\u001b[0m 60ms/step - accuracy: 0.8286 - loss: 0.3704 - val_accuracy: 0.8194 - val_loss: 0.3843\n",
      "Epoch 230/300\n",
      "\u001b[1m9/9\u001b[0m \u001b[32m━━━━━━━━━━━━━━━━━━━━\u001b[0m\u001b[37m\u001b[0m \u001b[1m1s\u001b[0m 63ms/step - accuracy: 0.8212 - loss: 0.3776 - val_accuracy: 0.8231 - val_loss: 0.3802\n",
      "Epoch 231/300\n",
      "\u001b[1m9/9\u001b[0m \u001b[32m━━━━━━━━━━━━━━━━━━━━\u001b[0m\u001b[37m\u001b[0m \u001b[1m1s\u001b[0m 63ms/step - accuracy: 0.8240 - loss: 0.3712 - val_accuracy: 0.8220 - val_loss: 0.3909\n",
      "Epoch 232/300\n",
      "\u001b[1m9/9\u001b[0m \u001b[32m━━━━━━━━━━━━━━━━━━━━\u001b[0m\u001b[37m\u001b[0m \u001b[1m1s\u001b[0m 63ms/step - accuracy: 0.8382 - loss: 0.3654 - val_accuracy: 0.8241 - val_loss: 0.3790\n",
      "Epoch 233/300\n",
      "\u001b[1m9/9\u001b[0m \u001b[32m━━━━━━━━━━━━━━━━━━━━\u001b[0m\u001b[37m\u001b[0m \u001b[1m1s\u001b[0m 60ms/step - accuracy: 0.8409 - loss: 0.3583 - val_accuracy: 0.8139 - val_loss: 0.3949\n",
      "Epoch 234/300\n",
      "\u001b[1m9/9\u001b[0m \u001b[32m━━━━━━━━━━━━━━━━━━━━\u001b[0m\u001b[37m\u001b[0m \u001b[1m1s\u001b[0m 69ms/step - accuracy: 0.8179 - loss: 0.3762 - val_accuracy: 0.8184 - val_loss: 0.3882\n",
      "Epoch 235/300\n",
      "\u001b[1m9/9\u001b[0m \u001b[32m━━━━━━━━━━━━━━━━━━━━\u001b[0m\u001b[37m\u001b[0m \u001b[1m1s\u001b[0m 63ms/step - accuracy: 0.8207 - loss: 0.3797 - val_accuracy: 0.8121 - val_loss: 0.3911\n",
      "Epoch 236/300\n",
      "\u001b[1m9/9\u001b[0m \u001b[32m━━━━━━━━━━━━━━━━━━━━\u001b[0m\u001b[37m\u001b[0m \u001b[1m1s\u001b[0m 60ms/step - accuracy: 0.8154 - loss: 0.3839 - val_accuracy: 0.8388 - val_loss: 0.3751\n",
      "Epoch 237/300\n",
      "\u001b[1m9/9\u001b[0m \u001b[32m━━━━━━━━━━━━━━━━━━━━\u001b[0m\u001b[37m\u001b[0m \u001b[1m1s\u001b[0m 62ms/step - accuracy: 0.8318 - loss: 0.3683 - val_accuracy: 0.8310 - val_loss: 0.3788\n",
      "Epoch 238/300\n",
      "\u001b[1m9/9\u001b[0m \u001b[32m━━━━━━━━━━━━━━━━━━━━\u001b[0m\u001b[37m\u001b[0m \u001b[1m1s\u001b[0m 64ms/step - accuracy: 0.8331 - loss: 0.3724 - val_accuracy: 0.8388 - val_loss: 0.3665\n",
      "Epoch 239/300\n",
      "\u001b[1m9/9\u001b[0m \u001b[32m━━━━━━━━━━━━━━━━━━━━\u001b[0m\u001b[37m\u001b[0m \u001b[1m1s\u001b[0m 59ms/step - accuracy: 0.8418 - loss: 0.3567 - val_accuracy: 0.8299 - val_loss: 0.3791\n",
      "Epoch 240/300\n",
      "\u001b[1m9/9\u001b[0m \u001b[32m━━━━━━━━━━━━━━━━━━━━\u001b[0m\u001b[37m\u001b[0m \u001b[1m1s\u001b[0m 61ms/step - accuracy: 0.8291 - loss: 0.3675 - val_accuracy: 0.8362 - val_loss: 0.3731\n",
      "Epoch 241/300\n",
      "\u001b[1m9/9\u001b[0m \u001b[32m━━━━━━━━━━━━━━━━━━━━\u001b[0m\u001b[37m\u001b[0m \u001b[1m1s\u001b[0m 56ms/step - accuracy: 0.8332 - loss: 0.3584 - val_accuracy: 0.8126 - val_loss: 0.3956\n",
      "Epoch 242/300\n",
      "\u001b[1m9/9\u001b[0m \u001b[32m━━━━━━━━━━━━━━━━━━━━\u001b[0m\u001b[37m\u001b[0m \u001b[1m1s\u001b[0m 57ms/step - accuracy: 0.8215 - loss: 0.3750 - val_accuracy: 0.8262 - val_loss: 0.3749\n",
      "Epoch 243/300\n",
      "\u001b[1m9/9\u001b[0m \u001b[32m━━━━━━━━━━━━━━━━━━━━\u001b[0m\u001b[37m\u001b[0m \u001b[1m1s\u001b[0m 59ms/step - accuracy: 0.8242 - loss: 0.3727 - val_accuracy: 0.8218 - val_loss: 0.3770\n",
      "Epoch 244/300\n",
      "\u001b[1m9/9\u001b[0m \u001b[32m━━━━━━━━━━━━━━━━━━━━\u001b[0m\u001b[37m\u001b[0m \u001b[1m1s\u001b[0m 59ms/step - accuracy: 0.8206 - loss: 0.3791 - val_accuracy: 0.8336 - val_loss: 0.3691\n",
      "Epoch 245/300\n",
      "\u001b[1m9/9\u001b[0m \u001b[32m━━━━━━━━━━━━━━━━━━━━\u001b[0m\u001b[37m\u001b[0m \u001b[1m1s\u001b[0m 63ms/step - accuracy: 0.8426 - loss: 0.3582 - val_accuracy: 0.8239 - val_loss: 0.3743\n",
      "Epoch 246/300\n",
      "\u001b[1m9/9\u001b[0m \u001b[32m━━━━━━━━━━━━━━━━━━━━\u001b[0m\u001b[37m\u001b[0m \u001b[1m1s\u001b[0m 57ms/step - accuracy: 0.8293 - loss: 0.3657 - val_accuracy: 0.8186 - val_loss: 0.3929\n",
      "Epoch 247/300\n",
      "\u001b[1m9/9\u001b[0m \u001b[32m━━━━━━━━━━━━━━━━━━━━\u001b[0m\u001b[37m\u001b[0m \u001b[1m1s\u001b[0m 58ms/step - accuracy: 0.8271 - loss: 0.3731 - val_accuracy: 0.8110 - val_loss: 0.4016\n",
      "Epoch 248/300\n",
      "\u001b[1m9/9\u001b[0m \u001b[32m━━━━━━━━━━━━━━━━━━━━\u001b[0m\u001b[37m\u001b[0m \u001b[1m1s\u001b[0m 60ms/step - accuracy: 0.8201 - loss: 0.3801 - val_accuracy: 0.8236 - val_loss: 0.3830\n",
      "Epoch 249/300\n",
      "\u001b[1m9/9\u001b[0m \u001b[32m━━━━━━━━━━━━━━━━━━━━\u001b[0m\u001b[37m\u001b[0m \u001b[1m1s\u001b[0m 57ms/step - accuracy: 0.8309 - loss: 0.3691 - val_accuracy: 0.8239 - val_loss: 0.3805\n",
      "Epoch 250/300\n",
      "\u001b[1m9/9\u001b[0m \u001b[32m━━━━━━━━━━━━━━━━━━━━\u001b[0m\u001b[37m\u001b[0m \u001b[1m1s\u001b[0m 60ms/step - accuracy: 0.8328 - loss: 0.3704 - val_accuracy: 0.8123 - val_loss: 0.3898\n",
      "Epoch 251/300\n",
      "\u001b[1m9/9\u001b[0m \u001b[32m━━━━━━━━━━━━━━━━━━━━\u001b[0m\u001b[37m\u001b[0m \u001b[1m1s\u001b[0m 61ms/step - accuracy: 0.8201 - loss: 0.3736 - val_accuracy: 0.8286 - val_loss: 0.3747\n",
      "Epoch 252/300\n",
      "\u001b[1m9/9\u001b[0m \u001b[32m━━━━━━━━━━━━━━━━━━━━\u001b[0m\u001b[37m\u001b[0m \u001b[1m1s\u001b[0m 61ms/step - accuracy: 0.8322 - loss: 0.3649 - val_accuracy: 0.8215 - val_loss: 0.3765\n",
      "Epoch 253/300\n",
      "\u001b[1m9/9\u001b[0m \u001b[32m━━━━━━━━━━━━━━━━━━━━\u001b[0m\u001b[37m\u001b[0m \u001b[1m1s\u001b[0m 61ms/step - accuracy: 0.8310 - loss: 0.3606 - val_accuracy: 0.8186 - val_loss: 0.3765\n",
      "Epoch 254/300\n",
      "\u001b[1m9/9\u001b[0m \u001b[32m━━━━━━━━━━━━━━━━━━━━\u001b[0m\u001b[37m\u001b[0m \u001b[1m1s\u001b[0m 62ms/step - accuracy: 0.8319 - loss: 0.3612 - val_accuracy: 0.8307 - val_loss: 0.3748\n",
      "Epoch 255/300\n",
      "\u001b[1m9/9\u001b[0m \u001b[32m━━━━━━━━━━━━━━━━━━━━\u001b[0m\u001b[37m\u001b[0m \u001b[1m1s\u001b[0m 59ms/step - accuracy: 0.8388 - loss: 0.3636 - val_accuracy: 0.8157 - val_loss: 0.3938\n",
      "Epoch 256/300\n",
      "\u001b[1m9/9\u001b[0m \u001b[32m━━━━━━━━━━━━━━━━━━━━\u001b[0m\u001b[37m\u001b[0m \u001b[1m1s\u001b[0m 57ms/step - accuracy: 0.8344 - loss: 0.3670 - val_accuracy: 0.8163 - val_loss: 0.3940\n",
      "Epoch 257/300\n",
      "\u001b[1m9/9\u001b[0m \u001b[32m━━━━━━━━━━━━━━━━━━━━\u001b[0m\u001b[37m\u001b[0m \u001b[1m1s\u001b[0m 60ms/step - accuracy: 0.8211 - loss: 0.3764 - val_accuracy: 0.8365 - val_loss: 0.3711\n",
      "Epoch 258/300\n",
      "\u001b[1m9/9\u001b[0m \u001b[32m━━━━━━━━━━━━━━━━━━━━\u001b[0m\u001b[37m\u001b[0m \u001b[1m1s\u001b[0m 60ms/step - accuracy: 0.8221 - loss: 0.3827 - val_accuracy: 0.8226 - val_loss: 0.3885\n",
      "Epoch 259/300\n",
      "\u001b[1m9/9\u001b[0m \u001b[32m━━━━━━━━━━━━━━━━━━━━\u001b[0m\u001b[37m\u001b[0m \u001b[1m1s\u001b[0m 59ms/step - accuracy: 0.8390 - loss: 0.3688 - val_accuracy: 0.8194 - val_loss: 0.3810\n",
      "Epoch 260/300\n",
      "\u001b[1m9/9\u001b[0m \u001b[32m━━━━━━━━━━━━━━━━━━━━\u001b[0m\u001b[37m\u001b[0m \u001b[1m1s\u001b[0m 59ms/step - accuracy: 0.8330 - loss: 0.3654 - val_accuracy: 0.8354 - val_loss: 0.3702\n",
      "Epoch 261/300\n",
      "\u001b[1m9/9\u001b[0m \u001b[32m━━━━━━━━━━━━━━━━━━━━\u001b[0m\u001b[37m\u001b[0m \u001b[1m1s\u001b[0m 58ms/step - accuracy: 0.8365 - loss: 0.3641 - val_accuracy: 0.8273 - val_loss: 0.3732\n",
      "Epoch 262/300\n",
      "\u001b[1m9/9\u001b[0m \u001b[32m━━━━━━━━━━━━━━━━━━━━\u001b[0m\u001b[37m\u001b[0m \u001b[1m1s\u001b[0m 57ms/step - accuracy: 0.8253 - loss: 0.3701 - val_accuracy: 0.8241 - val_loss: 0.3814\n",
      "Epoch 263/300\n",
      "\u001b[1m9/9\u001b[0m \u001b[32m━━━━━━━━━━━━━━━━━━━━\u001b[0m\u001b[37m\u001b[0m \u001b[1m1s\u001b[0m 59ms/step - accuracy: 0.8270 - loss: 0.3743 - val_accuracy: 0.8192 - val_loss: 0.3974\n",
      "Epoch 264/300\n",
      "\u001b[1m9/9\u001b[0m \u001b[32m━━━━━━━━━━━━━━━━━━━━\u001b[0m\u001b[37m\u001b[0m \u001b[1m1s\u001b[0m 63ms/step - accuracy: 0.8212 - loss: 0.3747 - val_accuracy: 0.8176 - val_loss: 0.3844\n",
      "Epoch 265/300\n",
      "\u001b[1m9/9\u001b[0m \u001b[32m━━━━━━━━━━━━━━━━━━━━\u001b[0m\u001b[37m\u001b[0m \u001b[1m1s\u001b[0m 57ms/step - accuracy: 0.8241 - loss: 0.3725 - val_accuracy: 0.8281 - val_loss: 0.3786\n",
      "Epoch 266/300\n",
      "\u001b[1m9/9\u001b[0m \u001b[32m━━━━━━━━━━━━━━━━━━━━\u001b[0m\u001b[37m\u001b[0m \u001b[1m1s\u001b[0m 60ms/step - accuracy: 0.8311 - loss: 0.3630 - val_accuracy: 0.8357 - val_loss: 0.3651\n",
      "Epoch 267/300\n",
      "\u001b[1m9/9\u001b[0m \u001b[32m━━━━━━━━━━━━━━━━━━━━\u001b[0m\u001b[37m\u001b[0m \u001b[1m1s\u001b[0m 56ms/step - accuracy: 0.8325 - loss: 0.3613 - val_accuracy: 0.8260 - val_loss: 0.3737\n",
      "Epoch 268/300\n",
      "\u001b[1m9/9\u001b[0m \u001b[32m━━━━━━━━━━━━━━━━━━━━\u001b[0m\u001b[37m\u001b[0m \u001b[1m1s\u001b[0m 56ms/step - accuracy: 0.8306 - loss: 0.3684 - val_accuracy: 0.8352 - val_loss: 0.3658\n",
      "Epoch 269/300\n",
      "\u001b[1m9/9\u001b[0m \u001b[32m━━━━━━━━━━━━━━━━━━━━\u001b[0m\u001b[37m\u001b[0m \u001b[1m1s\u001b[0m 58ms/step - accuracy: 0.8356 - loss: 0.3618 - val_accuracy: 0.8381 - val_loss: 0.3675\n",
      "Epoch 270/300\n",
      "\u001b[1m9/9\u001b[0m \u001b[32m━━━━━━━━━━━━━━━━━━━━\u001b[0m\u001b[37m\u001b[0m \u001b[1m1s\u001b[0m 63ms/step - accuracy: 0.8311 - loss: 0.3687 - val_accuracy: 0.8047 - val_loss: 0.4148\n",
      "Epoch 271/300\n",
      "\u001b[1m9/9\u001b[0m \u001b[32m━━━━━━━━━━━━━━━━━━━━\u001b[0m\u001b[37m\u001b[0m \u001b[1m1s\u001b[0m 57ms/step - accuracy: 0.8169 - loss: 0.3855 - val_accuracy: 0.8260 - val_loss: 0.3831\n",
      "Epoch 272/300\n",
      "\u001b[1m9/9\u001b[0m \u001b[32m━━━━━━━━━━━━━━━━━━━━\u001b[0m\u001b[37m\u001b[0m \u001b[1m1s\u001b[0m 60ms/step - accuracy: 0.8317 - loss: 0.3653 - val_accuracy: 0.8260 - val_loss: 0.3740\n",
      "Epoch 273/300\n",
      "\u001b[1m9/9\u001b[0m \u001b[32m━━━━━━━━━━━━━━━━━━━━\u001b[0m\u001b[37m\u001b[0m \u001b[1m1s\u001b[0m 59ms/step - accuracy: 0.8385 - loss: 0.3558 - val_accuracy: 0.8257 - val_loss: 0.3758\n",
      "Epoch 274/300\n",
      "\u001b[1m9/9\u001b[0m \u001b[32m━━━━━━━━━━━━━━━━━━━━\u001b[0m\u001b[37m\u001b[0m \u001b[1m1s\u001b[0m 59ms/step - accuracy: 0.8356 - loss: 0.3583 - val_accuracy: 0.8060 - val_loss: 0.3984\n",
      "Epoch 275/300\n",
      "\u001b[1m9/9\u001b[0m \u001b[32m━━━━━━━━━━━━━━━━━━━━\u001b[0m\u001b[37m\u001b[0m \u001b[1m1s\u001b[0m 57ms/step - accuracy: 0.8298 - loss: 0.3672 - val_accuracy: 0.8155 - val_loss: 0.3875\n",
      "Epoch 276/300\n",
      "\u001b[1m9/9\u001b[0m \u001b[32m━━━━━━━━━━━━━━━━━━━━\u001b[0m\u001b[37m\u001b[0m \u001b[1m1s\u001b[0m 63ms/step - accuracy: 0.8310 - loss: 0.3623 - val_accuracy: 0.8220 - val_loss: 0.3843\n",
      "Epoch 277/300\n",
      "\u001b[1m9/9\u001b[0m \u001b[32m━━━━━━━━━━━━━━━━━━━━\u001b[0m\u001b[37m\u001b[0m \u001b[1m1s\u001b[0m 60ms/step - accuracy: 0.8271 - loss: 0.3717 - val_accuracy: 0.8220 - val_loss: 0.3814\n",
      "Epoch 278/300\n",
      "\u001b[1m9/9\u001b[0m \u001b[32m━━━━━━━━━━━━━━━━━━━━\u001b[0m\u001b[37m\u001b[0m \u001b[1m1s\u001b[0m 56ms/step - accuracy: 0.8203 - loss: 0.3782 - val_accuracy: 0.8270 - val_loss: 0.3774\n",
      "Epoch 279/300\n",
      "\u001b[1m9/9\u001b[0m \u001b[32m━━━━━━━━━━━━━━━━━━━━\u001b[0m\u001b[37m\u001b[0m \u001b[1m1s\u001b[0m 61ms/step - accuracy: 0.8258 - loss: 0.3711 - val_accuracy: 0.8310 - val_loss: 0.3790\n",
      "Epoch 280/300\n",
      "\u001b[1m9/9\u001b[0m \u001b[32m━━━━━━━━━━━━━━━━━━━━\u001b[0m\u001b[37m\u001b[0m \u001b[1m1s\u001b[0m 58ms/step - accuracy: 0.8359 - loss: 0.3693 - val_accuracy: 0.8360 - val_loss: 0.3656\n",
      "Epoch 281/300\n",
      "\u001b[1m9/9\u001b[0m \u001b[32m━━━━━━━━━━━━━━━━━━━━\u001b[0m\u001b[37m\u001b[0m \u001b[1m1s\u001b[0m 58ms/step - accuracy: 0.8255 - loss: 0.3622 - val_accuracy: 0.8247 - val_loss: 0.3781\n",
      "Epoch 282/300\n",
      "\u001b[1m9/9\u001b[0m \u001b[32m━━━━━━━━━━━━━━━━━━━━\u001b[0m\u001b[37m\u001b[0m \u001b[1m1s\u001b[0m 64ms/step - accuracy: 0.8341 - loss: 0.3602 - val_accuracy: 0.8394 - val_loss: 0.3707\n",
      "Epoch 283/300\n",
      "\u001b[1m9/9\u001b[0m \u001b[32m━━━━━━━━━━━━━━━━━━━━\u001b[0m\u001b[37m\u001b[0m \u001b[1m1s\u001b[0m 61ms/step - accuracy: 0.8396 - loss: 0.3535 - val_accuracy: 0.8294 - val_loss: 0.3851\n",
      "Epoch 284/300\n",
      "\u001b[1m9/9\u001b[0m \u001b[32m━━━━━━━━━━━━━━━━━━━━\u001b[0m\u001b[37m\u001b[0m \u001b[1m1s\u001b[0m 57ms/step - accuracy: 0.8322 - loss: 0.3678 - val_accuracy: 0.8341 - val_loss: 0.3712\n",
      "Epoch 285/300\n",
      "\u001b[1m9/9\u001b[0m \u001b[32m━━━━━━━━━━━━━━━━━━━━\u001b[0m\u001b[37m\u001b[0m \u001b[1m1s\u001b[0m 60ms/step - accuracy: 0.8394 - loss: 0.3605 - val_accuracy: 0.8255 - val_loss: 0.3771\n",
      "Epoch 286/300\n",
      "\u001b[1m9/9\u001b[0m \u001b[32m━━━━━━━━━━━━━━━━━━━━\u001b[0m\u001b[37m\u001b[0m \u001b[1m1s\u001b[0m 59ms/step - accuracy: 0.8343 - loss: 0.3648 - val_accuracy: 0.8081 - val_loss: 0.3983\n",
      "Epoch 287/300\n",
      "\u001b[1m9/9\u001b[0m \u001b[32m━━━━━━━━━━━━━━━━━━━━\u001b[0m\u001b[37m\u001b[0m \u001b[1m1s\u001b[0m 61ms/step - accuracy: 0.8230 - loss: 0.3839 - val_accuracy: 0.8060 - val_loss: 0.4239\n",
      "Epoch 288/300\n",
      "\u001b[1m9/9\u001b[0m \u001b[32m━━━━━━━━━━━━━━━━━━━━\u001b[0m\u001b[37m\u001b[0m \u001b[1m1s\u001b[0m 57ms/step - accuracy: 0.8109 - loss: 0.3894 - val_accuracy: 0.8150 - val_loss: 0.3939\n",
      "Epoch 289/300\n",
      "\u001b[1m9/9\u001b[0m \u001b[32m━━━━━━━━━━━━━━━━━━━━\u001b[0m\u001b[37m\u001b[0m \u001b[1m1s\u001b[0m 59ms/step - accuracy: 0.8274 - loss: 0.3729 - val_accuracy: 0.8239 - val_loss: 0.3791\n",
      "Epoch 290/300\n",
      "\u001b[1m9/9\u001b[0m \u001b[32m━━━━━━━━━━━━━━━━━━━━\u001b[0m\u001b[37m\u001b[0m \u001b[1m1s\u001b[0m 60ms/step - accuracy: 0.8298 - loss: 0.3571 - val_accuracy: 0.8234 - val_loss: 0.3789\n",
      "Epoch 291/300\n",
      "\u001b[1m9/9\u001b[0m \u001b[32m━━━━━━━━━━━━━━━━━━━━\u001b[0m\u001b[37m\u001b[0m \u001b[1m1s\u001b[0m 59ms/step - accuracy: 0.8328 - loss: 0.3588 - val_accuracy: 0.8239 - val_loss: 0.3865\n",
      "Epoch 292/300\n",
      "\u001b[1m9/9\u001b[0m \u001b[32m━━━━━━━━━━━━━━━━━━━━\u001b[0m\u001b[37m\u001b[0m \u001b[1m1s\u001b[0m 59ms/step - accuracy: 0.8353 - loss: 0.3644 - val_accuracy: 0.8357 - val_loss: 0.3685\n",
      "Epoch 293/300\n",
      "\u001b[1m9/9\u001b[0m \u001b[32m━━━━━━━━━━━━━━━━━━━━\u001b[0m\u001b[37m\u001b[0m \u001b[1m1s\u001b[0m 62ms/step - accuracy: 0.8415 - loss: 0.3581 - val_accuracy: 0.8320 - val_loss: 0.3723\n",
      "Epoch 294/300\n",
      "\u001b[1m9/9\u001b[0m \u001b[32m━━━━━━━━━━━━━━━━━━━━\u001b[0m\u001b[37m\u001b[0m \u001b[1m1s\u001b[0m 57ms/step - accuracy: 0.8356 - loss: 0.3564 - val_accuracy: 0.8302 - val_loss: 0.3747\n",
      "Epoch 295/300\n",
      "\u001b[1m9/9\u001b[0m \u001b[32m━━━━━━━━━━━━━━━━━━━━\u001b[0m\u001b[37m\u001b[0m \u001b[1m1s\u001b[0m 61ms/step - accuracy: 0.8332 - loss: 0.3554 - val_accuracy: 0.8312 - val_loss: 0.3794\n",
      "Epoch 296/300\n",
      "\u001b[1m9/9\u001b[0m \u001b[32m━━━━━━━━━━━━━━━━━━━━\u001b[0m\u001b[37m\u001b[0m \u001b[1m1s\u001b[0m 61ms/step - accuracy: 0.8366 - loss: 0.3626 - val_accuracy: 0.8438 - val_loss: 0.3662\n",
      "Epoch 297/300\n",
      "\u001b[1m9/9\u001b[0m \u001b[32m━━━━━━━━━━━━━━━━━━━━\u001b[0m\u001b[37m\u001b[0m \u001b[1m1s\u001b[0m 57ms/step - accuracy: 0.8467 - loss: 0.3538 - val_accuracy: 0.8294 - val_loss: 0.3770\n",
      "Epoch 298/300\n",
      "\u001b[1m9/9\u001b[0m \u001b[32m━━━━━━━━━━━━━━━━━━━━\u001b[0m\u001b[37m\u001b[0m \u001b[1m1s\u001b[0m 60ms/step - accuracy: 0.8348 - loss: 0.3642 - val_accuracy: 0.8370 - val_loss: 0.3688\n",
      "Epoch 299/300\n",
      "\u001b[1m9/9\u001b[0m \u001b[32m━━━━━━━━━━━━━━━━━━━━\u001b[0m\u001b[37m\u001b[0m \u001b[1m1s\u001b[0m 63ms/step - accuracy: 0.8405 - loss: 0.3592 - val_accuracy: 0.8360 - val_loss: 0.3816\n",
      "Epoch 300/300\n",
      "\u001b[1m9/9\u001b[0m \u001b[32m━━━━━━━━━━━━━━━━━━━━\u001b[0m\u001b[37m\u001b[0m \u001b[1m1s\u001b[0m 60ms/step - accuracy: 0.8373 - loss: 0.3636 - val_accuracy: 0.8260 - val_loss: 0.3854\n",
      "\u001b[1m120/120\u001b[0m \u001b[32m━━━━━━━━━━━━━━━━━━━━\u001b[0m\u001b[37m\u001b[0m \u001b[1m1s\u001b[0m 4ms/step\n"
     ]
    },
    {
     "data": {
      "image/png": "[encoded data removed]",
      "text/plain": [
       "<Figure size 1400x700 with 1 Axes>"
      ]
     },
     "metadata": {},
     "output_type": "display_data"
    }
   ],
   "source": [
    "importlib.reload(ti)\n",
    "importlib.reload(yft)\n",
    "importlib.reload(mllr)\n",
    "importlib.reload(plots)\n",
    "ml_lstm = mllr.LongShortTermMemoryMLHelper()\n",
    "model_lstm,scaler_lstm = ml_lstm.train_lstm_model(df_train,features,\"WMA Signal\") "
   ]
  },
  {
   "cell_type": "code",
   "execution_count": 72,
   "metadata": {},
   "outputs": [],
   "source": [
    "def predict_signals(model,scaler,df,features):\n",
    "\n",
    "    df_features = df[features]\n",
    "    X_test_scaled = scaler.transform(df_features)\n",
    "    y_pred = model.predict(X_test_scaled)\n",
    "    return y_pred"
   ]
  },
  {
   "cell_type": "code",
   "execution_count": 73,
   "metadata": {},
   "outputs": [],
   "source": [
    "\n",
    "#calculate_all_profit(ticker_symbol,df_filter)\n",
    "df_test[\"Logistic Signal\"] =  predict_signals(model_lr,scaler_lr,df_test,features)\n",
    "df_test[\"Gradient WMA RSI Signal\"] =  predict_signals(model_gbr,scaler_gbr,df_test,features)"
   ]
  },
  {
   "cell_type": "code",
   "execution_count": 78,
   "metadata": {},
   "outputs": [
    {
     "name": "stdout",
     "output_type": "stream",
     "text": [
      "Logistic Signal : Final Profit: $1204.73, 12.05%\n"
     ]
    },
    {
     "data": {
      "application/vnd.plotly.v1+json": {
       "config": {
        "plotlyServerURL": "https://plot.ly"
       },
       "data": [
        {
         "line": {
          "color": "blue"
         },
         "mode": "lines",
         "name": "Adj Close",
         "type": "scatter",
         "x": [
          "2023-01-03T00:00:00",
          "2023-01-04T00:00:00",
          "2023-01-05T00:00:00",
          "2023-01-06T00:00:00",
          "2023-01-09T00:00:00",
          "2023-01-10T00:00:00",
          "2023-01-11T00:00:00",
          "2023-01-12T00:00:00",
          "2023-01-13T00:00:00",
          "2023-01-17T00:00:00",
          "2023-01-18T00:00:00",
          "2023-01-19T00:00:00",
          "2023-01-20T00:00:00",
          "2023-01-23T00:00:00",
          "2023-01-24T00:00:00",
          "2023-01-25T00:00:00",
          "2023-01-26T00:00:00",
          "2023-01-27T00:00:00",
          "2023-01-30T00:00:00",
          "2023-01-31T00:00:00",
          "2023-02-01T00:00:00",
          "2023-02-02T00:00:00",
          "2023-02-03T00:00:00",
          "2023-02-06T00:00:00",
          "2023-02-07T00:00:00",
          "2023-02-08T00:00:00",
          "2023-02-09T00:00:00",
          "2023-02-10T00:00:00",
          "2023-02-13T00:00:00",
          "2023-02-14T00:00:00",
          "2023-02-15T00:00:00",
          "2023-02-16T00:00:00",
          "2023-02-17T00:00:00",
          "2023-02-21T00:00:00",
          "2023-02-22T00:00:00",
          "2023-02-23T00:00:00",
          "2023-02-24T00:00:00",
          "2023-02-27T00:00:00",
          "2023-02-28T00:00:00",
          "2023-03-01T00:00:00",
          "2023-03-02T00:00:00",
          "2023-03-03T00:00:00",
          "2023-03-06T00:00:00",
          "2023-03-07T00:00:00",
          "2023-03-08T00:00:00",
          "2023-03-09T00:00:00",
          "2023-03-10T00:00:00",
          "2023-03-13T00:00:00",
          "2023-03-14T00:00:00",
          "2023-03-15T00:00:00",
          "2023-03-16T00:00:00",
          "2023-03-17T00:00:00",
          "2023-03-20T00:00:00",
          "2023-03-21T00:00:00",
          "2023-03-22T00:00:00",
          "2023-03-23T00:00:00",
          "2023-03-24T00:00:00",
          "2023-03-27T00:00:00",
          "2023-03-28T00:00:00",
          "2023-03-29T00:00:00",
          "2023-03-30T00:00:00",
          "2023-03-31T00:00:00",
          "2023-04-03T00:00:00",
          "2023-04-04T00:00:00",
          "2023-04-05T00:00:00",
          "2023-04-06T00:00:00",
          "2023-04-10T00:00:00",
          "2023-04-11T00:00:00",
          "2023-04-12T00:00:00",
          "2023-04-13T00:00:00",
          "2023-04-14T00:00:00",
          "2023-04-17T00:00:00",
          "2023-04-18T00:00:00",
          "2023-04-19T00:00:00",
          "2023-04-20T00:00:00",
          "2023-04-21T00:00:00",
          "2023-04-24T00:00:00",
          "2023-04-25T00:00:00",
          "2023-04-26T00:00:00",
          "2023-04-27T00:00:00",
          "2023-04-28T00:00:00",
          "2023-05-01T00:00:00",
          "2023-05-02T00:00:00",
          "2023-05-03T00:00:00",
          "2023-05-04T00:00:00",
          "2023-05-05T00:00:00",
          "2023-05-08T00:00:00",
          "2023-05-09T00:00:00",
          "2023-05-10T00:00:00",
          "2023-05-11T00:00:00",
          "2023-05-12T00:00:00",
          "2023-05-15T00:00:00",
          "2023-05-16T00:00:00",
          "2023-05-17T00:00:00",
          "2023-05-18T00:00:00",
          "2023-05-19T00:00:00",
          "2023-05-22T00:00:00",
          "2023-05-23T00:00:00",
          "2023-05-24T00:00:00",
          "2023-05-25T00:00:00",
          "2023-05-26T00:00:00",
          "2023-05-30T00:00:00",
          "2023-05-31T00:00:00",
          "2023-06-01T00:00:00",
          "2023-06-02T00:00:00",
          "2023-06-05T00:00:00",
          "2023-06-06T00:00:00",
          "2023-06-07T00:00:00",
          "2023-06-08T00:00:00",
          "2023-06-09T00:00:00",
          "2023-06-12T00:00:00",
          "2023-06-13T00:00:00",
          "2023-06-14T00:00:00",
          "2023-06-15T00:00:00",
          "2023-06-16T00:00:00",
          "2023-06-20T00:00:00",
          "2023-06-21T00:00:00",
          "2023-06-22T00:00:00",
          "2023-06-23T00:00:00",
          "2023-06-26T00:00:00",
          "2023-06-27T00:00:00",
          "2023-06-28T00:00:00",
          "2023-06-29T00:00:00",
          "2023-06-30T00:00:00",
          "2023-07-03T00:00:00",
          "2023-07-05T00:00:00",
          "2023-07-06T00:00:00",
          "2023-07-07T00:00:00",
          "2023-07-10T00:00:00",
          "2023-07-11T00:00:00",
          "2023-07-12T00:00:00",
          "2023-07-13T00:00:00",
          "2023-07-14T00:00:00",
          "2023-07-17T00:00:00",
          "2023-07-18T00:00:00",
          "2023-07-19T00:00:00",
          "2023-07-20T00:00:00",
          "2023-07-21T00:00:00",
          "2023-07-24T00:00:00",
          "2023-07-25T00:00:00",
          "2023-07-26T00:00:00",
          "2023-07-27T00:00:00",
          "2023-07-28T00:00:00",
          "2023-07-31T00:00:00",
          "2023-08-01T00:00:00",
          "2023-08-02T00:00:00",
          "2023-08-03T00:00:00",
          "2023-08-04T00:00:00",
          "2023-08-07T00:00:00",
          "2023-08-08T00:00:00",
          "2023-08-09T00:00:00",
          "2023-08-10T00:00:00",
          "2023-08-11T00:00:00",
          "2023-08-14T00:00:00",
          "2023-08-15T00:00:00",
          "2023-08-16T00:00:00",
          "2023-08-17T00:00:00",
          "2023-08-18T00:00:00",
          "2023-08-21T00:00:00",
          "2023-08-22T00:00:00",
          "2023-08-23T00:00:00",
          "2023-08-24T00:00:00",
          "2023-08-25T00:00:00",
          "2023-08-28T00:00:00",
          "2023-08-29T00:00:00",
          "2023-08-30T00:00:00",
          "2023-08-31T00:00:00",
          "2023-09-01T00:00:00",
          "2023-09-05T00:00:00",
          "2023-09-06T00:00:00",
          "2023-09-07T00:00:00",
          "2023-09-08T00:00:00",
          "2023-09-11T00:00:00",
          "2023-09-12T00:00:00",
          "2023-09-13T00:00:00",
          "2023-09-14T00:00:00",
          "2023-09-15T00:00:00",
          "2023-09-18T00:00:00",
          "2023-09-19T00:00:00",
          "2023-09-20T00:00:00",
          "2023-09-21T00:00:00",
          "2023-09-22T00:00:00",
          "2023-09-25T00:00:00",
          "2023-09-26T00:00:00",
          "2023-09-27T00:00:00",
          "2023-09-28T00:00:00",
          "2023-09-29T00:00:00",
          "2023-10-02T00:00:00",
          "2023-10-03T00:00:00",
          "2023-10-04T00:00:00",
          "2023-10-05T00:00:00",
          "2023-10-06T00:00:00",
          "2023-10-09T00:00:00",
          "2023-10-10T00:00:00",
          "2023-10-11T00:00:00",
          "2023-10-12T00:00:00",
          "2023-10-13T00:00:00",
          "2023-10-16T00:00:00",
          "2023-10-17T00:00:00",
          "2023-10-18T00:00:00",
          "2023-10-19T00:00:00",
          "2023-10-20T00:00:00",
          "2023-10-23T00:00:00",
          "2023-10-24T00:00:00",
          "2023-10-25T00:00:00",
          "2023-10-26T00:00:00",
          "2023-10-27T00:00:00",
          "2023-10-30T00:00:00",
          "2023-10-31T00:00:00",
          "2023-11-01T00:00:00",
          "2023-11-02T00:00:00",
          "2023-11-03T00:00:00",
          "2023-11-06T00:00:00",
          "2023-11-07T00:00:00",
          "2023-11-08T00:00:00",
          "2023-11-09T00:00:00",
          "2023-11-10T00:00:00",
          "2023-11-13T00:00:00",
          "2023-11-14T00:00:00",
          "2023-11-15T00:00:00",
          "2023-11-16T00:00:00",
          "2023-11-17T00:00:00",
          "2023-11-20T00:00:00",
          "2023-11-21T00:00:00",
          "2023-11-22T00:00:00",
          "2023-11-24T00:00:00",
          "2023-11-27T00:00:00",
          "2023-11-28T00:00:00",
          "2023-11-29T00:00:00",
          "2023-11-30T00:00:00",
          "2023-12-01T00:00:00",
          "2023-12-04T00:00:00",
          "2023-12-05T00:00:00",
          "2023-12-06T00:00:00",
          "2023-12-07T00:00:00",
          "2023-12-08T00:00:00",
          "2023-12-11T00:00:00",
          "2023-12-12T00:00:00",
          "2023-12-13T00:00:00",
          "2023-12-14T00:00:00",
          "2023-12-15T00:00:00",
          "2023-12-18T00:00:00",
          "2023-12-19T00:00:00",
          "2023-12-20T00:00:00",
          "2023-12-21T00:00:00",
          "2023-12-22T00:00:00",
          "2023-12-26T00:00:00",
          "2023-12-27T00:00:00",
          "2023-12-28T00:00:00",
          "2023-12-29T00:00:00"
         ],
         "y": [
          236.60923767089844,
          226.2591857910156,
          219.5533599853516,
          222.1408843994141,
          224.30372619628903,
          226.01226806640625,
          232.84646606445312,
          235.552490234375,
          236.2635498046875,
          237.3696746826172,
          232.88595581054688,
          229.0540771484375,
          237.2412872314453,
          239.57200622558597,
          239.0387115478516,
          237.62643432617188,
          244.92481994628903,
          245.0828399658203,
          239.70042419433597,
          244.73716735839844,
          249.6159210205078,
          261.3189392089844,
          255.1464691162109,
          253.5860595703125,
          264.2422790527344,
          263.4225769042969,
          260.35113525390625,
          259.83758544921875,
          267.95562744140625,
          268.79510498046875,
          266.64666748046875,
          259.5478210449219,
          255.49839782714844,
          250.1619110107422,
          249.013427734375,
          252.2410888671875,
          246.74615478515625,
          247.6768341064453,
          246.94418334960935,
          243.8254547119141,
          248.61740112304688,
          252.75588989257807,
          254.3202362060547,
          251.62722778320312,
          251.18170166015625,
          249.81539916992188,
          246.12242126464844,
          251.3995056152344,
          258.20135498046875,
          262.8051452636719,
          273.4583435058594,
          276.6562805175781,
          269.5277709960937,
          271.0623474121094,
          269.5871887207031,
          274.9039001464844,
          277.7850036621094,
          273.6365966796875,
          272.4979858398437,
          277.7255859375,
          281.2304077148437,
          285.4382019042969,
          284.37890625,
          284.329345703125,
          281.5175170898437,
          288.7054443359375,
          286.5174255371094,
          280.0225524902344,
          280.6759948730469,
          286.9629211425781,
          283.2997131347656,
          285.93328857421875,
          285.50750732421875,
          285.5867614746094,
          283.2699890136719,
          282.92352294921875,
          278.9730529785156,
          272.6861267089844,
          292.4380798339844,
          301.8041687011719,
          304.2100524902344,
          302.5269470214844,
          302.37841796875,
          301.3784484863281,
          302.37841796875,
          307.56640625,
          305.58624267578125,
          303.95263671875,
          309.2098999023437,
          307.03173828125,
          305.903076171875,
          306.3882141113281,
          308.64556884765625,
          311.5627746582031,
          316.0476989746094,
          315.8690490722656,
          318.68701171875,
          312.81298828125,
          311.4139404296875,
          323.3902587890625,
          330.3061218261719,
          328.63916015625,
          325.841064453125,
          329.99853515625,
          332.79669189453125,
          333.3324584960937,
          331.0899963378906,
          320.86993408203125,
          322.7353820800781,
          324.25347900390625,
          329.2742004394531,
          331.6952819824219,
          334.7215576171875,
          345.3980712890625,
          339.6728210449219,
          335.4260559082031,
          330.9709167480469,
          337.0732116699219,
          332.41961669921875,
          326.0494384765625,
          331.9730834960937,
          333.2431640625,
          332.4493713378906,
          337.89678955078125,
          335.36651611328125,
          335.5252990722656,
          338.6210327148437,
          334.6024780273437,
          329.2543334960937,
          329.8893737792969,
          334.5827331542969,
          340.0002746582031,
          342.56024169921875,
          343.04644775390625,
          356.6996154785156,
          352.3238830566406,
          344.1776123046875,
          341.1016540527344,
          342.4312438964844,
          348.2557067871094,
          335.1482238769531,
          328.1529846191406,
          335.7435913085937,
          333.3126220703125,
          333.7293395996094,
          324.9579467773437,
          324.1244812011719,
          325.2357788085937,
          327.5476989746094,
          323.5191955566406,
          319.7288818359375,
          320.4234313964844,
          318.5183410644531,
          321.5248718261719,
          319.3617248535156,
          318.586181640625,
          315.0860900878906,
          314.6883850097656,
          320.05780029296875,
          320.6344909667969,
          325.1488037109375,
          318.1585998535156,
          321.1515808105469,
          321.86749267578125,
          326.5508117675781,
          326.9286804199219,
          325.9045104980469,
          326.79937744140625,
          331.6617126464844,
          330.9955139160156,
          328.0423583984375,
          332.37762451171875,
          336.0268859863281,
          329.89178466796875,
          334.15753173828125,
          336.7825622558594,
          328.3505859375,
          327.1971435546875,
          326.7894592285156,
          318.9540405273437,
          317.7210693359375,
          315.21539306640625,
          315.74237060546875,
          310.3729248046875,
          311.0192565917969,
          311.8644714355469,
          313.9624938964844,
          319.97821044921875,
          311.6158752441406,
          317.1543273925781,
          317.5520324707031,
          325.4073486328125,
          327.9528503417969,
          326.53094482421875,
          330.53814697265625,
          329.2852478027344,
          325.8746643066406,
          330.7568664550781,
          330.1801452636719,
          328.2411804199219,
          329.4443359375,
          324.8207092285156,
          327.4556884765625,
          328.6588134765625,
          338.7414245605469,
          326.0337829589844,
          327.9429016113281,
          335.4004211425781,
          336.1958923339844,
          344.11083984375,
          346.3481140136719,
          350.802734375,
          354.5116271972656,
          358.489013671875,
          361.1438598632813,
          358.6480712890625,
          367.5772399902344,
          364.6041870117188,
          368.173828125,
          368.32330322265625,
          374.7996520996094,
          368.5026550292969,
          376.0650024414063,
          371.7109069824219,
          376.4735107421875,
          376.0549926757813,
          377.230712890625,
          381.3058471679688,
          377.4698486328125,
          377.5296325683594,
          373.1456604003906,
          367.7952575683594,
          371.1629028320313,
          367.4564514160156,
          369.5986328125,
          372.86669921875,
          369.94732666015625,
          373.0161437988281,
          373.0061645507813,
          364.596923828125,
          369.3794555664063,
          371.29241943359375,
          371.9002380371094,
          369.2698364257813,
          372.1792297363281,
          373.2153930664063,
          373.2951354980469,
          372.707275390625,
          373.912841796875,
          374.6700744628906
         ]
        },
        {
         "marker": {
          "color": "green",
          "size": 10,
          "symbol": "triangle-up"
         },
         "mode": "markers",
         "name": "Buy Signal",
         "type": "scatter",
         "x": [
          "2023-01-03T00:00:00",
          "2023-01-04T00:00:00",
          "2023-01-05T00:00:00",
          "2023-01-06T00:00:00",
          "2023-01-09T00:00:00",
          "2023-01-10T00:00:00",
          "2023-01-11T00:00:00",
          "2023-01-18T00:00:00",
          "2023-01-19T00:00:00",
          "2023-02-17T00:00:00",
          "2023-02-21T00:00:00",
          "2023-02-22T00:00:00",
          "2023-02-23T00:00:00",
          "2023-02-24T00:00:00",
          "2023-02-27T00:00:00",
          "2023-02-28T00:00:00",
          "2023-03-01T00:00:00",
          "2023-03-02T00:00:00",
          "2023-03-03T00:00:00",
          "2023-03-06T00:00:00",
          "2023-03-07T00:00:00",
          "2023-03-08T00:00:00",
          "2023-03-09T00:00:00",
          "2023-03-10T00:00:00",
          "2023-03-13T00:00:00",
          "2023-04-20T00:00:00",
          "2023-04-21T00:00:00",
          "2023-04-24T00:00:00",
          "2023-04-25T00:00:00",
          "2023-06-07T00:00:00",
          "2023-06-26T00:00:00",
          "2023-06-27T00:00:00",
          "2023-06-29T00:00:00",
          "2023-07-07T00:00:00",
          "2023-07-10T00:00:00",
          "2023-07-11T00:00:00",
          "2023-07-12T00:00:00",
          "2023-07-26T00:00:00",
          "2023-07-27T00:00:00",
          "2023-07-28T00:00:00",
          "2023-07-31T00:00:00",
          "2023-08-01T00:00:00",
          "2023-08-02T00:00:00",
          "2023-08-03T00:00:00",
          "2023-08-04T00:00:00",
          "2023-08-07T00:00:00",
          "2023-08-08T00:00:00",
          "2023-08-09T00:00:00",
          "2023-08-10T00:00:00",
          "2023-08-11T00:00:00",
          "2023-08-14T00:00:00",
          "2023-08-15T00:00:00",
          "2023-08-16T00:00:00",
          "2023-08-17T00:00:00",
          "2023-08-18T00:00:00",
          "2023-08-21T00:00:00",
          "2023-08-22T00:00:00",
          "2023-08-23T00:00:00",
          "2023-08-24T00:00:00",
          "2023-08-25T00:00:00",
          "2023-08-28T00:00:00",
          "2023-09-15T00:00:00",
          "2023-09-18T00:00:00",
          "2023-09-19T00:00:00",
          "2023-09-20T00:00:00",
          "2023-09-21T00:00:00",
          "2023-09-22T00:00:00",
          "2023-09-25T00:00:00",
          "2023-09-26T00:00:00",
          "2023-09-27T00:00:00",
          "2023-09-28T00:00:00",
          "2023-09-29T00:00:00",
          "2023-10-02T00:00:00",
          "2023-10-03T00:00:00",
          "2023-10-04T00:00:00",
          "2023-10-05T00:00:00",
          "2023-10-20T00:00:00",
          "2023-10-26T00:00:00",
          "2023-12-04T00:00:00",
          "2023-12-05T00:00:00",
          "2023-12-06T00:00:00",
          "2023-12-07T00:00:00",
          "2023-12-08T00:00:00",
          "2023-12-11T00:00:00",
          "2023-12-12T00:00:00",
          "2023-12-13T00:00:00",
          "2023-12-14T00:00:00",
          "2023-12-15T00:00:00",
          "2023-12-18T00:00:00",
          "2023-12-19T00:00:00",
          "2023-12-20T00:00:00",
          "2023-12-21T00:00:00",
          "2023-12-22T00:00:00",
          "2023-12-26T00:00:00",
          "2023-12-27T00:00:00",
          "2023-12-28T00:00:00"
         ],
         "y": [
          236.60923767089844,
          226.2591857910156,
          219.5533599853516,
          222.1408843994141,
          224.30372619628903,
          226.01226806640625,
          232.84646606445312,
          232.88595581054688,
          229.0540771484375,
          255.49839782714844,
          250.1619110107422,
          249.013427734375,
          252.2410888671875,
          246.74615478515625,
          247.6768341064453,
          246.94418334960935,
          243.8254547119141,
          248.61740112304688,
          252.75588989257807,
          254.3202362060547,
          251.62722778320312,
          251.18170166015625,
          249.81539916992188,
          246.12242126464844,
          251.3995056152344,
          283.2699890136719,
          282.92352294921875,
          278.9730529785156,
          272.6861267089844,
          320.86993408203125,
          326.0494384765625,
          331.9730834960937,
          332.4493713378906,
          334.6024780273437,
          329.2543334960937,
          329.8893737792969,
          334.5827331542969,
          335.1482238769531,
          328.1529846191406,
          335.7435913085937,
          333.3126220703125,
          333.7293395996094,
          324.9579467773437,
          324.1244812011719,
          325.2357788085937,
          327.5476989746094,
          323.5191955566406,
          319.7288818359375,
          320.4234313964844,
          318.5183410644531,
          321.5248718261719,
          319.3617248535156,
          318.586181640625,
          315.0860900878906,
          314.6883850097656,
          320.05780029296875,
          320.6344909667969,
          325.1488037109375,
          318.1585998535156,
          321.1515808105469,
          321.86749267578125,
          328.3505859375,
          327.1971435546875,
          326.7894592285156,
          318.9540405273437,
          317.7210693359375,
          315.21539306640625,
          315.74237060546875,
          310.3729248046875,
          311.0192565917969,
          311.8644714355469,
          313.9624938964844,
          319.97821044921875,
          311.6158752441406,
          317.1543273925781,
          317.5520324707031,
          324.8207092285156,
          326.0337829589844,
          367.7952575683594,
          371.1629028320313,
          367.4564514160156,
          369.5986328125,
          372.86669921875,
          369.94732666015625,
          373.0161437988281,
          373.0061645507813,
          364.596923828125,
          369.3794555664063,
          371.29241943359375,
          371.9002380371094,
          369.2698364257813,
          372.1792297363281,
          373.2153930664063,
          373.2951354980469,
          372.707275390625,
          373.912841796875
         ]
        },
        {
         "marker": {
          "color": "red",
          "size": 10,
          "symbol": "triangle-down"
         },
         "mode": "markers",
         "name": "Sell Signal",
         "type": "scatter",
         "x": [
          "2023-01-12T00:00:00",
          "2023-01-13T00:00:00",
          "2023-01-17T00:00:00",
          "2023-01-20T00:00:00",
          "2023-01-23T00:00:00",
          "2023-01-24T00:00:00",
          "2023-01-25T00:00:00",
          "2023-01-26T00:00:00",
          "2023-01-27T00:00:00",
          "2023-01-30T00:00:00",
          "2023-01-31T00:00:00",
          "2023-02-01T00:00:00",
          "2023-02-02T00:00:00",
          "2023-02-03T00:00:00",
          "2023-02-06T00:00:00",
          "2023-02-07T00:00:00",
          "2023-02-08T00:00:00",
          "2023-02-09T00:00:00",
          "2023-02-10T00:00:00",
          "2023-02-13T00:00:00",
          "2023-02-14T00:00:00",
          "2023-02-15T00:00:00",
          "2023-02-16T00:00:00",
          "2023-03-14T00:00:00",
          "2023-03-15T00:00:00",
          "2023-03-16T00:00:00",
          "2023-03-17T00:00:00",
          "2023-03-20T00:00:00",
          "2023-03-21T00:00:00",
          "2023-03-22T00:00:00",
          "2023-03-23T00:00:00",
          "2023-03-24T00:00:00",
          "2023-03-27T00:00:00",
          "2023-03-28T00:00:00",
          "2023-03-29T00:00:00",
          "2023-03-30T00:00:00",
          "2023-03-31T00:00:00",
          "2023-04-03T00:00:00",
          "2023-04-04T00:00:00",
          "2023-04-05T00:00:00",
          "2023-04-06T00:00:00",
          "2023-04-10T00:00:00",
          "2023-04-11T00:00:00",
          "2023-04-12T00:00:00",
          "2023-04-13T00:00:00",
          "2023-04-14T00:00:00",
          "2023-04-17T00:00:00",
          "2023-04-18T00:00:00",
          "2023-04-19T00:00:00",
          "2023-04-26T00:00:00",
          "2023-04-27T00:00:00",
          "2023-04-28T00:00:00",
          "2023-05-01T00:00:00",
          "2023-05-02T00:00:00",
          "2023-05-03T00:00:00",
          "2023-05-04T00:00:00",
          "2023-05-05T00:00:00",
          "2023-05-08T00:00:00",
          "2023-05-09T00:00:00",
          "2023-05-10T00:00:00",
          "2023-05-11T00:00:00",
          "2023-05-12T00:00:00",
          "2023-05-15T00:00:00",
          "2023-05-16T00:00:00",
          "2023-05-17T00:00:00",
          "2023-05-18T00:00:00",
          "2023-05-19T00:00:00",
          "2023-05-22T00:00:00",
          "2023-05-23T00:00:00",
          "2023-05-24T00:00:00",
          "2023-05-25T00:00:00",
          "2023-05-26T00:00:00",
          "2023-05-30T00:00:00",
          "2023-05-31T00:00:00",
          "2023-06-01T00:00:00",
          "2023-06-02T00:00:00",
          "2023-06-05T00:00:00",
          "2023-06-06T00:00:00",
          "2023-06-08T00:00:00",
          "2023-06-09T00:00:00",
          "2023-06-12T00:00:00",
          "2023-06-13T00:00:00",
          "2023-06-14T00:00:00",
          "2023-06-15T00:00:00",
          "2023-06-16T00:00:00",
          "2023-06-20T00:00:00",
          "2023-06-21T00:00:00",
          "2023-06-22T00:00:00",
          "2023-06-23T00:00:00",
          "2023-06-28T00:00:00",
          "2023-06-30T00:00:00",
          "2023-07-03T00:00:00",
          "2023-07-05T00:00:00",
          "2023-07-06T00:00:00",
          "2023-07-13T00:00:00",
          "2023-07-14T00:00:00",
          "2023-07-17T00:00:00",
          "2023-07-18T00:00:00",
          "2023-07-19T00:00:00",
          "2023-07-20T00:00:00",
          "2023-07-21T00:00:00",
          "2023-07-24T00:00:00",
          "2023-07-25T00:00:00",
          "2023-08-29T00:00:00",
          "2023-08-30T00:00:00",
          "2023-08-31T00:00:00",
          "2023-09-01T00:00:00",
          "2023-09-05T00:00:00",
          "2023-09-06T00:00:00",
          "2023-09-07T00:00:00",
          "2023-09-08T00:00:00",
          "2023-09-11T00:00:00",
          "2023-09-12T00:00:00",
          "2023-09-13T00:00:00",
          "2023-09-14T00:00:00",
          "2023-10-06T00:00:00",
          "2023-10-09T00:00:00",
          "2023-10-10T00:00:00",
          "2023-10-11T00:00:00",
          "2023-10-12T00:00:00",
          "2023-10-13T00:00:00",
          "2023-10-16T00:00:00",
          "2023-10-17T00:00:00",
          "2023-10-18T00:00:00",
          "2023-10-19T00:00:00",
          "2023-10-23T00:00:00",
          "2023-10-24T00:00:00",
          "2023-10-25T00:00:00",
          "2023-10-27T00:00:00",
          "2023-10-30T00:00:00",
          "2023-10-31T00:00:00",
          "2023-11-01T00:00:00",
          "2023-11-02T00:00:00",
          "2023-11-03T00:00:00",
          "2023-11-06T00:00:00",
          "2023-11-07T00:00:00",
          "2023-11-08T00:00:00",
          "2023-11-09T00:00:00",
          "2023-11-10T00:00:00",
          "2023-11-13T00:00:00",
          "2023-11-14T00:00:00",
          "2023-11-15T00:00:00",
          "2023-11-16T00:00:00",
          "2023-11-17T00:00:00",
          "2023-11-20T00:00:00",
          "2023-11-21T00:00:00",
          "2023-11-22T00:00:00",
          "2023-11-24T00:00:00",
          "2023-11-27T00:00:00",
          "2023-11-28T00:00:00",
          "2023-11-29T00:00:00",
          "2023-11-30T00:00:00",
          "2023-12-01T00:00:00",
          "2023-12-29T00:00:00"
         ],
         "y": [
          235.552490234375,
          236.2635498046875,
          237.3696746826172,
          237.2412872314453,
          239.57200622558597,
          239.0387115478516,
          237.62643432617188,
          244.92481994628903,
          245.0828399658203,
          239.70042419433597,
          244.73716735839844,
          249.6159210205078,
          261.3189392089844,
          255.1464691162109,
          253.5860595703125,
          264.2422790527344,
          263.4225769042969,
          260.35113525390625,
          259.83758544921875,
          267.95562744140625,
          268.79510498046875,
          266.64666748046875,
          259.5478210449219,
          258.20135498046875,
          262.8051452636719,
          273.4583435058594,
          276.6562805175781,
          269.5277709960937,
          271.0623474121094,
          269.5871887207031,
          274.9039001464844,
          277.7850036621094,
          273.6365966796875,
          272.4979858398437,
          277.7255859375,
          281.2304077148437,
          285.4382019042969,
          284.37890625,
          284.329345703125,
          281.5175170898437,
          288.7054443359375,
          286.5174255371094,
          280.0225524902344,
          280.6759948730469,
          286.9629211425781,
          283.2997131347656,
          285.93328857421875,
          285.50750732421875,
          285.5867614746094,
          292.4380798339844,
          301.8041687011719,
          304.2100524902344,
          302.5269470214844,
          302.37841796875,
          301.3784484863281,
          302.37841796875,
          307.56640625,
          305.58624267578125,
          303.95263671875,
          309.2098999023437,
          307.03173828125,
          305.903076171875,
          306.3882141113281,
          308.64556884765625,
          311.5627746582031,
          316.0476989746094,
          315.8690490722656,
          318.68701171875,
          312.81298828125,
          311.4139404296875,
          323.3902587890625,
          330.3061218261719,
          328.63916015625,
          325.841064453125,
          329.99853515625,
          332.79669189453125,
          333.3324584960937,
          331.0899963378906,
          322.7353820800781,
          324.25347900390625,
          329.2742004394531,
          331.6952819824219,
          334.7215576171875,
          345.3980712890625,
          339.6728210449219,
          335.4260559082031,
          330.9709167480469,
          337.0732116699219,
          332.41961669921875,
          333.2431640625,
          337.89678955078125,
          335.36651611328125,
          335.5252990722656,
          338.6210327148437,
          340.0002746582031,
          342.56024169921875,
          343.04644775390625,
          356.6996154785156,
          352.3238830566406,
          344.1776123046875,
          341.1016540527344,
          342.4312438964844,
          348.2557067871094,
          326.5508117675781,
          326.9286804199219,
          325.9045104980469,
          326.79937744140625,
          331.6617126464844,
          330.9955139160156,
          328.0423583984375,
          332.37762451171875,
          336.0268859863281,
          329.89178466796875,
          334.15753173828125,
          336.7825622558594,
          325.4073486328125,
          327.9528503417969,
          326.53094482421875,
          330.53814697265625,
          329.2852478027344,
          325.8746643066406,
          330.7568664550781,
          330.1801452636719,
          328.2411804199219,
          329.4443359375,
          327.4556884765625,
          328.6588134765625,
          338.7414245605469,
          327.9429016113281,
          335.4004211425781,
          336.1958923339844,
          344.11083984375,
          346.3481140136719,
          350.802734375,
          354.5116271972656,
          358.489013671875,
          361.1438598632813,
          358.6480712890625,
          367.5772399902344,
          364.6041870117188,
          368.173828125,
          368.32330322265625,
          374.7996520996094,
          368.5026550292969,
          376.0650024414063,
          371.7109069824219,
          376.4735107421875,
          376.0549926757813,
          377.230712890625,
          381.3058471679688,
          377.4698486328125,
          377.5296325683594,
          373.1456604003906,
          374.6700744628906
         ]
        }
       ],
       "layout": {
        "height": 600,
        "legend": {
         "x": 0,
         "y": 1
        },
        "template": {
         "data": {
          "bar": [
           {
            "error_x": {
             "color": "#f2f5fa"
            },
            "error_y": {
             "color": "#f2f5fa"
            },
            "marker": {
             "line": {
              "color": "rgb(17,17,17)",
              "width": 0.5
             },
             "pattern": {
              "fillmode": "overlay",
              "size": 10,
              "solidity": 0.2
             }
            },
            "type": "bar"
           }
          ],
          "barpolar": [
           {
            "marker": {
             "line": {
              "color": "rgb(17,17,17)",
              "width": 0.5
             },
             "pattern": {
              "fillmode": "overlay",
              "size": 10,
              "solidity": 0.2
             }
            },
            "type": "barpolar"
           }
          ],
          "carpet": [
           {
            "aaxis": {
             "endlinecolor": "#A2B1C6",
             "gridcolor": "#506784",
             "linecolor": "#506784",
             "minorgridcolor": "#506784",
             "startlinecolor": "#A2B1C6"
            },
            "baxis": {
             "endlinecolor": "#A2B1C6",
             "gridcolor": "#506784",
             "linecolor": "#506784",
             "minorgridcolor": "#506784",
             "startlinecolor": "#A2B1C6"
            },
            "type": "carpet"
           }
          ],
          "choropleth": [
           {
            "colorbar": {
             "outlinewidth": 0,
             "ticks": ""
            },
            "type": "choropleth"
           }
          ],
          "contour": [
           {
            "colorbar": {
             "outlinewidth": 0,
             "ticks": ""
            },
            "colorscale": [
             [
              0,
              "#0d0887"
             ],
             [
              0.1111111111111111,
              "#46039f"
             ],
             [
              0.2222222222222222,
              "#7201a8"
             ],
             [
              0.3333333333333333,
              "#9c179e"
             ],
             [
              0.4444444444444444,
              "#bd3786"
             ],
             [
              0.5555555555555556,
              "#d8576b"
             ],
             [
              0.6666666666666666,
              "#ed7953"
             ],
             [
              0.7777777777777778,
              "#fb9f3a"
             ],
             [
              0.8888888888888888,
              "#fdca26"
             ],
             [
              1,
              "#f0f921"
             ]
            ],
            "type": "contour"
           }
          ],
          "contourcarpet": [
           {
            "colorbar": {
             "outlinewidth": 0,
             "ticks": ""
            },
            "type": "contourcarpet"
           }
          ],
          "heatmap": [
           {
            "colorbar": {
             "outlinewidth": 0,
             "ticks": ""
            },
            "colorscale": [
             [
              0,
              "#0d0887"
             ],
             [
              0.1111111111111111,
              "#46039f"
             ],
             [
              0.2222222222222222,
              "#7201a8"
             ],
             [
              0.3333333333333333,
              "#9c179e"
             ],
             [
              0.4444444444444444,
              "#bd3786"
             ],
             [
              0.5555555555555556,
              "#d8576b"
             ],
             [
              0.6666666666666666,
              "#ed7953"
             ],
             [
              0.7777777777777778,
              "#fb9f3a"
             ],
             [
              0.8888888888888888,
              "#fdca26"
             ],
             [
              1,
              "#f0f921"
             ]
            ],
            "type": "heatmap"
           }
          ],
          "heatmapgl": [
           {
            "colorbar": {
             "outlinewidth": 0,
             "ticks": ""
            },
            "colorscale": [
             [
              0,
              "#0d0887"
             ],
             [
              0.1111111111111111,
              "#46039f"
             ],
             [
              0.2222222222222222,
              "#7201a8"
             ],
             [
              0.3333333333333333,
              "#9c179e"
             ],
             [
              0.4444444444444444,
              "#bd3786"
             ],
             [
              0.5555555555555556,
              "#d8576b"
             ],
             [
              0.6666666666666666,
              "#ed7953"
             ],
             [
              0.7777777777777778,
              "#fb9f3a"
             ],
             [
              0.8888888888888888,
              "#fdca26"
             ],
             [
              1,
              "#f0f921"
             ]
            ],
            "type": "heatmapgl"
           }
          ],
          "histogram": [
           {
            "marker": {
             "pattern": {
              "fillmode": "overlay",
              "size": 10,
              "solidity": 0.2
             }
            },
            "type": "histogram"
           }
          ],
          "histogram2d": [
           {
            "colorbar": {
             "outlinewidth": 0,
             "ticks": ""
            },
            "colorscale": [
             [
              0,
              "#0d0887"
             ],
             [
              0.1111111111111111,
              "#46039f"
             ],
             [
              0.2222222222222222,
              "#7201a8"
             ],
             [
              0.3333333333333333,
              "#9c179e"
             ],
             [
              0.4444444444444444,
              "#bd3786"
             ],
             [
              0.5555555555555556,
              "#d8576b"
             ],
             [
              0.6666666666666666,
              "#ed7953"
             ],
             [
              0.7777777777777778,
              "#fb9f3a"
             ],
             [
              0.8888888888888888,
              "#fdca26"
             ],
             [
              1,
              "#f0f921"
             ]
            ],
            "type": "histogram2d"
           }
          ],
          "histogram2dcontour": [
           {
            "colorbar": {
             "outlinewidth": 0,
             "ticks": ""
            },
            "colorscale": [
             [
              0,
              "#0d0887"
             ],
             [
              0.1111111111111111,
              "#46039f"
             ],
             [
              0.2222222222222222,
              "#7201a8"
             ],
             [
              0.3333333333333333,
              "#9c179e"
             ],
             [
              0.4444444444444444,
              "#bd3786"
             ],
             [
              0.5555555555555556,
              "#d8576b"
             ],
             [
              0.6666666666666666,
              "#ed7953"
             ],
             [
              0.7777777777777778,
              "#fb9f3a"
             ],
             [
              0.8888888888888888,
              "#fdca26"
             ],
             [
              1,
              "#f0f921"
             ]
            ],
            "type": "histogram2dcontour"
           }
          ],
          "mesh3d": [
           {
            "colorbar": {
             "outlinewidth": 0,
             "ticks": ""
            },
            "type": "mesh3d"
           }
          ],
          "parcoords": [
           {
            "line": {
             "colorbar": {
              "outlinewidth": 0,
              "ticks": ""
             }
            },
            "type": "parcoords"
           }
          ],
          "pie": [
           {
            "automargin": true,
            "type": "pie"
           }
          ],
          "scatter": [
           {
            "marker": {
             "line": {
              "color": "#283442"
             }
            },
            "type": "scatter"
           }
          ],
          "scatter3d": [
           {
            "line": {
             "colorbar": {
              "outlinewidth": 0,
              "ticks": ""
             }
            },
            "marker": {
             "colorbar": {
              "outlinewidth": 0,
              "ticks": ""
             }
            },
            "type": "scatter3d"
           }
          ],
          "scattercarpet": [
           {
            "marker": {
             "colorbar": {
              "outlinewidth": 0,
              "ticks": ""
             }
            },
            "type": "scattercarpet"
           }
          ],
          "scattergeo": [
           {
            "marker": {
             "colorbar": {
              "outlinewidth": 0,
              "ticks": ""
             }
            },
            "type": "scattergeo"
           }
          ],
          "scattergl": [
           {
            "marker": {
             "line": {
              "color": "#283442"
             }
            },
            "type": "scattergl"
           }
          ],
          "scattermapbox": [
           {
            "marker": {
             "colorbar": {
              "outlinewidth": 0,
              "ticks": ""
             }
            },
            "type": "scattermapbox"
           }
          ],
          "scatterpolar": [
           {
            "marker": {
             "colorbar": {
              "outlinewidth": 0,
              "ticks": ""
             }
            },
            "type": "scatterpolar"
           }
          ],
          "scatterpolargl": [
           {
            "marker": {
             "colorbar": {
              "outlinewidth": 0,
              "ticks": ""
             }
            },
            "type": "scatterpolargl"
           }
          ],
          "scatterternary": [
           {
            "marker": {
             "colorbar": {
              "outlinewidth": 0,
              "ticks": ""
             }
            },
            "type": "scatterternary"
           }
          ],
          "surface": [
           {
            "colorbar": {
             "outlinewidth": 0,
             "ticks": ""
            },
            "colorscale": [
             [
              0,
              "#0d0887"
             ],
             [
              0.1111111111111111,
              "#46039f"
             ],
             [
              0.2222222222222222,
              "#7201a8"
             ],
             [
              0.3333333333333333,
              "#9c179e"
             ],
             [
              0.4444444444444444,
              "#bd3786"
             ],
             [
              0.5555555555555556,
              "#d8576b"
             ],
             [
              0.6666666666666666,
              "#ed7953"
             ],
             [
              0.7777777777777778,
              "#fb9f3a"
             ],
             [
              0.8888888888888888,
              "#fdca26"
             ],
             [
              1,
              "#f0f921"
             ]
            ],
            "type": "surface"
           }
          ],
          "table": [
           {
            "cells": {
             "fill": {
              "color": "#506784"
             },
             "line": {
              "color": "rgb(17,17,17)"
             }
            },
            "header": {
             "fill": {
              "color": "#2a3f5f"
             },
             "line": {
              "color": "rgb(17,17,17)"
             }
            },
            "type": "table"
           }
          ]
         },
         "layout": {
          "annotationdefaults": {
           "arrowcolor": "#f2f5fa",
           "arrowhead": 0,
           "arrowwidth": 1
          },
          "autotypenumbers": "strict",
          "coloraxis": {
           "colorbar": {
            "outlinewidth": 0,
            "ticks": ""
           }
          },
          "colorscale": {
           "diverging": [
            [
             0,
             "#8e0152"
            ],
            [
             0.1,
             "#c51b7d"
            ],
            [
             0.2,
             "#de77ae"
            ],
            [
             0.3,
             "#f1b6da"
            ],
            [
             0.4,
             "#fde0ef"
            ],
            [
             0.5,
             "#f7f7f7"
            ],
            [
             0.6,
             "#e6f5d0"
            ],
            [
             0.7,
             "#b8e186"
            ],
            [
             0.8,
             "#7fbc41"
            ],
            [
             0.9,
             "#4d9221"
            ],
            [
             1,
             "#276419"
            ]
           ],
           "sequential": [
            [
             0,
             "#0d0887"
            ],
            [
             0.1111111111111111,
             "#46039f"
            ],
            [
             0.2222222222222222,
             "#7201a8"
            ],
            [
             0.3333333333333333,
             "#9c179e"
            ],
            [
             0.4444444444444444,
             "#bd3786"
            ],
            [
             0.5555555555555556,
             "#d8576b"
            ],
            [
             0.6666666666666666,
             "#ed7953"
            ],
            [
             0.7777777777777778,
             "#fb9f3a"
            ],
            [
             0.8888888888888888,
             "#fdca26"
            ],
            [
             1,
             "#f0f921"
            ]
           ],
           "sequentialminus": [
            [
             0,
             "#0d0887"
            ],
            [
             0.1111111111111111,
             "#46039f"
            ],
            [
             0.2222222222222222,
             "#7201a8"
            ],
            [
             0.3333333333333333,
             "#9c179e"
            ],
            [
             0.4444444444444444,
             "#bd3786"
            ],
            [
             0.5555555555555556,
             "#d8576b"
            ],
            [
             0.6666666666666666,
             "#ed7953"
            ],
            [
             0.7777777777777778,
             "#fb9f3a"
            ],
            [
             0.8888888888888888,
             "#fdca26"
            ],
            [
             1,
             "#f0f921"
            ]
           ]
          },
          "colorway": [
           "#636efa",
           "#EF553B",
           "#00cc96",
           "#ab63fa",
           "#FFA15A",
           "#19d3f3",
           "#FF6692",
           "#B6E880",
           "#FF97FF",
           "#FECB52"
          ],
          "font": {
           "color": "#f2f5fa"
          },
          "geo": {
           "bgcolor": "rgb(17,17,17)",
           "lakecolor": "rgb(17,17,17)",
           "landcolor": "rgb(17,17,17)",
           "showlakes": true,
           "showland": true,
           "subunitcolor": "#506784"
          },
          "hoverlabel": {
           "align": "left"
          },
          "hovermode": "closest",
          "mapbox": {
           "style": "dark"
          },
          "paper_bgcolor": "rgb(17,17,17)",
          "plot_bgcolor": "rgb(17,17,17)",
          "polar": {
           "angularaxis": {
            "gridcolor": "#506784",
            "linecolor": "#506784",
            "ticks": ""
           },
           "bgcolor": "rgb(17,17,17)",
           "radialaxis": {
            "gridcolor": "#506784",
            "linecolor": "#506784",
            "ticks": ""
           }
          },
          "scene": {
           "xaxis": {
            "backgroundcolor": "rgb(17,17,17)",
            "gridcolor": "#506784",
            "gridwidth": 2,
            "linecolor": "#506784",
            "showbackground": true,
            "ticks": "",
            "zerolinecolor": "#C8D4E3"
           },
           "yaxis": {
            "backgroundcolor": "rgb(17,17,17)",
            "gridcolor": "#506784",
            "gridwidth": 2,
            "linecolor": "#506784",
            "showbackground": true,
            "ticks": "",
            "zerolinecolor": "#C8D4E3"
           },
           "zaxis": {
            "backgroundcolor": "rgb(17,17,17)",
            "gridcolor": "#506784",
            "gridwidth": 2,
            "linecolor": "#506784",
            "showbackground": true,
            "ticks": "",
            "zerolinecolor": "#C8D4E3"
           }
          },
          "shapedefaults": {
           "line": {
            "color": "#f2f5fa"
           }
          },
          "sliderdefaults": {
           "bgcolor": "#C8D4E3",
           "bordercolor": "rgb(17,17,17)",
           "borderwidth": 1,
           "tickwidth": 0
          },
          "ternary": {
           "aaxis": {
            "gridcolor": "#506784",
            "linecolor": "#506784",
            "ticks": ""
           },
           "baxis": {
            "gridcolor": "#506784",
            "linecolor": "#506784",
            "ticks": ""
           },
           "bgcolor": "rgb(17,17,17)",
           "caxis": {
            "gridcolor": "#506784",
            "linecolor": "#506784",
            "ticks": ""
           }
          },
          "title": {
           "x": 0.05
          },
          "updatemenudefaults": {
           "bgcolor": "#506784",
           "borderwidth": 0
          },
          "xaxis": {
           "automargin": true,
           "gridcolor": "#283442",
           "linecolor": "#506784",
           "ticks": "",
           "title": {
            "standoff": 15
           },
           "zerolinecolor": "#283442",
           "zerolinewidth": 2
          },
          "yaxis": {
           "automargin": true,
           "gridcolor": "#283442",
           "linecolor": "#506784",
           "ticks": "",
           "title": {
            "standoff": 15
           },
           "zerolinecolor": "#283442",
           "zerolinewidth": 2
          }
         }
        },
        "title": {
         "text": "PFE Stock Analysis Logistic Signal"
        },
        "width": 1000,
        "xaxis": {
         "rangeslider": {
          "visible": true
         },
         "title": {
          "text": "Date"
         }
        },
        "yaxis": {
         "title": {
          "text": "Price"
         }
        }
       }
      }
     },
     "metadata": {},
     "output_type": "display_data"
    },
    {
     "name": "stdout",
     "output_type": "stream",
     "text": [
      "Gradient WMA RSI Signal : Final Profit: $1570.46, 15.7%\n"
     ]
    },
    {
     "data": {
      "application/vnd.plotly.v1+json": {
       "config": {
        "plotlyServerURL": "https://plot.ly"
       },
       "data": [
        {
         "line": {
          "color": "blue"
         },
         "mode": "lines",
         "name": "Adj Close",
         "type": "scatter",
         "x": [
          "2023-01-03T00:00:00",
          "2023-01-04T00:00:00",
          "2023-01-05T00:00:00",
          "2023-01-06T00:00:00",
          "2023-01-09T00:00:00",
          "2023-01-10T00:00:00",
          "2023-01-11T00:00:00",
          "2023-01-12T00:00:00",
          "2023-01-13T00:00:00",
          "2023-01-17T00:00:00",
          "2023-01-18T00:00:00",
          "2023-01-19T00:00:00",
          "2023-01-20T00:00:00",
          "2023-01-23T00:00:00",
          "2023-01-24T00:00:00",
          "2023-01-25T00:00:00",
          "2023-01-26T00:00:00",
          "2023-01-27T00:00:00",
          "2023-01-30T00:00:00",
          "2023-01-31T00:00:00",
          "2023-02-01T00:00:00",
          "2023-02-02T00:00:00",
          "2023-02-03T00:00:00",
          "2023-02-06T00:00:00",
          "2023-02-07T00:00:00",
          "2023-02-08T00:00:00",
          "2023-02-09T00:00:00",
          "2023-02-10T00:00:00",
          "2023-02-13T00:00:00",
          "2023-02-14T00:00:00",
          "2023-02-15T00:00:00",
          "2023-02-16T00:00:00",
          "2023-02-17T00:00:00",
          "2023-02-21T00:00:00",
          "2023-02-22T00:00:00",
          "2023-02-23T00:00:00",
          "2023-02-24T00:00:00",
          "2023-02-27T00:00:00",
          "2023-02-28T00:00:00",
          "2023-03-01T00:00:00",
          "2023-03-02T00:00:00",
          "2023-03-03T00:00:00",
          "2023-03-06T00:00:00",
          "2023-03-07T00:00:00",
          "2023-03-08T00:00:00",
          "2023-03-09T00:00:00",
          "2023-03-10T00:00:00",
          "2023-03-13T00:00:00",
          "2023-03-14T00:00:00",
          "2023-03-15T00:00:00",
          "2023-03-16T00:00:00",
          "2023-03-17T00:00:00",
          "2023-03-20T00:00:00",
          "2023-03-21T00:00:00",
          "2023-03-22T00:00:00",
          "2023-03-23T00:00:00",
          "2023-03-24T00:00:00",
          "2023-03-27T00:00:00",
          "2023-03-28T00:00:00",
          "2023-03-29T00:00:00",
          "2023-03-30T00:00:00",
          "2023-03-31T00:00:00",
          "2023-04-03T00:00:00",
          "2023-04-04T00:00:00",
          "2023-04-05T00:00:00",
          "2023-04-06T00:00:00",
          "2023-04-10T00:00:00",
          "2023-04-11T00:00:00",
          "2023-04-12T00:00:00",
          "2023-04-13T00:00:00",
          "2023-04-14T00:00:00",
          "2023-04-17T00:00:00",
          "2023-04-18T00:00:00",
          "2023-04-19T00:00:00",
          "2023-04-20T00:00:00",
          "2023-04-21T00:00:00",
          "2023-04-24T00:00:00",
          "2023-04-25T00:00:00",
          "2023-04-26T00:00:00",
          "2023-04-27T00:00:00",
          "2023-04-28T00:00:00",
          "2023-05-01T00:00:00",
          "2023-05-02T00:00:00",
          "2023-05-03T00:00:00",
          "2023-05-04T00:00:00",
          "2023-05-05T00:00:00",
          "2023-05-08T00:00:00",
          "2023-05-09T00:00:00",
          "2023-05-10T00:00:00",
          "2023-05-11T00:00:00",
          "2023-05-12T00:00:00",
          "2023-05-15T00:00:00",
          "2023-05-16T00:00:00",
          "2023-05-17T00:00:00",
          "2023-05-18T00:00:00",
          "2023-05-19T00:00:00",
          "2023-05-22T00:00:00",
          "2023-05-23T00:00:00",
          "2023-05-24T00:00:00",
          "2023-05-25T00:00:00",
          "2023-05-26T00:00:00",
          "2023-05-30T00:00:00",
          "2023-05-31T00:00:00",
          "2023-06-01T00:00:00",
          "2023-06-02T00:00:00",
          "2023-06-05T00:00:00",
          "2023-06-06T00:00:00",
          "2023-06-07T00:00:00",
          "2023-06-08T00:00:00",
          "2023-06-09T00:00:00",
          "2023-06-12T00:00:00",
          "2023-06-13T00:00:00",
          "2023-06-14T00:00:00",
          "2023-06-15T00:00:00",
          "2023-06-16T00:00:00",
          "2023-06-20T00:00:00",
          "2023-06-21T00:00:00",
          "2023-06-22T00:00:00",
          "2023-06-23T00:00:00",
          "2023-06-26T00:00:00",
          "2023-06-27T00:00:00",
          "2023-06-28T00:00:00",
          "2023-06-29T00:00:00",
          "2023-06-30T00:00:00",
          "2023-07-03T00:00:00",
          "2023-07-05T00:00:00",
          "2023-07-06T00:00:00",
          "2023-07-07T00:00:00",
          "2023-07-10T00:00:00",
          "2023-07-11T00:00:00",
          "2023-07-12T00:00:00",
          "2023-07-13T00:00:00",
          "2023-07-14T00:00:00",
          "2023-07-17T00:00:00",
          "2023-07-18T00:00:00",
          "2023-07-19T00:00:00",
          "2023-07-20T00:00:00",
          "2023-07-21T00:00:00",
          "2023-07-24T00:00:00",
          "2023-07-25T00:00:00",
          "2023-07-26T00:00:00",
          "2023-07-27T00:00:00",
          "2023-07-28T00:00:00",
          "2023-07-31T00:00:00",
          "2023-08-01T00:00:00",
          "2023-08-02T00:00:00",
          "2023-08-03T00:00:00",
          "2023-08-04T00:00:00",
          "2023-08-07T00:00:00",
          "2023-08-08T00:00:00",
          "2023-08-09T00:00:00",
          "2023-08-10T00:00:00",
          "2023-08-11T00:00:00",
          "2023-08-14T00:00:00",
          "2023-08-15T00:00:00",
          "2023-08-16T00:00:00",
          "2023-08-17T00:00:00",
          "2023-08-18T00:00:00",
          "2023-08-21T00:00:00",
          "2023-08-22T00:00:00",
          "2023-08-23T00:00:00",
          "2023-08-24T00:00:00",
          "2023-08-25T00:00:00",
          "2023-08-28T00:00:00",
          "2023-08-29T00:00:00",
          "2023-08-30T00:00:00",
          "2023-08-31T00:00:00",
          "2023-09-01T00:00:00",
          "2023-09-05T00:00:00",
          "2023-09-06T00:00:00",
          "2023-09-07T00:00:00",
          "2023-09-08T00:00:00",
          "2023-09-11T00:00:00",
          "2023-09-12T00:00:00",
          "2023-09-13T00:00:00",
          "2023-09-14T00:00:00",
          "2023-09-15T00:00:00",
          "2023-09-18T00:00:00",
          "2023-09-19T00:00:00",
          "2023-09-20T00:00:00",
          "2023-09-21T00:00:00",
          "2023-09-22T00:00:00",
          "2023-09-25T00:00:00",
          "2023-09-26T00:00:00",
          "2023-09-27T00:00:00",
          "2023-09-28T00:00:00",
          "2023-09-29T00:00:00",
          "2023-10-02T00:00:00",
          "2023-10-03T00:00:00",
          "2023-10-04T00:00:00",
          "2023-10-05T00:00:00",
          "2023-10-06T00:00:00",
          "2023-10-09T00:00:00",
          "2023-10-10T00:00:00",
          "2023-10-11T00:00:00",
          "2023-10-12T00:00:00",
          "2023-10-13T00:00:00",
          "2023-10-16T00:00:00",
          "2023-10-17T00:00:00",
          "2023-10-18T00:00:00",
          "2023-10-19T00:00:00",
          "2023-10-20T00:00:00",
          "2023-10-23T00:00:00",
          "2023-10-24T00:00:00",
          "2023-10-25T00:00:00",
          "2023-10-26T00:00:00",
          "2023-10-27T00:00:00",
          "2023-10-30T00:00:00",
          "2023-10-31T00:00:00",
          "2023-11-01T00:00:00",
          "2023-11-02T00:00:00",
          "2023-11-03T00:00:00",
          "2023-11-06T00:00:00",
          "2023-11-07T00:00:00",
          "2023-11-08T00:00:00",
          "2023-11-09T00:00:00",
          "2023-11-10T00:00:00",
          "2023-11-13T00:00:00",
          "2023-11-14T00:00:00",
          "2023-11-15T00:00:00",
          "2023-11-16T00:00:00",
          "2023-11-17T00:00:00",
          "2023-11-20T00:00:00",
          "2023-11-21T00:00:00",
          "2023-11-22T00:00:00",
          "2023-11-24T00:00:00",
          "2023-11-27T00:00:00",
          "2023-11-28T00:00:00",
          "2023-11-29T00:00:00",
          "2023-11-30T00:00:00",
          "2023-12-01T00:00:00",
          "2023-12-04T00:00:00",
          "2023-12-05T00:00:00",
          "2023-12-06T00:00:00",
          "2023-12-07T00:00:00",
          "2023-12-08T00:00:00",
          "2023-12-11T00:00:00",
          "2023-12-12T00:00:00",
          "2023-12-13T00:00:00",
          "2023-12-14T00:00:00",
          "2023-12-15T00:00:00",
          "2023-12-18T00:00:00",
          "2023-12-19T00:00:00",
          "2023-12-20T00:00:00",
          "2023-12-21T00:00:00",
          "2023-12-22T00:00:00",
          "2023-12-26T00:00:00",
          "2023-12-27T00:00:00",
          "2023-12-28T00:00:00",
          "2023-12-29T00:00:00"
         ],
         "y": [
          236.60923767089844,
          226.2591857910156,
          219.5533599853516,
          222.1408843994141,
          224.30372619628903,
          226.01226806640625,
          232.84646606445312,
          235.552490234375,
          236.2635498046875,
          237.3696746826172,
          232.88595581054688,
          229.0540771484375,
          237.2412872314453,
          239.57200622558597,
          239.0387115478516,
          237.62643432617188,
          244.92481994628903,
          245.0828399658203,
          239.70042419433597,
          244.73716735839844,
          249.6159210205078,
          261.3189392089844,
          255.1464691162109,
          253.5860595703125,
          264.2422790527344,
          263.4225769042969,
          260.35113525390625,
          259.83758544921875,
          267.95562744140625,
          268.79510498046875,
          266.64666748046875,
          259.5478210449219,
          255.49839782714844,
          250.1619110107422,
          249.013427734375,
          252.2410888671875,
          246.74615478515625,
          247.6768341064453,
          246.94418334960935,
          243.8254547119141,
          248.61740112304688,
          252.75588989257807,
          254.3202362060547,
          251.62722778320312,
          251.18170166015625,
          249.81539916992188,
          246.12242126464844,
          251.3995056152344,
          258.20135498046875,
          262.8051452636719,
          273.4583435058594,
          276.6562805175781,
          269.5277709960937,
          271.0623474121094,
          269.5871887207031,
          274.9039001464844,
          277.7850036621094,
          273.6365966796875,
          272.4979858398437,
          277.7255859375,
          281.2304077148437,
          285.4382019042969,
          284.37890625,
          284.329345703125,
          281.5175170898437,
          288.7054443359375,
          286.5174255371094,
          280.0225524902344,
          280.6759948730469,
          286.9629211425781,
          283.2997131347656,
          285.93328857421875,
          285.50750732421875,
          285.5867614746094,
          283.2699890136719,
          282.92352294921875,
          278.9730529785156,
          272.6861267089844,
          292.4380798339844,
          301.8041687011719,
          304.2100524902344,
          302.5269470214844,
          302.37841796875,
          301.3784484863281,
          302.37841796875,
          307.56640625,
          305.58624267578125,
          303.95263671875,
          309.2098999023437,
          307.03173828125,
          305.903076171875,
          306.3882141113281,
          308.64556884765625,
          311.5627746582031,
          316.0476989746094,
          315.8690490722656,
          318.68701171875,
          312.81298828125,
          311.4139404296875,
          323.3902587890625,
          330.3061218261719,
          328.63916015625,
          325.841064453125,
          329.99853515625,
          332.79669189453125,
          333.3324584960937,
          331.0899963378906,
          320.86993408203125,
          322.7353820800781,
          324.25347900390625,
          329.2742004394531,
          331.6952819824219,
          334.7215576171875,
          345.3980712890625,
          339.6728210449219,
          335.4260559082031,
          330.9709167480469,
          337.0732116699219,
          332.41961669921875,
          326.0494384765625,
          331.9730834960937,
          333.2431640625,
          332.4493713378906,
          337.89678955078125,
          335.36651611328125,
          335.5252990722656,
          338.6210327148437,
          334.6024780273437,
          329.2543334960937,
          329.8893737792969,
          334.5827331542969,
          340.0002746582031,
          342.56024169921875,
          343.04644775390625,
          356.6996154785156,
          352.3238830566406,
          344.1776123046875,
          341.1016540527344,
          342.4312438964844,
          348.2557067871094,
          335.1482238769531,
          328.1529846191406,
          335.7435913085937,
          333.3126220703125,
          333.7293395996094,
          324.9579467773437,
          324.1244812011719,
          325.2357788085937,
          327.5476989746094,
          323.5191955566406,
          319.7288818359375,
          320.4234313964844,
          318.5183410644531,
          321.5248718261719,
          319.3617248535156,
          318.586181640625,
          315.0860900878906,
          314.6883850097656,
          320.05780029296875,
          320.6344909667969,
          325.1488037109375,
          318.1585998535156,
          321.1515808105469,
          321.86749267578125,
          326.5508117675781,
          326.9286804199219,
          325.9045104980469,
          326.79937744140625,
          331.6617126464844,
          330.9955139160156,
          328.0423583984375,
          332.37762451171875,
          336.0268859863281,
          329.89178466796875,
          334.15753173828125,
          336.7825622558594,
          328.3505859375,
          327.1971435546875,
          326.7894592285156,
          318.9540405273437,
          317.7210693359375,
          315.21539306640625,
          315.74237060546875,
          310.3729248046875,
          311.0192565917969,
          311.8644714355469,
          313.9624938964844,
          319.97821044921875,
          311.6158752441406,
          317.1543273925781,
          317.5520324707031,
          325.4073486328125,
          327.9528503417969,
          326.53094482421875,
          330.53814697265625,
          329.2852478027344,
          325.8746643066406,
          330.7568664550781,
          330.1801452636719,
          328.2411804199219,
          329.4443359375,
          324.8207092285156,
          327.4556884765625,
          328.6588134765625,
          338.7414245605469,
          326.0337829589844,
          327.9429016113281,
          335.4004211425781,
          336.1958923339844,
          344.11083984375,
          346.3481140136719,
          350.802734375,
          354.5116271972656,
          358.489013671875,
          361.1438598632813,
          358.6480712890625,
          367.5772399902344,
          364.6041870117188,
          368.173828125,
          368.32330322265625,
          374.7996520996094,
          368.5026550292969,
          376.0650024414063,
          371.7109069824219,
          376.4735107421875,
          376.0549926757813,
          377.230712890625,
          381.3058471679688,
          377.4698486328125,
          377.5296325683594,
          373.1456604003906,
          367.7952575683594,
          371.1629028320313,
          367.4564514160156,
          369.5986328125,
          372.86669921875,
          369.94732666015625,
          373.0161437988281,
          373.0061645507813,
          364.596923828125,
          369.3794555664063,
          371.29241943359375,
          371.9002380371094,
          369.2698364257813,
          372.1792297363281,
          373.2153930664063,
          373.2951354980469,
          372.707275390625,
          373.912841796875,
          374.6700744628906
         ]
        },
        {
         "marker": {
          "color": "green",
          "size": 10,
          "symbol": "triangle-up"
         },
         "mode": "markers",
         "name": "Buy Signal",
         "type": "scatter",
         "x": [
          "2023-01-03T00:00:00",
          "2023-01-04T00:00:00",
          "2023-01-05T00:00:00",
          "2023-01-06T00:00:00",
          "2023-01-09T00:00:00",
          "2023-01-10T00:00:00",
          "2023-01-11T00:00:00",
          "2023-01-12T00:00:00",
          "2023-01-13T00:00:00",
          "2023-01-17T00:00:00",
          "2023-01-18T00:00:00",
          "2023-01-19T00:00:00",
          "2023-01-20T00:00:00",
          "2023-01-25T00:00:00",
          "2023-02-17T00:00:00",
          "2023-02-21T00:00:00",
          "2023-02-22T00:00:00",
          "2023-02-23T00:00:00",
          "2023-02-24T00:00:00",
          "2023-02-27T00:00:00",
          "2023-02-28T00:00:00",
          "2023-03-01T00:00:00",
          "2023-03-02T00:00:00",
          "2023-03-03T00:00:00",
          "2023-03-06T00:00:00",
          "2023-03-07T00:00:00",
          "2023-03-08T00:00:00",
          "2023-03-09T00:00:00",
          "2023-03-10T00:00:00",
          "2023-03-13T00:00:00",
          "2023-04-24T00:00:00",
          "2023-04-25T00:00:00",
          "2023-06-07T00:00:00",
          "2023-06-08T00:00:00",
          "2023-06-26T00:00:00",
          "2023-07-10T00:00:00",
          "2023-07-11T00:00:00",
          "2023-07-26T00:00:00",
          "2023-07-27T00:00:00",
          "2023-07-28T00:00:00",
          "2023-07-31T00:00:00",
          "2023-08-01T00:00:00",
          "2023-08-02T00:00:00",
          "2023-08-03T00:00:00",
          "2023-08-04T00:00:00",
          "2023-08-07T00:00:00",
          "2023-08-08T00:00:00",
          "2023-08-09T00:00:00",
          "2023-08-10T00:00:00",
          "2023-08-11T00:00:00",
          "2023-08-14T00:00:00",
          "2023-08-15T00:00:00",
          "2023-08-16T00:00:00",
          "2023-08-17T00:00:00",
          "2023-08-18T00:00:00",
          "2023-08-21T00:00:00",
          "2023-08-22T00:00:00",
          "2023-08-23T00:00:00",
          "2023-08-24T00:00:00",
          "2023-08-25T00:00:00",
          "2023-08-28T00:00:00",
          "2023-09-18T00:00:00",
          "2023-09-19T00:00:00",
          "2023-09-20T00:00:00",
          "2023-09-21T00:00:00",
          "2023-09-22T00:00:00",
          "2023-09-25T00:00:00",
          "2023-09-26T00:00:00",
          "2023-09-27T00:00:00",
          "2023-09-28T00:00:00",
          "2023-09-29T00:00:00",
          "2023-10-02T00:00:00",
          "2023-10-03T00:00:00",
          "2023-10-04T00:00:00",
          "2023-10-05T00:00:00",
          "2023-10-20T00:00:00",
          "2023-10-26T00:00:00",
          "2023-12-04T00:00:00",
          "2023-12-05T00:00:00",
          "2023-12-06T00:00:00",
          "2023-12-07T00:00:00",
          "2023-12-08T00:00:00",
          "2023-12-11T00:00:00",
          "2023-12-12T00:00:00",
          "2023-12-13T00:00:00",
          "2023-12-14T00:00:00",
          "2023-12-15T00:00:00",
          "2023-12-18T00:00:00",
          "2023-12-19T00:00:00",
          "2023-12-20T00:00:00",
          "2023-12-21T00:00:00",
          "2023-12-22T00:00:00",
          "2023-12-26T00:00:00",
          "2023-12-27T00:00:00",
          "2023-12-28T00:00:00",
          "2023-12-29T00:00:00"
         ],
         "y": [
          236.60923767089844,
          226.2591857910156,
          219.5533599853516,
          222.1408843994141,
          224.30372619628903,
          226.01226806640625,
          232.84646606445312,
          235.552490234375,
          236.2635498046875,
          237.3696746826172,
          232.88595581054688,
          229.0540771484375,
          237.2412872314453,
          237.62643432617188,
          255.49839782714844,
          250.1619110107422,
          249.013427734375,
          252.2410888671875,
          246.74615478515625,
          247.6768341064453,
          246.94418334960935,
          243.8254547119141,
          248.61740112304688,
          252.75588989257807,
          254.3202362060547,
          251.62722778320312,
          251.18170166015625,
          249.81539916992188,
          246.12242126464844,
          251.3995056152344,
          278.9730529785156,
          272.6861267089844,
          320.86993408203125,
          322.7353820800781,
          326.0494384765625,
          329.2543334960937,
          329.8893737792969,
          335.1482238769531,
          328.1529846191406,
          335.7435913085937,
          333.3126220703125,
          333.7293395996094,
          324.9579467773437,
          324.1244812011719,
          325.2357788085937,
          327.5476989746094,
          323.5191955566406,
          319.7288818359375,
          320.4234313964844,
          318.5183410644531,
          321.5248718261719,
          319.3617248535156,
          318.586181640625,
          315.0860900878906,
          314.6883850097656,
          320.05780029296875,
          320.6344909667969,
          325.1488037109375,
          318.1585998535156,
          321.1515808105469,
          321.86749267578125,
          327.1971435546875,
          326.7894592285156,
          318.9540405273437,
          317.7210693359375,
          315.21539306640625,
          315.74237060546875,
          310.3729248046875,
          311.0192565917969,
          311.8644714355469,
          313.9624938964844,
          319.97821044921875,
          311.6158752441406,
          317.1543273925781,
          317.5520324707031,
          324.8207092285156,
          326.0337829589844,
          367.7952575683594,
          371.1629028320313,
          367.4564514160156,
          369.5986328125,
          372.86669921875,
          369.94732666015625,
          373.0161437988281,
          373.0061645507813,
          364.596923828125,
          369.3794555664063,
          371.29241943359375,
          371.9002380371094,
          369.2698364257813,
          372.1792297363281,
          373.2153930664063,
          373.2951354980469,
          372.707275390625,
          373.912841796875,
          374.6700744628906
         ]
        },
        {
         "marker": {
          "color": "red",
          "size": 10,
          "symbol": "triangle-down"
         },
         "mode": "markers",
         "name": "Sell Signal",
         "type": "scatter",
         "x": [
          "2023-01-23T00:00:00",
          "2023-01-24T00:00:00",
          "2023-01-26T00:00:00",
          "2023-01-27T00:00:00",
          "2023-01-30T00:00:00",
          "2023-01-31T00:00:00",
          "2023-02-01T00:00:00",
          "2023-02-02T00:00:00",
          "2023-02-03T00:00:00",
          "2023-02-06T00:00:00",
          "2023-02-07T00:00:00",
          "2023-02-08T00:00:00",
          "2023-02-09T00:00:00",
          "2023-02-10T00:00:00",
          "2023-02-13T00:00:00",
          "2023-02-14T00:00:00",
          "2023-02-15T00:00:00",
          "2023-02-16T00:00:00",
          "2023-03-14T00:00:00",
          "2023-03-15T00:00:00",
          "2023-03-16T00:00:00",
          "2023-03-17T00:00:00",
          "2023-03-20T00:00:00",
          "2023-03-21T00:00:00",
          "2023-03-22T00:00:00",
          "2023-03-23T00:00:00",
          "2023-03-24T00:00:00",
          "2023-03-27T00:00:00",
          "2023-03-28T00:00:00",
          "2023-03-29T00:00:00",
          "2023-03-30T00:00:00",
          "2023-03-31T00:00:00",
          "2023-04-03T00:00:00",
          "2023-04-04T00:00:00",
          "2023-04-05T00:00:00",
          "2023-04-06T00:00:00",
          "2023-04-10T00:00:00",
          "2023-04-11T00:00:00",
          "2023-04-12T00:00:00",
          "2023-04-13T00:00:00",
          "2023-04-14T00:00:00",
          "2023-04-17T00:00:00",
          "2023-04-18T00:00:00",
          "2023-04-19T00:00:00",
          "2023-04-20T00:00:00",
          "2023-04-21T00:00:00",
          "2023-04-26T00:00:00",
          "2023-04-27T00:00:00",
          "2023-04-28T00:00:00",
          "2023-05-01T00:00:00",
          "2023-05-02T00:00:00",
          "2023-05-03T00:00:00",
          "2023-05-04T00:00:00",
          "2023-05-05T00:00:00",
          "2023-05-08T00:00:00",
          "2023-05-09T00:00:00",
          "2023-05-10T00:00:00",
          "2023-05-11T00:00:00",
          "2023-05-12T00:00:00",
          "2023-05-15T00:00:00",
          "2023-05-16T00:00:00",
          "2023-05-17T00:00:00",
          "2023-05-18T00:00:00",
          "2023-05-19T00:00:00",
          "2023-05-22T00:00:00",
          "2023-05-23T00:00:00",
          "2023-05-24T00:00:00",
          "2023-05-25T00:00:00",
          "2023-05-26T00:00:00",
          "2023-05-30T00:00:00",
          "2023-05-31T00:00:00",
          "2023-06-01T00:00:00",
          "2023-06-02T00:00:00",
          "2023-06-05T00:00:00",
          "2023-06-06T00:00:00",
          "2023-06-09T00:00:00",
          "2023-06-12T00:00:00",
          "2023-06-13T00:00:00",
          "2023-06-14T00:00:00",
          "2023-06-15T00:00:00",
          "2023-06-16T00:00:00",
          "2023-06-20T00:00:00",
          "2023-06-21T00:00:00",
          "2023-06-22T00:00:00",
          "2023-06-23T00:00:00",
          "2023-06-27T00:00:00",
          "2023-06-28T00:00:00",
          "2023-06-29T00:00:00",
          "2023-06-30T00:00:00",
          "2023-07-03T00:00:00",
          "2023-07-05T00:00:00",
          "2023-07-06T00:00:00",
          "2023-07-07T00:00:00",
          "2023-07-12T00:00:00",
          "2023-07-13T00:00:00",
          "2023-07-14T00:00:00",
          "2023-07-17T00:00:00",
          "2023-07-18T00:00:00",
          "2023-07-19T00:00:00",
          "2023-07-20T00:00:00",
          "2023-07-21T00:00:00",
          "2023-07-24T00:00:00",
          "2023-07-25T00:00:00",
          "2023-08-29T00:00:00",
          "2023-08-30T00:00:00",
          "2023-08-31T00:00:00",
          "2023-09-01T00:00:00",
          "2023-09-05T00:00:00",
          "2023-09-06T00:00:00",
          "2023-09-07T00:00:00",
          "2023-09-08T00:00:00",
          "2023-09-11T00:00:00",
          "2023-09-12T00:00:00",
          "2023-09-13T00:00:00",
          "2023-09-14T00:00:00",
          "2023-09-15T00:00:00",
          "2023-10-06T00:00:00",
          "2023-10-09T00:00:00",
          "2023-10-10T00:00:00",
          "2023-10-11T00:00:00",
          "2023-10-12T00:00:00",
          "2023-10-13T00:00:00",
          "2023-10-16T00:00:00",
          "2023-10-17T00:00:00",
          "2023-10-18T00:00:00",
          "2023-10-19T00:00:00",
          "2023-10-23T00:00:00",
          "2023-10-24T00:00:00",
          "2023-10-25T00:00:00",
          "2023-10-27T00:00:00",
          "2023-10-30T00:00:00",
          "2023-10-31T00:00:00",
          "2023-11-01T00:00:00",
          "2023-11-02T00:00:00",
          "2023-11-03T00:00:00",
          "2023-11-06T00:00:00",
          "2023-11-07T00:00:00",
          "2023-11-08T00:00:00",
          "2023-11-09T00:00:00",
          "2023-11-10T00:00:00",
          "2023-11-13T00:00:00",
          "2023-11-14T00:00:00",
          "2023-11-15T00:00:00",
          "2023-11-16T00:00:00",
          "2023-11-17T00:00:00",
          "2023-11-20T00:00:00",
          "2023-11-21T00:00:00",
          "2023-11-22T00:00:00",
          "2023-11-24T00:00:00",
          "2023-11-27T00:00:00",
          "2023-11-28T00:00:00",
          "2023-11-29T00:00:00",
          "2023-11-30T00:00:00",
          "2023-12-01T00:00:00"
         ],
         "y": [
          239.57200622558597,
          239.0387115478516,
          244.92481994628903,
          245.0828399658203,
          239.70042419433597,
          244.73716735839844,
          249.6159210205078,
          261.3189392089844,
          255.1464691162109,
          253.5860595703125,
          264.2422790527344,
          263.4225769042969,
          260.35113525390625,
          259.83758544921875,
          267.95562744140625,
          268.79510498046875,
          266.64666748046875,
          259.5478210449219,
          258.20135498046875,
          262.8051452636719,
          273.4583435058594,
          276.6562805175781,
          269.5277709960937,
          271.0623474121094,
          269.5871887207031,
          274.9039001464844,
          277.7850036621094,
          273.6365966796875,
          272.4979858398437,
          277.7255859375,
          281.2304077148437,
          285.4382019042969,
          284.37890625,
          284.329345703125,
          281.5175170898437,
          288.7054443359375,
          286.5174255371094,
          280.0225524902344,
          280.6759948730469,
          286.9629211425781,
          283.2997131347656,
          285.93328857421875,
          285.50750732421875,
          285.5867614746094,
          283.2699890136719,
          282.92352294921875,
          292.4380798339844,
          301.8041687011719,
          304.2100524902344,
          302.5269470214844,
          302.37841796875,
          301.3784484863281,
          302.37841796875,
          307.56640625,
          305.58624267578125,
          303.95263671875,
          309.2098999023437,
          307.03173828125,
          305.903076171875,
          306.3882141113281,
          308.64556884765625,
          311.5627746582031,
          316.0476989746094,
          315.8690490722656,
          318.68701171875,
          312.81298828125,
          311.4139404296875,
          323.3902587890625,
          330.3061218261719,
          328.63916015625,
          325.841064453125,
          329.99853515625,
          332.79669189453125,
          333.3324584960937,
          331.0899963378906,
          324.25347900390625,
          329.2742004394531,
          331.6952819824219,
          334.7215576171875,
          345.3980712890625,
          339.6728210449219,
          335.4260559082031,
          330.9709167480469,
          337.0732116699219,
          332.41961669921875,
          331.9730834960937,
          333.2431640625,
          332.4493713378906,
          337.89678955078125,
          335.36651611328125,
          335.5252990722656,
          338.6210327148437,
          334.6024780273437,
          334.5827331542969,
          340.0002746582031,
          342.56024169921875,
          343.04644775390625,
          356.6996154785156,
          352.3238830566406,
          344.1776123046875,
          341.1016540527344,
          342.4312438964844,
          348.2557067871094,
          326.5508117675781,
          326.9286804199219,
          325.9045104980469,
          326.79937744140625,
          331.6617126464844,
          330.9955139160156,
          328.0423583984375,
          332.37762451171875,
          336.0268859863281,
          329.89178466796875,
          334.15753173828125,
          336.7825622558594,
          328.3505859375,
          325.4073486328125,
          327.9528503417969,
          326.53094482421875,
          330.53814697265625,
          329.2852478027344,
          325.8746643066406,
          330.7568664550781,
          330.1801452636719,
          328.2411804199219,
          329.4443359375,
          327.4556884765625,
          328.6588134765625,
          338.7414245605469,
          327.9429016113281,
          335.4004211425781,
          336.1958923339844,
          344.11083984375,
          346.3481140136719,
          350.802734375,
          354.5116271972656,
          358.489013671875,
          361.1438598632813,
          358.6480712890625,
          367.5772399902344,
          364.6041870117188,
          368.173828125,
          368.32330322265625,
          374.7996520996094,
          368.5026550292969,
          376.0650024414063,
          371.7109069824219,
          376.4735107421875,
          376.0549926757813,
          377.230712890625,
          381.3058471679688,
          377.4698486328125,
          377.5296325683594,
          373.1456604003906
         ]
        }
       ],
       "layout": {
        "height": 600,
        "legend": {
         "x": 0,
         "y": 1
        },
        "template": {
         "data": {
          "bar": [
           {
            "error_x": {
             "color": "#f2f5fa"
            },
            "error_y": {
             "color": "#f2f5fa"
            },
            "marker": {
             "line": {
              "color": "rgb(17,17,17)",
              "width": 0.5
             },
             "pattern": {
              "fillmode": "overlay",
              "size": 10,
              "solidity": 0.2
             }
            },
            "type": "bar"
           }
          ],
          "barpolar": [
           {
            "marker": {
             "line": {
              "color": "rgb(17,17,17)",
              "width": 0.5
             },
             "pattern": {
              "fillmode": "overlay",
              "size": 10,
              "solidity": 0.2
             }
            },
            "type": "barpolar"
           }
          ],
          "carpet": [
           {
            "aaxis": {
             "endlinecolor": "#A2B1C6",
             "gridcolor": "#506784",
             "linecolor": "#506784",
             "minorgridcolor": "#506784",
             "startlinecolor": "#A2B1C6"
            },
            "baxis": {
             "endlinecolor": "#A2B1C6",
             "gridcolor": "#506784",
             "linecolor": "#506784",
             "minorgridcolor": "#506784",
             "startlinecolor": "#A2B1C6"
            },
            "type": "carpet"
           }
          ],
          "choropleth": [
           {
            "colorbar": {
             "outlinewidth": 0,
             "ticks": ""
            },
            "type": "choropleth"
           }
          ],
          "contour": [
           {
            "colorbar": {
             "outlinewidth": 0,
             "ticks": ""
            },
            "colorscale": [
             [
              0,
              "#0d0887"
             ],
             [
              0.1111111111111111,
              "#46039f"
             ],
             [
              0.2222222222222222,
              "#7201a8"
             ],
             [
              0.3333333333333333,
              "#9c179e"
             ],
             [
              0.4444444444444444,
              "#bd3786"
             ],
             [
              0.5555555555555556,
              "#d8576b"
             ],
             [
              0.6666666666666666,
              "#ed7953"
             ],
             [
              0.7777777777777778,
              "#fb9f3a"
             ],
             [
              0.8888888888888888,
              "#fdca26"
             ],
             [
              1,
              "#f0f921"
             ]
            ],
            "type": "contour"
           }
          ],
          "contourcarpet": [
           {
            "colorbar": {
             "outlinewidth": 0,
             "ticks": ""
            },
            "type": "contourcarpet"
           }
          ],
          "heatmap": [
           {
            "colorbar": {
             "outlinewidth": 0,
             "ticks": ""
            },
            "colorscale": [
             [
              0,
              "#0d0887"
             ],
             [
              0.1111111111111111,
              "#46039f"
             ],
             [
              0.2222222222222222,
              "#7201a8"
             ],
             [
              0.3333333333333333,
              "#9c179e"
             ],
             [
              0.4444444444444444,
              "#bd3786"
             ],
             [
              0.5555555555555556,
              "#d8576b"
             ],
             [
              0.6666666666666666,
              "#ed7953"
             ],
             [
              0.7777777777777778,
              "#fb9f3a"
             ],
             [
              0.8888888888888888,
              "#fdca26"
             ],
             [
              1,
              "#f0f921"
             ]
            ],
            "type": "heatmap"
           }
          ],
          "heatmapgl": [
           {
            "colorbar": {
             "outlinewidth": 0,
             "ticks": ""
            },
            "colorscale": [
             [
              0,
              "#0d0887"
             ],
             [
              0.1111111111111111,
              "#46039f"
             ],
             [
              0.2222222222222222,
              "#7201a8"
             ],
             [
              0.3333333333333333,
              "#9c179e"
             ],
             [
              0.4444444444444444,
              "#bd3786"
             ],
             [
              0.5555555555555556,
              "#d8576b"
             ],
             [
              0.6666666666666666,
              "#ed7953"
             ],
             [
              0.7777777777777778,
              "#fb9f3a"
             ],
             [
              0.8888888888888888,
              "#fdca26"
             ],
             [
              1,
              "#f0f921"
             ]
            ],
            "type": "heatmapgl"
           }
          ],
          "histogram": [
           {
            "marker": {
             "pattern": {
              "fillmode": "overlay",
              "size": 10,
              "solidity": 0.2
             }
            },
            "type": "histogram"
           }
          ],
          "histogram2d": [
           {
            "colorbar": {
             "outlinewidth": 0,
             "ticks": ""
            },
            "colorscale": [
             [
              0,
              "#0d0887"
             ],
             [
              0.1111111111111111,
              "#46039f"
             ],
             [
              0.2222222222222222,
              "#7201a8"
             ],
             [
              0.3333333333333333,
              "#9c179e"
             ],
             [
              0.4444444444444444,
              "#bd3786"
             ],
             [
              0.5555555555555556,
              "#d8576b"
             ],
             [
              0.6666666666666666,
              "#ed7953"
             ],
             [
              0.7777777777777778,
              "#fb9f3a"
             ],
             [
              0.8888888888888888,
              "#fdca26"
             ],
             [
              1,
              "#f0f921"
             ]
            ],
            "type": "histogram2d"
           }
          ],
          "histogram2dcontour": [
           {
            "colorbar": {
             "outlinewidth": 0,
             "ticks": ""
            },
            "colorscale": [
             [
              0,
              "#0d0887"
             ],
             [
              0.1111111111111111,
              "#46039f"
             ],
             [
              0.2222222222222222,
              "#7201a8"
             ],
             [
              0.3333333333333333,
              "#9c179e"
             ],
             [
              0.4444444444444444,
              "#bd3786"
             ],
             [
              0.5555555555555556,
              "#d8576b"
             ],
             [
              0.6666666666666666,
              "#ed7953"
             ],
             [
              0.7777777777777778,
              "#fb9f3a"
             ],
             [
              0.8888888888888888,
              "#fdca26"
             ],
             [
              1,
              "#f0f921"
             ]
            ],
            "type": "histogram2dcontour"
           }
          ],
          "mesh3d": [
           {
            "colorbar": {
             "outlinewidth": 0,
             "ticks": ""
            },
            "type": "mesh3d"
           }
          ],
          "parcoords": [
           {
            "line": {
             "colorbar": {
              "outlinewidth": 0,
              "ticks": ""
             }
            },
            "type": "parcoords"
           }
          ],
          "pie": [
           {
            "automargin": true,
            "type": "pie"
           }
          ],
          "scatter": [
           {
            "marker": {
             "line": {
              "color": "#283442"
             }
            },
            "type": "scatter"
           }
          ],
          "scatter3d": [
           {
            "line": {
             "colorbar": {
              "outlinewidth": 0,
              "ticks": ""
             }
            },
            "marker": {
             "colorbar": {
              "outlinewidth": 0,
              "ticks": ""
             }
            },
            "type": "scatter3d"
           }
          ],
          "scattercarpet": [
           {
            "marker": {
             "colorbar": {
              "outlinewidth": 0,
              "ticks": ""
             }
            },
            "type": "scattercarpet"
           }
          ],
          "scattergeo": [
           {
            "marker": {
             "colorbar": {
              "outlinewidth": 0,
              "ticks": ""
             }
            },
            "type": "scattergeo"
           }
          ],
          "scattergl": [
           {
            "marker": {
             "line": {
              "color": "#283442"
             }
            },
            "type": "scattergl"
           }
          ],
          "scattermapbox": [
           {
            "marker": {
             "colorbar": {
              "outlinewidth": 0,
              "ticks": ""
             }
            },
            "type": "scattermapbox"
           }
          ],
          "scatterpolar": [
           {
            "marker": {
             "colorbar": {
              "outlinewidth": 0,
              "ticks": ""
             }
            },
            "type": "scatterpolar"
           }
          ],
          "scatterpolargl": [
           {
            "marker": {
             "colorbar": {
              "outlinewidth": 0,
              "ticks": ""
             }
            },
            "type": "scatterpolargl"
           }
          ],
          "scatterternary": [
           {
            "marker": {
             "colorbar": {
              "outlinewidth": 0,
              "ticks": ""
             }
            },
            "type": "scatterternary"
           }
          ],
          "surface": [
           {
            "colorbar": {
             "outlinewidth": 0,
             "ticks": ""
            },
            "colorscale": [
             [
              0,
              "#0d0887"
             ],
             [
              0.1111111111111111,
              "#46039f"
             ],
             [
              0.2222222222222222,
              "#7201a8"
             ],
             [
              0.3333333333333333,
              "#9c179e"
             ],
             [
              0.4444444444444444,
              "#bd3786"
             ],
             [
              0.5555555555555556,
              "#d8576b"
             ],
             [
              0.6666666666666666,
              "#ed7953"
             ],
             [
              0.7777777777777778,
              "#fb9f3a"
             ],
             [
              0.8888888888888888,
              "#fdca26"
             ],
             [
              1,
              "#f0f921"
             ]
            ],
            "type": "surface"
           }
          ],
          "table": [
           {
            "cells": {
             "fill": {
              "color": "#506784"
             },
             "line": {
              "color": "rgb(17,17,17)"
             }
            },
            "header": {
             "fill": {
              "color": "#2a3f5f"
             },
             "line": {
              "color": "rgb(17,17,17)"
             }
            },
            "type": "table"
           }
          ]
         },
         "layout": {
          "annotationdefaults": {
           "arrowcolor": "#f2f5fa",
           "arrowhead": 0,
           "arrowwidth": 1
          },
          "autotypenumbers": "strict",
          "coloraxis": {
           "colorbar": {
            "outlinewidth": 0,
            "ticks": ""
           }
          },
          "colorscale": {
           "diverging": [
            [
             0,
             "#8e0152"
            ],
            [
             0.1,
             "#c51b7d"
            ],
            [
             0.2,
             "#de77ae"
            ],
            [
             0.3,
             "#f1b6da"
            ],
            [
             0.4,
             "#fde0ef"
            ],
            [
             0.5,
             "#f7f7f7"
            ],
            [
             0.6,
             "#e6f5d0"
            ],
            [
             0.7,
             "#b8e186"
            ],
            [
             0.8,
             "#7fbc41"
            ],
            [
             0.9,
             "#4d9221"
            ],
            [
             1,
             "#276419"
            ]
           ],
           "sequential": [
            [
             0,
             "#0d0887"
            ],
            [
             0.1111111111111111,
             "#46039f"
            ],
            [
             0.2222222222222222,
             "#7201a8"
            ],
            [
             0.3333333333333333,
             "#9c179e"
            ],
            [
             0.4444444444444444,
             "#bd3786"
            ],
            [
             0.5555555555555556,
             "#d8576b"
            ],
            [
             0.6666666666666666,
             "#ed7953"
            ],
            [
             0.7777777777777778,
             "#fb9f3a"
            ],
            [
             0.8888888888888888,
             "#fdca26"
            ],
            [
             1,
             "#f0f921"
            ]
           ],
           "sequentialminus": [
            [
             0,
             "#0d0887"
            ],
            [
             0.1111111111111111,
             "#46039f"
            ],
            [
             0.2222222222222222,
             "#7201a8"
            ],
            [
             0.3333333333333333,
             "#9c179e"
            ],
            [
             0.4444444444444444,
             "#bd3786"
            ],
            [
             0.5555555555555556,
             "#d8576b"
            ],
            [
             0.6666666666666666,
             "#ed7953"
            ],
            [
             0.7777777777777778,
             "#fb9f3a"
            ],
            [
             0.8888888888888888,
             "#fdca26"
            ],
            [
             1,
             "#f0f921"
            ]
           ]
          },
          "colorway": [
           "#636efa",
           "#EF553B",
           "#00cc96",
           "#ab63fa",
           "#FFA15A",
           "#19d3f3",
           "#FF6692",
           "#B6E880",
           "#FF97FF",
           "#FECB52"
          ],
          "font": {
           "color": "#f2f5fa"
          },
          "geo": {
           "bgcolor": "rgb(17,17,17)",
           "lakecolor": "rgb(17,17,17)",
           "landcolor": "rgb(17,17,17)",
           "showlakes": true,
           "showland": true,
           "subunitcolor": "#506784"
          },
          "hoverlabel": {
           "align": "left"
          },
          "hovermode": "closest",
          "mapbox": {
           "style": "dark"
          },
          "paper_bgcolor": "rgb(17,17,17)",
          "plot_bgcolor": "rgb(17,17,17)",
          "polar": {
           "angularaxis": {
            "gridcolor": "#506784",
            "linecolor": "#506784",
            "ticks": ""
           },
           "bgcolor": "rgb(17,17,17)",
           "radialaxis": {
            "gridcolor": "#506784",
            "linecolor": "#506784",
            "ticks": ""
           }
          },
          "scene": {
           "xaxis": {
            "backgroundcolor": "rgb(17,17,17)",
            "gridcolor": "#506784",
            "gridwidth": 2,
            "linecolor": "#506784",
            "showbackground": true,
            "ticks": "",
            "zerolinecolor": "#C8D4E3"
           },
           "yaxis": {
            "backgroundcolor": "rgb(17,17,17)",
            "gridcolor": "#506784",
            "gridwidth": 2,
            "linecolor": "#506784",
            "showbackground": true,
            "ticks": "",
            "zerolinecolor": "#C8D4E3"
           },
           "zaxis": {
            "backgroundcolor": "rgb(17,17,17)",
            "gridcolor": "#506784",
            "gridwidth": 2,
            "linecolor": "#506784",
            "showbackground": true,
            "ticks": "",
            "zerolinecolor": "#C8D4E3"
           }
          },
          "shapedefaults": {
           "line": {
            "color": "#f2f5fa"
           }
          },
          "sliderdefaults": {
           "bgcolor": "#C8D4E3",
           "bordercolor": "rgb(17,17,17)",
           "borderwidth": 1,
           "tickwidth": 0
          },
          "ternary": {
           "aaxis": {
            "gridcolor": "#506784",
            "linecolor": "#506784",
            "ticks": ""
           },
           "baxis": {
            "gridcolor": "#506784",
            "linecolor": "#506784",
            "ticks": ""
           },
           "bgcolor": "rgb(17,17,17)",
           "caxis": {
            "gridcolor": "#506784",
            "linecolor": "#506784",
            "ticks": ""
           }
          },
          "title": {
           "x": 0.05
          },
          "updatemenudefaults": {
           "bgcolor": "#506784",
           "borderwidth": 0
          },
          "xaxis": {
           "automargin": true,
           "gridcolor": "#283442",
           "linecolor": "#506784",
           "ticks": "",
           "title": {
            "standoff": 15
           },
           "zerolinecolor": "#283442",
           "zerolinewidth": 2
          },
          "yaxis": {
           "automargin": true,
           "gridcolor": "#283442",
           "linecolor": "#506784",
           "ticks": "",
           "title": {
            "standoff": 15
           },
           "zerolinecolor": "#283442",
           "zerolinewidth": 2
          }
         }
        },
        "title": {
         "text": "PFE Stock Analysis Gradient WMA RSI Signal"
        },
        "width": 1000,
        "xaxis": {
         "rangeslider": {
          "visible": true
         },
         "title": {
          "text": "Date"
         }
        },
        "yaxis": {
         "title": {
          "text": "Price"
         }
        }
       }
      }
     },
     "metadata": {},
     "output_type": "display_data"
    },
    {
     "ename": "KeyError",
     "evalue": "'SMA Signal'",
     "output_type": "error",
     "traceback": [
      "\u001b[1;31m---------------------------------------------------------------------------\u001b[0m",
      "\u001b[1;31mKeyError\u001b[0m                                  Traceback (most recent call last)",
      "File \u001b[1;32m~\\AppData\\Roaming\\Python\\Python311\\site-packages\\pandas\\core\\indexes\\base.py:3805\u001b[0m, in \u001b[0;36mIndex.get_loc\u001b[1;34m(self, key)\u001b[0m\n\u001b[0;32m   3804\u001b[0m \u001b[38;5;28;01mtry\u001b[39;00m:\n\u001b[1;32m-> 3805\u001b[0m     \u001b[38;5;28;01mreturn\u001b[39;00m \u001b[38;5;28;43mself\u001b[39;49m\u001b[38;5;241;43m.\u001b[39;49m\u001b[43m_engine\u001b[49m\u001b[38;5;241;43m.\u001b[39;49m\u001b[43mget_loc\u001b[49m\u001b[43m(\u001b[49m\u001b[43mcasted_key\u001b[49m\u001b[43m)\u001b[49m\n\u001b[0;32m   3806\u001b[0m \u001b[38;5;28;01mexcept\u001b[39;00m \u001b[38;5;167;01mKeyError\u001b[39;00m \u001b[38;5;28;01mas\u001b[39;00m err:\n",
      "File \u001b[1;32mindex.pyx:167\u001b[0m, in \u001b[0;36mpandas._libs.index.IndexEngine.get_loc\u001b[1;34m()\u001b[0m\n",
      "File \u001b[1;32mindex.pyx:196\u001b[0m, in \u001b[0;36mpandas._libs.index.IndexEngine.get_loc\u001b[1;34m()\u001b[0m\n",
      "File \u001b[1;32mpandas\\\\_libs\\\\hashtable_class_helper.pxi:7081\u001b[0m, in \u001b[0;36mpandas._libs.hashtable.PyObjectHashTable.get_item\u001b[1;34m()\u001b[0m\n",
      "File \u001b[1;32mpandas\\\\_libs\\\\hashtable_class_helper.pxi:7089\u001b[0m, in \u001b[0;36mpandas._libs.hashtable.PyObjectHashTable.get_item\u001b[1;34m()\u001b[0m\n",
      "\u001b[1;31mKeyError\u001b[0m: 'SMA Signal'",
      "\nThe above exception was the direct cause of the following exception:\n",
      "\u001b[1;31mKeyError\u001b[0m                                  Traceback (most recent call last)",
      "Cell \u001b[1;32mIn[78], line 13\u001b[0m\n\u001b[0;32m      7\u001b[0m plot(ticker_symbol,\u001b[38;5;124m\"\u001b[39m\u001b[38;5;124mGradient WMA RSI Signal\u001b[39m\u001b[38;5;124m\"\u001b[39m,df_test)\n\u001b[0;32m      9\u001b[0m \u001b[38;5;66;03m# wam_rsi_op_profit, wam_rsi_op_portfolio_value, wam_rsi_op_profit_percentage = calculate_profit(df_test[\"Adj Close\"],df_test[\"WMA RSI Signal Optimized\"])\u001b[39;00m\n\u001b[0;32m     10\u001b[0m \u001b[38;5;66;03m# print(f\"WMA RSI Signal Optimized: Final Profit: ${wam_rsi_op_profit:.2f}, {wam_rsi_op_profit_percentage.round(2)}%\")\u001b[39;00m\n\u001b[0;32m     11\u001b[0m \u001b[38;5;66;03m# plot(ticker_symbol,\"WMA RSI Signal Optimized\",df_test)\u001b[39;00m\n\u001b[1;32m---> 13\u001b[0m wam_profit, wam_portfolio_value, wam_profit_percentage \u001b[38;5;241m=\u001b[39m tih\u001b[38;5;241m.\u001b[39mcalculate_profit(df_test[\u001b[38;5;124m\"\u001b[39m\u001b[38;5;124mAdj Close\u001b[39m\u001b[38;5;124m\"\u001b[39m],\u001b[43mdf_test\u001b[49m\u001b[43m[\u001b[49m\u001b[38;5;124;43m\"\u001b[39;49m\u001b[38;5;124;43mSMA Signal\u001b[39;49m\u001b[38;5;124;43m\"\u001b[39;49m\u001b[43m]\u001b[49m)\n\u001b[0;32m     14\u001b[0m \u001b[38;5;28mprint\u001b[39m(\u001b[38;5;124mf\u001b[39m\u001b[38;5;124m\"\u001b[39m\u001b[38;5;124mSMA Signal : Final Profit: $\u001b[39m\u001b[38;5;132;01m{\u001b[39;00mwam_profit\u001b[38;5;132;01m:\u001b[39;00m\u001b[38;5;124m.2f\u001b[39m\u001b[38;5;132;01m}\u001b[39;00m\u001b[38;5;124m, \u001b[39m\u001b[38;5;132;01m{\u001b[39;00mwam_profit_percentage\u001b[38;5;241m.\u001b[39mround(\u001b[38;5;241m2\u001b[39m)\u001b[38;5;132;01m}\u001b[39;00m\u001b[38;5;124m%\u001b[39m\u001b[38;5;124m\"\u001b[39m)\n\u001b[0;32m     15\u001b[0m plot(ticker_symbol,\u001b[38;5;124m\"\u001b[39m\u001b[38;5;124mSMA Signal\u001b[39m\u001b[38;5;124m\"\u001b[39m,df_test)\n",
      "File \u001b[1;32m~\\AppData\\Roaming\\Python\\Python311\\site-packages\\pandas\\core\\frame.py:4102\u001b[0m, in \u001b[0;36mDataFrame.__getitem__\u001b[1;34m(self, key)\u001b[0m\n\u001b[0;32m   4100\u001b[0m \u001b[38;5;28;01mif\u001b[39;00m \u001b[38;5;28mself\u001b[39m\u001b[38;5;241m.\u001b[39mcolumns\u001b[38;5;241m.\u001b[39mnlevels \u001b[38;5;241m>\u001b[39m \u001b[38;5;241m1\u001b[39m:\n\u001b[0;32m   4101\u001b[0m     \u001b[38;5;28;01mreturn\u001b[39;00m \u001b[38;5;28mself\u001b[39m\u001b[38;5;241m.\u001b[39m_getitem_multilevel(key)\n\u001b[1;32m-> 4102\u001b[0m indexer \u001b[38;5;241m=\u001b[39m \u001b[38;5;28;43mself\u001b[39;49m\u001b[38;5;241;43m.\u001b[39;49m\u001b[43mcolumns\u001b[49m\u001b[38;5;241;43m.\u001b[39;49m\u001b[43mget_loc\u001b[49m\u001b[43m(\u001b[49m\u001b[43mkey\u001b[49m\u001b[43m)\u001b[49m\n\u001b[0;32m   4103\u001b[0m \u001b[38;5;28;01mif\u001b[39;00m is_integer(indexer):\n\u001b[0;32m   4104\u001b[0m     indexer \u001b[38;5;241m=\u001b[39m [indexer]\n",
      "File \u001b[1;32m~\\AppData\\Roaming\\Python\\Python311\\site-packages\\pandas\\core\\indexes\\base.py:3812\u001b[0m, in \u001b[0;36mIndex.get_loc\u001b[1;34m(self, key)\u001b[0m\n\u001b[0;32m   3807\u001b[0m     \u001b[38;5;28;01mif\u001b[39;00m \u001b[38;5;28misinstance\u001b[39m(casted_key, \u001b[38;5;28mslice\u001b[39m) \u001b[38;5;129;01mor\u001b[39;00m (\n\u001b[0;32m   3808\u001b[0m         \u001b[38;5;28misinstance\u001b[39m(casted_key, abc\u001b[38;5;241m.\u001b[39mIterable)\n\u001b[0;32m   3809\u001b[0m         \u001b[38;5;129;01mand\u001b[39;00m \u001b[38;5;28many\u001b[39m(\u001b[38;5;28misinstance\u001b[39m(x, \u001b[38;5;28mslice\u001b[39m) \u001b[38;5;28;01mfor\u001b[39;00m x \u001b[38;5;129;01min\u001b[39;00m casted_key)\n\u001b[0;32m   3810\u001b[0m     ):\n\u001b[0;32m   3811\u001b[0m         \u001b[38;5;28;01mraise\u001b[39;00m InvalidIndexError(key)\n\u001b[1;32m-> 3812\u001b[0m     \u001b[38;5;28;01mraise\u001b[39;00m \u001b[38;5;167;01mKeyError\u001b[39;00m(key) \u001b[38;5;28;01mfrom\u001b[39;00m \u001b[38;5;21;01merr\u001b[39;00m\n\u001b[0;32m   3813\u001b[0m \u001b[38;5;28;01mexcept\u001b[39;00m \u001b[38;5;167;01mTypeError\u001b[39;00m:\n\u001b[0;32m   3814\u001b[0m     \u001b[38;5;66;03m# If we have a listlike key, _check_indexing_error will raise\u001b[39;00m\n\u001b[0;32m   3815\u001b[0m     \u001b[38;5;66;03m#  InvalidIndexError. Otherwise we fall through and re-raise\u001b[39;00m\n\u001b[0;32m   3816\u001b[0m     \u001b[38;5;66;03m#  the TypeError.\u001b[39;00m\n\u001b[0;32m   3817\u001b[0m     \u001b[38;5;28mself\u001b[39m\u001b[38;5;241m.\u001b[39m_check_indexing_error(key)\n",
      "\u001b[1;31mKeyError\u001b[0m: 'SMA Signal'"
     ]
    }
   ],
   "source": [
    "\n",
    "ml_wam_profit, ml_wam_portfolio_value, ml_wam_profit_percentage = tih.calculate_profit(df_test[\"Adj Close\"],df_test[\"Logistic Signal\"])\n",
    "print(f\"Logistic Signal : Final Profit: ${ml_wam_profit:.2f}, {ml_wam_profit_percentage.round(2)}%\")\n",
    "plot(ticker_symbol,\"Logistic Signal\",df_test)\n",
    "\n",
    "ml_wam_profit, ml_wam_portfolio_value, ml_wam_profit_percentage = tih.calculate_profit(df_test[\"Adj Close\"],df_test[\"Gradient WMA RSI Signal\"])\n",
    "print(f\"Gradient WMA RSI Signal : Final Profit: ${ml_wam_profit:.2f}, {ml_wam_profit_percentage.round(2)}%\")\n",
    "plot(ticker_symbol,\"Gradient WMA RSI Signal\",df_test)\n",
    "\n",
    "# wam_rsi_op_profit, wam_rsi_op_portfolio_value, wam_rsi_op_profit_percentage = calculate_profit(df_test[\"Adj Close\"],df_test[\"WMA RSI Signal Optimized\"])\n",
    "# print(f\"WMA RSI Signal Optimized: Final Profit: ${wam_rsi_op_profit:.2f}, {wam_rsi_op_profit_percentage.round(2)}%\")\n",
    "# plot(ticker_symbol,\"WMA RSI Signal Optimized\",df_test)\n",
    "\n",
    "wam_profit, wam_portfolio_value, wam_profit_percentage = tih.calculate_profit(df_test[\"Adj Close\"],df_test[\"SMA Signal\"])\n",
    "print(f\"SMA Signal : Final Profit: ${wam_profit:.2f}, {wam_profit_percentage.round(2)}%\")\n",
    "plot(ticker_symbol,\"SMA Signal\",df_test)\n",
    "\n",
    "\n",
    "wam_profit, wam_portfolio_value, wam_profit_percentage = tih.calculate_profit(df_test[\"Adj Close\"],df_test[\"WMA RSI Signal\"])\n",
    "print(f\"WMA RSI Signal : Final Profit: ${wam_profit:.2f}, {wam_profit_percentage.round(2)}%\")\n",
    "plot(ticker_symbol,\"WMA RSI Signal\",df_test)\n",
    "\n",
    "wam_profit, wam_portfolio_value, wam_profit_percentage = tih.calculate_profit(df_test[\"Adj Close\"],df_test[\"WMA Signal\"])\n",
    "print(f\"WMA Signal : Final Profit: ${wam_profit:.2f}, {wam_profit_percentage.round(2)}%\")\n",
    "plot(ticker_symbol,\"WMA Signal\",df_test)\n",
    "\n",
    "wam_profit, wam_portfolio_value, wam_profit_percentage = tih.calculate_profit(df_test[\"Adj Close\"],df_test[\"RSI Signal\"])\n",
    "print(f\"RSI Signal : Final Profit: ${wam_profit:.2f}, {wam_profit_percentage.round(2)}%\")\n",
    "plot(ticker_symbol,\"RSI Signal\",df_test)\n",
    "\n",
    "vpt_profit, vpt_portfolio_value, vpt_profit_percentage = tih.calculate_profit(df_test[\"Adj Close\"],df_test[\"VPT Signal\"])\n",
    "print(f\"VPT Signal : Final Profit: ${wam_profit:.2f}, {vpt_profit_percentage.round(2)}%\")\n",
    "plot(ticker_symbol,\"VPT Signal\",df_test)\n",
    "\n",
    "\n",
    "# wam_profit, wam_portfolio_value, wam_profit_percentage = calculate_profit(df_test[\"Adj Close\"],df_test[\"PC Signal\"])\n",
    "# print(f\"PC Signal : Final Profit: ${wam_profit:.2f}, {wam_profit_percentage.round(2)}%\")\n",
    "# plot(ticker_symbol,\"PC Signal\",df_test)\n",
    "\n",
    "# Fitting 5 folds for each of 972 candidates, totalling 4860 fits\n",
    "# Best parameters: {'learning_rate': 0.2, 'max_depth': 6, 'min_samples_leaf': 4, 'min_samples_split': 2, 'n_estimators': 300, 'subsample': 0.8}\n",
    "# Mean Squared Error after tuning: 0.13197240762326762\n",
    "# Gradient WMA RSI Signal : Final Profit: $0.00, 0.0%\n",
    "\n",
    "# Fitting 5 folds for each of 27 candidates, totalling 135 fits\n",
    "# Best parameters: {'learning_rate': 0.2, 'max_depth': 5, 'n_estimators': 500}\n",
    "# Mean Squared Error after tuning: 0.14824202771314335\n",
    "# Gradient WMA RSI Signal : Final Profit: $0.00, 0.0%"
   ]
  },
  {
   "cell_type": "code",
   "execution_count": 9,
   "metadata": {},
   "outputs": [],
   "source": [
    "# Specify entry and exit dates\n",
    "def calculate_all_profit(ticker,df):\n",
    "    pc_profit, pc_portfolio_value, pc_profit_percentage  = tih.calculate_profit(df[\"Adj Close\"],df[\"PC Signal\"])\n",
    "    print(f\"PC Signal : Final Profit: ${pc_profit:.2f}, {pc_profit_percentage.round(2)}%\")\n",
    "    \n",
    "    wam_profit, wam_portfolio_value, wam_profit_percentage = tih.calculate_profit(df[\"Adj Close\"],df[\"WMA Signal\"])\n",
    "    print(f\"WMA Signal : Final Profit: ${wam_profit:.2f}, {wam_profit_percentage.round(2)}%\")\n",
    "\n",
    "    rsi_profit, rsi_portfolio_value, rsi_profit_percentage = tih.calculate_profit(df[\"Adj Close\"],df[\"RSI Signal\"])\n",
    "    print(f\"RSI Signal : Final Profit: ${rsi_profit:.2f}, {rsi_profit_percentage.round(2)}%\")\n",
    "\n",
    "    bb_profit, bb_portfolio_value, bb_profit_percentage = tih.calculate_profit(df[\"Adj Close\"],df[\"BB Signal\"])\n",
    "    print(f\"BB Signal : Final Profit: ${bb_profit:.2f}, {bb_profit_percentage.round(2)}%\")\n",
    "\n",
    "    plot(ticker,\"PC Signal\",df)\n",
    "    plot(ticker,\"WMA Signal\",df)\n",
    "    plot(ticker,\"RSI Signal\",df)\n",
    "    plot(ticker,\"BB Signal\",df)\n",
    "    "
   ]
  }
 ],
 "metadata": {
  "kernelspec": {
   "display_name": "Python 3",
   "language": "python",
   "name": "python3"
  },
  "language_info": {
   "codemirror_mode": {
    "name": "ipython",
    "version": 3
   },
   "file_extension": ".py",
   "mimetype": "text/x-python",
   "name": "python",
   "nbconvert_exporter": "python",
   "pygments_lexer": "ipython3",
   "version": "3.11.9"
  }
 },
 "nbformat": 4,
 "nbformat_minor": 2
}
