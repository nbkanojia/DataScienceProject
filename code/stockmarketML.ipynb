{
 "cells": [
  {
   "cell_type": "code",
   "execution_count": 687,
   "metadata": {},
   "outputs": [],
   "source": [
    "import numpy as np\n",
    "import pandas as pd\n",
    "import matplotlib.pyplot as plt\n",
    "import yfinance as yf\n",
    "import os.path\n",
    "from sklearn.model_selection import train_test_split\n",
    "import plotly.graph_objects as go\n",
    "from sklearn.preprocessing import StandardScaler\n",
    "from sklearn.metrics import classification_report, confusion_matrix\n",
    "from sklearn.linear_model import LogisticRegression\n",
    "from sklearn.ensemble import GradientBoostingClassifier\n",
    "from tensorflow.keras.models import Sequential\n",
    "from tensorflow.keras.layers import Dense\n",
    "\n",
    "import warnings\n",
    "warnings.filterwarnings('ignore')\n",
    "#global constant\n",
    "Buy = 1\n",
    "Sell = -1\n",
    "Neutral = 0"
   ]
  },
  {
   "cell_type": "code",
   "execution_count": 688,
   "metadata": {},
   "outputs": [],
   "source": [
    "\n",
    "def get_data(ticker,start_date,end_date):\n",
    "    fname = \"../data/\"+ticker+\"_\"+ start_date+ \"_\" + end_date +\".csv\"\n",
    "    if not os.path.isfile(fname):\n",
    "        df = yf.download(ticker ,start=start_date, end=end_date)\n",
    "        df.to_csv(fname)\n",
    "        \n",
    "    df = pd.read_csv(fname)\n",
    "    df['Date'] = pd.to_datetime(df['Date'])\n",
    "    return df\n",
    "    "
   ]
  },
  {
   "cell_type": "code",
   "execution_count": 689,
   "metadata": {},
   "outputs": [],
   "source": [
    "# Function to calculate Weighted Moving Average (WMA)\n",
    "def calculate_wma(prices, window):\n",
    "    weights = np.arange(1, window + 1)\n",
    "    wma = prices.rolling(window).apply(lambda prices: np.dot(prices, weights) / weights.sum(), raw=True)\n",
    "    return wma\n",
    "\n",
    "# Function to calculate Relative Strength Index (RSI)\n",
    "def calculate_rsi(prices, window):\n",
    "    delta = prices.diff()\n",
    "    gain = delta.where(delta > 0, 0)\n",
    "    loss = -delta.where(delta < 0, 0)\n",
    "    avg_gain = gain.rolling(window).mean()\n",
    "    avg_loss = loss.rolling(window).mean()\n",
    "    rs = avg_gain / avg_loss\n",
    "    rsi = 100 - (100 / (1 + rs))\n",
    "    return rsi\n",
    "\n",
    "def calculate_fibonacci_levels(prices, window):\n",
    "\n",
    "    high_price = prices.rolling(window).max()\n",
    "    low_price = prices.rolling(window).min()\n",
    "    difference = high_price - low_price\n",
    "    level1 = high_price - difference * 0.236\n",
    "    level2 = high_price - difference * 0.382\n",
    "    level3 = high_price - difference * 0.618\n",
    "    return level1, level2, level3\n",
    "\n",
    "def calculate_bollinger_bands(prices, window, num_of_std=2):\n",
    "    SMA= prices.rolling(window=window).mean()\n",
    "    STD = prices.rolling(window=window).std()\n",
    "    UpperBand = SMA + (STD * num_of_std)\n",
    "    LowerBand = SMA - (STD * num_of_std)\n",
    "    return UpperBand,LowerBand\n",
    "\n",
    "def calculate_percentage_change(prices, window):\n",
    "\n",
    "    pc = []\n",
    "    \n",
    "    for i in range(len(prices)):\n",
    "        if i < window:\n",
    "            pc.append(pd.NA)\n",
    "        else:\n",
    "            start_price = prices[i - window]\n",
    "            end_price = prices[i]\n",
    "            pc.append((end_price - start_price) / start_price * 100)\n",
    "    return pc"
   ]
  },
  {
   "cell_type": "code",
   "execution_count": 690,
   "metadata": {},
   "outputs": [],
   "source": [
    "def apply_techinal_indicators(df):\n",
    "\n",
    "    df['WMA'] = calculate_wma(df['Adj Close'], 14)\n",
    "\n",
    "    df['RSI'] = calculate_rsi(df['Adj Close'], 14)\n",
    "\n",
    "    df['BUB'],df['BLB'] = calculate_bollinger_bands(df['Adj Close'], 14)\n",
    "\n",
    "    df['PC'] = calculate_percentage_change(df['Adj Close'], 28)\n",
    "    return df\n",
    "\n",
    "#level1,level2,level3 = calculate_fibonacci_levels(new_df['Adj Close'], 14)\n",
    "#new_df['Fib 23.6%'] = level1\n",
    "#new_df['Fib 38.2%'] = level2\n",
    "#new_df['Fib 61.8%'] = level3\n"
   ]
  },
  {
   "cell_type": "code",
   "execution_count": 691,
   "metadata": {},
   "outputs": [],
   "source": [
    "# Step 8: Generate buy, sell, and neutral signals for WMA\n",
    "def calcualte_signal_by_techinal_indicators(df):\n",
    "    df['WMA Signal'] = np.where(df['Adj Close'] < df['WMA'], 1,\n",
    "                                    np.where(df['Adj Close'] > df['WMA'], -1, 0))\n",
    "\n",
    "    # Step 9: Generate buy, sell, and neutral signals for RSI\n",
    "    df['RSI Signal'] = np.where(df['RSI'] < 30, 1,\n",
    "                                    np.where(df['RSI'] > 70, -1, 0))\n",
    "\n",
    "\n",
    "    # Step 9: Generate buy, sell, and neutral signals for RSI\n",
    "\n",
    "    df['PC Signal'] = np.where(df['PC'] < -5, 1,\n",
    "                                    np.where(df['PC'] > 15, -1, 0))\n",
    "\n",
    "\n",
    "    df['BB Signal'] = np.where(df['Adj Close'] < df['BLB'], 1,\n",
    "                                    np.where(df['Adj Close'] > df['BUB'], -1, 0))\n",
    "    return df\n",
    "\n",
    "##bb, parabolic sar\n",
    "\n",
    "#new_df['All Signal'] = np.where((new_df['WMA Signal'] == 'Buy') & (new_df['RSI Signal'] == 'Buy') & (new_df['Fib Signal'] == 'Buy'), 'Buy',\n",
    "#                                np.where((new_df['WMA Signal'] == 'Sell') & (new_df['RSI Signal'] == 'Sell') & (new_df['Fib Signal'] == 'Sell'), 'Sell', 'Neutral'))\n",
    "\n",
    "#new_df['All Signal'] = np.where((new_df['WMA Signal'] == 'Buy') & (new_df['RSI Signal'] == 'Buy') & (new_df['Fib Signal'] == 'Buy'), 'Buy',\n",
    "#                                np.where((new_df['WMA Signal'] == 'Sell') & (new_df['RSI Signal'] == 'Sell') & (new_df['Fib Signal'] == 'Sell'), 'Sell', 'Neutral'))\n"
   ]
  },
  {
   "cell_type": "code",
   "execution_count": 692,
   "metadata": {},
   "outputs": [],
   "source": [
    "def calculate_profit(adj_close,signal, initial_cash=10000):\n",
    "    cash = initial_cash\n",
    "    stock = 0\n",
    "    portfolio_value = []\n",
    "     # Filter dataframe between entry and exit dates\n",
    "    for i in range(len(adj_close)):\n",
    "        if signal.iloc[i] == 1 and cash > 0:\n",
    "            # Buy as many stocks as possible with available cash\n",
    "            stock = cash / adj_close.iloc[i]\n",
    "            cash = 0\n",
    "            #print(singal,df.iloc[i][\"Date\"], \"Buy\")\n",
    "        elif signal.iloc[i] == -1 and stock > 0:\n",
    "            # Sell all stocks\n",
    "            cash = stock * adj_close.iloc[i]\n",
    "            stock = 0\n",
    "            #print(singal,df.iloc[i][\"Date\"], \"Sell\")\n",
    "        # Calculate the current value of the portfolio\n",
    "        current_value = cash + stock * adj_close.iloc[i]\n",
    "        portfolio_value.append(current_value)\n",
    "\n",
    "    final_value = cash + stock * adj_close.iloc[-1]\n",
    "    profit = final_value - initial_cash\n",
    "    profit_percentage = (profit / initial_cash) * 100\n",
    "  #  print(df)\n",
    "    return profit, portfolio_value, profit_percentage\n",
    "\n",
    "\n"
   ]
  },
  {
   "cell_type": "code",
   "execution_count": 693,
   "metadata": {},
   "outputs": [],
   "source": [
    "def plot(ticker, signal, df):\n",
    "   \n",
    "    fig = go.Figure()\n",
    "\n",
    "    # Plot Adjusted Close Price\n",
    "    fig.add_trace(go.Scatter(x=df['Date'], y=df['Adj Close'], mode='lines', name='Adj Close', line=dict(color='blue')))\n",
    "\n",
    "    if signal == \"WMA Signal\":\n",
    "        fig.add_trace(go.Scatter(x=df['Date'], y=df['WMA'], mode='lines', name='WMA', line=dict(color='orange')))\n",
    "    elif signal == \"RSI Signal\":\n",
    "        fig.add_trace(go.Scatter(x=df['Date'], y=df['RSI'], mode='lines', name='RSI', line=dict(color='orange')))\n",
    "    elif signal == \"BB Signal\":\n",
    "        fig.add_trace(go.Scatter(x=df['Date'], y=df['BUB'], mode='lines', name='BUB', line=dict(color='orange')))\n",
    "        fig.add_trace(go.Scatter(x=df['Date'], y=df['BLB'], mode='lines', name='BLB', line=dict(color='orange')))\n",
    "\n",
    "    df_buy_signals = df[df[signal] == 1]\n",
    "    df_sell_signals = df[df[signal] == -1]\n",
    "    \n",
    "    fig.add_trace(go.Scatter(x=df_buy_signals['Date'], y=df_buy_signals['Adj Close'], mode='markers', name='Buy Signal',\n",
    "                             marker=dict(symbol='triangle-up', size=10, color='green')))\n",
    "    fig.add_trace(go.Scatter(x=df_sell_signals['Date'], y=df_sell_signals['Adj Close'], mode='markers', name='Sell Signal',\n",
    "                             marker=dict(symbol='triangle-down', size=10, color='red')))\n",
    "    \n",
    "    fig.update_layout(\n",
    "        title=f'{ticker} Stock Analysis {signal}',\n",
    "        xaxis_title='Date',\n",
    "        yaxis_title='Price',\n",
    "        legend=dict(x=0, y=1),\n",
    "        xaxis=dict(rangeslider=dict(visible=True)),\n",
    "        template='plotly_dark',\n",
    "        height=600,\n",
    "        width=1000\n",
    "    )\n",
    "\n",
    "    fig.show()\n",
    "\n",
    "def plot2(title, x,y,x_buy,y_buy,x_sell,y_sell):\n",
    "   \n",
    "    fig = go.Figure()\n",
    "\n",
    "    # Plot Adjusted Close Price\n",
    "    fig.add_trace(go.Scatter(x=x, y=y, mode='lines', name='Adj Close', line=dict(color='blue')))\n",
    "    \n",
    "    fig.add_trace(go.Scatter(x=x_buy, y=y_buy, mode='markers', name='Buy Signal',\n",
    "                             marker=dict(symbol='triangle-up', size=10, color='green')))\n",
    "    fig.add_trace(go.Scatter(x=x_sell, y=y_sell, mode='markers', name='Sell Signal',\n",
    "                             marker=dict(symbol='triangle-down', size=10, color='red')))\n",
    "    \n",
    "    fig.update_layout(\n",
    "        title=f'{title} Stock Analysis',\n",
    "        xaxis_title='Date',\n",
    "        yaxis_title='Price',\n",
    "        legend=dict(x=0, y=1),\n",
    "        xaxis=dict(rangeslider=dict(visible=True)),\n",
    "        template='plotly_dark',\n",
    "        height=600,\n",
    "        width=1000\n",
    "    )\n",
    "\n",
    "    fig.show()"
   ]
  },
  {
   "cell_type": "code",
   "execution_count": 694,
   "metadata": {},
   "outputs": [],
   "source": [
    "\n",
    "def plot_profit(ticker,signal,df,entry_date,exit_date):\n",
    "  \n",
    "    df = df[(df['Date'] >= entry_date) & (df['Date'] <= exit_date)]\n",
    "    \n",
    "    plt.figure(figsize=(20, 7))\n",
    "\n",
    "    # Plot Adjusted Close Price\n",
    "    plt.plot(df['Date'], df['Adj Close'], label='Adj Close', color='blue')\n",
    "\n",
    "    if(signal==\"WMA Signal\"):\n",
    "        plt.plot(df['Date'], df['WMA'], label='WMA', color='orange')\n",
    "    if(signal==\"RSI Signal\"):\n",
    "        plt.plot(df['Date'], df['RSI'], label='RSI', color='orange')\n",
    "    \n",
    "    if(signal==\"BB Signal\"):\n",
    "        plt.plot(df['Date'], df['BUB'], label='BUB', color='orange')\n",
    "        plt.plot(df['Date'], df['BLB'], label='BLB', color='orange')\n",
    "\n",
    "    df_buy_signals = df[df[signal] == 1]\n",
    "    df_sell_signals = df[df[signal] == -1]\n",
    "    \n",
    "    plt.scatter(df_buy_signals['Date'], df_buy_signals['Adj Close'], label='Buy Signal', marker='^', color='green', alpha=1)\n",
    "    plt.scatter(df_sell_signals['Date'], df_sell_signals['Adj Close'], label='Sell Signal', marker='v', color='red', alpha=1)\n",
    "    \n",
    "\n",
    "    # Plot Fibonacci Levels\n",
    "    #plt.plot(df['Date'], df['BUB'], color='r', linestyle='--', label='BUB')\n",
    "    #plt.plot(df['Date'], df['BLB'], color='g', linestyle='--', label='BLB')\n",
    "\n",
    "\n",
    "    plt.title(f'{ticker} Stock Analysis {signal}')\n",
    "    plt.xlabel('Date')\n",
    "    plt.ylabel('Price')\n",
    "    plt.legend()\n",
    "    plt.grid(True)\n",
    "    plt.show()"
   ]
  },
  {
   "cell_type": "code",
   "execution_count": 695,
   "metadata": {},
   "outputs": [],
   "source": [
    "# Specify entry and exit dates\n",
    "def calculate_all_profit(ticker,df):\n",
    "    pc_profit, pc_portfolio_value, pc_profit_percentage  = calculate_profit(df[\"Adj Close\"],df[\"PC Signal\"])\n",
    "    print(f\"PC Signal : Final Profit: ${pc_profit:.2f}, {pc_profit_percentage.round(2)}%\")\n",
    "    \n",
    "    wam_profit, wam_portfolio_value, wam_profit_percentage = calculate_profit(df[\"Adj Close\"],df[\"WMA Signal\"])\n",
    "    print(f\"WMA Signal : Final Profit: ${wam_profit:.2f}, {wam_profit_percentage.round(2)}%\")\n",
    "\n",
    "    rsi_profit, rsi_portfolio_value, rsi_profit_percentage = calculate_profit(df[\"Adj Close\"],df[\"RSI Signal\"])\n",
    "    print(f\"RSI Signal : Final Profit: ${rsi_profit:.2f}, {rsi_profit_percentage.round(2)}%\")\n",
    "\n",
    "    bb_profit, bb_portfolio_value, bb_profit_percentage = calculate_profit(df[\"Adj Close\"],df[\"BB Signal\"])\n",
    "    print(f\"BB Signal : Final Profit: ${bb_profit:.2f}, {bb_profit_percentage.round(2)}%\")\n",
    "\n",
    "    plot(ticker,\"PC Signal\",df)\n",
    "    plot(ticker,\"WMA Signal\",df)\n",
    "    plot(ticker,\"RSI Signal\",df)\n",
    "    plot(ticker,\"BB Signal\",df)\n",
    "    "
   ]
  },
  {
   "cell_type": "code",
   "execution_count": 696,
   "metadata": {},
   "outputs": [],
   "source": [
    "def MLLogistic(df_train):\n",
    "        \n",
    "    # Create features and target\n",
    "    feature_list = ['Adj Close','WMA']\n",
    "    features = df_train[['Date','Adj Close','WMA']]\n",
    "    target = df_train['WMA Signal']  # Using SMA Signal as target for this example\n",
    "\n",
    "    # # Split the data\n",
    "    X_train, X_test, y_train, y_test = train_test_split(features, target, test_size=0.3, random_state=42)\n",
    "    X_train_wo_date =X_train[feature_list]\n",
    "    X_test_wo_date = X_test[feature_list]\n",
    "    # Standardize the features\n",
    "    scaler = StandardScaler()\n",
    "    X_train_scaled = scaler.fit_transform(X_train_wo_date)\n",
    "    X_test_scaled = scaler.transform(X_test_wo_date)\n",
    "\n",
    "    # Train the logistic regression model\n",
    "    model = LogisticRegression(max_iter=1000)\n",
    "    model.fit(X_train_scaled, y_train)\n",
    "\n",
    "    # Make predictions\n",
    "    y_pred = model.predict(X_test_scaled)\n",
    "\n",
    "    # Evaluate the model\n",
    "    print(confusion_matrix(y_test, y_pred))\n",
    "    print(classification_report(y_test, y_pred))\n",
    "    return model, scaler\n",
    "   \n",
    "    \n",
    "    \n"
   ]
  },
  {
   "cell_type": "code",
   "execution_count": 697,
   "metadata": {},
   "outputs": [],
   "source": [
    "def MLLogisticTest(model,scaler,df):\n",
    "\n",
    "    features = df[['Adj Close','WMA']]\n",
    "    X_test_scaled = scaler.transform(features)\n",
    "    y_pred = model.predict(X_test_scaled)\n",
    "    return y_pred\n",
    "\n"
   ]
  },
  {
   "cell_type": "code",
   "execution_count": 698,
   "metadata": {},
   "outputs": [
    {
     "name": "stdout",
     "output_type": "stream",
     "text": [
      "[[692  63]\n",
      " [  0 682]]\n",
      "              precision    recall  f1-score   support\n",
      "\n",
      "          -1       1.00      0.92      0.96       755\n",
      "           1       0.92      1.00      0.96       682\n",
      "\n",
      "    accuracy                           0.96      1437\n",
      "   macro avg       0.96      0.96      0.96      1437\n",
      "weighted avg       0.96      0.96      0.96      1437\n",
      "\n",
      "Logistic WMA Signal : Final Profit: $4758.75, 47.59%\n"
     ]
    },
    {
     "data": {
      "application/vnd.plotly.v1+json": {
       "config": {
        "plotlyServerURL": "https://plot.ly"
       },
       "data": [
        {
         "line": {
          "color": "blue"
         },
         "mode": "lines",
         "name": "Adj Close",
         "type": "scatter",
         "x": [
          "1998-12-31T00:00:00",
          "1999-01-04T00:00:00",
          "1999-01-05T00:00:00",
          "1999-01-06T00:00:00",
          "1999-01-07T00:00:00",
          "1999-01-08T00:00:00",
          "1999-01-11T00:00:00",
          "1999-01-12T00:00:00",
          "1999-01-13T00:00:00",
          "1999-01-14T00:00:00",
          "1999-01-15T00:00:00",
          "1999-01-19T00:00:00",
          "1999-01-20T00:00:00",
          "1999-01-21T00:00:00",
          "1999-01-22T00:00:00",
          "1999-01-25T00:00:00",
          "1999-01-26T00:00:00",
          "1999-01-27T00:00:00",
          "1999-01-28T00:00:00",
          "1999-01-29T00:00:00",
          "1999-02-01T00:00:00",
          "1999-02-02T00:00:00",
          "1999-02-03T00:00:00",
          "1999-02-04T00:00:00",
          "1999-02-05T00:00:00",
          "1999-02-08T00:00:00",
          "1999-02-09T00:00:00",
          "1999-02-10T00:00:00",
          "1999-02-11T00:00:00",
          "1999-02-12T00:00:00",
          "1999-02-16T00:00:00",
          "1999-02-17T00:00:00",
          "1999-02-18T00:00:00",
          "1999-02-19T00:00:00",
          "1999-02-22T00:00:00",
          "1999-02-23T00:00:00",
          "1999-02-24T00:00:00",
          "1999-02-25T00:00:00",
          "1999-02-26T00:00:00",
          "1999-03-01T00:00:00",
          "1999-03-02T00:00:00",
          "1999-03-03T00:00:00",
          "1999-03-04T00:00:00",
          "1999-03-05T00:00:00",
          "1999-03-08T00:00:00",
          "1999-03-09T00:00:00",
          "1999-03-10T00:00:00",
          "1999-03-11T00:00:00",
          "1999-03-12T00:00:00",
          "1999-03-15T00:00:00",
          "1999-03-16T00:00:00",
          "1999-03-17T00:00:00",
          "1999-03-18T00:00:00",
          "1999-03-19T00:00:00",
          "1999-03-22T00:00:00",
          "1999-03-23T00:00:00",
          "1999-03-24T00:00:00",
          "1999-03-25T00:00:00",
          "1999-03-26T00:00:00",
          "1999-03-29T00:00:00",
          "1999-03-30T00:00:00",
          "1999-03-31T00:00:00",
          "1999-04-01T00:00:00",
          "1999-04-05T00:00:00",
          "1999-04-06T00:00:00",
          "1999-04-07T00:00:00",
          "1999-04-08T00:00:00",
          "1999-04-09T00:00:00",
          "1999-04-12T00:00:00",
          "1999-04-13T00:00:00",
          "1999-04-14T00:00:00",
          "1999-04-15T00:00:00",
          "1999-04-16T00:00:00",
          "1999-04-19T00:00:00",
          "1999-04-20T00:00:00",
          "1999-04-21T00:00:00",
          "1999-04-22T00:00:00",
          "1999-04-23T00:00:00",
          "1999-04-26T00:00:00",
          "1999-04-27T00:00:00",
          "1999-04-28T00:00:00",
          "1999-04-29T00:00:00",
          "1999-04-30T00:00:00",
          "1999-05-03T00:00:00",
          "1999-05-04T00:00:00",
          "1999-05-05T00:00:00",
          "1999-05-06T00:00:00",
          "1999-05-07T00:00:00",
          "1999-05-10T00:00:00",
          "1999-05-11T00:00:00",
          "1999-05-12T00:00:00",
          "1999-05-13T00:00:00",
          "1999-05-14T00:00:00",
          "1999-05-17T00:00:00",
          "1999-05-18T00:00:00",
          "1999-05-19T00:00:00",
          "1999-05-20T00:00:00",
          "1999-05-21T00:00:00",
          "1999-05-24T00:00:00",
          "1999-05-25T00:00:00",
          "1999-05-26T00:00:00",
          "1999-05-27T00:00:00",
          "1999-05-28T00:00:00",
          "1999-06-01T00:00:00",
          "1999-06-02T00:00:00",
          "1999-06-03T00:00:00",
          "1999-06-04T00:00:00",
          "1999-06-07T00:00:00",
          "1999-06-08T00:00:00",
          "1999-06-09T00:00:00",
          "1999-06-10T00:00:00",
          "1999-06-11T00:00:00",
          "1999-06-14T00:00:00",
          "1999-06-15T00:00:00",
          "1999-06-16T00:00:00",
          "1999-06-17T00:00:00",
          "1999-06-18T00:00:00",
          "1999-06-21T00:00:00",
          "1999-06-22T00:00:00",
          "1999-06-23T00:00:00",
          "1999-06-24T00:00:00",
          "1999-06-25T00:00:00",
          "1999-06-28T00:00:00",
          "1999-06-29T00:00:00",
          "1999-06-30T00:00:00",
          "1999-07-01T00:00:00",
          "1999-07-02T00:00:00",
          "1999-07-06T00:00:00",
          "1999-07-07T00:00:00",
          "1999-07-08T00:00:00",
          "1999-07-09T00:00:00",
          "1999-07-12T00:00:00",
          "1999-07-13T00:00:00",
          "1999-07-14T00:00:00",
          "1999-07-15T00:00:00",
          "1999-07-16T00:00:00",
          "1999-07-19T00:00:00",
          "1999-07-20T00:00:00",
          "1999-07-21T00:00:00",
          "1999-07-22T00:00:00",
          "1999-07-23T00:00:00",
          "1999-07-26T00:00:00",
          "1999-07-27T00:00:00",
          "1999-07-28T00:00:00",
          "1999-07-29T00:00:00",
          "1999-07-30T00:00:00",
          "1999-08-02T00:00:00",
          "1999-08-03T00:00:00",
          "1999-08-04T00:00:00",
          "1999-08-05T00:00:00",
          "1999-08-06T00:00:00",
          "1999-08-09T00:00:00",
          "1999-08-10T00:00:00",
          "1999-08-11T00:00:00",
          "1999-08-12T00:00:00",
          "1999-08-13T00:00:00",
          "1999-08-16T00:00:00",
          "1999-08-17T00:00:00",
          "1999-08-18T00:00:00",
          "1999-08-19T00:00:00",
          "1999-08-20T00:00:00",
          "1999-08-23T00:00:00",
          "1999-08-24T00:00:00",
          "1999-08-25T00:00:00",
          "1999-08-26T00:00:00",
          "1999-08-27T00:00:00",
          "1999-08-30T00:00:00",
          "1999-08-31T00:00:00",
          "1999-09-01T00:00:00",
          "1999-09-02T00:00:00",
          "1999-09-03T00:00:00",
          "1999-09-07T00:00:00",
          "1999-09-08T00:00:00",
          "1999-09-09T00:00:00",
          "1999-09-10T00:00:00",
          "1999-09-13T00:00:00",
          "1999-09-14T00:00:00",
          "1999-09-15T00:00:00",
          "1999-09-16T00:00:00",
          "1999-09-17T00:00:00",
          "1999-09-20T00:00:00",
          "1999-09-21T00:00:00",
          "1999-09-22T00:00:00",
          "1999-09-23T00:00:00",
          "1999-09-24T00:00:00",
          "1999-09-27T00:00:00",
          "1999-09-28T00:00:00",
          "1999-09-29T00:00:00",
          "1999-09-30T00:00:00",
          "1999-10-01T00:00:00",
          "1999-10-04T00:00:00",
          "1999-10-05T00:00:00",
          "1999-10-06T00:00:00",
          "1999-10-07T00:00:00",
          "1999-10-08T00:00:00",
          "1999-10-11T00:00:00",
          "1999-10-12T00:00:00",
          "1999-10-13T00:00:00",
          "1999-10-14T00:00:00",
          "1999-10-15T00:00:00",
          "1999-10-18T00:00:00",
          "1999-10-19T00:00:00",
          "1999-10-20T00:00:00",
          "1999-10-21T00:00:00",
          "1999-10-22T00:00:00",
          "1999-10-25T00:00:00",
          "1999-10-26T00:00:00",
          "1999-10-27T00:00:00",
          "1999-10-28T00:00:00",
          "1999-10-29T00:00:00",
          "1999-11-01T00:00:00",
          "1999-11-02T00:00:00",
          "1999-11-03T00:00:00",
          "1999-11-04T00:00:00",
          "1999-11-05T00:00:00",
          "1999-11-08T00:00:00",
          "1999-11-09T00:00:00",
          "1999-11-10T00:00:00",
          "1999-11-11T00:00:00",
          "1999-11-12T00:00:00",
          "1999-11-15T00:00:00",
          "1999-11-16T00:00:00",
          "1999-11-17T00:00:00",
          "1999-11-18T00:00:00",
          "1999-11-19T00:00:00",
          "1999-11-22T00:00:00",
          "1999-11-23T00:00:00",
          "1999-11-24T00:00:00",
          "1999-11-26T00:00:00",
          "1999-11-29T00:00:00",
          "1999-11-30T00:00:00",
          "1999-12-01T00:00:00",
          "1999-12-02T00:00:00",
          "1999-12-03T00:00:00",
          "1999-12-06T00:00:00",
          "1999-12-07T00:00:00",
          "1999-12-08T00:00:00",
          "1999-12-09T00:00:00",
          "1999-12-10T00:00:00",
          "1999-12-13T00:00:00",
          "1999-12-14T00:00:00",
          "1999-12-15T00:00:00",
          "1999-12-16T00:00:00",
          "1999-12-17T00:00:00",
          "1999-12-20T00:00:00",
          "1999-12-21T00:00:00",
          "1999-12-22T00:00:00",
          "1999-12-23T00:00:00",
          "1999-12-27T00:00:00",
          "1999-12-28T00:00:00",
          "1999-12-29T00:00:00",
          "1999-12-30T00:00:00"
         ],
         "y": [
          0.3090239465236664,
          0.3113836944103241,
          0.3269526958465576,
          0.3151577711105346,
          0.3396910727024078,
          0.3396910727024078,
          0.3462957143783569,
          0.3481828570365906,
          0.3510142564773559,
          0.3123271465301513,
          0.3118553757667541,
          0.3085522055625915,
          0.3061934411525726,
          0.2929832637310028,
          0.2925113439559936,
          0.2972298860549927,
          0.3057216107845306,
          0.3028910160064697,
          0.3085522055625915,
          0.3109118640422821,
          0.3090239465236664,
          0.2958137392997741,
          0.3033627569675445,
          0.2859067916870117,
          0.274111807346344,
          0.2849632501602173,
          0.2807165086269378,
          0.2892090976238251,
          0.2991170287132263,
          0.28449147939682,
          0.2892090976238251,
          0.2793012261390686,
          0.2717530727386474,
          0.2807165086269378,
          0.2901526689529419,
          0.2901526689529419,
          0.2826035916805267,
          0.2788293957710266,
          0.2627887427806854,
          0.2547678649425506,
          0.2613734006881714,
          0.2580710351467132,
          0.2524090707302093,
          0.2505220174789428,
          0.2594864070415497,
          0.2575993835926056,
          0.2458043694496154,
          0.2429728209972381,
          0.2505220174789428,
          0.2571267783641815,
          0.2679781317710876,
          0.2571267783641815,
          0.2679781317710876,
          0.2528809010982513,
          0.2646757662296295,
          0.2491067796945572,
          0.2542961537837982,
          0.2552396357059479,
          0.2509937882423401,
          0.2670345902442932,
          0.2708095908164978,
          0.2712813317775726,
          0.2722248136997223,
          0.279772937297821,
          0.2868502736091614,
          0.2802447974681854,
          0.2783577144145965,
          0.2774141430854797,
          0.2736400663852691,
          0.2613734006881714,
          0.2682139873504638,
          0.2698652148246765,
          0.2675062716007232,
          0.2557114064693451,
          0.2571267783641815,
          0.2594864070415497,
          0.2745836079120636,
          0.2958137392997741,
          0.3090239465236664,
          0.3453521430492401,
          0.3326137661933899,
          0.3245938420295715,
          0.3472393155097961,
          0.3741314709186554,
          0.3510142564773559,
          0.3547883331775665,
          0.335916131734848,
          0.3462957143783569,
          0.3415782153606415,
          0.3378040790557861,
          0.3510142564773559,
          0.348654568195343,
          0.3349727392196655,
          0.3349727392196655,
          0.3415782153606415,
          0.3411063551902771,
          0.3208188712596893,
          0.3316702842712402,
          0.3165730834007263,
          0.3132706582546234,
          0.3326137661933899,
          0.3283678591251373,
          0.3326137661933899,
          0.3382757604122162,
          0.3514859080314636,
          0.3580906391143799,
          0.3632809221744537,
          0.369413822889328,
          0.3599777519702911,
          0.3656397759914398,
          0.3632809221744537,
          0.3505425155162811,
          0.3429934084415436,
          0.3477111160755157,
          0.36186483502388,
          0.3500707447528839,
          0.3557318150997162,
          0.3510142564773559,
          0.3425215780735016,
          0.3297832608222961,
          0.3194035589694977,
          0.3184600174427032,
          0.3212906122207641,
          0.3425215780735016,
          0.3495980501174927,
          0.3420498371124267,
          0.3495980501174927,
          0.357618898153305,
          0.3764910697937011,
          0.4114032387733459,
          0.4198958575725555,
          0.4114032387733459,
          0.4052703380584717,
          0.4222545325756073,
          0.4019671678543091,
          0.4005518555641174,
          0.4109314382076263,
          0.3991366326808929,
          0.4081009328365326,
          0.3953624665737152,
          0.4024388194084167,
          0.3845110833644867,
          0.4052703380584717,
          0.4104598462581634,
          0.4066855609416961,
          0.4203675985336303,
          0.4208393692970276,
          0.4170652627944946,
          0.4062139391899109,
          0.4132903218269348,
          0.4085726141929626,
          0.4109314382076263,
          0.4180087149143219,
          0.4505620896816253,
          0.4529208242893219,
          0.4533925950527191,
          0.4566959142684936,
          0.455279678106308,
          0.4538644850254059,
          0.4434855580329895,
          0.4467878937721252,
          0.4585829973220825,
          0.4557523131370544,
          0.463300347328186,
          0.4689625203609466,
          0.4887774288654327,
          0.4684898257255554,
          0.4925514757633209,
          0.5180282592773438,
          0.5326535701751709,
          0.5548282861709595,
          0.576531171798706,
          0.5623774528503418,
          0.5703972578048706,
          0.5845510959625244,
          0.5661515593528748,
          0.5873817801475525,
          0.5689821243286133,
          0.5798336267471313,
          0.580777108669281,
          0.5968177318572998,
          0.5227468013763428,
          0.5307666659355164,
          0.4779258370399475,
          0.49019256234169,
          0.4628289937973022,
          0.4500902891159057,
          0.4458443522453308,
          0.4779258370399475,
          0.4658951759338379,
          0.4873621463775635,
          0.5128389596939087,
          0.5071770548820496,
          0.5010440349578857,
          0.4949103593826294,
          0.5034030079841614,
          0.5109518766403198,
          0.4833523631095886,
          0.5524694323539734,
          0.5628489851951599,
          0.5529413223266602,
          0.5170848369598389,
          0.5670952200889587,
          0.5746443271636963,
          0.5581306219100952,
          0.5623774528503418,
          0.5666232705116272,
          0.576531171798706,
          0.5878543257713318,
          0.604838490486145,
          0.5859665274620056,
          0.6057820320129395,
          0.6152180433273315,
          0.6312589645385742,
          0.6666428446769714,
          0.7275044918060303,
          0.6765507459640503,
          0.6902328133583069,
          0.6963663697242737,
          0.6840996742248535,
          0.6751354932785034,
          0.6883456707000732,
          0.681269109249115,
          0.6765507459640503,
          0.6977816820144653,
          0.6840996742248535,
          0.7006123661994934,
          0.7147661447525024,
          0.7175965905189514,
          0.7138223648071289,
          0.738827645778656,
          0.7779865264892578,
          0.8317707180976868,
          0.8680989146232605,
          0.8756470680236816,
          0.8893293738365173,
          0.830826997756958,
          0.7944989800453186,
          0.7775146961212158,
          0.7473201751708984,
          0.7161812782287598,
          0.7322221994400024,
          0.742129921913147,
          0.7548683285713196,
          0.7397711873054504,
          0.7737404704093933,
          0.754396378993988,
          0.7812889218330383,
          0.7496787905693054,
          0.7411864399909973,
          0.7600587010383606,
          0.7572272419929504
         ]
        },
        {
         "marker": {
          "color": "green",
          "size": 10,
          "symbol": "triangle-up"
         },
         "mode": "markers",
         "name": "Buy Signal",
         "type": "scatter",
         "x": [
          "1999-01-14T00:00:00",
          "1999-01-15T00:00:00",
          "1999-01-19T00:00:00",
          "1999-01-20T00:00:00",
          "1999-01-21T00:00:00",
          "1999-01-22T00:00:00",
          "1999-01-25T00:00:00",
          "1999-01-26T00:00:00",
          "1999-01-27T00:00:00",
          "1999-02-02T00:00:00",
          "1999-02-03T00:00:00",
          "1999-02-04T00:00:00",
          "1999-02-05T00:00:00",
          "1999-02-08T00:00:00",
          "1999-02-09T00:00:00",
          "1999-02-10T00:00:00",
          "1999-02-12T00:00:00",
          "1999-02-16T00:00:00",
          "1999-02-17T00:00:00",
          "1999-02-18T00:00:00",
          "1999-02-19T00:00:00",
          "1999-02-24T00:00:00",
          "1999-02-25T00:00:00",
          "1999-02-26T00:00:00",
          "1999-03-01T00:00:00",
          "1999-03-02T00:00:00",
          "1999-03-03T00:00:00",
          "1999-03-04T00:00:00",
          "1999-03-05T00:00:00",
          "1999-03-08T00:00:00",
          "1999-03-09T00:00:00",
          "1999-03-10T00:00:00",
          "1999-03-11T00:00:00",
          "1999-03-12T00:00:00",
          "1999-03-19T00:00:00",
          "1999-03-23T00:00:00",
          "1999-03-24T00:00:00",
          "1999-03-25T00:00:00",
          "1999-03-26T00:00:00",
          "1999-04-12T00:00:00",
          "1999-04-13T00:00:00",
          "1999-04-14T00:00:00",
          "1999-04-15T00:00:00",
          "1999-04-16T00:00:00",
          "1999-04-19T00:00:00",
          "1999-04-20T00:00:00",
          "1999-04-21T00:00:00",
          "1999-05-11T00:00:00",
          "1999-05-14T00:00:00",
          "1999-05-17T00:00:00",
          "1999-05-18T00:00:00",
          "1999-05-19T00:00:00",
          "1999-05-20T00:00:00",
          "1999-05-21T00:00:00",
          "1999-05-24T00:00:00",
          "1999-05-25T00:00:00",
          "1999-05-27T00:00:00",
          "1999-06-11T00:00:00",
          "1999-06-14T00:00:00",
          "1999-06-15T00:00:00",
          "1999-06-17T00:00:00",
          "1999-06-21T00:00:00",
          "1999-06-22T00:00:00",
          "1999-06-23T00:00:00",
          "1999-06-24T00:00:00",
          "1999-06-25T00:00:00",
          "1999-06-28T00:00:00",
          "1999-07-20T00:00:00",
          "1999-07-22T00:00:00",
          "1999-07-23T00:00:00",
          "1999-07-26T00:00:00",
          "1999-08-04T00:00:00",
          "1999-08-06T00:00:00",
          "1999-09-21T00:00:00",
          "1999-09-22T00:00:00",
          "1999-09-23T00:00:00",
          "1999-09-24T00:00:00",
          "1999-09-27T00:00:00",
          "1999-09-28T00:00:00",
          "1999-09-29T00:00:00",
          "1999-09-30T00:00:00",
          "1999-10-01T00:00:00",
          "1999-10-13T00:00:00",
          "1999-10-19T00:00:00",
          "1999-11-18T00:00:00",
          "1999-12-09T00:00:00",
          "1999-12-10T00:00:00",
          "1999-12-13T00:00:00",
          "1999-12-14T00:00:00",
          "1999-12-15T00:00:00",
          "1999-12-16T00:00:00",
          "1999-12-17T00:00:00",
          "1999-12-20T00:00:00",
          "1999-12-22T00:00:00",
          "1999-12-27T00:00:00",
          "1999-12-28T00:00:00"
         ],
         "y": [
          0.3123271465301513,
          0.3118553757667541,
          0.3085522055625915,
          0.3061934411525726,
          0.2929832637310028,
          0.2925113439559936,
          0.2972298860549927,
          0.3057216107845306,
          0.3028910160064697,
          0.2958137392997741,
          0.3033627569675445,
          0.2859067916870117,
          0.274111807346344,
          0.2849632501602173,
          0.2807165086269378,
          0.2892090976238251,
          0.28449147939682,
          0.2892090976238251,
          0.2793012261390686,
          0.2717530727386474,
          0.2807165086269378,
          0.2826035916805267,
          0.2788293957710266,
          0.2627887427806854,
          0.2547678649425506,
          0.2613734006881714,
          0.2580710351467132,
          0.2524090707302093,
          0.2505220174789428,
          0.2594864070415497,
          0.2575993835926056,
          0.2458043694496154,
          0.2429728209972381,
          0.2505220174789428,
          0.2528809010982513,
          0.2491067796945572,
          0.2542961537837982,
          0.2552396357059479,
          0.2509937882423401,
          0.2736400663852691,
          0.2613734006881714,
          0.2682139873504638,
          0.2698652148246765,
          0.2675062716007232,
          0.2557114064693451,
          0.2571267783641815,
          0.2594864070415497,
          0.3378040790557861,
          0.3349727392196655,
          0.3349727392196655,
          0.3415782153606415,
          0.3411063551902771,
          0.3208188712596893,
          0.3316702842712402,
          0.3165730834007263,
          0.3132706582546234,
          0.3283678591251373,
          0.3505425155162811,
          0.3429934084415436,
          0.3477111160755157,
          0.3500707447528839,
          0.3510142564773559,
          0.3425215780735016,
          0.3297832608222961,
          0.3194035589694977,
          0.3184600174427032,
          0.3212906122207641,
          0.3991366326808929,
          0.3953624665737152,
          0.4024388194084167,
          0.3845110833644867,
          0.4062139391899109,
          0.4085726141929626,
          0.5227468013763428,
          0.5307666659355164,
          0.4779258370399475,
          0.49019256234169,
          0.4628289937973022,
          0.4500902891159057,
          0.4458443522453308,
          0.4779258370399475,
          0.4658951759338379,
          0.4833523631095886,
          0.5170848369598389,
          0.6765507459640503,
          0.7944989800453186,
          0.7775146961212158,
          0.7473201751708984,
          0.7161812782287598,
          0.7322221994400024,
          0.742129921913147,
          0.7548683285713196,
          0.7397711873054504,
          0.754396378993988,
          0.7496787905693054,
          0.7411864399909973
         ]
        },
        {
         "marker": {
          "color": "red",
          "size": 10,
          "symbol": "triangle-down"
         },
         "mode": "markers",
         "name": "Sell Signal",
         "type": "scatter",
         "x": [
          "1998-12-31T00:00:00",
          "1999-01-04T00:00:00",
          "1999-01-05T00:00:00",
          "1999-01-06T00:00:00",
          "1999-01-07T00:00:00",
          "1999-01-08T00:00:00",
          "1999-01-11T00:00:00",
          "1999-01-12T00:00:00",
          "1999-01-13T00:00:00",
          "1999-01-28T00:00:00",
          "1999-01-29T00:00:00",
          "1999-02-01T00:00:00",
          "1999-02-11T00:00:00",
          "1999-02-22T00:00:00",
          "1999-02-23T00:00:00",
          "1999-03-15T00:00:00",
          "1999-03-16T00:00:00",
          "1999-03-17T00:00:00",
          "1999-03-18T00:00:00",
          "1999-03-22T00:00:00",
          "1999-03-29T00:00:00",
          "1999-03-30T00:00:00",
          "1999-03-31T00:00:00",
          "1999-04-01T00:00:00",
          "1999-04-05T00:00:00",
          "1999-04-06T00:00:00",
          "1999-04-07T00:00:00",
          "1999-04-08T00:00:00",
          "1999-04-09T00:00:00",
          "1999-04-22T00:00:00",
          "1999-04-23T00:00:00",
          "1999-04-26T00:00:00",
          "1999-04-27T00:00:00",
          "1999-04-28T00:00:00",
          "1999-04-29T00:00:00",
          "1999-04-30T00:00:00",
          "1999-05-03T00:00:00",
          "1999-05-04T00:00:00",
          "1999-05-05T00:00:00",
          "1999-05-06T00:00:00",
          "1999-05-07T00:00:00",
          "1999-05-10T00:00:00",
          "1999-05-12T00:00:00",
          "1999-05-13T00:00:00",
          "1999-05-26T00:00:00",
          "1999-05-28T00:00:00",
          "1999-06-01T00:00:00",
          "1999-06-02T00:00:00",
          "1999-06-03T00:00:00",
          "1999-06-04T00:00:00",
          "1999-06-07T00:00:00",
          "1999-06-08T00:00:00",
          "1999-06-09T00:00:00",
          "1999-06-10T00:00:00",
          "1999-06-16T00:00:00",
          "1999-06-18T00:00:00",
          "1999-06-29T00:00:00",
          "1999-06-30T00:00:00",
          "1999-07-01T00:00:00",
          "1999-07-02T00:00:00",
          "1999-07-06T00:00:00",
          "1999-07-07T00:00:00",
          "1999-07-08T00:00:00",
          "1999-07-09T00:00:00",
          "1999-07-12T00:00:00",
          "1999-07-13T00:00:00",
          "1999-07-14T00:00:00",
          "1999-07-15T00:00:00",
          "1999-07-16T00:00:00",
          "1999-07-19T00:00:00",
          "1999-07-21T00:00:00",
          "1999-07-27T00:00:00",
          "1999-07-28T00:00:00",
          "1999-07-29T00:00:00",
          "1999-07-30T00:00:00",
          "1999-08-02T00:00:00",
          "1999-08-03T00:00:00",
          "1999-08-05T00:00:00",
          "1999-08-09T00:00:00",
          "1999-08-10T00:00:00",
          "1999-08-11T00:00:00",
          "1999-08-12T00:00:00",
          "1999-08-13T00:00:00",
          "1999-08-16T00:00:00",
          "1999-08-17T00:00:00",
          "1999-08-18T00:00:00",
          "1999-08-19T00:00:00",
          "1999-08-20T00:00:00",
          "1999-08-23T00:00:00",
          "1999-08-24T00:00:00",
          "1999-08-25T00:00:00",
          "1999-08-26T00:00:00",
          "1999-08-27T00:00:00",
          "1999-08-30T00:00:00",
          "1999-08-31T00:00:00",
          "1999-09-01T00:00:00",
          "1999-09-02T00:00:00",
          "1999-09-03T00:00:00",
          "1999-09-07T00:00:00",
          "1999-09-08T00:00:00",
          "1999-09-09T00:00:00",
          "1999-09-10T00:00:00",
          "1999-09-13T00:00:00",
          "1999-09-14T00:00:00",
          "1999-09-15T00:00:00",
          "1999-09-16T00:00:00",
          "1999-09-17T00:00:00",
          "1999-09-20T00:00:00",
          "1999-10-04T00:00:00",
          "1999-10-05T00:00:00",
          "1999-10-06T00:00:00",
          "1999-10-07T00:00:00",
          "1999-10-08T00:00:00",
          "1999-10-11T00:00:00",
          "1999-10-12T00:00:00",
          "1999-10-14T00:00:00",
          "1999-10-15T00:00:00",
          "1999-10-18T00:00:00",
          "1999-10-20T00:00:00",
          "1999-10-21T00:00:00",
          "1999-10-22T00:00:00",
          "1999-10-25T00:00:00",
          "1999-10-26T00:00:00",
          "1999-10-27T00:00:00",
          "1999-10-28T00:00:00",
          "1999-10-29T00:00:00",
          "1999-11-01T00:00:00",
          "1999-11-02T00:00:00",
          "1999-11-03T00:00:00",
          "1999-11-04T00:00:00",
          "1999-11-05T00:00:00",
          "1999-11-08T00:00:00",
          "1999-11-09T00:00:00",
          "1999-11-10T00:00:00",
          "1999-11-11T00:00:00",
          "1999-11-12T00:00:00",
          "1999-11-15T00:00:00",
          "1999-11-16T00:00:00",
          "1999-11-17T00:00:00",
          "1999-11-19T00:00:00",
          "1999-11-22T00:00:00",
          "1999-11-23T00:00:00",
          "1999-11-24T00:00:00",
          "1999-11-26T00:00:00",
          "1999-11-29T00:00:00",
          "1999-11-30T00:00:00",
          "1999-12-01T00:00:00",
          "1999-12-02T00:00:00",
          "1999-12-03T00:00:00",
          "1999-12-06T00:00:00",
          "1999-12-07T00:00:00",
          "1999-12-08T00:00:00",
          "1999-12-21T00:00:00",
          "1999-12-23T00:00:00",
          "1999-12-29T00:00:00",
          "1999-12-30T00:00:00"
         ],
         "y": [
          0.3090239465236664,
          0.3113836944103241,
          0.3269526958465576,
          0.3151577711105346,
          0.3396910727024078,
          0.3396910727024078,
          0.3462957143783569,
          0.3481828570365906,
          0.3510142564773559,
          0.3085522055625915,
          0.3109118640422821,
          0.3090239465236664,
          0.2991170287132263,
          0.2901526689529419,
          0.2901526689529419,
          0.2571267783641815,
          0.2679781317710876,
          0.2571267783641815,
          0.2679781317710876,
          0.2646757662296295,
          0.2670345902442932,
          0.2708095908164978,
          0.2712813317775726,
          0.2722248136997223,
          0.279772937297821,
          0.2868502736091614,
          0.2802447974681854,
          0.2783577144145965,
          0.2774141430854797,
          0.2745836079120636,
          0.2958137392997741,
          0.3090239465236664,
          0.3453521430492401,
          0.3326137661933899,
          0.3245938420295715,
          0.3472393155097961,
          0.3741314709186554,
          0.3510142564773559,
          0.3547883331775665,
          0.335916131734848,
          0.3462957143783569,
          0.3415782153606415,
          0.3510142564773559,
          0.348654568195343,
          0.3326137661933899,
          0.3326137661933899,
          0.3382757604122162,
          0.3514859080314636,
          0.3580906391143799,
          0.3632809221744537,
          0.369413822889328,
          0.3599777519702911,
          0.3656397759914398,
          0.3632809221744537,
          0.36186483502388,
          0.3557318150997162,
          0.3425215780735016,
          0.3495980501174927,
          0.3420498371124267,
          0.3495980501174927,
          0.357618898153305,
          0.3764910697937011,
          0.4114032387733459,
          0.4198958575725555,
          0.4114032387733459,
          0.4052703380584717,
          0.4222545325756073,
          0.4019671678543091,
          0.4005518555641174,
          0.4109314382076263,
          0.4081009328365326,
          0.4052703380584717,
          0.4104598462581634,
          0.4066855609416961,
          0.4203675985336303,
          0.4208393692970276,
          0.4170652627944946,
          0.4132903218269348,
          0.4109314382076263,
          0.4180087149143219,
          0.4505620896816253,
          0.4529208242893219,
          0.4533925950527191,
          0.4566959142684936,
          0.455279678106308,
          0.4538644850254059,
          0.4434855580329895,
          0.4467878937721252,
          0.4585829973220825,
          0.4557523131370544,
          0.463300347328186,
          0.4689625203609466,
          0.4887774288654327,
          0.4684898257255554,
          0.4925514757633209,
          0.5180282592773438,
          0.5326535701751709,
          0.5548282861709595,
          0.576531171798706,
          0.5623774528503418,
          0.5703972578048706,
          0.5845510959625244,
          0.5661515593528748,
          0.5873817801475525,
          0.5689821243286133,
          0.5798336267471313,
          0.580777108669281,
          0.5968177318572998,
          0.4873621463775635,
          0.5128389596939087,
          0.5071770548820496,
          0.5010440349578857,
          0.4949103593826294,
          0.5034030079841614,
          0.5109518766403198,
          0.5524694323539734,
          0.5628489851951599,
          0.5529413223266602,
          0.5670952200889587,
          0.5746443271636963,
          0.5581306219100952,
          0.5623774528503418,
          0.5666232705116272,
          0.576531171798706,
          0.5878543257713318,
          0.604838490486145,
          0.5859665274620056,
          0.6057820320129395,
          0.6152180433273315,
          0.6312589645385742,
          0.6666428446769714,
          0.7275044918060303,
          0.6765507459640503,
          0.6902328133583069,
          0.6963663697242737,
          0.6840996742248535,
          0.6751354932785034,
          0.6883456707000732,
          0.681269109249115,
          0.6977816820144653,
          0.6840996742248535,
          0.7006123661994934,
          0.7147661447525024,
          0.7175965905189514,
          0.7138223648071289,
          0.738827645778656,
          0.7779865264892578,
          0.8317707180976868,
          0.8680989146232605,
          0.8756470680236816,
          0.8893293738365173,
          0.830826997756958,
          0.7737404704093933,
          0.7812889218330383,
          0.7600587010383606,
          0.7572272419929504
         ]
        }
       ],
       "layout": {
        "height": 600,
        "legend": {
         "x": 0,
         "y": 1
        },
        "template": {
         "data": {
          "bar": [
           {
            "error_x": {
             "color": "#f2f5fa"
            },
            "error_y": {
             "color": "#f2f5fa"
            },
            "marker": {
             "line": {
              "color": "rgb(17,17,17)",
              "width": 0.5
             },
             "pattern": {
              "fillmode": "overlay",
              "size": 10,
              "solidity": 0.2
             }
            },
            "type": "bar"
           }
          ],
          "barpolar": [
           {
            "marker": {
             "line": {
              "color": "rgb(17,17,17)",
              "width": 0.5
             },
             "pattern": {
              "fillmode": "overlay",
              "size": 10,
              "solidity": 0.2
             }
            },
            "type": "barpolar"
           }
          ],
          "carpet": [
           {
            "aaxis": {
             "endlinecolor": "#A2B1C6",
             "gridcolor": "#506784",
             "linecolor": "#506784",
             "minorgridcolor": "#506784",
             "startlinecolor": "#A2B1C6"
            },
            "baxis": {
             "endlinecolor": "#A2B1C6",
             "gridcolor": "#506784",
             "linecolor": "#506784",
             "minorgridcolor": "#506784",
             "startlinecolor": "#A2B1C6"
            },
            "type": "carpet"
           }
          ],
          "choropleth": [
           {
            "colorbar": {
             "outlinewidth": 0,
             "ticks": ""
            },
            "type": "choropleth"
           }
          ],
          "contour": [
           {
            "colorbar": {
             "outlinewidth": 0,
             "ticks": ""
            },
            "colorscale": [
             [
              0,
              "#0d0887"
             ],
             [
              0.1111111111111111,
              "#46039f"
             ],
             [
              0.2222222222222222,
              "#7201a8"
             ],
             [
              0.3333333333333333,
              "#9c179e"
             ],
             [
              0.4444444444444444,
              "#bd3786"
             ],
             [
              0.5555555555555556,
              "#d8576b"
             ],
             [
              0.6666666666666666,
              "#ed7953"
             ],
             [
              0.7777777777777778,
              "#fb9f3a"
             ],
             [
              0.8888888888888888,
              "#fdca26"
             ],
             [
              1,
              "#f0f921"
             ]
            ],
            "type": "contour"
           }
          ],
          "contourcarpet": [
           {
            "colorbar": {
             "outlinewidth": 0,
             "ticks": ""
            },
            "type": "contourcarpet"
           }
          ],
          "heatmap": [
           {
            "colorbar": {
             "outlinewidth": 0,
             "ticks": ""
            },
            "colorscale": [
             [
              0,
              "#0d0887"
             ],
             [
              0.1111111111111111,
              "#46039f"
             ],
             [
              0.2222222222222222,
              "#7201a8"
             ],
             [
              0.3333333333333333,
              "#9c179e"
             ],
             [
              0.4444444444444444,
              "#bd3786"
             ],
             [
              0.5555555555555556,
              "#d8576b"
             ],
             [
              0.6666666666666666,
              "#ed7953"
             ],
             [
              0.7777777777777778,
              "#fb9f3a"
             ],
             [
              0.8888888888888888,
              "#fdca26"
             ],
             [
              1,
              "#f0f921"
             ]
            ],
            "type": "heatmap"
           }
          ],
          "heatmapgl": [
           {
            "colorbar": {
             "outlinewidth": 0,
             "ticks": ""
            },
            "colorscale": [
             [
              0,
              "#0d0887"
             ],
             [
              0.1111111111111111,
              "#46039f"
             ],
             [
              0.2222222222222222,
              "#7201a8"
             ],
             [
              0.3333333333333333,
              "#9c179e"
             ],
             [
              0.4444444444444444,
              "#bd3786"
             ],
             [
              0.5555555555555556,
              "#d8576b"
             ],
             [
              0.6666666666666666,
              "#ed7953"
             ],
             [
              0.7777777777777778,
              "#fb9f3a"
             ],
             [
              0.8888888888888888,
              "#fdca26"
             ],
             [
              1,
              "#f0f921"
             ]
            ],
            "type": "heatmapgl"
           }
          ],
          "histogram": [
           {
            "marker": {
             "pattern": {
              "fillmode": "overlay",
              "size": 10,
              "solidity": 0.2
             }
            },
            "type": "histogram"
           }
          ],
          "histogram2d": [
           {
            "colorbar": {
             "outlinewidth": 0,
             "ticks": ""
            },
            "colorscale": [
             [
              0,
              "#0d0887"
             ],
             [
              0.1111111111111111,
              "#46039f"
             ],
             [
              0.2222222222222222,
              "#7201a8"
             ],
             [
              0.3333333333333333,
              "#9c179e"
             ],
             [
              0.4444444444444444,
              "#bd3786"
             ],
             [
              0.5555555555555556,
              "#d8576b"
             ],
             [
              0.6666666666666666,
              "#ed7953"
             ],
             [
              0.7777777777777778,
              "#fb9f3a"
             ],
             [
              0.8888888888888888,
              "#fdca26"
             ],
             [
              1,
              "#f0f921"
             ]
            ],
            "type": "histogram2d"
           }
          ],
          "histogram2dcontour": [
           {
            "colorbar": {
             "outlinewidth": 0,
             "ticks": ""
            },
            "colorscale": [
             [
              0,
              "#0d0887"
             ],
             [
              0.1111111111111111,
              "#46039f"
             ],
             [
              0.2222222222222222,
              "#7201a8"
             ],
             [
              0.3333333333333333,
              "#9c179e"
             ],
             [
              0.4444444444444444,
              "#bd3786"
             ],
             [
              0.5555555555555556,
              "#d8576b"
             ],
             [
              0.6666666666666666,
              "#ed7953"
             ],
             [
              0.7777777777777778,
              "#fb9f3a"
             ],
             [
              0.8888888888888888,
              "#fdca26"
             ],
             [
              1,
              "#f0f921"
             ]
            ],
            "type": "histogram2dcontour"
           }
          ],
          "mesh3d": [
           {
            "colorbar": {
             "outlinewidth": 0,
             "ticks": ""
            },
            "type": "mesh3d"
           }
          ],
          "parcoords": [
           {
            "line": {
             "colorbar": {
              "outlinewidth": 0,
              "ticks": ""
             }
            },
            "type": "parcoords"
           }
          ],
          "pie": [
           {
            "automargin": true,
            "type": "pie"
           }
          ],
          "scatter": [
           {
            "marker": {
             "line": {
              "color": "#283442"
             }
            },
            "type": "scatter"
           }
          ],
          "scatter3d": [
           {
            "line": {
             "colorbar": {
              "outlinewidth": 0,
              "ticks": ""
             }
            },
            "marker": {
             "colorbar": {
              "outlinewidth": 0,
              "ticks": ""
             }
            },
            "type": "scatter3d"
           }
          ],
          "scattercarpet": [
           {
            "marker": {
             "colorbar": {
              "outlinewidth": 0,
              "ticks": ""
             }
            },
            "type": "scattercarpet"
           }
          ],
          "scattergeo": [
           {
            "marker": {
             "colorbar": {
              "outlinewidth": 0,
              "ticks": ""
             }
            },
            "type": "scattergeo"
           }
          ],
          "scattergl": [
           {
            "marker": {
             "line": {
              "color": "#283442"
             }
            },
            "type": "scattergl"
           }
          ],
          "scattermapbox": [
           {
            "marker": {
             "colorbar": {
              "outlinewidth": 0,
              "ticks": ""
             }
            },
            "type": "scattermapbox"
           }
          ],
          "scatterpolar": [
           {
            "marker": {
             "colorbar": {
              "outlinewidth": 0,
              "ticks": ""
             }
            },
            "type": "scatterpolar"
           }
          ],
          "scatterpolargl": [
           {
            "marker": {
             "colorbar": {
              "outlinewidth": 0,
              "ticks": ""
             }
            },
            "type": "scatterpolargl"
           }
          ],
          "scatterternary": [
           {
            "marker": {
             "colorbar": {
              "outlinewidth": 0,
              "ticks": ""
             }
            },
            "type": "scatterternary"
           }
          ],
          "surface": [
           {
            "colorbar": {
             "outlinewidth": 0,
             "ticks": ""
            },
            "colorscale": [
             [
              0,
              "#0d0887"
             ],
             [
              0.1111111111111111,
              "#46039f"
             ],
             [
              0.2222222222222222,
              "#7201a8"
             ],
             [
              0.3333333333333333,
              "#9c179e"
             ],
             [
              0.4444444444444444,
              "#bd3786"
             ],
             [
              0.5555555555555556,
              "#d8576b"
             ],
             [
              0.6666666666666666,
              "#ed7953"
             ],
             [
              0.7777777777777778,
              "#fb9f3a"
             ],
             [
              0.8888888888888888,
              "#fdca26"
             ],
             [
              1,
              "#f0f921"
             ]
            ],
            "type": "surface"
           }
          ],
          "table": [
           {
            "cells": {
             "fill": {
              "color": "#506784"
             },
             "line": {
              "color": "rgb(17,17,17)"
             }
            },
            "header": {
             "fill": {
              "color": "#2a3f5f"
             },
             "line": {
              "color": "rgb(17,17,17)"
             }
            },
            "type": "table"
           }
          ]
         },
         "layout": {
          "annotationdefaults": {
           "arrowcolor": "#f2f5fa",
           "arrowhead": 0,
           "arrowwidth": 1
          },
          "autotypenumbers": "strict",
          "coloraxis": {
           "colorbar": {
            "outlinewidth": 0,
            "ticks": ""
           }
          },
          "colorscale": {
           "diverging": [
            [
             0,
             "#8e0152"
            ],
            [
             0.1,
             "#c51b7d"
            ],
            [
             0.2,
             "#de77ae"
            ],
            [
             0.3,
             "#f1b6da"
            ],
            [
             0.4,
             "#fde0ef"
            ],
            [
             0.5,
             "#f7f7f7"
            ],
            [
             0.6,
             "#e6f5d0"
            ],
            [
             0.7,
             "#b8e186"
            ],
            [
             0.8,
             "#7fbc41"
            ],
            [
             0.9,
             "#4d9221"
            ],
            [
             1,
             "#276419"
            ]
           ],
           "sequential": [
            [
             0,
             "#0d0887"
            ],
            [
             0.1111111111111111,
             "#46039f"
            ],
            [
             0.2222222222222222,
             "#7201a8"
            ],
            [
             0.3333333333333333,
             "#9c179e"
            ],
            [
             0.4444444444444444,
             "#bd3786"
            ],
            [
             0.5555555555555556,
             "#d8576b"
            ],
            [
             0.6666666666666666,
             "#ed7953"
            ],
            [
             0.7777777777777778,
             "#fb9f3a"
            ],
            [
             0.8888888888888888,
             "#fdca26"
            ],
            [
             1,
             "#f0f921"
            ]
           ],
           "sequentialminus": [
            [
             0,
             "#0d0887"
            ],
            [
             0.1111111111111111,
             "#46039f"
            ],
            [
             0.2222222222222222,
             "#7201a8"
            ],
            [
             0.3333333333333333,
             "#9c179e"
            ],
            [
             0.4444444444444444,
             "#bd3786"
            ],
            [
             0.5555555555555556,
             "#d8576b"
            ],
            [
             0.6666666666666666,
             "#ed7953"
            ],
            [
             0.7777777777777778,
             "#fb9f3a"
            ],
            [
             0.8888888888888888,
             "#fdca26"
            ],
            [
             1,
             "#f0f921"
            ]
           ]
          },
          "colorway": [
           "#636efa",
           "#EF553B",
           "#00cc96",
           "#ab63fa",
           "#FFA15A",
           "#19d3f3",
           "#FF6692",
           "#B6E880",
           "#FF97FF",
           "#FECB52"
          ],
          "font": {
           "color": "#f2f5fa"
          },
          "geo": {
           "bgcolor": "rgb(17,17,17)",
           "lakecolor": "rgb(17,17,17)",
           "landcolor": "rgb(17,17,17)",
           "showlakes": true,
           "showland": true,
           "subunitcolor": "#506784"
          },
          "hoverlabel": {
           "align": "left"
          },
          "hovermode": "closest",
          "mapbox": {
           "style": "dark"
          },
          "paper_bgcolor": "rgb(17,17,17)",
          "plot_bgcolor": "rgb(17,17,17)",
          "polar": {
           "angularaxis": {
            "gridcolor": "#506784",
            "linecolor": "#506784",
            "ticks": ""
           },
           "bgcolor": "rgb(17,17,17)",
           "radialaxis": {
            "gridcolor": "#506784",
            "linecolor": "#506784",
            "ticks": ""
           }
          },
          "scene": {
           "xaxis": {
            "backgroundcolor": "rgb(17,17,17)",
            "gridcolor": "#506784",
            "gridwidth": 2,
            "linecolor": "#506784",
            "showbackground": true,
            "ticks": "",
            "zerolinecolor": "#C8D4E3"
           },
           "yaxis": {
            "backgroundcolor": "rgb(17,17,17)",
            "gridcolor": "#506784",
            "gridwidth": 2,
            "linecolor": "#506784",
            "showbackground": true,
            "ticks": "",
            "zerolinecolor": "#C8D4E3"
           },
           "zaxis": {
            "backgroundcolor": "rgb(17,17,17)",
            "gridcolor": "#506784",
            "gridwidth": 2,
            "linecolor": "#506784",
            "showbackground": true,
            "ticks": "",
            "zerolinecolor": "#C8D4E3"
           }
          },
          "shapedefaults": {
           "line": {
            "color": "#f2f5fa"
           }
          },
          "sliderdefaults": {
           "bgcolor": "#C8D4E3",
           "bordercolor": "rgb(17,17,17)",
           "borderwidth": 1,
           "tickwidth": 0
          },
          "ternary": {
           "aaxis": {
            "gridcolor": "#506784",
            "linecolor": "#506784",
            "ticks": ""
           },
           "baxis": {
            "gridcolor": "#506784",
            "linecolor": "#506784",
            "ticks": ""
           },
           "bgcolor": "rgb(17,17,17)",
           "caxis": {
            "gridcolor": "#506784",
            "linecolor": "#506784",
            "ticks": ""
           }
          },
          "title": {
           "x": 0.05
          },
          "updatemenudefaults": {
           "bgcolor": "#506784",
           "borderwidth": 0
          },
          "xaxis": {
           "automargin": true,
           "gridcolor": "#283442",
           "linecolor": "#506784",
           "ticks": "",
           "title": {
            "standoff": 15
           },
           "zerolinecolor": "#283442",
           "zerolinewidth": 2
          },
          "yaxis": {
           "automargin": true,
           "gridcolor": "#283442",
           "linecolor": "#506784",
           "ticks": "",
           "title": {
            "standoff": 15
           },
           "zerolinecolor": "#283442",
           "zerolinewidth": 2
          }
         }
        },
        "title": {
         "text": "AAPL Stock Analysis Logistic WMA Signal"
        },
        "width": 1000,
        "xaxis": {
         "rangeslider": {
          "visible": true
         },
         "title": {
          "text": "Date"
         }
        },
        "yaxis": {
         "title": {
          "text": "Price"
         }
        }
       }
      }
     },
     "metadata": {},
     "output_type": "display_data"
    },
    {
     "name": "stdout",
     "output_type": "stream",
     "text": [
      "WMA Signal : Final Profit: $5115.00, 51.15%\n"
     ]
    },
    {
     "data": {
      "application/vnd.plotly.v1+json": {
       "config": {
        "plotlyServerURL": "https://plot.ly"
       },
       "data": [
        {
         "line": {
          "color": "blue"
         },
         "mode": "lines",
         "name": "Adj Close",
         "type": "scatter",
         "x": [
          "1998-12-31T00:00:00",
          "1999-01-04T00:00:00",
          "1999-01-05T00:00:00",
          "1999-01-06T00:00:00",
          "1999-01-07T00:00:00",
          "1999-01-08T00:00:00",
          "1999-01-11T00:00:00",
          "1999-01-12T00:00:00",
          "1999-01-13T00:00:00",
          "1999-01-14T00:00:00",
          "1999-01-15T00:00:00",
          "1999-01-19T00:00:00",
          "1999-01-20T00:00:00",
          "1999-01-21T00:00:00",
          "1999-01-22T00:00:00",
          "1999-01-25T00:00:00",
          "1999-01-26T00:00:00",
          "1999-01-27T00:00:00",
          "1999-01-28T00:00:00",
          "1999-01-29T00:00:00",
          "1999-02-01T00:00:00",
          "1999-02-02T00:00:00",
          "1999-02-03T00:00:00",
          "1999-02-04T00:00:00",
          "1999-02-05T00:00:00",
          "1999-02-08T00:00:00",
          "1999-02-09T00:00:00",
          "1999-02-10T00:00:00",
          "1999-02-11T00:00:00",
          "1999-02-12T00:00:00",
          "1999-02-16T00:00:00",
          "1999-02-17T00:00:00",
          "1999-02-18T00:00:00",
          "1999-02-19T00:00:00",
          "1999-02-22T00:00:00",
          "1999-02-23T00:00:00",
          "1999-02-24T00:00:00",
          "1999-02-25T00:00:00",
          "1999-02-26T00:00:00",
          "1999-03-01T00:00:00",
          "1999-03-02T00:00:00",
          "1999-03-03T00:00:00",
          "1999-03-04T00:00:00",
          "1999-03-05T00:00:00",
          "1999-03-08T00:00:00",
          "1999-03-09T00:00:00",
          "1999-03-10T00:00:00",
          "1999-03-11T00:00:00",
          "1999-03-12T00:00:00",
          "1999-03-15T00:00:00",
          "1999-03-16T00:00:00",
          "1999-03-17T00:00:00",
          "1999-03-18T00:00:00",
          "1999-03-19T00:00:00",
          "1999-03-22T00:00:00",
          "1999-03-23T00:00:00",
          "1999-03-24T00:00:00",
          "1999-03-25T00:00:00",
          "1999-03-26T00:00:00",
          "1999-03-29T00:00:00",
          "1999-03-30T00:00:00",
          "1999-03-31T00:00:00",
          "1999-04-01T00:00:00",
          "1999-04-05T00:00:00",
          "1999-04-06T00:00:00",
          "1999-04-07T00:00:00",
          "1999-04-08T00:00:00",
          "1999-04-09T00:00:00",
          "1999-04-12T00:00:00",
          "1999-04-13T00:00:00",
          "1999-04-14T00:00:00",
          "1999-04-15T00:00:00",
          "1999-04-16T00:00:00",
          "1999-04-19T00:00:00",
          "1999-04-20T00:00:00",
          "1999-04-21T00:00:00",
          "1999-04-22T00:00:00",
          "1999-04-23T00:00:00",
          "1999-04-26T00:00:00",
          "1999-04-27T00:00:00",
          "1999-04-28T00:00:00",
          "1999-04-29T00:00:00",
          "1999-04-30T00:00:00",
          "1999-05-03T00:00:00",
          "1999-05-04T00:00:00",
          "1999-05-05T00:00:00",
          "1999-05-06T00:00:00",
          "1999-05-07T00:00:00",
          "1999-05-10T00:00:00",
          "1999-05-11T00:00:00",
          "1999-05-12T00:00:00",
          "1999-05-13T00:00:00",
          "1999-05-14T00:00:00",
          "1999-05-17T00:00:00",
          "1999-05-18T00:00:00",
          "1999-05-19T00:00:00",
          "1999-05-20T00:00:00",
          "1999-05-21T00:00:00",
          "1999-05-24T00:00:00",
          "1999-05-25T00:00:00",
          "1999-05-26T00:00:00",
          "1999-05-27T00:00:00",
          "1999-05-28T00:00:00",
          "1999-06-01T00:00:00",
          "1999-06-02T00:00:00",
          "1999-06-03T00:00:00",
          "1999-06-04T00:00:00",
          "1999-06-07T00:00:00",
          "1999-06-08T00:00:00",
          "1999-06-09T00:00:00",
          "1999-06-10T00:00:00",
          "1999-06-11T00:00:00",
          "1999-06-14T00:00:00",
          "1999-06-15T00:00:00",
          "1999-06-16T00:00:00",
          "1999-06-17T00:00:00",
          "1999-06-18T00:00:00",
          "1999-06-21T00:00:00",
          "1999-06-22T00:00:00",
          "1999-06-23T00:00:00",
          "1999-06-24T00:00:00",
          "1999-06-25T00:00:00",
          "1999-06-28T00:00:00",
          "1999-06-29T00:00:00",
          "1999-06-30T00:00:00",
          "1999-07-01T00:00:00",
          "1999-07-02T00:00:00",
          "1999-07-06T00:00:00",
          "1999-07-07T00:00:00",
          "1999-07-08T00:00:00",
          "1999-07-09T00:00:00",
          "1999-07-12T00:00:00",
          "1999-07-13T00:00:00",
          "1999-07-14T00:00:00",
          "1999-07-15T00:00:00",
          "1999-07-16T00:00:00",
          "1999-07-19T00:00:00",
          "1999-07-20T00:00:00",
          "1999-07-21T00:00:00",
          "1999-07-22T00:00:00",
          "1999-07-23T00:00:00",
          "1999-07-26T00:00:00",
          "1999-07-27T00:00:00",
          "1999-07-28T00:00:00",
          "1999-07-29T00:00:00",
          "1999-07-30T00:00:00",
          "1999-08-02T00:00:00",
          "1999-08-03T00:00:00",
          "1999-08-04T00:00:00",
          "1999-08-05T00:00:00",
          "1999-08-06T00:00:00",
          "1999-08-09T00:00:00",
          "1999-08-10T00:00:00",
          "1999-08-11T00:00:00",
          "1999-08-12T00:00:00",
          "1999-08-13T00:00:00",
          "1999-08-16T00:00:00",
          "1999-08-17T00:00:00",
          "1999-08-18T00:00:00",
          "1999-08-19T00:00:00",
          "1999-08-20T00:00:00",
          "1999-08-23T00:00:00",
          "1999-08-24T00:00:00",
          "1999-08-25T00:00:00",
          "1999-08-26T00:00:00",
          "1999-08-27T00:00:00",
          "1999-08-30T00:00:00",
          "1999-08-31T00:00:00",
          "1999-09-01T00:00:00",
          "1999-09-02T00:00:00",
          "1999-09-03T00:00:00",
          "1999-09-07T00:00:00",
          "1999-09-08T00:00:00",
          "1999-09-09T00:00:00",
          "1999-09-10T00:00:00",
          "1999-09-13T00:00:00",
          "1999-09-14T00:00:00",
          "1999-09-15T00:00:00",
          "1999-09-16T00:00:00",
          "1999-09-17T00:00:00",
          "1999-09-20T00:00:00",
          "1999-09-21T00:00:00",
          "1999-09-22T00:00:00",
          "1999-09-23T00:00:00",
          "1999-09-24T00:00:00",
          "1999-09-27T00:00:00",
          "1999-09-28T00:00:00",
          "1999-09-29T00:00:00",
          "1999-09-30T00:00:00",
          "1999-10-01T00:00:00",
          "1999-10-04T00:00:00",
          "1999-10-05T00:00:00",
          "1999-10-06T00:00:00",
          "1999-10-07T00:00:00",
          "1999-10-08T00:00:00",
          "1999-10-11T00:00:00",
          "1999-10-12T00:00:00",
          "1999-10-13T00:00:00",
          "1999-10-14T00:00:00",
          "1999-10-15T00:00:00",
          "1999-10-18T00:00:00",
          "1999-10-19T00:00:00",
          "1999-10-20T00:00:00",
          "1999-10-21T00:00:00",
          "1999-10-22T00:00:00",
          "1999-10-25T00:00:00",
          "1999-10-26T00:00:00",
          "1999-10-27T00:00:00",
          "1999-10-28T00:00:00",
          "1999-10-29T00:00:00",
          "1999-11-01T00:00:00",
          "1999-11-02T00:00:00",
          "1999-11-03T00:00:00",
          "1999-11-04T00:00:00",
          "1999-11-05T00:00:00",
          "1999-11-08T00:00:00",
          "1999-11-09T00:00:00",
          "1999-11-10T00:00:00",
          "1999-11-11T00:00:00",
          "1999-11-12T00:00:00",
          "1999-11-15T00:00:00",
          "1999-11-16T00:00:00",
          "1999-11-17T00:00:00",
          "1999-11-18T00:00:00",
          "1999-11-19T00:00:00",
          "1999-11-22T00:00:00",
          "1999-11-23T00:00:00",
          "1999-11-24T00:00:00",
          "1999-11-26T00:00:00",
          "1999-11-29T00:00:00",
          "1999-11-30T00:00:00",
          "1999-12-01T00:00:00",
          "1999-12-02T00:00:00",
          "1999-12-03T00:00:00",
          "1999-12-06T00:00:00",
          "1999-12-07T00:00:00",
          "1999-12-08T00:00:00",
          "1999-12-09T00:00:00",
          "1999-12-10T00:00:00",
          "1999-12-13T00:00:00",
          "1999-12-14T00:00:00",
          "1999-12-15T00:00:00",
          "1999-12-16T00:00:00",
          "1999-12-17T00:00:00",
          "1999-12-20T00:00:00",
          "1999-12-21T00:00:00",
          "1999-12-22T00:00:00",
          "1999-12-23T00:00:00",
          "1999-12-27T00:00:00",
          "1999-12-28T00:00:00",
          "1999-12-29T00:00:00",
          "1999-12-30T00:00:00"
         ],
         "y": [
          0.3090239465236664,
          0.3113836944103241,
          0.3269526958465576,
          0.3151577711105346,
          0.3396910727024078,
          0.3396910727024078,
          0.3462957143783569,
          0.3481828570365906,
          0.3510142564773559,
          0.3123271465301513,
          0.3118553757667541,
          0.3085522055625915,
          0.3061934411525726,
          0.2929832637310028,
          0.2925113439559936,
          0.2972298860549927,
          0.3057216107845306,
          0.3028910160064697,
          0.3085522055625915,
          0.3109118640422821,
          0.3090239465236664,
          0.2958137392997741,
          0.3033627569675445,
          0.2859067916870117,
          0.274111807346344,
          0.2849632501602173,
          0.2807165086269378,
          0.2892090976238251,
          0.2991170287132263,
          0.28449147939682,
          0.2892090976238251,
          0.2793012261390686,
          0.2717530727386474,
          0.2807165086269378,
          0.2901526689529419,
          0.2901526689529419,
          0.2826035916805267,
          0.2788293957710266,
          0.2627887427806854,
          0.2547678649425506,
          0.2613734006881714,
          0.2580710351467132,
          0.2524090707302093,
          0.2505220174789428,
          0.2594864070415497,
          0.2575993835926056,
          0.2458043694496154,
          0.2429728209972381,
          0.2505220174789428,
          0.2571267783641815,
          0.2679781317710876,
          0.2571267783641815,
          0.2679781317710876,
          0.2528809010982513,
          0.2646757662296295,
          0.2491067796945572,
          0.2542961537837982,
          0.2552396357059479,
          0.2509937882423401,
          0.2670345902442932,
          0.2708095908164978,
          0.2712813317775726,
          0.2722248136997223,
          0.279772937297821,
          0.2868502736091614,
          0.2802447974681854,
          0.2783577144145965,
          0.2774141430854797,
          0.2736400663852691,
          0.2613734006881714,
          0.2682139873504638,
          0.2698652148246765,
          0.2675062716007232,
          0.2557114064693451,
          0.2571267783641815,
          0.2594864070415497,
          0.2745836079120636,
          0.2958137392997741,
          0.3090239465236664,
          0.3453521430492401,
          0.3326137661933899,
          0.3245938420295715,
          0.3472393155097961,
          0.3741314709186554,
          0.3510142564773559,
          0.3547883331775665,
          0.335916131734848,
          0.3462957143783569,
          0.3415782153606415,
          0.3378040790557861,
          0.3510142564773559,
          0.348654568195343,
          0.3349727392196655,
          0.3349727392196655,
          0.3415782153606415,
          0.3411063551902771,
          0.3208188712596893,
          0.3316702842712402,
          0.3165730834007263,
          0.3132706582546234,
          0.3326137661933899,
          0.3283678591251373,
          0.3326137661933899,
          0.3382757604122162,
          0.3514859080314636,
          0.3580906391143799,
          0.3632809221744537,
          0.369413822889328,
          0.3599777519702911,
          0.3656397759914398,
          0.3632809221744537,
          0.3505425155162811,
          0.3429934084415436,
          0.3477111160755157,
          0.36186483502388,
          0.3500707447528839,
          0.3557318150997162,
          0.3510142564773559,
          0.3425215780735016,
          0.3297832608222961,
          0.3194035589694977,
          0.3184600174427032,
          0.3212906122207641,
          0.3425215780735016,
          0.3495980501174927,
          0.3420498371124267,
          0.3495980501174927,
          0.357618898153305,
          0.3764910697937011,
          0.4114032387733459,
          0.4198958575725555,
          0.4114032387733459,
          0.4052703380584717,
          0.4222545325756073,
          0.4019671678543091,
          0.4005518555641174,
          0.4109314382076263,
          0.3991366326808929,
          0.4081009328365326,
          0.3953624665737152,
          0.4024388194084167,
          0.3845110833644867,
          0.4052703380584717,
          0.4104598462581634,
          0.4066855609416961,
          0.4203675985336303,
          0.4208393692970276,
          0.4170652627944946,
          0.4062139391899109,
          0.4132903218269348,
          0.4085726141929626,
          0.4109314382076263,
          0.4180087149143219,
          0.4505620896816253,
          0.4529208242893219,
          0.4533925950527191,
          0.4566959142684936,
          0.455279678106308,
          0.4538644850254059,
          0.4434855580329895,
          0.4467878937721252,
          0.4585829973220825,
          0.4557523131370544,
          0.463300347328186,
          0.4689625203609466,
          0.4887774288654327,
          0.4684898257255554,
          0.4925514757633209,
          0.5180282592773438,
          0.5326535701751709,
          0.5548282861709595,
          0.576531171798706,
          0.5623774528503418,
          0.5703972578048706,
          0.5845510959625244,
          0.5661515593528748,
          0.5873817801475525,
          0.5689821243286133,
          0.5798336267471313,
          0.580777108669281,
          0.5968177318572998,
          0.5227468013763428,
          0.5307666659355164,
          0.4779258370399475,
          0.49019256234169,
          0.4628289937973022,
          0.4500902891159057,
          0.4458443522453308,
          0.4779258370399475,
          0.4658951759338379,
          0.4873621463775635,
          0.5128389596939087,
          0.5071770548820496,
          0.5010440349578857,
          0.4949103593826294,
          0.5034030079841614,
          0.5109518766403198,
          0.4833523631095886,
          0.5524694323539734,
          0.5628489851951599,
          0.5529413223266602,
          0.5170848369598389,
          0.5670952200889587,
          0.5746443271636963,
          0.5581306219100952,
          0.5623774528503418,
          0.5666232705116272,
          0.576531171798706,
          0.5878543257713318,
          0.604838490486145,
          0.5859665274620056,
          0.6057820320129395,
          0.6152180433273315,
          0.6312589645385742,
          0.6666428446769714,
          0.7275044918060303,
          0.6765507459640503,
          0.6902328133583069,
          0.6963663697242737,
          0.6840996742248535,
          0.6751354932785034,
          0.6883456707000732,
          0.681269109249115,
          0.6765507459640503,
          0.6977816820144653,
          0.6840996742248535,
          0.7006123661994934,
          0.7147661447525024,
          0.7175965905189514,
          0.7138223648071289,
          0.738827645778656,
          0.7779865264892578,
          0.8317707180976868,
          0.8680989146232605,
          0.8756470680236816,
          0.8893293738365173,
          0.830826997756958,
          0.7944989800453186,
          0.7775146961212158,
          0.7473201751708984,
          0.7161812782287598,
          0.7322221994400024,
          0.742129921913147,
          0.7548683285713196,
          0.7397711873054504,
          0.7737404704093933,
          0.754396378993988,
          0.7812889218330383,
          0.7496787905693054,
          0.7411864399909973,
          0.7600587010383606,
          0.7572272419929504
         ]
        },
        {
         "line": {
          "color": "orange"
         },
         "mode": "lines",
         "name": "WMA",
         "type": "scatter",
         "x": [
          "1998-12-31T00:00:00",
          "1999-01-04T00:00:00",
          "1999-01-05T00:00:00",
          "1999-01-06T00:00:00",
          "1999-01-07T00:00:00",
          "1999-01-08T00:00:00",
          "1999-01-11T00:00:00",
          "1999-01-12T00:00:00",
          "1999-01-13T00:00:00",
          "1999-01-14T00:00:00",
          "1999-01-15T00:00:00",
          "1999-01-19T00:00:00",
          "1999-01-20T00:00:00",
          "1999-01-21T00:00:00",
          "1999-01-22T00:00:00",
          "1999-01-25T00:00:00",
          "1999-01-26T00:00:00",
          "1999-01-27T00:00:00",
          "1999-01-28T00:00:00",
          "1999-01-29T00:00:00",
          "1999-02-01T00:00:00",
          "1999-02-02T00:00:00",
          "1999-02-03T00:00:00",
          "1999-02-04T00:00:00",
          "1999-02-05T00:00:00",
          "1999-02-08T00:00:00",
          "1999-02-09T00:00:00",
          "1999-02-10T00:00:00",
          "1999-02-11T00:00:00",
          "1999-02-12T00:00:00",
          "1999-02-16T00:00:00",
          "1999-02-17T00:00:00",
          "1999-02-18T00:00:00",
          "1999-02-19T00:00:00",
          "1999-02-22T00:00:00",
          "1999-02-23T00:00:00",
          "1999-02-24T00:00:00",
          "1999-02-25T00:00:00",
          "1999-02-26T00:00:00",
          "1999-03-01T00:00:00",
          "1999-03-02T00:00:00",
          "1999-03-03T00:00:00",
          "1999-03-04T00:00:00",
          "1999-03-05T00:00:00",
          "1999-03-08T00:00:00",
          "1999-03-09T00:00:00",
          "1999-03-10T00:00:00",
          "1999-03-11T00:00:00",
          "1999-03-12T00:00:00",
          "1999-03-15T00:00:00",
          "1999-03-16T00:00:00",
          "1999-03-17T00:00:00",
          "1999-03-18T00:00:00",
          "1999-03-19T00:00:00",
          "1999-03-22T00:00:00",
          "1999-03-23T00:00:00",
          "1999-03-24T00:00:00",
          "1999-03-25T00:00:00",
          "1999-03-26T00:00:00",
          "1999-03-29T00:00:00",
          "1999-03-30T00:00:00",
          "1999-03-31T00:00:00",
          "1999-04-01T00:00:00",
          "1999-04-05T00:00:00",
          "1999-04-06T00:00:00",
          "1999-04-07T00:00:00",
          "1999-04-08T00:00:00",
          "1999-04-09T00:00:00",
          "1999-04-12T00:00:00",
          "1999-04-13T00:00:00",
          "1999-04-14T00:00:00",
          "1999-04-15T00:00:00",
          "1999-04-16T00:00:00",
          "1999-04-19T00:00:00",
          "1999-04-20T00:00:00",
          "1999-04-21T00:00:00",
          "1999-04-22T00:00:00",
          "1999-04-23T00:00:00",
          "1999-04-26T00:00:00",
          "1999-04-27T00:00:00",
          "1999-04-28T00:00:00",
          "1999-04-29T00:00:00",
          "1999-04-30T00:00:00",
          "1999-05-03T00:00:00",
          "1999-05-04T00:00:00",
          "1999-05-05T00:00:00",
          "1999-05-06T00:00:00",
          "1999-05-07T00:00:00",
          "1999-05-10T00:00:00",
          "1999-05-11T00:00:00",
          "1999-05-12T00:00:00",
          "1999-05-13T00:00:00",
          "1999-05-14T00:00:00",
          "1999-05-17T00:00:00",
          "1999-05-18T00:00:00",
          "1999-05-19T00:00:00",
          "1999-05-20T00:00:00",
          "1999-05-21T00:00:00",
          "1999-05-24T00:00:00",
          "1999-05-25T00:00:00",
          "1999-05-26T00:00:00",
          "1999-05-27T00:00:00",
          "1999-05-28T00:00:00",
          "1999-06-01T00:00:00",
          "1999-06-02T00:00:00",
          "1999-06-03T00:00:00",
          "1999-06-04T00:00:00",
          "1999-06-07T00:00:00",
          "1999-06-08T00:00:00",
          "1999-06-09T00:00:00",
          "1999-06-10T00:00:00",
          "1999-06-11T00:00:00",
          "1999-06-14T00:00:00",
          "1999-06-15T00:00:00",
          "1999-06-16T00:00:00",
          "1999-06-17T00:00:00",
          "1999-06-18T00:00:00",
          "1999-06-21T00:00:00",
          "1999-06-22T00:00:00",
          "1999-06-23T00:00:00",
          "1999-06-24T00:00:00",
          "1999-06-25T00:00:00",
          "1999-06-28T00:00:00",
          "1999-06-29T00:00:00",
          "1999-06-30T00:00:00",
          "1999-07-01T00:00:00",
          "1999-07-02T00:00:00",
          "1999-07-06T00:00:00",
          "1999-07-07T00:00:00",
          "1999-07-08T00:00:00",
          "1999-07-09T00:00:00",
          "1999-07-12T00:00:00",
          "1999-07-13T00:00:00",
          "1999-07-14T00:00:00",
          "1999-07-15T00:00:00",
          "1999-07-16T00:00:00",
          "1999-07-19T00:00:00",
          "1999-07-20T00:00:00",
          "1999-07-21T00:00:00",
          "1999-07-22T00:00:00",
          "1999-07-23T00:00:00",
          "1999-07-26T00:00:00",
          "1999-07-27T00:00:00",
          "1999-07-28T00:00:00",
          "1999-07-29T00:00:00",
          "1999-07-30T00:00:00",
          "1999-08-02T00:00:00",
          "1999-08-03T00:00:00",
          "1999-08-04T00:00:00",
          "1999-08-05T00:00:00",
          "1999-08-06T00:00:00",
          "1999-08-09T00:00:00",
          "1999-08-10T00:00:00",
          "1999-08-11T00:00:00",
          "1999-08-12T00:00:00",
          "1999-08-13T00:00:00",
          "1999-08-16T00:00:00",
          "1999-08-17T00:00:00",
          "1999-08-18T00:00:00",
          "1999-08-19T00:00:00",
          "1999-08-20T00:00:00",
          "1999-08-23T00:00:00",
          "1999-08-24T00:00:00",
          "1999-08-25T00:00:00",
          "1999-08-26T00:00:00",
          "1999-08-27T00:00:00",
          "1999-08-30T00:00:00",
          "1999-08-31T00:00:00",
          "1999-09-01T00:00:00",
          "1999-09-02T00:00:00",
          "1999-09-03T00:00:00",
          "1999-09-07T00:00:00",
          "1999-09-08T00:00:00",
          "1999-09-09T00:00:00",
          "1999-09-10T00:00:00",
          "1999-09-13T00:00:00",
          "1999-09-14T00:00:00",
          "1999-09-15T00:00:00",
          "1999-09-16T00:00:00",
          "1999-09-17T00:00:00",
          "1999-09-20T00:00:00",
          "1999-09-21T00:00:00",
          "1999-09-22T00:00:00",
          "1999-09-23T00:00:00",
          "1999-09-24T00:00:00",
          "1999-09-27T00:00:00",
          "1999-09-28T00:00:00",
          "1999-09-29T00:00:00",
          "1999-09-30T00:00:00",
          "1999-10-01T00:00:00",
          "1999-10-04T00:00:00",
          "1999-10-05T00:00:00",
          "1999-10-06T00:00:00",
          "1999-10-07T00:00:00",
          "1999-10-08T00:00:00",
          "1999-10-11T00:00:00",
          "1999-10-12T00:00:00",
          "1999-10-13T00:00:00",
          "1999-10-14T00:00:00",
          "1999-10-15T00:00:00",
          "1999-10-18T00:00:00",
          "1999-10-19T00:00:00",
          "1999-10-20T00:00:00",
          "1999-10-21T00:00:00",
          "1999-10-22T00:00:00",
          "1999-10-25T00:00:00",
          "1999-10-26T00:00:00",
          "1999-10-27T00:00:00",
          "1999-10-28T00:00:00",
          "1999-10-29T00:00:00",
          "1999-11-01T00:00:00",
          "1999-11-02T00:00:00",
          "1999-11-03T00:00:00",
          "1999-11-04T00:00:00",
          "1999-11-05T00:00:00",
          "1999-11-08T00:00:00",
          "1999-11-09T00:00:00",
          "1999-11-10T00:00:00",
          "1999-11-11T00:00:00",
          "1999-11-12T00:00:00",
          "1999-11-15T00:00:00",
          "1999-11-16T00:00:00",
          "1999-11-17T00:00:00",
          "1999-11-18T00:00:00",
          "1999-11-19T00:00:00",
          "1999-11-22T00:00:00",
          "1999-11-23T00:00:00",
          "1999-11-24T00:00:00",
          "1999-11-26T00:00:00",
          "1999-11-29T00:00:00",
          "1999-11-30T00:00:00",
          "1999-12-01T00:00:00",
          "1999-12-02T00:00:00",
          "1999-12-03T00:00:00",
          "1999-12-06T00:00:00",
          "1999-12-07T00:00:00",
          "1999-12-08T00:00:00",
          "1999-12-09T00:00:00",
          "1999-12-10T00:00:00",
          "1999-12-13T00:00:00",
          "1999-12-14T00:00:00",
          "1999-12-15T00:00:00",
          "1999-12-16T00:00:00",
          "1999-12-17T00:00:00",
          "1999-12-20T00:00:00",
          "1999-12-21T00:00:00",
          "1999-12-22T00:00:00",
          "1999-12-23T00:00:00",
          "1999-12-27T00:00:00",
          "1999-12-28T00:00:00",
          "1999-12-29T00:00:00",
          "1999-12-30T00:00:00"
         ],
         "y": [
          0.29062876133691695,
          0.2950457069135847,
          0.30099932097253346,
          0.30460294371559504,
          0.31088905334472655,
          0.3162989752633231,
          0.3217582589104062,
          0.3267008154165177,
          0.33122558622133164,
          0.32998099014872595,
          0.32856115840730216,
          0.3265526195367177,
          0.32422957874479746,
          0.320163152047566,
          0.3161236692042577,
          0.31287058818907965,
          0.31088453531265253,
          0.3087232706092653,
          0.3074336574191139,
          0.3067552259990147,
          0.3060991599446251,
          0.3040367021447136,
          0.3034795335360935,
          0.3010487266949245,
          0.29729687770207724,
          0.2953513503074646,
          0.2930642474265326,
          0.2921521271978106,
          0.2925970088867914,
          0.2910289060501825,
          0.2902111371358236,
          0.2882295807202657,
          0.2854662685167222,
          0.2842485490299407,
          0.2845765590667725,
          0.2850842955566588,
          0.2846394033659072,
          0.28388899138995577,
          0.28106722945258733,
          0.27728385584695,
          0.27466879543803985,
          0.2717976396992093,
          0.268468108347484,
          0.26533180759066627,
          0.26371427746046155,
          0.2621282174473717,
          0.2591761730966114,
          0.2560937194597153,
          0.25437728904542467,
          0.25391892819177536,
          0.2552219467503684,
          0.2552174082824162,
          0.25686640852973575,
          0.2564530219350542,
          0.2576302551087879,
          0.25670017231078374,
          0.2565473799194608,
          0.2565024128981999,
          0.2558464031843912,
          0.25741004915464494,
          0.25938716942355744,
          0.2611890435218811,
          0.2628471103452501,
          0.26530490035102483,
          0.26849065749418166,
          0.2706159498010363,
          0.27226945942356473,
          0.27369830636751086,
          0.27439029316107433,
          0.27336135024116154,
          0.27312766058104376,
          0.2729815837882814,
          0.2723816900026231,
          0.2700518857865106,
          0.2680186376685188,
          0.26643031920705523,
          0.26696729347819376,
          0.2703124872275761,
          0.27526627239726836,
          0.2848526392664228,
          0.2921204859302157,
          0.29780228506951106,
          0.30605415020670207,
          0.317190690835317,
          0.32417104982194445,
          0.330866045043582,
          0.3342359551361629,
          0.3383382871037438,
          0.3409489115079244,
          0.342252018338158,
          0.3445705995673225,
          0.3458466447535015,
          0.3447952000867753,
          0.34349662406103953,
          0.34317762965247744,
          0.3427103448481787,
          0.33938080015636624,
          0.33774973381133305,
          0.33451009960401623,
          0.3311581532160441,
          0.3307806943144117,
          0.32986856557074046,
          0.329693299248105,
          0.3303583411943345,
          0.33278024395306904,
          0.33607828560329617,
          0.33997849765278043,
          0.34442682805515473,
          0.3472890053476606,
          0.350730885494323,
          0.35362460017204284,
          0.3544154601437705,
          0.35402003696986606,
          0.3540020193372454,
          0.3555431598708743,
          0.3552331734271277,
          0.35547130221412293,
          0.35486025129045756,
          0.3529955242361341,
          0.3495177294526781,
          0.3449255685011546,
          0.3406254816622961,
          0.33718808179809934,
          0.3369499263309297,
          0.33787547378312976,
          0.33792490590186347,
          0.33906164907273795,
          0.3412049372990926,
          0.3457701552481878,
          0.3548510315872374,
          0.36448013810884383,
          0.3723658093384334,
          0.3788586273079827,
          0.38701839730853127,
          0.3915925065676371,
          0.39519158743676686,
          0.39939278562863667,
          0.4011676209313529,
          0.40359850525856017,
          0.4037737571057819,
          0.40438478333609446,
          0.4021021993387313,
          0.40233139991760253,
          0.402978446653911,
          0.4031312400386447,
          0.4052341174511682,
          0.4073145227772849,
          0.40874343741507757,
          0.4087749305225554,
          0.4097094958736783,
          0.40989371481395903,
          0.41041490861347746,
          0.41176740782601495,
          0.41736599717821393,
          0.42275337378184,
          0.4277228721550533,
          0.43247679869333905,
          0.43655212635085694,
          0.44001190605617707,
          0.44163850574266345,
          0.44348524581818355,
          0.44665753756250653,
          0.44905699775332497,
          0.4519910684653691,
          0.45520380962462653,
          0.4604833966209775,
          0.4623165794781276,
          0.46687720985639664,
          0.47443484578813827,
          0.4833224523635138,
          0.4944118213085901,
          0.5074603143192473,
          0.5174668686730521,
          0.5275092735176995,
          0.538230173928397,
          0.5451857722940899,
          0.5539476042702085,
          0.5590025348322732,
          0.564497839269184,
          0.5690630259967986,
          0.5748907750561124,
          0.5696202295167105,
          0.5651314247222173,
          0.5534758579163325,
          0.5439770709900629,
          0.5314453865800585,
          0.5182980860982622,
          0.505654062259765,
          0.49847378787540253,
          0.4907049039999644,
          0.48675310554958523,
          0.48715078348205204,
          0.4873282375789824,
          0.4873799230371203,
          0.4873731476919992,
          0.48946927189826966,
          0.49275613852909633,
          0.49255178230149405,
          0.5015113541058132,
          0.5112617532412211,
          0.5187385593141828,
          0.5204549670219422,
          0.5281609450067792,
          0.536024238382067,
          0.5406499981880188,
          0.5451680166380746,
          0.5497803489367167,
          0.5551475803057353,
          0.5613056404250009,
          0.5688430752073016,
          0.5728981960387457,
          0.5788809588977268,
          0.5849558597519284,
          0.5925719442821684,
          0.6042543558847336,
          0.6229687821297418,
          0.6328853788829986,
          0.6435838177090599,
          0.6539992213249206,
          0.661462534609295,
          0.6665713645163036,
          0.672408101672218,
          0.676236397311801,
          0.6785459132421584,
          0.6830032467842102,
          0.6845714063871474,
          0.6875953759465899,
          0.6916932367143177,
          0.6953731837726774,
          0.698064626966204,
          0.7042204135940189,
          0.715004270985013,
          0.7321236042749314,
          0.7527971318789891,
          0.7727247062183562,
          0.7925669539542425,
          0.8026947543734596,
          0.8065544582548596,
          0.8070262744313195,
          0.8027127924419585,
          0.793645357517969,
          0.7865684367361523,
          0.7806462974775406,
          0.7761889616648356,
          0.7693277597427368,
          0.7669868094580514,
          0.7621070856139773,
          0.7615499326160976,
          0.7576048572858175,
          0.7537271664256141,
          0.7537766621226356,
          0.7541226137252081
         ]
        },
        {
         "marker": {
          "color": "green",
          "size": 10,
          "symbol": "triangle-up"
         },
         "mode": "markers",
         "name": "Buy Signal",
         "type": "scatter",
         "x": [
          "1999-01-14T00:00:00",
          "1999-01-15T00:00:00",
          "1999-01-19T00:00:00",
          "1999-01-20T00:00:00",
          "1999-01-21T00:00:00",
          "1999-01-22T00:00:00",
          "1999-01-25T00:00:00",
          "1999-01-26T00:00:00",
          "1999-01-27T00:00:00",
          "1999-02-02T00:00:00",
          "1999-02-03T00:00:00",
          "1999-02-04T00:00:00",
          "1999-02-05T00:00:00",
          "1999-02-08T00:00:00",
          "1999-02-09T00:00:00",
          "1999-02-10T00:00:00",
          "1999-02-12T00:00:00",
          "1999-02-16T00:00:00",
          "1999-02-17T00:00:00",
          "1999-02-18T00:00:00",
          "1999-02-19T00:00:00",
          "1999-02-24T00:00:00",
          "1999-02-25T00:00:00",
          "1999-02-26T00:00:00",
          "1999-03-01T00:00:00",
          "1999-03-02T00:00:00",
          "1999-03-03T00:00:00",
          "1999-03-04T00:00:00",
          "1999-03-05T00:00:00",
          "1999-03-08T00:00:00",
          "1999-03-09T00:00:00",
          "1999-03-10T00:00:00",
          "1999-03-11T00:00:00",
          "1999-03-12T00:00:00",
          "1999-03-19T00:00:00",
          "1999-03-23T00:00:00",
          "1999-03-24T00:00:00",
          "1999-03-25T00:00:00",
          "1999-03-26T00:00:00",
          "1999-04-12T00:00:00",
          "1999-04-13T00:00:00",
          "1999-04-14T00:00:00",
          "1999-04-15T00:00:00",
          "1999-04-16T00:00:00",
          "1999-04-19T00:00:00",
          "1999-04-20T00:00:00",
          "1999-04-21T00:00:00",
          "1999-05-11T00:00:00",
          "1999-05-14T00:00:00",
          "1999-05-17T00:00:00",
          "1999-05-18T00:00:00",
          "1999-05-19T00:00:00",
          "1999-05-20T00:00:00",
          "1999-05-21T00:00:00",
          "1999-05-24T00:00:00",
          "1999-05-25T00:00:00",
          "1999-05-27T00:00:00",
          "1999-06-11T00:00:00",
          "1999-06-14T00:00:00",
          "1999-06-15T00:00:00",
          "1999-06-17T00:00:00",
          "1999-06-21T00:00:00",
          "1999-06-22T00:00:00",
          "1999-06-23T00:00:00",
          "1999-06-24T00:00:00",
          "1999-06-25T00:00:00",
          "1999-06-28T00:00:00",
          "1999-07-20T00:00:00",
          "1999-07-22T00:00:00",
          "1999-07-23T00:00:00",
          "1999-07-26T00:00:00",
          "1999-08-04T00:00:00",
          "1999-08-06T00:00:00",
          "1999-09-21T00:00:00",
          "1999-09-22T00:00:00",
          "1999-09-23T00:00:00",
          "1999-09-24T00:00:00",
          "1999-09-27T00:00:00",
          "1999-09-28T00:00:00",
          "1999-09-29T00:00:00",
          "1999-09-30T00:00:00",
          "1999-10-01T00:00:00",
          "1999-10-13T00:00:00",
          "1999-10-19T00:00:00",
          "1999-11-18T00:00:00",
          "1999-11-22T00:00:00",
          "1999-12-09T00:00:00",
          "1999-12-10T00:00:00",
          "1999-12-13T00:00:00",
          "1999-12-14T00:00:00",
          "1999-12-15T00:00:00",
          "1999-12-16T00:00:00",
          "1999-12-17T00:00:00",
          "1999-12-20T00:00:00",
          "1999-12-22T00:00:00",
          "1999-12-27T00:00:00",
          "1999-12-28T00:00:00"
         ],
         "y": [
          0.3123271465301513,
          0.3118553757667541,
          0.3085522055625915,
          0.3061934411525726,
          0.2929832637310028,
          0.2925113439559936,
          0.2972298860549927,
          0.3057216107845306,
          0.3028910160064697,
          0.2958137392997741,
          0.3033627569675445,
          0.2859067916870117,
          0.274111807346344,
          0.2849632501602173,
          0.2807165086269378,
          0.2892090976238251,
          0.28449147939682,
          0.2892090976238251,
          0.2793012261390686,
          0.2717530727386474,
          0.2807165086269378,
          0.2826035916805267,
          0.2788293957710266,
          0.2627887427806854,
          0.2547678649425506,
          0.2613734006881714,
          0.2580710351467132,
          0.2524090707302093,
          0.2505220174789428,
          0.2594864070415497,
          0.2575993835926056,
          0.2458043694496154,
          0.2429728209972381,
          0.2505220174789428,
          0.2528809010982513,
          0.2491067796945572,
          0.2542961537837982,
          0.2552396357059479,
          0.2509937882423401,
          0.2736400663852691,
          0.2613734006881714,
          0.2682139873504638,
          0.2698652148246765,
          0.2675062716007232,
          0.2557114064693451,
          0.2571267783641815,
          0.2594864070415497,
          0.3378040790557861,
          0.3349727392196655,
          0.3349727392196655,
          0.3415782153606415,
          0.3411063551902771,
          0.3208188712596893,
          0.3316702842712402,
          0.3165730834007263,
          0.3132706582546234,
          0.3283678591251373,
          0.3505425155162811,
          0.3429934084415436,
          0.3477111160755157,
          0.3500707447528839,
          0.3510142564773559,
          0.3425215780735016,
          0.3297832608222961,
          0.3194035589694977,
          0.3184600174427032,
          0.3212906122207641,
          0.3991366326808929,
          0.3953624665737152,
          0.4024388194084167,
          0.3845110833644867,
          0.4062139391899109,
          0.4085726141929626,
          0.5227468013763428,
          0.5307666659355164,
          0.4779258370399475,
          0.49019256234169,
          0.4628289937973022,
          0.4500902891159057,
          0.4458443522453308,
          0.4779258370399475,
          0.4658951759338379,
          0.4833523631095886,
          0.5170848369598389,
          0.6765507459640503,
          0.6840996742248535,
          0.7944989800453186,
          0.7775146961212158,
          0.7473201751708984,
          0.7161812782287598,
          0.7322221994400024,
          0.742129921913147,
          0.7548683285713196,
          0.7397711873054504,
          0.754396378993988,
          0.7496787905693054,
          0.7411864399909973
         ]
        },
        {
         "marker": {
          "color": "red",
          "size": 10,
          "symbol": "triangle-down"
         },
         "mode": "markers",
         "name": "Sell Signal",
         "type": "scatter",
         "x": [
          "1998-12-31T00:00:00",
          "1999-01-04T00:00:00",
          "1999-01-05T00:00:00",
          "1999-01-06T00:00:00",
          "1999-01-07T00:00:00",
          "1999-01-08T00:00:00",
          "1999-01-11T00:00:00",
          "1999-01-12T00:00:00",
          "1999-01-13T00:00:00",
          "1999-01-28T00:00:00",
          "1999-01-29T00:00:00",
          "1999-02-01T00:00:00",
          "1999-02-11T00:00:00",
          "1999-02-22T00:00:00",
          "1999-02-23T00:00:00",
          "1999-03-15T00:00:00",
          "1999-03-16T00:00:00",
          "1999-03-17T00:00:00",
          "1999-03-18T00:00:00",
          "1999-03-22T00:00:00",
          "1999-03-29T00:00:00",
          "1999-03-30T00:00:00",
          "1999-03-31T00:00:00",
          "1999-04-01T00:00:00",
          "1999-04-05T00:00:00",
          "1999-04-06T00:00:00",
          "1999-04-07T00:00:00",
          "1999-04-08T00:00:00",
          "1999-04-09T00:00:00",
          "1999-04-22T00:00:00",
          "1999-04-23T00:00:00",
          "1999-04-26T00:00:00",
          "1999-04-27T00:00:00",
          "1999-04-28T00:00:00",
          "1999-04-29T00:00:00",
          "1999-04-30T00:00:00",
          "1999-05-03T00:00:00",
          "1999-05-04T00:00:00",
          "1999-05-05T00:00:00",
          "1999-05-06T00:00:00",
          "1999-05-07T00:00:00",
          "1999-05-10T00:00:00",
          "1999-05-12T00:00:00",
          "1999-05-13T00:00:00",
          "1999-05-26T00:00:00",
          "1999-05-28T00:00:00",
          "1999-06-01T00:00:00",
          "1999-06-02T00:00:00",
          "1999-06-03T00:00:00",
          "1999-06-04T00:00:00",
          "1999-06-07T00:00:00",
          "1999-06-08T00:00:00",
          "1999-06-09T00:00:00",
          "1999-06-10T00:00:00",
          "1999-06-16T00:00:00",
          "1999-06-18T00:00:00",
          "1999-06-29T00:00:00",
          "1999-06-30T00:00:00",
          "1999-07-01T00:00:00",
          "1999-07-02T00:00:00",
          "1999-07-06T00:00:00",
          "1999-07-07T00:00:00",
          "1999-07-08T00:00:00",
          "1999-07-09T00:00:00",
          "1999-07-12T00:00:00",
          "1999-07-13T00:00:00",
          "1999-07-14T00:00:00",
          "1999-07-15T00:00:00",
          "1999-07-16T00:00:00",
          "1999-07-19T00:00:00",
          "1999-07-21T00:00:00",
          "1999-07-27T00:00:00",
          "1999-07-28T00:00:00",
          "1999-07-29T00:00:00",
          "1999-07-30T00:00:00",
          "1999-08-02T00:00:00",
          "1999-08-03T00:00:00",
          "1999-08-05T00:00:00",
          "1999-08-09T00:00:00",
          "1999-08-10T00:00:00",
          "1999-08-11T00:00:00",
          "1999-08-12T00:00:00",
          "1999-08-13T00:00:00",
          "1999-08-16T00:00:00",
          "1999-08-17T00:00:00",
          "1999-08-18T00:00:00",
          "1999-08-19T00:00:00",
          "1999-08-20T00:00:00",
          "1999-08-23T00:00:00",
          "1999-08-24T00:00:00",
          "1999-08-25T00:00:00",
          "1999-08-26T00:00:00",
          "1999-08-27T00:00:00",
          "1999-08-30T00:00:00",
          "1999-08-31T00:00:00",
          "1999-09-01T00:00:00",
          "1999-09-02T00:00:00",
          "1999-09-03T00:00:00",
          "1999-09-07T00:00:00",
          "1999-09-08T00:00:00",
          "1999-09-09T00:00:00",
          "1999-09-10T00:00:00",
          "1999-09-13T00:00:00",
          "1999-09-14T00:00:00",
          "1999-09-15T00:00:00",
          "1999-09-16T00:00:00",
          "1999-09-17T00:00:00",
          "1999-09-20T00:00:00",
          "1999-10-04T00:00:00",
          "1999-10-05T00:00:00",
          "1999-10-06T00:00:00",
          "1999-10-07T00:00:00",
          "1999-10-08T00:00:00",
          "1999-10-11T00:00:00",
          "1999-10-12T00:00:00",
          "1999-10-14T00:00:00",
          "1999-10-15T00:00:00",
          "1999-10-18T00:00:00",
          "1999-10-20T00:00:00",
          "1999-10-21T00:00:00",
          "1999-10-22T00:00:00",
          "1999-10-25T00:00:00",
          "1999-10-26T00:00:00",
          "1999-10-27T00:00:00",
          "1999-10-28T00:00:00",
          "1999-10-29T00:00:00",
          "1999-11-01T00:00:00",
          "1999-11-02T00:00:00",
          "1999-11-03T00:00:00",
          "1999-11-04T00:00:00",
          "1999-11-05T00:00:00",
          "1999-11-08T00:00:00",
          "1999-11-09T00:00:00",
          "1999-11-10T00:00:00",
          "1999-11-11T00:00:00",
          "1999-11-12T00:00:00",
          "1999-11-15T00:00:00",
          "1999-11-16T00:00:00",
          "1999-11-17T00:00:00",
          "1999-11-19T00:00:00",
          "1999-11-23T00:00:00",
          "1999-11-24T00:00:00",
          "1999-11-26T00:00:00",
          "1999-11-29T00:00:00",
          "1999-11-30T00:00:00",
          "1999-12-01T00:00:00",
          "1999-12-02T00:00:00",
          "1999-12-03T00:00:00",
          "1999-12-06T00:00:00",
          "1999-12-07T00:00:00",
          "1999-12-08T00:00:00",
          "1999-12-21T00:00:00",
          "1999-12-23T00:00:00",
          "1999-12-29T00:00:00",
          "1999-12-30T00:00:00"
         ],
         "y": [
          0.3090239465236664,
          0.3113836944103241,
          0.3269526958465576,
          0.3151577711105346,
          0.3396910727024078,
          0.3396910727024078,
          0.3462957143783569,
          0.3481828570365906,
          0.3510142564773559,
          0.3085522055625915,
          0.3109118640422821,
          0.3090239465236664,
          0.2991170287132263,
          0.2901526689529419,
          0.2901526689529419,
          0.2571267783641815,
          0.2679781317710876,
          0.2571267783641815,
          0.2679781317710876,
          0.2646757662296295,
          0.2670345902442932,
          0.2708095908164978,
          0.2712813317775726,
          0.2722248136997223,
          0.279772937297821,
          0.2868502736091614,
          0.2802447974681854,
          0.2783577144145965,
          0.2774141430854797,
          0.2745836079120636,
          0.2958137392997741,
          0.3090239465236664,
          0.3453521430492401,
          0.3326137661933899,
          0.3245938420295715,
          0.3472393155097961,
          0.3741314709186554,
          0.3510142564773559,
          0.3547883331775665,
          0.335916131734848,
          0.3462957143783569,
          0.3415782153606415,
          0.3510142564773559,
          0.348654568195343,
          0.3326137661933899,
          0.3326137661933899,
          0.3382757604122162,
          0.3514859080314636,
          0.3580906391143799,
          0.3632809221744537,
          0.369413822889328,
          0.3599777519702911,
          0.3656397759914398,
          0.3632809221744537,
          0.36186483502388,
          0.3557318150997162,
          0.3425215780735016,
          0.3495980501174927,
          0.3420498371124267,
          0.3495980501174927,
          0.357618898153305,
          0.3764910697937011,
          0.4114032387733459,
          0.4198958575725555,
          0.4114032387733459,
          0.4052703380584717,
          0.4222545325756073,
          0.4019671678543091,
          0.4005518555641174,
          0.4109314382076263,
          0.4081009328365326,
          0.4052703380584717,
          0.4104598462581634,
          0.4066855609416961,
          0.4203675985336303,
          0.4208393692970276,
          0.4170652627944946,
          0.4132903218269348,
          0.4109314382076263,
          0.4180087149143219,
          0.4505620896816253,
          0.4529208242893219,
          0.4533925950527191,
          0.4566959142684936,
          0.455279678106308,
          0.4538644850254059,
          0.4434855580329895,
          0.4467878937721252,
          0.4585829973220825,
          0.4557523131370544,
          0.463300347328186,
          0.4689625203609466,
          0.4887774288654327,
          0.4684898257255554,
          0.4925514757633209,
          0.5180282592773438,
          0.5326535701751709,
          0.5548282861709595,
          0.576531171798706,
          0.5623774528503418,
          0.5703972578048706,
          0.5845510959625244,
          0.5661515593528748,
          0.5873817801475525,
          0.5689821243286133,
          0.5798336267471313,
          0.580777108669281,
          0.5968177318572998,
          0.4873621463775635,
          0.5128389596939087,
          0.5071770548820496,
          0.5010440349578857,
          0.4949103593826294,
          0.5034030079841614,
          0.5109518766403198,
          0.5524694323539734,
          0.5628489851951599,
          0.5529413223266602,
          0.5670952200889587,
          0.5746443271636963,
          0.5581306219100952,
          0.5623774528503418,
          0.5666232705116272,
          0.576531171798706,
          0.5878543257713318,
          0.604838490486145,
          0.5859665274620056,
          0.6057820320129395,
          0.6152180433273315,
          0.6312589645385742,
          0.6666428446769714,
          0.7275044918060303,
          0.6765507459640503,
          0.6902328133583069,
          0.6963663697242737,
          0.6840996742248535,
          0.6751354932785034,
          0.6883456707000732,
          0.681269109249115,
          0.6977816820144653,
          0.7006123661994934,
          0.7147661447525024,
          0.7175965905189514,
          0.7138223648071289,
          0.738827645778656,
          0.7779865264892578,
          0.8317707180976868,
          0.8680989146232605,
          0.8756470680236816,
          0.8893293738365173,
          0.830826997756958,
          0.7737404704093933,
          0.7812889218330383,
          0.7600587010383606,
          0.7572272419929504
         ]
        }
       ],
       "layout": {
        "height": 600,
        "legend": {
         "x": 0,
         "y": 1
        },
        "template": {
         "data": {
          "bar": [
           {
            "error_x": {
             "color": "#f2f5fa"
            },
            "error_y": {
             "color": "#f2f5fa"
            },
            "marker": {
             "line": {
              "color": "rgb(17,17,17)",
              "width": 0.5
             },
             "pattern": {
              "fillmode": "overlay",
              "size": 10,
              "solidity": 0.2
             }
            },
            "type": "bar"
           }
          ],
          "barpolar": [
           {
            "marker": {
             "line": {
              "color": "rgb(17,17,17)",
              "width": 0.5
             },
             "pattern": {
              "fillmode": "overlay",
              "size": 10,
              "solidity": 0.2
             }
            },
            "type": "barpolar"
           }
          ],
          "carpet": [
           {
            "aaxis": {
             "endlinecolor": "#A2B1C6",
             "gridcolor": "#506784",
             "linecolor": "#506784",
             "minorgridcolor": "#506784",
             "startlinecolor": "#A2B1C6"
            },
            "baxis": {
             "endlinecolor": "#A2B1C6",
             "gridcolor": "#506784",
             "linecolor": "#506784",
             "minorgridcolor": "#506784",
             "startlinecolor": "#A2B1C6"
            },
            "type": "carpet"
           }
          ],
          "choropleth": [
           {
            "colorbar": {
             "outlinewidth": 0,
             "ticks": ""
            },
            "type": "choropleth"
           }
          ],
          "contour": [
           {
            "colorbar": {
             "outlinewidth": 0,
             "ticks": ""
            },
            "colorscale": [
             [
              0,
              "#0d0887"
             ],
             [
              0.1111111111111111,
              "#46039f"
             ],
             [
              0.2222222222222222,
              "#7201a8"
             ],
             [
              0.3333333333333333,
              "#9c179e"
             ],
             [
              0.4444444444444444,
              "#bd3786"
             ],
             [
              0.5555555555555556,
              "#d8576b"
             ],
             [
              0.6666666666666666,
              "#ed7953"
             ],
             [
              0.7777777777777778,
              "#fb9f3a"
             ],
             [
              0.8888888888888888,
              "#fdca26"
             ],
             [
              1,
              "#f0f921"
             ]
            ],
            "type": "contour"
           }
          ],
          "contourcarpet": [
           {
            "colorbar": {
             "outlinewidth": 0,
             "ticks": ""
            },
            "type": "contourcarpet"
           }
          ],
          "heatmap": [
           {
            "colorbar": {
             "outlinewidth": 0,
             "ticks": ""
            },
            "colorscale": [
             [
              0,
              "#0d0887"
             ],
             [
              0.1111111111111111,
              "#46039f"
             ],
             [
              0.2222222222222222,
              "#7201a8"
             ],
             [
              0.3333333333333333,
              "#9c179e"
             ],
             [
              0.4444444444444444,
              "#bd3786"
             ],
             [
              0.5555555555555556,
              "#d8576b"
             ],
             [
              0.6666666666666666,
              "#ed7953"
             ],
             [
              0.7777777777777778,
              "#fb9f3a"
             ],
             [
              0.8888888888888888,
              "#fdca26"
             ],
             [
              1,
              "#f0f921"
             ]
            ],
            "type": "heatmap"
           }
          ],
          "heatmapgl": [
           {
            "colorbar": {
             "outlinewidth": 0,
             "ticks": ""
            },
            "colorscale": [
             [
              0,
              "#0d0887"
             ],
             [
              0.1111111111111111,
              "#46039f"
             ],
             [
              0.2222222222222222,
              "#7201a8"
             ],
             [
              0.3333333333333333,
              "#9c179e"
             ],
             [
              0.4444444444444444,
              "#bd3786"
             ],
             [
              0.5555555555555556,
              "#d8576b"
             ],
             [
              0.6666666666666666,
              "#ed7953"
             ],
             [
              0.7777777777777778,
              "#fb9f3a"
             ],
             [
              0.8888888888888888,
              "#fdca26"
             ],
             [
              1,
              "#f0f921"
             ]
            ],
            "type": "heatmapgl"
           }
          ],
          "histogram": [
           {
            "marker": {
             "pattern": {
              "fillmode": "overlay",
              "size": 10,
              "solidity": 0.2
             }
            },
            "type": "histogram"
           }
          ],
          "histogram2d": [
           {
            "colorbar": {
             "outlinewidth": 0,
             "ticks": ""
            },
            "colorscale": [
             [
              0,
              "#0d0887"
             ],
             [
              0.1111111111111111,
              "#46039f"
             ],
             [
              0.2222222222222222,
              "#7201a8"
             ],
             [
              0.3333333333333333,
              "#9c179e"
             ],
             [
              0.4444444444444444,
              "#bd3786"
             ],
             [
              0.5555555555555556,
              "#d8576b"
             ],
             [
              0.6666666666666666,
              "#ed7953"
             ],
             [
              0.7777777777777778,
              "#fb9f3a"
             ],
             [
              0.8888888888888888,
              "#fdca26"
             ],
             [
              1,
              "#f0f921"
             ]
            ],
            "type": "histogram2d"
           }
          ],
          "histogram2dcontour": [
           {
            "colorbar": {
             "outlinewidth": 0,
             "ticks": ""
            },
            "colorscale": [
             [
              0,
              "#0d0887"
             ],
             [
              0.1111111111111111,
              "#46039f"
             ],
             [
              0.2222222222222222,
              "#7201a8"
             ],
             [
              0.3333333333333333,
              "#9c179e"
             ],
             [
              0.4444444444444444,
              "#bd3786"
             ],
             [
              0.5555555555555556,
              "#d8576b"
             ],
             [
              0.6666666666666666,
              "#ed7953"
             ],
             [
              0.7777777777777778,
              "#fb9f3a"
             ],
             [
              0.8888888888888888,
              "#fdca26"
             ],
             [
              1,
              "#f0f921"
             ]
            ],
            "type": "histogram2dcontour"
           }
          ],
          "mesh3d": [
           {
            "colorbar": {
             "outlinewidth": 0,
             "ticks": ""
            },
            "type": "mesh3d"
           }
          ],
          "parcoords": [
           {
            "line": {
             "colorbar": {
              "outlinewidth": 0,
              "ticks": ""
             }
            },
            "type": "parcoords"
           }
          ],
          "pie": [
           {
            "automargin": true,
            "type": "pie"
           }
          ],
          "scatter": [
           {
            "marker": {
             "line": {
              "color": "#283442"
             }
            },
            "type": "scatter"
           }
          ],
          "scatter3d": [
           {
            "line": {
             "colorbar": {
              "outlinewidth": 0,
              "ticks": ""
             }
            },
            "marker": {
             "colorbar": {
              "outlinewidth": 0,
              "ticks": ""
             }
            },
            "type": "scatter3d"
           }
          ],
          "scattercarpet": [
           {
            "marker": {
             "colorbar": {
              "outlinewidth": 0,
              "ticks": ""
             }
            },
            "type": "scattercarpet"
           }
          ],
          "scattergeo": [
           {
            "marker": {
             "colorbar": {
              "outlinewidth": 0,
              "ticks": ""
             }
            },
            "type": "scattergeo"
           }
          ],
          "scattergl": [
           {
            "marker": {
             "line": {
              "color": "#283442"
             }
            },
            "type": "scattergl"
           }
          ],
          "scattermapbox": [
           {
            "marker": {
             "colorbar": {
              "outlinewidth": 0,
              "ticks": ""
             }
            },
            "type": "scattermapbox"
           }
          ],
          "scatterpolar": [
           {
            "marker": {
             "colorbar": {
              "outlinewidth": 0,
              "ticks": ""
             }
            },
            "type": "scatterpolar"
           }
          ],
          "scatterpolargl": [
           {
            "marker": {
             "colorbar": {
              "outlinewidth": 0,
              "ticks": ""
             }
            },
            "type": "scatterpolargl"
           }
          ],
          "scatterternary": [
           {
            "marker": {
             "colorbar": {
              "outlinewidth": 0,
              "ticks": ""
             }
            },
            "type": "scatterternary"
           }
          ],
          "surface": [
           {
            "colorbar": {
             "outlinewidth": 0,
             "ticks": ""
            },
            "colorscale": [
             [
              0,
              "#0d0887"
             ],
             [
              0.1111111111111111,
              "#46039f"
             ],
             [
              0.2222222222222222,
              "#7201a8"
             ],
             [
              0.3333333333333333,
              "#9c179e"
             ],
             [
              0.4444444444444444,
              "#bd3786"
             ],
             [
              0.5555555555555556,
              "#d8576b"
             ],
             [
              0.6666666666666666,
              "#ed7953"
             ],
             [
              0.7777777777777778,
              "#fb9f3a"
             ],
             [
              0.8888888888888888,
              "#fdca26"
             ],
             [
              1,
              "#f0f921"
             ]
            ],
            "type": "surface"
           }
          ],
          "table": [
           {
            "cells": {
             "fill": {
              "color": "#506784"
             },
             "line": {
              "color": "rgb(17,17,17)"
             }
            },
            "header": {
             "fill": {
              "color": "#2a3f5f"
             },
             "line": {
              "color": "rgb(17,17,17)"
             }
            },
            "type": "table"
           }
          ]
         },
         "layout": {
          "annotationdefaults": {
           "arrowcolor": "#f2f5fa",
           "arrowhead": 0,
           "arrowwidth": 1
          },
          "autotypenumbers": "strict",
          "coloraxis": {
           "colorbar": {
            "outlinewidth": 0,
            "ticks": ""
           }
          },
          "colorscale": {
           "diverging": [
            [
             0,
             "#8e0152"
            ],
            [
             0.1,
             "#c51b7d"
            ],
            [
             0.2,
             "#de77ae"
            ],
            [
             0.3,
             "#f1b6da"
            ],
            [
             0.4,
             "#fde0ef"
            ],
            [
             0.5,
             "#f7f7f7"
            ],
            [
             0.6,
             "#e6f5d0"
            ],
            [
             0.7,
             "#b8e186"
            ],
            [
             0.8,
             "#7fbc41"
            ],
            [
             0.9,
             "#4d9221"
            ],
            [
             1,
             "#276419"
            ]
           ],
           "sequential": [
            [
             0,
             "#0d0887"
            ],
            [
             0.1111111111111111,
             "#46039f"
            ],
            [
             0.2222222222222222,
             "#7201a8"
            ],
            [
             0.3333333333333333,
             "#9c179e"
            ],
            [
             0.4444444444444444,
             "#bd3786"
            ],
            [
             0.5555555555555556,
             "#d8576b"
            ],
            [
             0.6666666666666666,
             "#ed7953"
            ],
            [
             0.7777777777777778,
             "#fb9f3a"
            ],
            [
             0.8888888888888888,
             "#fdca26"
            ],
            [
             1,
             "#f0f921"
            ]
           ],
           "sequentialminus": [
            [
             0,
             "#0d0887"
            ],
            [
             0.1111111111111111,
             "#46039f"
            ],
            [
             0.2222222222222222,
             "#7201a8"
            ],
            [
             0.3333333333333333,
             "#9c179e"
            ],
            [
             0.4444444444444444,
             "#bd3786"
            ],
            [
             0.5555555555555556,
             "#d8576b"
            ],
            [
             0.6666666666666666,
             "#ed7953"
            ],
            [
             0.7777777777777778,
             "#fb9f3a"
            ],
            [
             0.8888888888888888,
             "#fdca26"
            ],
            [
             1,
             "#f0f921"
            ]
           ]
          },
          "colorway": [
           "#636efa",
           "#EF553B",
           "#00cc96",
           "#ab63fa",
           "#FFA15A",
           "#19d3f3",
           "#FF6692",
           "#B6E880",
           "#FF97FF",
           "#FECB52"
          ],
          "font": {
           "color": "#f2f5fa"
          },
          "geo": {
           "bgcolor": "rgb(17,17,17)",
           "lakecolor": "rgb(17,17,17)",
           "landcolor": "rgb(17,17,17)",
           "showlakes": true,
           "showland": true,
           "subunitcolor": "#506784"
          },
          "hoverlabel": {
           "align": "left"
          },
          "hovermode": "closest",
          "mapbox": {
           "style": "dark"
          },
          "paper_bgcolor": "rgb(17,17,17)",
          "plot_bgcolor": "rgb(17,17,17)",
          "polar": {
           "angularaxis": {
            "gridcolor": "#506784",
            "linecolor": "#506784",
            "ticks": ""
           },
           "bgcolor": "rgb(17,17,17)",
           "radialaxis": {
            "gridcolor": "#506784",
            "linecolor": "#506784",
            "ticks": ""
           }
          },
          "scene": {
           "xaxis": {
            "backgroundcolor": "rgb(17,17,17)",
            "gridcolor": "#506784",
            "gridwidth": 2,
            "linecolor": "#506784",
            "showbackground": true,
            "ticks": "",
            "zerolinecolor": "#C8D4E3"
           },
           "yaxis": {
            "backgroundcolor": "rgb(17,17,17)",
            "gridcolor": "#506784",
            "gridwidth": 2,
            "linecolor": "#506784",
            "showbackground": true,
            "ticks": "",
            "zerolinecolor": "#C8D4E3"
           },
           "zaxis": {
            "backgroundcolor": "rgb(17,17,17)",
            "gridcolor": "#506784",
            "gridwidth": 2,
            "linecolor": "#506784",
            "showbackground": true,
            "ticks": "",
            "zerolinecolor": "#C8D4E3"
           }
          },
          "shapedefaults": {
           "line": {
            "color": "#f2f5fa"
           }
          },
          "sliderdefaults": {
           "bgcolor": "#C8D4E3",
           "bordercolor": "rgb(17,17,17)",
           "borderwidth": 1,
           "tickwidth": 0
          },
          "ternary": {
           "aaxis": {
            "gridcolor": "#506784",
            "linecolor": "#506784",
            "ticks": ""
           },
           "baxis": {
            "gridcolor": "#506784",
            "linecolor": "#506784",
            "ticks": ""
           },
           "bgcolor": "rgb(17,17,17)",
           "caxis": {
            "gridcolor": "#506784",
            "linecolor": "#506784",
            "ticks": ""
           }
          },
          "title": {
           "x": 0.05
          },
          "updatemenudefaults": {
           "bgcolor": "#506784",
           "borderwidth": 0
          },
          "xaxis": {
           "automargin": true,
           "gridcolor": "#283442",
           "linecolor": "#506784",
           "ticks": "",
           "title": {
            "standoff": 15
           },
           "zerolinecolor": "#283442",
           "zerolinewidth": 2
          },
          "yaxis": {
           "automargin": true,
           "gridcolor": "#283442",
           "linecolor": "#506784",
           "ticks": "",
           "title": {
            "standoff": 15
           },
           "zerolinecolor": "#283442",
           "zerolinewidth": 2
          }
         }
        },
        "title": {
         "text": "AAPL Stock Analysis WMA Signal"
        },
        "width": 1000,
        "xaxis": {
         "rangeslider": {
          "visible": true
         },
         "title": {
          "text": "Date"
         }
        },
        "yaxis": {
         "title": {
          "text": "Price"
         }
        }
       }
      }
     },
     "metadata": {},
     "output_type": "display_data"
    }
   ],
   "source": [
    "##### main #####\n",
    "\n",
    "sd = '1887-12-31' #'2014-01-01'\n",
    "ed = '1999-12-31'#'2023-12-31'\n",
    "#appl\n",
    "ticker_symbol = \"AAPL\"\n",
    "\n",
    "new_df = get_data(ticker_symbol,sd,ed)[['Date', 'Adj Close']]\n",
    "new_df = apply_techinal_indicators(new_df)\n",
    "new_df.dropna(inplace=True)\n",
    "new_df = calcualte_signal_by_techinal_indicators(new_df)\n",
    "#new_df['BB Signal'].value_counts()\n",
    "model,scaler = MLLogistic(new_df)\n",
    "\n",
    "exit_date = pd.to_datetime(ed)\n",
    "entry_date = exit_date - pd.Timedelta(days=365*5)\n",
    "df_filter = new_df[(new_df['Date'] >= entry_date) & (new_df['Date'] <= exit_date)]\n",
    "#print(df_filter)\n",
    "\n",
    "\n",
    "\n",
    "\n",
    "\n",
    "#calculate_all_profit(ticker_symbol,df_filter)\n",
    "df_filter[\"Logistic WMA Signal\"] =  MLLogisticTest(model,scaler,df_filter)\n",
    "\n",
    "\n",
    "    \n",
    "\n",
    "    #bb_profit, bb_portfolio_value, bb_profit_percentage = calculate_profit(X_test[\"Adj Close\"], df_y_pred[\"Logistic Signal\"])\n",
    "    #print(f\"Logistic Signal : Final Profit: ${bb_profit:.2f}, {bb_profit_percentage.round(2)}%\")\n",
    "    \n",
    "# df_buy_signals = df_filter[df_filter[\"Logistic Signal\"] == 1]\n",
    "# df_sell_signals = df_filter[df_filter[\"Logistic Signal\"] == -1]\n",
    "# plot2(\"Logistic WMA\",df_filter['Date'], df_filter['Adj Close'],df_buy_signals['Date'],df_buy_signals['Adj Close'],df_sell_signals['Date'],df_sell_signals['Adj Close'] )\n",
    "\n",
    "\n",
    "ml_wam_profit, ml_wam_portfolio_value, ml_wam_profit_percentage = calculate_profit(df_filter[\"Adj Close\"],df_filter[\"Logistic WMA Signal\"])\n",
    "print(f\"Logistic WMA Signal : Final Profit: ${ml_wam_profit:.2f}, {ml_wam_profit_percentage.round(2)}%\")\n",
    "plot(ticker_symbol,\"Logistic WMA Signal\",df_filter)\n",
    "\n",
    "wam_profit, wam_portfolio_value, wam_profit_percentage = calculate_profit(df_filter[\"Adj Close\"],df_filter[\"WMA Signal\"])\n",
    "print(f\"WMA Signal : Final Profit: ${wam_profit:.2f}, {wam_profit_percentage.round(2)}%\")\n",
    "plot(ticker_symbol,\"WMA Signal\",df_filter)"
   ]
  },
  {
   "cell_type": "code",
   "execution_count": null,
   "metadata": {},
   "outputs": [],
   "source": [
    "\n",
    "\n",
    "\n"
   ]
  }
 ],
 "metadata": {
  "kernelspec": {
   "display_name": "Python 3.11.4 (tensorflow)",
   "language": "python",
   "name": "tensorflow"
  },
  "language_info": {
   "codemirror_mode": {
    "name": "ipython",
    "version": 3
   },
   "file_extension": ".py",
   "mimetype": "text/x-python",
   "name": "python",
   "nbconvert_exporter": "python",
   "pygments_lexer": "ipython3",
   "version": "3.11.4"
  }
 },
 "nbformat": 4,
 "nbformat_minor": 2
}
